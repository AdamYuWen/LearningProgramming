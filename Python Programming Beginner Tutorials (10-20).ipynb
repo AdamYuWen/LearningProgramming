{
 "cells": [
  {
   "cell_type": "markdown",
   "metadata": {},
   "source": [
    "# Notes for YouTube Python Tutorials\n",
    "## Python Programming Beginner Tutorials\n",
    "https://www.youtube.com/watch?v=YYXdXT2l-Gg&list=PL-osiE80TeTskrapNbzXhwoFUiLCjGgY7&index=1"
   ]
  },
  {
   "cell_type": "markdown",
   "metadata": {},
   "source": [
    "## Python Tutorial: OS Module - Use Underlying Operating System Functionality"
   ]
  },
  {
   "cell_type": "code",
   "execution_count": 1,
   "metadata": {},
   "outputs": [
    {
     "name": "stdout",
     "output_type": "stream",
     "text": [
      "['DirEntry', 'F_OK', 'MutableMapping', 'O_APPEND', 'O_BINARY', 'O_CREAT', 'O_EXCL', 'O_NOINHERIT', 'O_RANDOM', 'O_RDONLY', 'O_RDWR', 'O_SEQUENTIAL', 'O_SHORT_LIVED', 'O_TEMPORARY', 'O_TEXT', 'O_TRUNC', 'O_WRONLY', 'P_DETACH', 'P_NOWAIT', 'P_NOWAITO', 'P_OVERLAY', 'P_WAIT', 'PathLike', 'R_OK', 'SEEK_CUR', 'SEEK_END', 'SEEK_SET', 'TMP_MAX', 'W_OK', 'X_OK', '_Environ', '__all__', '__builtins__', '__cached__', '__doc__', '__file__', '__loader__', '__name__', '__package__', '__spec__', '_execvpe', '_exists', '_exit', '_fspath', '_get_exports_list', '_putenv', '_unsetenv', '_wrap_close', 'abc', 'abort', 'access', 'altsep', 'chdir', 'chmod', 'close', 'closerange', 'cpu_count', 'curdir', 'defpath', 'device_encoding', 'devnull', 'dup', 'dup2', 'environ', 'error', 'execl', 'execle', 'execlp', 'execlpe', 'execv', 'execve', 'execvp', 'execvpe', 'extsep', 'fdopen', 'fsdecode', 'fsencode', 'fspath', 'fstat', 'fsync', 'ftruncate', 'get_exec_path', 'get_handle_inheritable', 'get_inheritable', 'get_terminal_size', 'getcwd', 'getcwdb', 'getenv', 'getlogin', 'getpid', 'getppid', 'isatty', 'kill', 'linesep', 'link', 'listdir', 'lseek', 'lstat', 'makedirs', 'mkdir', 'name', 'open', 'pardir', 'path', 'pathsep', 'pipe', 'popen', 'putenv', 'read', 'readlink', 'remove', 'removedirs', 'rename', 'renames', 'replace', 'rmdir', 'scandir', 'sep', 'set_handle_inheritable', 'set_inheritable', 'spawnl', 'spawnle', 'spawnv', 'spawnve', 'st', 'startfile', 'stat', 'stat_result', 'statvfs_result', 'strerror', 'supports_bytes_environ', 'supports_dir_fd', 'supports_effective_ids', 'supports_fd', 'supports_follow_symlinks', 'symlink', 'sys', 'system', 'terminal_size', 'times', 'times_result', 'truncate', 'umask', 'uname_result', 'unlink', 'urandom', 'utime', 'waitpid', 'walk', 'write']\n",
      "\n",
      "C:\\Users\\wenad\\Documents\\GitHub\\LearningProgramming\n",
      "\n",
      "C:\\Users\\wenad\\Documents\\GitHub\n"
     ]
    }
   ],
   "source": [
    "import os\n",
    "\n",
    "\n",
    "print(dir(os)) # Shows all functionalities of os\n",
    "print()\n",
    "print(os.getcwd()) # Shows the current workding directory\n",
    "print()\n",
    "# Change directory\n",
    "os.chdir(r'C:\\Users\\wenad\\Documents\\GitHub')\n",
    "print(os.getcwd())\n",
    "os.chdir(r'C:\\Users\\wenad\\Documents\\GitHub\\LearningProgramming')"
   ]
  },
  {
   "cell_type": "code",
   "execution_count": 2,
   "metadata": {},
   "outputs": [
    {
     "name": "stdout",
     "output_type": "stream",
     "text": [
      "['.git', '.gitignore', '.ipynb_checkpoints', 'emacs_tutorial.md', 'git.md', 'Liaoxue Feng Python Tutorial Exercises.ipynb', 'Python 3.4 Programming Tutorials.ipynb', 'Python Programming Beginner Tutorials (1-9).ipynb', 'Python Programming Beginner Tutorials (10-20).ipynb', 'README.md', 'XSD_and_XML.md']\n"
     ]
    }
   ],
   "source": [
    "print(os.listdir()) # List all folder names"
   ]
  },
  {
   "cell_type": "code",
   "execution_count": 3,
   "metadata": {},
   "outputs": [],
   "source": [
    "os.mkdir('OS-Demo-2') # Only create one level of directory\n",
    "os.makedirs('OS-Demo-3/Sub-Dir-1') # Can create multiple levels of directories (Recommended)"
   ]
  },
  {
   "cell_type": "code",
   "execution_count": 4,
   "metadata": {},
   "outputs": [],
   "source": [
    "os.rmdir('OS-Demo-2') # Only remove one level of directory (Recommended)\n",
    "os.removedirs('OS-Demo-3/Sub-Dir-1') # Can remove multiple levels of directories"
   ]
  },
  {
   "cell_type": "code",
   "execution_count": 5,
   "metadata": {},
   "outputs": [
    {
     "name": "stdout",
     "output_type": "stream",
     "text": [
      "os.stat_result(st_mode=33206, st_ino=5629499534482181, st_dev=79347377, st_nlink=1, st_uid=0, st_gid=0, st_size=0, st_atime=1585421352, st_mtime=1585421352, st_ctime=1585421352)\n",
      "\n",
      "0\n",
      "1585421352.6901755\n",
      "2020-03-28 14:49:12.690176\n"
     ]
    }
   ],
   "source": [
    "from datetime import datetime\n",
    "\n",
    "\n",
    "f = open('test.txt', 'w')\n",
    "f.close()\n",
    "\n",
    "os.rename('test.txt', 'demo.txt')\n",
    "\n",
    "print(os.stat('demo.txt')) # Look at information about a file\n",
    "print()\n",
    "print(os.stat('demo.txt').st_size) # file size\n",
    "print(os.stat('demo.txt').st_mtime) # last modification time\n",
    "print(datetime.fromtimestamp(os.stat('demo.txt').st_mtime)) # change to time structure\n",
    "\n",
    "os.remove('demo.txt')"
   ]
  },
  {
   "cell_type": "code",
   "execution_count": 6,
   "metadata": {},
   "outputs": [],
   "source": [
    "# Shows all folders and files name\n",
    "\n",
    "# for dirpath, dirnames, filenames in os.walk(os.getcwd()):\n",
    "#     print('Current Path:', dirpath)\n",
    "#     print('Directories:', dirnames)\n",
    "#     print('Files:', filenames)\n",
    "#     print()"
   ]
  },
  {
   "cell_type": "code",
   "execution_count": 7,
   "metadata": {},
   "outputs": [
    {
     "name": "stdout",
     "output_type": "stream",
     "text": [
      "C:\\Users\\wenad\\Documents\\GitHub\\LearningProgramming\\test.txt\n"
     ]
    }
   ],
   "source": [
    "file_path = os.path.join(os.getcwd(), 'test.txt')\n",
    "# Don't need to worry about double // or missing /\n",
    "print(file_path)"
   ]
  },
  {
   "cell_type": "code",
   "execution_count": 8,
   "metadata": {},
   "outputs": [],
   "source": [
    "with open(file_path, 'w') as f:\n",
    "    f.write('TEXT')\n",
    "    f.close()\n",
    "\n",
    "os.remove(file_path)"
   ]
  },
  {
   "cell_type": "code",
   "execution_count": 9,
   "metadata": {},
   "outputs": [
    {
     "name": "stdout",
     "output_type": "stream",
     "text": [
      "test.txt\n",
      "/tmp\n",
      "('/tmp', 'test.txt')\n",
      "False\n",
      "False\n",
      "False\n",
      "('/tmp/test', '.txt')\n"
     ]
    }
   ],
   "source": [
    "print(os.path.basename('/tmp/test.txt')) # Get the file name. The path doesn't have to be existed.\n",
    "print(os.path.dirname('/tmp/test.txt'))  # Get the directory name\n",
    "print(os.path.split('/tmp/test.txt'))    # Split the dir and file names\n",
    "print(os.path.exists('/tmp/test.txt'))   # Check if the path exist\n",
    "print(os.path.isdir('/tmp/test.txt'))    # Check if it is a directory\n",
    "print(os.path.isfile('/tmp/test.txt'))   # Check if it is a file\n",
    "print(os.path.splitext('/tmp/test.txt')) # Split the file name and extension"
   ]
  },
  {
   "cell_type": "markdown",
   "metadata": {},
   "source": [
    "## Python Tutorial: File Objects - Reading and Writing to Files"
   ]
  },
  {
   "cell_type": "code",
   "execution_count": 10,
   "metadata": {},
   "outputs": [
    {
     "name": "stdout",
     "output_type": "stream",
     "text": [
      "True\n"
     ]
    }
   ],
   "source": [
    "# Contact manager method (Recommend)\n",
    "with open('test.txt', 'w') as f: # It closes the file automatically\n",
    "    f.write('1) This is a test file!\\n')\n",
    "    f.write('2) With multiple lines of data...\\n')\n",
    "    f.write('3) Third line\\n')\n",
    "    f.write('4) Fourth line\\n')\n",
    "    f.write('5) Fifth line\\n')\n",
    "    f.write('6) Sixth line\\n')\n",
    "    f.write('7) Seventh line\\n')\n",
    "    f.write('8) Eighth line\\n')\n",
    "    f.write('9) Ninth line\\n')\n",
    "    f.write('10) Tenth line\\n')\n",
    "\n",
    "print(f.closed) # Still have access to the f variable, but it is closed"
   ]
  },
  {
   "cell_type": "code",
   "execution_count": 11,
   "metadata": {},
   "outputs": [
    {
     "name": "stdout",
     "output_type": "stream",
     "text": [
      "test.txt\n",
      "r\n"
     ]
    }
   ],
   "source": [
    "f = open('test.txt', 'r')  # read\n",
    "# f = open('test.txt', 'w')  # write\n",
    "# f = open('test.txt', 'a')  # append\n",
    "# f = open('test.txt', 'r+') # read and write\n",
    "# f = open('test.txt', 'rb')  # read in binary, which need to be used for picture\n",
    "# f = open('test.txt', 'wb')  # write in binary, which need to be used for picture\n",
    "\n",
    "print(f.name) # file name\n",
    "print(f.mode) # file mode, which is read for this case\n",
    "\n",
    "f.close() # if not, leaking will happen"
   ]
  },
  {
   "cell_type": "code",
   "execution_count": 12,
   "metadata": {},
   "outputs": [
    {
     "name": "stdout",
     "output_type": "stream",
     "text": [
      "1) This is a test file!\n",
      "2) With multiple lines of data...\n",
      "3) Third line\n",
      "4) Fourth line\n",
      "5) Fifth line\n",
      "6) Sixth line\n",
      "7) Seventh line\n",
      "8) Eighth line\n",
      "9) Ninth line\n",
      "10) Tenth line\n",
      "\n"
     ]
    }
   ],
   "source": [
    "# Use read function\n",
    "with open('test.txt', 'r') as f:\n",
    "    f_contents = f.read()\n",
    "    print(f_contents)"
   ]
  },
  {
   "cell_type": "code",
   "execution_count": 13,
   "metadata": {},
   "outputs": [
    {
     "name": "stdout",
     "output_type": "stream",
     "text": [
      "1) This is a test file!\n",
      "2) With multiple lines of data...\n",
      "3) Third line\n",
      "4) Fourth line\n",
      "5) Fifth line\n",
      "6) Sixth line\n",
      "7) Seventh line\n",
      "8) Eighth line\n",
      "9) Ninth line\n",
      "10) Tenth line\n",
      "\n"
     ]
    }
   ],
   "source": [
    "# Use read function\n",
    "with open('test.txt', 'r') as f:\n",
    "    f_contents = f.read(100) # read 100 characters\n",
    "    print(f_contents, end='')\n",
    "    \n",
    "    f_contents = f.read(100) # read the next 100 characters\n",
    "    print(f_contents)"
   ]
  },
  {
   "cell_type": "code",
   "execution_count": 14,
   "metadata": {},
   "outputs": [
    {
     "name": "stdout",
     "output_type": "stream",
     "text": [
      "['1) This is a test file!\\n', '2) With multiple lines of data...\\n', '3) Third line\\n', '4) Fourth line\\n', '5) Fifth line\\n', '6) Sixth line\\n', '7) Seventh line\\n', '8) Eighth line\\n', '9) Ninth line\\n', '10) Tenth line\\n']\n"
     ]
    }
   ],
   "source": [
    "# Only read part of the file, which saves memory\n",
    "with open('test.txt', 'r') as f:\n",
    "    f_contents = f.readlines() # Read lines one by one\n",
    "    print(f_contents)"
   ]
  },
  {
   "cell_type": "code",
   "execution_count": 15,
   "metadata": {},
   "outputs": [
    {
     "name": "stdout",
     "output_type": "stream",
     "text": [
      "1) This is a test file!\n",
      "\n",
      "2) With multiple lines of data...\n",
      "\n"
     ]
    }
   ],
   "source": [
    "# Note: There is blank line after reading each line\n",
    "with open('test.txt', 'r') as f:\n",
    "    f_contents = f.readline() # Read a single line\n",
    "    print(f_contents)\n",
    "    \n",
    "    f_contents = f.readline() # Read another single line\n",
    "    print(f_contents)"
   ]
  },
  {
   "cell_type": "code",
   "execution_count": 16,
   "metadata": {},
   "outputs": [
    {
     "name": "stdout",
     "output_type": "stream",
     "text": [
      "1) This is a test file!\n",
      "2) With multiple lines of data...\n"
     ]
    }
   ],
   "source": [
    "# Note: Remove the blank lines\n",
    "with open('test.txt', 'r') as f:\n",
    "    f_contents = f.readline() # Read a single line\n",
    "    print(f_contents, end='')\n",
    "    \n",
    "    f_contents = f.readline() # Read another single line\n",
    "    print(f_contents, end='')"
   ]
  },
  {
   "cell_type": "code",
   "execution_count": 17,
   "metadata": {},
   "outputs": [
    {
     "name": "stdout",
     "output_type": "stream",
     "text": [
      "1) This is a test file!\n",
      "2) With multiple lines of data...\n",
      "3) Third line\n",
      "4) Fourth line\n",
      "5) Fifth line\n",
      "6) Sixth line\n",
      "7) Seventh line\n",
      "8) Eighth line\n",
      "9) Ninth line\n",
      "10) Tenth line\n"
     ]
    }
   ],
   "source": [
    "# Use for loop\n",
    "with open('test.txt', 'r') as f:\n",
    "    for line in f:\n",
    "        print(line, end='')"
   ]
  },
  {
   "cell_type": "code",
   "execution_count": 18,
   "metadata": {},
   "outputs": [
    {
     "name": "stdout",
     "output_type": "stream",
     "text": [
      "1) This is* a test fi*le!\n",
      "2) Wit*h multiple* lines of *data...\n",
      "3)* Third lin*e\n",
      "4) Fourt*h line\n",
      "5) *Fifth line*\n",
      "6) Sixth *line\n",
      "7) Se*venth line*\n",
      "8) Eighth* line\n",
      "9) N*inth line\n",
      "*10) Tenth *line\n",
      "*"
     ]
    }
   ],
   "source": [
    "# Use while loop\n",
    "with open('test.txt', 'r') as f:\n",
    "    size_to_read = 10\n",
    "    f_contents = f.read(size_to_read)\n",
    "    while len(f_contents) > 0: # When reach to the end, read function will return empty string.\n",
    "        print(f_contents, end='*')\n",
    "        f_contents = f.read(size_to_read)"
   ]
  },
  {
   "cell_type": "code",
   "execution_count": 19,
   "metadata": {},
   "outputs": [
    {
     "name": "stdout",
     "output_type": "stream",
     "text": [
      "10\n"
     ]
    }
   ],
   "source": [
    "# tell function\n",
    "with open('test.txt', 'r') as f:\n",
    "    size_to_read = 10\n",
    "    f_contents = f.read(size_to_read)\n",
    "    print(f.tell()) # Knows where we are in this file"
   ]
  },
  {
   "cell_type": "code",
   "execution_count": 20,
   "metadata": {},
   "outputs": [
    {
     "name": "stdout",
     "output_type": "stream",
     "text": [
      "1) This is1) This is"
     ]
    }
   ],
   "source": [
    "# seek function\n",
    "with open('test.txt', 'r') as f:\n",
    "    size_to_read = 10\n",
    "    f_contents = f.read(size_to_read)\n",
    "    print(f_contents, end='')\n",
    "    \n",
    "    f.seek(0) # set position back to the beginning of the file.\n",
    "    # Otherwise, read function will keep reading.\n",
    "    \n",
    "    f_contents = f.read(size_to_read)\n",
    "    print(f_contents, end='')"
   ]
  },
  {
   "cell_type": "code",
   "execution_count": 21,
   "metadata": {},
   "outputs": [],
   "source": [
    "# seek in write\n",
    "with open('test2.txt', 'w') as f: # If the file exists, the file will be overwritten.\n",
    "    f.write('Test')\n",
    "    f.seek(0)\n",
    "    f.write('R') # Overwrite the first character"
   ]
  },
  {
   "cell_type": "code",
   "execution_count": 22,
   "metadata": {},
   "outputs": [],
   "source": [
    "# Remove file\n",
    "os.remove('test2.txt')"
   ]
  },
  {
   "cell_type": "code",
   "execution_count": 23,
   "metadata": {},
   "outputs": [],
   "source": [
    "# Work with multiple files at the same time\n",
    "with open('test.txt', 'r') as rf:\n",
    "    with open('test_copy.txt', 'w') as wf:\n",
    "        for line in rf:\n",
    "            wf.write(line)"
   ]
  },
  {
   "cell_type": "code",
   "execution_count": 24,
   "metadata": {},
   "outputs": [],
   "source": [
    "# Remove files\n",
    "os.remove('test.txt')\n",
    "os.remove('test_copy.txt')"
   ]
  },
  {
   "cell_type": "markdown",
   "metadata": {},
   "source": [
    "## Python Tutorial: How to Set the Path and Switch Between Different Versions/Executables (Windows)"
   ]
  },
  {
   "cell_type": "markdown",
   "metadata": {},
   "source": [
    "1) Add different version of ptyhon in path\n",
    "    - add python.exe full path into path\n",
    "2) Add different version of pip scripts in path\n",
    "    - add pip.exe full path into path\n",
    "3) Check which version of path is running\n",
    "    - within python\n",
    "        - import sys\n",
    "        - sys.executable\n",
    "    - check all paths\n",
    "        - echo %path%\n",
    "4) Manage packages by pip\n",
    "    - pip install <package_name>\n",
    "    - pip show <package_name>"
   ]
  },
  {
   "cell_type": "markdown",
   "metadata": {},
   "source": [
    "## Python Tutorial: Automate Parsing and Renaming of Multiple Files"
   ]
  },
  {
   "cell_type": "code",
   "execution_count": 25,
   "metadata": {},
   "outputs": [
    {
     "name": "stdout",
     "output_type": "stream",
     "text": [
      "C:\\Users\\wenad\\Documents\\GitHub\\LearningProgramming\\test\n"
     ]
    }
   ],
   "source": [
    "# Create some files for testing\n",
    "import os\n",
    "\n",
    "\n",
    "os.mkdir('test')\n",
    "os.chdir(r'C:\\Users\\wenad\\Documents\\GitHub\\LearningProgramming\\test')\n",
    "print(os.getcwd())\n",
    "\n",
    "f = open('Earth - Our Solar System - #4.txt', 'w')\n",
    "f.close()\n",
    "f = open('Jupiter - Our Solar System - #6.txt', 'w')\n",
    "f.close()\n",
    "f = open('Mars - Our Solar System - #5.txt', 'w')\n",
    "f.close()\n",
    "f = open('Mercury - Our Solar System - #2.txt', 'w')\n",
    "f.close()\n",
    "f = open('Neptune - Our Solar System - #8.txt', 'w')\n",
    "f.close()\n",
    "f = open('Pluto - Our Solar System - #10.txt', 'w')\n",
    "f.close()\n",
    "f = open('Saturn - Our Solar System - #7.txt', 'w')\n",
    "f.close()\n",
    "f = open('The Sun - Our Solar System - #1.txt', 'w')\n",
    "f.close()\n",
    "f = open('Uranus - Our Solar System - #9.txt', 'w')\n",
    "f.close()\n",
    "f = open('Venus - Our Solar System - #3.txt', 'w')\n",
    "f.close()"
   ]
  },
  {
   "cell_type": "code",
   "execution_count": 26,
   "metadata": {},
   "outputs": [
    {
     "name": "stdout",
     "output_type": "stream",
     "text": [
      "Earth - Our Solar System - #4.txt\n",
      "Jupiter - Our Solar System - #6.txt\n",
      "Mars - Our Solar System - #5.txt\n",
      "Mercury - Our Solar System - #2.txt\n",
      "Neptune - Our Solar System - #8.txt\n",
      "Pluto - Our Solar System - #10.txt\n",
      "Saturn - Our Solar System - #7.txt\n",
      "The Sun - Our Solar System - #1.txt\n",
      "Uranus - Our Solar System - #9.txt\n",
      "Venus - Our Solar System - #3.txt\n"
     ]
    }
   ],
   "source": [
    "# List out all file names\n",
    "for f in os.listdir():\n",
    "    print(f)"
   ]
  },
  {
   "cell_type": "code",
   "execution_count": 27,
   "metadata": {},
   "outputs": [],
   "source": [
    "# Rename files\n",
    "for f in os.listdir():\n",
    "    f_name, f_ext = os.path.splitext(f)\n",
    "    f_title, f_course, f_num = f_name.split('-')\n",
    "    f_title = f_title.strip() # remove all extra space at the end\n",
    "    f_course = f_course.strip()\n",
    "    f_num = f_num.strip()[1:].zfill(2) # remove # and fill zeros for single digital\n",
    "    new_name = '{}-{}{}'.format(f_num, f_title, f_ext)\n",
    "    os.rename(f, new_name)"
   ]
  },
  {
   "cell_type": "code",
   "execution_count": 28,
   "metadata": {},
   "outputs": [
    {
     "name": "stdout",
     "output_type": "stream",
     "text": [
      "01-The Sun.txt\n",
      "02-Mercury.txt\n",
      "03-Venus.txt\n",
      "04-Earth.txt\n",
      "05-Mars.txt\n",
      "06-Jupiter.txt\n",
      "07-Saturn.txt\n",
      "08-Neptune.txt\n",
      "09-Uranus.txt\n",
      "10-Pluto.txt\n"
     ]
    }
   ],
   "source": [
    "# List out all file names\n",
    "for f in os.listdir():\n",
    "    print(f)"
   ]
  },
  {
   "cell_type": "code",
   "execution_count": 29,
   "metadata": {},
   "outputs": [],
   "source": [
    "# Removed test folder\n",
    "import shutil\n",
    "\n",
    "\n",
    "os.chdir(r'C:\\Users\\wenad\\Documents\\GitHub\\LearningProgramming')\n",
    "shutil.rmtree('test')"
   ]
  },
  {
   "cell_type": "markdown",
   "metadata": {},
   "source": [
    "## Python Tutorial: CSV Module - How to Read, Parse, and Write CSV Files"
   ]
  },
  {
   "cell_type": "code",
   "execution_count": 30,
   "metadata": {},
   "outputs": [
    {
     "name": "stdout",
     "output_type": "stream",
     "text": [
      "john-doe@bogusemail.com\n",
      "maryjacobs@bogusemail.com\n",
      "davesmith@bogusemail.com\n"
     ]
    }
   ],
   "source": [
    "import csv\n",
    "\n",
    "\n",
    "with open('names.csv', 'w', newline='') as csv_file: # No extra line was created.\n",
    "    csv_writer = csv.writer(csv_file) # '-' is not a good delimiter\n",
    "    \n",
    "    csv_writer.writerow(['first_name', 'last_name', 'email'])\n",
    "    csv_writer.writerow(['John', 'Doe', 'john-doe@bogusemail.com'])\n",
    "    csv_writer.writerow(['Mary', 'Smith-Robinson', 'maryjacobs@bogusemail.com'])\n",
    "    csv_writer.writerow(['Dave', 'Smith', 'davesmith@bogusemail.com'])\n",
    "\n",
    "\n",
    "with open('names.csv', 'r') as csv_file:\n",
    "    csv_reader = csv.reader(csv_file) # csv_reader is an object in memory\n",
    "\n",
    "    next(csv_reader) # Skip the header ==> Generator\n",
    "\n",
    "    for line in csv_reader:\n",
    "        print(line[2])"
   ]
  },
  {
   "cell_type": "code",
   "execution_count": 31,
   "metadata": {},
   "outputs": [],
   "source": [
    "# Work with multiple files at the same time\n",
    "with open('names.csv', 'r') as csv_file:\n",
    "    csv_reader = csv.reader(csv_file)\n",
    "    \n",
    "    with open('new_names.csv', 'w', newline='') as new_file:\n",
    "        csv_writer = csv.writer(new_file, delimiter='\\t') # '-' is not a good delimiter\n",
    "        \n",
    "        for line in csv_reader:\n",
    "            csv_writer.writerow(line)"
   ]
  },
  {
   "cell_type": "code",
   "execution_count": 32,
   "metadata": {},
   "outputs": [
    {
     "name": "stdout",
     "output_type": "stream",
     "text": [
      "john-doe@bogusemail.com\n",
      "maryjacobs@bogusemail.com\n",
      "davesmith@bogusemail.com\n"
     ]
    }
   ],
   "source": [
    "# Use DictReader and DictWriter\n",
    "os.remove('new_names.csv')\n",
    "\n",
    "\n",
    "with open('names.csv', 'r') as csv_file:\n",
    "    csv_reader = csv.DictReader(csv_file)\n",
    "    \n",
    "    for line in csv_reader:\n",
    "        print(line['email']) # using the key instead of index"
   ]
  },
  {
   "cell_type": "code",
   "execution_count": 33,
   "metadata": {},
   "outputs": [],
   "source": [
    "with open('names.csv', 'r') as csv_file:\n",
    "    csv_reader = csv.DictReader(csv_file)\n",
    "    \n",
    "    with open('new_names.csv', 'w', newline='') as new_file:\n",
    "        fieldnames = ['first_name', 'last_name', 'email']\n",
    "        \n",
    "        csv_writer = csv.DictWriter(new_file, fieldnames=fieldnames)\n",
    "        \n",
    "        csv_writer.writeheader() # Write the header names.\n",
    "        \n",
    "        for line in csv_reader:\n",
    "            del line['email'] # remove the email by using key\n",
    "            csv_writer.writerow(line)"
   ]
  },
  {
   "cell_type": "code",
   "execution_count": 34,
   "metadata": {},
   "outputs": [],
   "source": [
    "os.remove('names.csv')\n",
    "os.remove('new_names.csv')"
   ]
  },
  {
   "cell_type": "markdown",
   "metadata": {},
   "source": [
    "## Python Tutorial: Real World Example - Parsing Names From a CSV to an HTML List"
   ]
  },
  {
   "cell_type": "markdown",
   "metadata": {},
   "source": [
    "Real World Example of \"Python Tutorial: CSV Module - How to Read, Parse, and Write CSV Files\""
   ]
  },
  {
   "cell_type": "markdown",
   "metadata": {},
   "source": [
    "### Suggested: Python Tutorial: Generators - How to use them and the benefits you received"
   ]
  },
  {
   "cell_type": "code",
   "execution_count": 35,
   "metadata": {},
   "outputs": [
    {
     "name": "stdout",
     "output_type": "stream",
     "text": [
      "1\n",
      "4\n",
      "9\n"
     ]
    }
   ],
   "source": [
    "# Generators: Don't hold the entire result in memory. It yields one result at a time.\n",
    "def square_numbers(nums):\n",
    "    for i in nums:\n",
    "        yield(i*i)\n",
    "\n",
    "\n",
    "my_nums = square_numbers([1, 2, 3, 4, 5])\n",
    "\n",
    "print(next(my_nums))\n",
    "print(next(my_nums))\n",
    "print(next(my_nums))\n",
    "# If there are more than 5, an error message will be generated,\n",
    "# because there are only 5 items in the list."
   ]
  },
  {
   "cell_type": "code",
   "execution_count": 36,
   "metadata": {},
   "outputs": [
    {
     "name": "stdout",
     "output_type": "stream",
     "text": [
      "1\n",
      "4\n",
      "9\n",
      "16\n",
      "25\n"
     ]
    }
   ],
   "source": [
    "# Use for loop. The for loop knows where to stop\n",
    "my_nums = square_numbers([1, 2, 3, 4, 5]) # my_nums has to be re-defined\n",
    "for num in my_nums:\n",
    "    print(num)"
   ]
  },
  {
   "cell_type": "markdown",
   "metadata": {},
   "source": [
    "#### Suggested: Python Tutorial: Comprehensions - How they work and why you should be using them"
   ]
  },
  {
   "cell_type": "markdown",
   "metadata": {},
   "source": [
    "List comprehensions: easier and more readable way to create a list."
   ]
  },
  {
   "cell_type": "code",
   "execution_count": 37,
   "metadata": {},
   "outputs": [
    {
     "name": "stdout",
     "output_type": "stream",
     "text": [
      "[1, 2, 3, 4, 5, 6, 7, 8, 9, 10]\n"
     ]
    }
   ],
   "source": [
    "nums = [1, 2, 3, 4, 5, 6, 7, 8, 9, 10]\n",
    "my_list = [n for n in nums]\n",
    "print(my_list)"
   ]
  },
  {
   "cell_type": "code",
   "execution_count": 38,
   "metadata": {},
   "outputs": [
    {
     "name": "stdout",
     "output_type": "stream",
     "text": [
      "[1, 4, 9, 16, 25, 36, 49, 64, 81, 100]\n"
     ]
    }
   ],
   "source": [
    "my_list = [n*n for n in nums]\n",
    "print(my_list)"
   ]
  },
  {
   "cell_type": "code",
   "execution_count": 39,
   "metadata": {},
   "outputs": [
    {
     "name": "stdout",
     "output_type": "stream",
     "text": [
      "[1, 4, 9, 16, 25, 36, 49, 64, 81, 100]\n"
     ]
    }
   ],
   "source": [
    "# Using a map + lambda\n",
    "my_list = list(map(lambda n: n*n, nums))\n",
    "print(my_list)"
   ]
  },
  {
   "cell_type": "code",
   "execution_count": 40,
   "metadata": {},
   "outputs": [
    {
     "name": "stdout",
     "output_type": "stream",
     "text": [
      "[2, 4, 6, 8, 10]\n"
     ]
    }
   ],
   "source": [
    "my_list = [n for n in nums if n%2 == 0]\n",
    "print(my_list)"
   ]
  },
  {
   "cell_type": "code",
   "execution_count": 41,
   "metadata": {},
   "outputs": [
    {
     "name": "stdout",
     "output_type": "stream",
     "text": [
      "[2, 4, 6, 8, 10]\n"
     ]
    }
   ],
   "source": [
    "# Using a filter + lambda\n",
    "my_list = list(filter(lambda n: n%2 == 0, nums))\n",
    "print(my_list)"
   ]
  },
  {
   "cell_type": "code",
   "execution_count": 42,
   "metadata": {},
   "outputs": [
    {
     "name": "stdout",
     "output_type": "stream",
     "text": [
      "[('a', 0), ('a', 1), ('a', 2), ('a', 3), ('b', 0), ('b', 1), ('b', 2), ('b', 3), ('c', 0), ('c', 1), ('c', 2), ('c', 3), ('d', 0), ('d', 1), ('d', 2), ('d', 3)]\n"
     ]
    }
   ],
   "source": [
    "my_list = [(letter, num) for letter in 'abcd' for num in range(4)]\n",
    "print(my_list)"
   ]
  },
  {
   "cell_type": "code",
   "execution_count": 43,
   "metadata": {},
   "outputs": [
    {
     "name": "stdout",
     "output_type": "stream",
     "text": [
      "{'Bruce': 'Batman', 'Clark': 'Superman', 'Logan': 'Wolverine', 'Wade': 'Deadpool'}\n"
     ]
    }
   ],
   "source": [
    "# Dictionary Comprehensions\n",
    "names = ['Bruce', 'Clark', 'Peter', 'Logan', 'Wade']\n",
    "heros = ['Batman', 'Superman', 'Spiderman', 'Wolverine', 'Deadpool']\n",
    "\n",
    "my_dict = {name: hero for name, hero in zip (names, heros) if name != 'Peter'}\n",
    "print(my_dict)"
   ]
  },
  {
   "cell_type": "code",
   "execution_count": 44,
   "metadata": {},
   "outputs": [
    {
     "name": "stdout",
     "output_type": "stream",
     "text": [
      "{1, 2, 3, 4, 5, 6, 7, 8, 9}\n"
     ]
    }
   ],
   "source": [
    "# Set Comprehensions\n",
    "nums = [1, 1, 2, 1, 3, 4, 3, 4, 5, 5, 6, 7, 8, 7, 9, 9]\n",
    "my_set = {n for n in nums}\n",
    "print(my_set)"
   ]
  },
  {
   "cell_type": "code",
   "execution_count": 45,
   "metadata": {},
   "outputs": [
    {
     "name": "stdout",
     "output_type": "stream",
     "text": [
      "1\n",
      "2\n",
      "3\n",
      "4\n",
      "5\n",
      "6\n",
      "7\n",
      "8\n",
      "9\n",
      "10\n"
     ]
    }
   ],
   "source": [
    "# Generator Expressions\n",
    "nums = [1, 2, 3, 4, 5, 6, 7, 8, 9, 10]\n",
    "my_gen = (n for n in nums) # It is () instead of [].\n",
    "for i in my_gen:\n",
    "    print(i)"
   ]
  },
  {
   "cell_type": "markdown",
   "metadata": {},
   "source": [
    "#### End: Python Tutorial: Comprehensions - How they work and why you should be using them"
   ]
  },
  {
   "cell_type": "code",
   "execution_count": 46,
   "metadata": {},
   "outputs": [
    {
     "name": "stdout",
     "output_type": "stream",
     "text": [
      "[1, 4, 9, 16, 25]\n",
      "1\n",
      "4\n",
      "9\n",
      "16\n",
      "25\n"
     ]
    }
   ],
   "source": [
    "my_nums = [x*x for x in [1, 2, 3, 4, 5]] # It is a list.\n",
    "print(my_nums)\n",
    "for num in my_nums:\n",
    "    print(num)"
   ]
  },
  {
   "cell_type": "code",
   "execution_count": 47,
   "metadata": {},
   "outputs": [
    {
     "name": "stdout",
     "output_type": "stream",
     "text": [
      "<generator object <genexpr> at 0x00000229E637E9C8>\n",
      "1\n",
      "4\n",
      "9\n",
      "16\n",
      "25\n"
     ]
    }
   ],
   "source": [
    "my_nums = (x*x for x in [1, 2, 3, 4, 5]) # It is a generator.\n",
    "print(my_nums)\n",
    "for num in my_nums:\n",
    "    print(num)"
   ]
  },
  {
   "cell_type": "code",
   "execution_count": 48,
   "metadata": {},
   "outputs": [
    {
     "name": "stdout",
     "output_type": "stream",
     "text": [
      "[1, 4, 9, 16, 25]\n"
     ]
    }
   ],
   "source": [
    "my_nums = (x*x for x in [1, 2, 3, 4, 5]) # It is a generator.\n",
    "print(list(my_nums)) # Convert generator to a list. However, it loses performance.\n",
    "# For a large number of list, the memory and time will be big differences."
   ]
  },
  {
   "cell_type": "markdown",
   "metadata": {},
   "source": [
    "### End: Python Tutorial: Generators - How to use them and the benefits you received"
   ]
  },
  {
   "cell_type": "markdown",
   "metadata": {},
   "source": [
    "## Python Tutorial: Datetime Module - How to work with Dates, Times, Timedeltas, and Timezones"
   ]
  },
  {
   "cell_type": "code",
   "execution_count": 49,
   "metadata": {},
   "outputs": [
    {
     "name": "stdout",
     "output_type": "stream",
     "text": [
      "2016-07-24\n"
     ]
    }
   ],
   "source": [
    "# Naive datetime\n",
    "import datetime\n",
    "\n",
    "\n",
    "d = datetime.date(2016, 7, 24)\n",
    "print(d)"
   ]
  },
  {
   "cell_type": "code",
   "execution_count": 50,
   "metadata": {},
   "outputs": [
    {
     "name": "stdout",
     "output_type": "stream",
     "text": [
      "2020-03-28\n",
      "2020\n",
      "28\n",
      "\n",
      "5\n",
      "6\n"
     ]
    }
   ],
   "source": [
    "tday = datetime.date.today()\n",
    "print(tday)\n",
    "print(tday.year)\n",
    "print(tday.day)\n",
    "print()\n",
    "print(tday.weekday())    # Monday==0, Sunday==6\n",
    "print(tday.isoweekday()) # Monday==1, Sunday==7"
   ]
  },
  {
   "cell_type": "code",
   "execution_count": 51,
   "metadata": {},
   "outputs": [
    {
     "name": "stdout",
     "output_type": "stream",
     "text": [
      "2020-04-04\n",
      "2020-03-21\n",
      "278 days, 0:00:00\n",
      "278\n",
      "24019200.0\n",
      "2020-12-31\n"
     ]
    }
   ],
   "source": [
    "tdelta = datetime.timedelta(days=7)\n",
    "print(tday + tdelta)\n",
    "print(tday - tdelta)\n",
    "\n",
    "# date2 = date1 + timedelta\n",
    "# timedelta = date2 - date1\n",
    "bday = datetime.date(2020, 12, 31)\n",
    "till_bday = bday - tday\n",
    "print(till_bday)\n",
    "print(till_bday.days)\n",
    "print(till_bday.total_seconds())\n",
    "print(tday + till_bday)"
   ]
  },
  {
   "cell_type": "code",
   "execution_count": 52,
   "metadata": {},
   "outputs": [
    {
     "name": "stdout",
     "output_type": "stream",
     "text": [
      "9\n"
     ]
    }
   ],
   "source": [
    "t = datetime.time(9, 30, 45, 100000)\n",
    "print(t.hour)"
   ]
  },
  {
   "cell_type": "code",
   "execution_count": 53,
   "metadata": {},
   "outputs": [
    {
     "name": "stdout",
     "output_type": "stream",
     "text": [
      "2016-07-26 12:30:45.100000\n",
      "2016-07-26\n",
      "12:30:45.100000\n",
      "2016\n",
      "12\n"
     ]
    }
   ],
   "source": [
    "# datetime.date ==> date only\n",
    "# datetime.time ==> time only\n",
    "# datetime.datetime ==> date and time\n",
    "dt = datetime.datetime(2016, 7, 26, 12, 30, 45, 100000)\n",
    "print(dt)\n",
    "print(dt.date()) # date is a function\n",
    "print(dt.time()) # time is a function\n",
    "print(dt.year)   # year is a variable\n",
    "print(dt.hour)   # hour is a variable"
   ]
  },
  {
   "cell_type": "code",
   "execution_count": 54,
   "metadata": {},
   "outputs": [
    {
     "name": "stdout",
     "output_type": "stream",
     "text": [
      "2016-07-27 00:30:45.100000\n"
     ]
    }
   ],
   "source": [
    "tdelta = datetime.timedelta(hours=12)\n",
    "print(dt + tdelta)"
   ]
  },
  {
   "cell_type": "code",
   "execution_count": 55,
   "metadata": {},
   "outputs": [
    {
     "name": "stdout",
     "output_type": "stream",
     "text": [
      "2020-03-28 14:49:18.103131\n",
      "2020-03-28 14:49:18.103130\n",
      "2020-03-28 18:49:18.103130\n"
     ]
    }
   ],
   "source": [
    "dt_today = datetime.datetime.today()\n",
    "dt_now = datetime.datetime.now() # give an option to input timezone\n",
    "dt_utcnow = datetime.datetime.utcnow() # give current utc time\n",
    "print(dt_today)\n",
    "print(dt_now)\n",
    "print(dt_utcnow)"
   ]
  },
  {
   "cell_type": "code",
   "execution_count": 56,
   "metadata": {},
   "outputs": [
    {
     "name": "stdout",
     "output_type": "stream",
     "text": [
      "2016-07-27 12:30:45+00:00\n",
      "2020-03-28 18:49:18.212750+00:00\n",
      "2020-03-28 18:49:18.212750+00:00\n"
     ]
    }
   ],
   "source": [
    "# timezone information\n",
    "# Using UTC timezone\n",
    "import pytz\n",
    "\n",
    "\n",
    "dt = datetime.datetime(2016, 7, 27, 12, 30, 45, tzinfo=pytz.UTC)\n",
    "print(dt)\n",
    "dt_now = datetime.datetime.now(tz=pytz.UTC)\n",
    "print(dt_now)\n",
    "dt_utcnow = datetime.datetime.utcnow().replace(tzinfo=pytz.UTC)\n",
    "print(dt_utcnow)"
   ]
  },
  {
   "cell_type": "code",
   "execution_count": 57,
   "metadata": {},
   "outputs": [
    {
     "name": "stdout",
     "output_type": "stream",
     "text": [
      "2020-03-28 18:49:18.309377+00:00\n",
      "2020-03-28 12:49:18.309377-06:00\n"
     ]
    }
   ],
   "source": [
    "# Set time to UTC\n",
    "dt_utcnow = datetime.datetime.now(tz=pytz.UTC)\n",
    "print(dt_utcnow)\n",
    "\n",
    "# Set UTC time to Mountain time\n",
    "dt_mtn = dt_utcnow.astimezone(pytz.timezone('US/Mountain'))\n",
    "print(dt_mtn)"
   ]
  },
  {
   "cell_type": "code",
   "execution_count": 58,
   "metadata": {},
   "outputs": [
    {
     "name": "stdout",
     "output_type": "stream",
     "text": [
      "Africa/Abidjan\n",
      "Africa/Accra\n",
      "Africa/Addis_Ababa\n",
      "Africa/Algiers\n",
      "Africa/Asmara\n",
      "Africa/Asmera\n",
      "Africa/Bamako\n",
      "Africa/Bangui\n",
      "Africa/Banjul\n",
      "Africa/Bissau\n",
      "592\n"
     ]
    }
   ],
   "source": [
    "# Print out all timezones\n",
    "for tz in pytz.all_timezones[:10]:\n",
    "    print(tz)\n",
    "print(len(pytz.all_timezones))"
   ]
  },
  {
   "cell_type": "code",
   "execution_count": 59,
   "metadata": {},
   "outputs": [
    {
     "name": "stdout",
     "output_type": "stream",
     "text": [
      "2020-03-28 14:49:18.836603\n",
      "2020-03-28 16:49:18.836603-04:00\n"
     ]
    }
   ],
   "source": [
    "# Convert naive datetime to timezone aware\n",
    "dt_mtn = datetime.datetime.now()\n",
    "print(dt_mtn) # Naive datetime, don't have timezone aware\n",
    "\n",
    "mtz_tz = pytz.timezone('US/Mountain')\n",
    "dt_mtn = mtz_tz.localize(dt_mtn) # Add timezone information\n",
    "dt_east = dt_mtn.astimezone(pytz.timezone('US/Eastern'))\n",
    "print(dt_east)"
   ]
  },
  {
   "cell_type": "code",
   "execution_count": 60,
   "metadata": {},
   "outputs": [
    {
     "name": "stdout",
     "output_type": "stream",
     "text": [
      "2020-03-28T12:49:18.936934-06:00\n",
      "March 28, 2020\n"
     ]
    }
   ],
   "source": [
    "# Format of datetime\n",
    "dt_mtn = datetime.datetime.now(tz=pytz.timezone('US/Mountain'))\n",
    "print(dt_mtn.isoformat())\n",
    "print(dt_mtn.strftime('%B %d, %Y'))"
   ]
  },
  {
   "cell_type": "code",
   "execution_count": 61,
   "metadata": {},
   "outputs": [
    {
     "name": "stdout",
     "output_type": "stream",
     "text": [
      "2016-07-26 00:00:00\n"
     ]
    }
   ],
   "source": [
    "# Convert string to datetime\n",
    "dt_str = 'July 26, 2016'\n",
    "dt = datetime.datetime.strptime(dt_str, '%B %d, %Y') # What format of the input string\n",
    "print(dt)\n",
    "# strftime - Datetime to String\n",
    "# strptime - String to Datetime"
   ]
  },
  {
   "cell_type": "markdown",
   "metadata": {},
   "source": [
    "## Python Tutorial: Using Try/Except Blocks for Error Handling"
   ]
  },
  {
   "cell_type": "code",
   "execution_count": 62,
   "metadata": {},
   "outputs": [],
   "source": [
    "# Create a test file\n",
    "with open('test_file.txt', 'w') as f:\n",
    "    f.write('test it')"
   ]
  },
  {
   "cell_type": "code",
   "execution_count": 63,
   "metadata": {},
   "outputs": [
    {
     "name": "stdout",
     "output_type": "stream",
     "text": [
      "Sorry. This file does not exist\n"
     ]
    }
   ],
   "source": [
    "try:\n",
    "    f = open('testfile.txt')\n",
    "except Exception: # catch a lot of different errors\n",
    "    print('Sorry. This file does not exist')"
   ]
  },
  {
   "cell_type": "code",
   "execution_count": 64,
   "metadata": {},
   "outputs": [
    {
     "name": "stdout",
     "output_type": "stream",
     "text": [
      "Sorry. This file does not exist\n"
     ]
    }
   ],
   "source": [
    "# More specific\n",
    "try:\n",
    "    f = open('testfile.txt')\n",
    "except FileNotFoundError:\n",
    "    print('Sorry. This file does not exist')"
   ]
  },
  {
   "cell_type": "code",
   "execution_count": 65,
   "metadata": {},
   "outputs": [
    {
     "name": "stdout",
     "output_type": "stream",
     "text": [
      "[Errno 2] No such file or directory: 'testfile.txt'\n"
     ]
    }
   ],
   "source": [
    "# Without custom messages\n",
    "try:\n",
    "    f = open('testfile.txt')\n",
    "except FileNotFoundError as e:\n",
    "    print(e)"
   ]
  },
  {
   "cell_type": "code",
   "execution_count": 66,
   "metadata": {},
   "outputs": [
    {
     "name": "stdout",
     "output_type": "stream",
     "text": [
      "test it\n"
     ]
    }
   ],
   "source": [
    "# If it doesn't through exception, it goes to else.\n",
    "# However, to be more specific in the try section,\n",
    "# it is better that only put possible error codes into try section.\n",
    "try:\n",
    "    f = open('test_file.txt')\n",
    "except FileNotFoundError as e:\n",
    "    print(e)\n",
    "except Exception as e:\n",
    "    print(e)\n",
    "else:\n",
    "    print(f.read())\n",
    "    f.close()"
   ]
  },
  {
   "cell_type": "code",
   "execution_count": 67,
   "metadata": {},
   "outputs": [
    {
     "name": "stdout",
     "output_type": "stream",
     "text": [
      "[Errno 2] No such file or directory: 'testfile.txt'\n",
      "Executing Finally...\n"
     ]
    }
   ],
   "source": [
    "# No matter what happened in the code, finally section will be run.\n",
    "try:\n",
    "    f = open('testfile.txt')\n",
    "except FileNotFoundError as e:\n",
    "    print(e)\n",
    "except Exception as e:\n",
    "    print(e)\n",
    "else:\n",
    "    print(f.read())\n",
    "    f.close()\n",
    "finally:\n",
    "    print('Executing Finally...')"
   ]
  },
  {
   "cell_type": "code",
   "execution_count": 68,
   "metadata": {},
   "outputs": [
    {
     "name": "stdout",
     "output_type": "stream",
     "text": [
      "Error!\n",
      "Executing Finally...\n"
     ]
    }
   ],
   "source": [
    "# Raise own exception (raise exception manually)\n",
    "try:\n",
    "    f = open('test_file.txt')\n",
    "    if f.name == 'test_file.txt':\n",
    "        raise Exception\n",
    "except FileNotFoundError as e:\n",
    "    print(e)\n",
    "except Exception:\n",
    "    print('Error!')\n",
    "else:\n",
    "    print(f.read())\n",
    "    f.close()\n",
    "finally:\n",
    "    print('Executing Finally...')"
   ]
  },
  {
   "cell_type": "code",
   "execution_count": 69,
   "metadata": {},
   "outputs": [
    {
     "name": "stdout",
     "output_type": "stream",
     "text": [
      "False\n"
     ]
    }
   ],
   "source": [
    "print(f.closed) # It shows that it doesn't go into else section. The file is not closed."
   ]
  },
  {
   "cell_type": "code",
   "execution_count": 70,
   "metadata": {},
   "outputs": [],
   "source": [
    "# Remove the test file\n",
    "f.close()\n",
    "os.remove('test_file.txt')"
   ]
  }
 ],
 "metadata": {
  "kernelspec": {
   "display_name": "Python 3",
   "language": "python",
   "name": "python3"
  },
  "language_info": {
   "codemirror_mode": {
    "name": "ipython",
    "version": 3
   },
   "file_extension": ".py",
   "mimetype": "text/x-python",
   "name": "python",
   "nbconvert_exporter": "python",
   "pygments_lexer": "ipython3",
   "version": "3.7.4"
  }
 },
 "nbformat": 4,
 "nbformat_minor": 2
}
