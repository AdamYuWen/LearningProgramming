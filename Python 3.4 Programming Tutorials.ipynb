{
 "cells": [
  {
   "cell_type": "markdown",
   "metadata": {},
   "source": [
    "# Notes for YouTube Python Tutorials\n",
    "## Python 3.4 Programming Tutorials\n",
    "https://www.youtube.com/watch?v=HBxCHonP6Ro&list=PL6gx4Cwl9DGAcbMi1sH6oAMk4JHw91mC_"
   ]
  },
  {
   "cell_type": "markdown",
   "metadata": {},
   "source": [
    "## 02 - Numbers"
   ]
  },
  {
   "cell_type": "code",
   "execution_count": 1,
   "metadata": {},
   "outputs": [
    {
     "name": "stdout",
     "output_type": "stream",
     "text": [
      "4.5\n",
      "4\n",
      "2\n"
     ]
    }
   ],
   "source": [
    "print(18 / 4)  # It is 4.5\n",
    "print(18 // 4) # It is 4, which is floor of 4.5\n",
    "print(18 % 4)  # It is 2"
   ]
  },
  {
   "cell_type": "markdown",
   "metadata": {},
   "source": [
    "## 03 - Strings"
   ]
  },
  {
   "cell_type": "code",
   "execution_count": 2,
   "metadata": {},
   "outputs": [
    {
     "name": "stdout",
     "output_type": "stream",
     "text": [
      "I don't think she is 18.\n",
      "C:\\Bucky\\Desktop\\nudePics\n"
     ]
    }
   ],
   "source": [
    "print('I don\\'t think she is 18.') # Can only be \\, not /\n",
    "print(r'C:\\Bucky\\Desktop\\nudePics') # \"r\" means raw and it is important"
   ]
  },
  {
   "cell_type": "markdown",
   "metadata": {},
   "source": [
    "## 04 - Slicing up Strings"
   ]
  },
  {
   "cell_type": "code",
   "execution_count": 3,
   "metadata": {},
   "outputs": [
    {
     "data": {
      "text/plain": [
       "'T'"
      ]
     },
     "execution_count": 3,
     "metadata": {},
     "output_type": "execute_result"
    }
   ],
   "source": [
    "user = \"Tuna McFish\"\n",
    "user[0] # Python start with 0"
   ]
  },
  {
   "cell_type": "markdown",
   "metadata": {},
   "source": [
    "## 05 - Lists"
   ]
  },
  {
   "cell_type": "code",
   "execution_count": 4,
   "metadata": {},
   "outputs": [
    {
     "name": "stdout",
     "output_type": "stream",
     "text": [
      "[29, 58, 66, 71, 87, 120]\n",
      "[29, 58]\n",
      "[66, 71, 87, 120]\n",
      "[1, 66, 71, 87, 120]\n",
      "[]\n"
     ]
    }
   ],
   "source": [
    "players = [29, 58, 66, 71, 87]\n",
    "\n",
    "players.append(120) # Add items to list\n",
    "print(players)\n",
    "\n",
    "print(players[:2]) # Print before index 2, exclude index 2\n",
    "print(players[2:]) # Print after  index 2, include index 2\n",
    "\n",
    "players[:2] = [1] # Change items in a list\n",
    "print(players)\n",
    "\n",
    "players[:] = [] # Empty a list\n",
    "print(players)"
   ]
  },
  {
   "cell_type": "markdown",
   "metadata": {},
   "source": [
    "## 07 - if elif else"
   ]
  },
  {
   "cell_type": "code",
   "execution_count": 5,
   "metadata": {},
   "outputs": [
    {
     "name": "stdout",
     "output_type": "stream",
     "text": [
      "Hey there Lucy\n"
     ]
    }
   ],
   "source": [
    "name = \"Lucy\"\n",
    "\n",
    "if name is \"Bucky\": # Using \"is\" to compare two strings\n",
    "    print(\"Hey there Bucky\")\n",
    "else:\n",
    "    print(\"Hey there Lucy\")"
   ]
  },
  {
   "cell_type": "markdown",
   "metadata": {},
   "source": [
    "## 09 - Range and While"
   ]
  },
  {
   "cell_type": "code",
   "execution_count": 6,
   "metadata": {},
   "outputs": [
    {
     "name": "stdout",
     "output_type": "stream",
     "text": [
      "10\n",
      "15\n",
      "20\n",
      "25\n",
      "30\n",
      "35\n"
     ]
    }
   ],
   "source": [
    "for x in range(10, 40, 5): # Start from 10, end at 40, increase by 5\n",
    "    print(x)"
   ]
  },
  {
   "cell_type": "markdown",
   "metadata": {},
   "source": [
    "## 17 - Flexible Number of Arguments"
   ]
  },
  {
   "cell_type": "code",
   "execution_count": 7,
   "metadata": {},
   "outputs": [
    {
     "name": "stdout",
     "output_type": "stream",
     "text": [
      "3\n",
      "35\n",
      "5499\n"
     ]
    }
   ],
   "source": [
    "def add_numbers(*args): # The number of arguments can be any number\n",
    "    total = 0\n",
    "    for a in args:\n",
    "        total += a\n",
    "    print(total)\n",
    "\n",
    "\n",
    "add_numbers(3)\n",
    "add_numbers(3, 32)\n",
    "add_numbers(3, 43, 5453)"
   ]
  },
  {
   "cell_type": "markdown",
   "metadata": {},
   "source": [
    "## 18 - Unpacking Arguments"
   ]
  },
  {
   "cell_type": "code",
   "execution_count": 8,
   "metadata": {},
   "outputs": [
    {
     "name": "stdout",
     "output_type": "stream",
     "text": [
      "143.0\n"
     ]
    }
   ],
   "source": [
    "def health_calculator(age, apples_ate, cigs_smoked):\n",
    "    answer = (100 - age) + (apples_ate * 3.5) - (cigs_smoked * 2)\n",
    "    print(answer)\n",
    "\n",
    "\n",
    "buckys_data = [27, 20, 0]\n",
    "health_calculator(*buckys_data) # It is like getting the value of a pointer."
   ]
  },
  {
   "cell_type": "markdown",
   "metadata": {},
   "source": [
    "## 19 - My trip to Walmart and Sets"
   ]
  },
  {
   "cell_type": "code",
   "execution_count": 9,
   "metadata": {},
   "outputs": [
    {
     "name": "stdout",
     "output_type": "stream",
     "text": [
      "{'lotion', 'duct tape', 'starcrunch', 'cereal', 'milk', 'beer'}\n"
     ]
    }
   ],
   "source": [
    "groceries = {'cereal', 'milk', 'starcrunch', 'beer', 'duct tape', 'lotion', 'beer'}\n",
    "print(groceries) # It only print 'beer' once, because groceries is a set."
   ]
  },
  {
   "cell_type": "code",
   "execution_count": 10,
   "metadata": {},
   "outputs": [
    {
     "name": "stdout",
     "output_type": "stream",
     "text": [
      "You already have milk boss!\n"
     ]
    }
   ],
   "source": [
    "if 'milk' in groceries: # Using \"in\" to check if a item in a list or set.\n",
    "    print(\"You already have milk boss!\")"
   ]
  },
  {
   "cell_type": "markdown",
   "metadata": {},
   "source": [
    "## 20 - Dictionary"
   ]
  },
  {
   "cell_type": "code",
   "execution_count": 11,
   "metadata": {},
   "outputs": [
    {
     "name": "stdout",
     "output_type": "stream",
     "text": [
      "Tony cool but smells\n",
      "Emma sits behind me\n",
      "Lucy asks too many questions\n"
     ]
    }
   ],
   "source": [
    "classmates = {'Tony': ' cool but smells',\n",
    "              'Emma': ' sits behind me',\n",
    "              'Lucy': ' asks too many questions'}\n",
    "\n",
    "for k, v in classmates.items(): # It is important to have \"items()\".\n",
    "    print(k + v) # Add two strings together."
   ]
  },
  {
   "cell_type": "markdown",
   "metadata": {},
   "source": [
    "## 21 - Modules"
   ]
  },
  {
   "cell_type": "code",
   "execution_count": 12,
   "metadata": {},
   "outputs": [
    {
     "name": "stdout",
     "output_type": "stream",
     "text": [
      "345\n"
     ]
    }
   ],
   "source": [
    "import random\n",
    "\n",
    "\n",
    "# It is import to include \"random.\", so it knows the function \"randrange\" comes from\n",
    "# which modules.\n",
    "x = random.randrange(1, 1000)\n",
    "print(x)"
   ]
  },
  {
   "cell_type": "markdown",
   "metadata": {},
   "source": [
    "## 22 - Download an Image from the Web"
   ]
  },
  {
   "cell_type": "code",
   "execution_count": 13,
   "metadata": {},
   "outputs": [],
   "source": [
    "import random\n",
    "import urllib.request\n",
    "\n",
    "\n",
    "def download_web_image(url):\n",
    "    # name = random.randrange(1, 1000)           # Generate a random number\n",
    "    # full_name = str(name) + \".jpg\"             # Create a new name for picture\n",
    "    full_name = \"kobe.jpg\"\n",
    "    urllib.request.urlretrieve(url, full_name) # Download the picture and rename it\n",
    "\n",
    "\n",
    "download_web_image(\"https://ca-times.brightspotcdn.com/dims4/default/9d98558/2147483647/strip/\"\n",
    "                   \"true/crop/1578x2048+0+0/resize/840x1090!/quality/90/?url=https%3A%2F%2Fcal\"\n",
    "                   \"ifornia-times-brightspot.s3.amazonaws.com%2F4d%2Fbb%2Fc9d40d98a3df7ed024e7\"\n",
    "                   \"9b533b5d%2Flat-kobe-la0007948593-20130117\")"
   ]
  },
  {
   "cell_type": "code",
   "execution_count": 14,
   "metadata": {},
   "outputs": [],
   "source": [
    "import os\n",
    "\n",
    "\n",
    "if os.path.exists(\"kobe.jpg\"):\n",
    "    os.remove(\"kobe.jpg\")\n",
    "else:\n",
    "    print(\"The file does not exist\")"
   ]
  },
  {
   "cell_type": "markdown",
   "metadata": {},
   "source": [
    "## 23 - How to Read and Write Files"
   ]
  },
  {
   "cell_type": "code",
   "execution_count": 15,
   "metadata": {},
   "outputs": [
    {
     "name": "stdout",
     "output_type": "stream",
     "text": [
      "Writing some stuff in my text file\n",
      "I like bacon\n",
      "\n"
     ]
    }
   ],
   "source": [
    "fw = open('sample.txt', 'w') # \"w\" means write\n",
    "fw.write('Writing some stuff in my text file\\n') # \"\\n\" means new line\n",
    "fw.write('I like bacon\\n')\n",
    "fw.close() # Remember to close the file\n",
    "\n",
    "fr = open('sample.txt', 'r') # \"r\" means read\n",
    "text = fr.read() # read all characters into text\n",
    "print(text)\n",
    "fr.close() # Remember to close the file"
   ]
  },
  {
   "cell_type": "code",
   "execution_count": 16,
   "metadata": {},
   "outputs": [],
   "source": [
    "import os\n",
    "\n",
    "\n",
    "if os.path.exists('sample.txt'):\n",
    "    os.remove(\"sample.txt\")\n",
    "else:\n",
    "    print(\"The file does not exist\")"
   ]
  },
  {
   "cell_type": "markdown",
   "metadata": {},
   "source": [
    "## 24 - Downloading Files from the Web"
   ]
  },
  {
   "cell_type": "code",
   "execution_count": 17,
   "metadata": {},
   "outputs": [],
   "source": [
    "from urllib import request\n",
    "\n",
    "\n",
    "goog_url = \"https://www.alphavantage.co/query?function=TIME_SERIES_DAILY_ADJUSTED&\" \\\n",
    "           \"symbol=MSFT&apikey=demo&datatype=csv\"\n",
    "\n",
    "\n",
    "def download_stock_data(csv_url):\n",
    "    response = request.urlopen(csv_url)\n",
    "    csv = response.read()\n",
    "    csv_str = str(csv)\n",
    "    lines = csv_str.split(\"\\\\r\\\\n\") # \"split\" is a good function\n",
    "    fw = open(r\"google.csv\", 'w')\n",
    "    for line in lines:\n",
    "        fw.write(line + \"\\n\")\n",
    "    fw.close()\n",
    "\n",
    "\n",
    "download_stock_data(goog_url)"
   ]
  },
  {
   "cell_type": "code",
   "execution_count": 18,
   "metadata": {},
   "outputs": [],
   "source": [
    "import os\n",
    "\n",
    "\n",
    "if os.path.exists(\"google.csv\"):\n",
    "    os.remove(\"google.csv\")\n",
    "else:\n",
    "    print(\"The file does not exist\")"
   ]
  },
  {
   "cell_type": "markdown",
   "metadata": {},
   "source": [
    "## 28 - You are the only Exception"
   ]
  },
  {
   "cell_type": "code",
   "execution_count": 19,
   "metadata": {},
   "outputs": [
    {
     "name": "stdout",
     "output_type": "stream",
     "text": [
      "What's your fav number?\n",
      "0\n",
      "Don't pick zero\n",
      "======================================\n",
      "What's your fav number?\n",
      "test\n",
      "Make sure and enter a number.\n",
      "======================================\n",
      "What's your fav number?\n",
      "12\n",
      "1.5\n",
      "======================================\n"
     ]
    }
   ],
   "source": [
    "while True:\n",
    "    try:\n",
    "        number = int(input(\"What's your fav number?\\n\"))\n",
    "        print(18/number)\n",
    "        break\n",
    "    except ValueError:\n",
    "        print(\"Make sure and enter a number.\")\n",
    "    except ZeroDivisionError:\n",
    "        print(\"Don't pick zero\")\n",
    "    finally:\n",
    "        print(\"======================================\")"
   ]
  },
  {
   "cell_type": "markdown",
   "metadata": {},
   "source": [
    "## 29 - Classes and Objects"
   ]
  },
  {
   "cell_type": "code",
   "execution_count": 20,
   "metadata": {},
   "outputs": [
    {
     "name": "stdout",
     "output_type": "stream",
     "text": [
      "ouch!\n",
      "2 life left\n"
     ]
    }
   ],
   "source": [
    "class Enemy: # class name with capital letter\n",
    "    life = 3\n",
    "\n",
    "    def attack(self):\n",
    "        print(\"ouch!\")\n",
    "        self.life -= 1\n",
    "\n",
    "    def check_life(self):\n",
    "        if self.life <= 0:\n",
    "            print(\"I am dead\")\n",
    "        else:\n",
    "            print(str(self.life) + \" life left\")\n",
    "\n",
    "\n",
    "enemy1 = Enemy()\n",
    "enemy1.attack()\n",
    "enemy1.check_life()"
   ]
  },
  {
   "cell_type": "markdown",
   "metadata": {},
   "source": [
    "## 30 - init"
   ]
  },
  {
   "cell_type": "code",
   "execution_count": 21,
   "metadata": {},
   "outputs": [
    {
     "name": "stdout",
     "output_type": "stream",
     "text": [
      "5\n",
      "18\n"
     ]
    }
   ],
   "source": [
    "class Enemy:\n",
    "    def __init__(self, x = 5):\n",
    "        self.energy = x\n",
    "    \n",
    "    def get_energy(self):\n",
    "        print(self.energy)\n",
    "\n",
    "\n",
    "jason = Enemy()\n",
    "sandy = Enemy(18)\n",
    "\n",
    "jason.get_energy()\n",
    "sandy.get_energy()"
   ]
  },
  {
   "cell_type": "markdown",
   "metadata": {},
   "source": [
    "## 32 - Inheritance"
   ]
  },
  {
   "cell_type": "code",
   "execution_count": 22,
   "metadata": {},
   "outputs": [
    {
     "name": "stdout",
     "output_type": "stream",
     "text": [
      "Bucky\n",
      "Roberts\n"
     ]
    }
   ],
   "source": [
    "class Parent():\n",
    "    \n",
    "    def print_last_name(self):\n",
    "        print('Roberts')\n",
    "    \n",
    "    \n",
    "class Child(Parent):\n",
    "    \n",
    "    def print_first_name(self):\n",
    "        print('Bucky')\n",
    "\n",
    "\n",
    "bucky = Child()\n",
    "bucky.print_first_name()\n",
    "bucky.print_last_name()"
   ]
  },
  {
   "cell_type": "markdown",
   "metadata": {},
   "source": [
    "## 33 - Multiple Inheritance"
   ]
  },
  {
   "cell_type": "code",
   "execution_count": 23,
   "metadata": {},
   "outputs": [
    {
     "name": "stdout",
     "output_type": "stream",
     "text": [
      "I am moving!\n",
      "Now I am big!\n"
     ]
    }
   ],
   "source": [
    "class Mario():\n",
    "\n",
    "    def move(self):\n",
    "        print('I am moving!')\n",
    "\n",
    "\n",
    "class Shroom():\n",
    "\n",
    "    def move(self):\n",
    "        print('I am Shroom moving!')\n",
    "    \n",
    "    \n",
    "    def eat_shroom(self):\n",
    "        print('Now I am big!')\n",
    "\n",
    "\n",
    "class BigMario(Mario, Shroom):\n",
    "    pass # Don't want to have anything\n",
    "\n",
    "\n",
    "bm = BigMario()\n",
    "bm.move() # Use the the move function in Mario\n",
    "bm.eat_shroom()"
   ]
  },
  {
   "cell_type": "markdown",
   "metadata": {},
   "source": [
    "## 34 - Threading"
   ]
  },
  {
   "cell_type": "code",
   "execution_count": 24,
   "metadata": {},
   "outputs": [
    {
     "name": "stdout",
     "output_type": "stream",
     "text": [
      "Send out messagesReceive messages\n",
      "Send out messages\n",
      "Send out messages\n",
      "Send out messages\n",
      "Send out messages\n",
      "Send out messages\n",
      "Send out messages\n",
      "Send out messages\n",
      "Send out messages\n",
      "\n",
      "Receive messages\n",
      "Receive messages\n",
      "Receive messages\n",
      "Receive messages\n",
      "Receive messages\n",
      "Receive messages\n",
      "Receive messages\n",
      "Receive messages\n"
     ]
    }
   ],
   "source": [
    "import threading\n",
    "\n",
    "\n",
    "class BucksMessagers(threading.Thread):\n",
    "    def run(self):\n",
    "        for _ in range(1, 10): # Run 10 times, no care about the index name\n",
    "            print(threading.current_thread().getName())\n",
    "\n",
    "\n",
    "x = BucksMessagers(name='Send out messages')\n",
    "y = BucksMessagers(name='Receive messages')\n",
    "x.start()\n",
    "y.start()"
   ]
  },
  {
   "cell_type": "markdown",
   "metadata": {},
   "source": [
    "## 38 - Unpack List or Tuples"
   ]
  },
  {
   "cell_type": "code",
   "execution_count": 25,
   "metadata": {},
   "outputs": [
    {
     "name": "stdout",
     "output_type": "stream",
     "text": [
      "Bread Gloves\n"
     ]
    }
   ],
   "source": [
    "date, name, price = ['December 23, 2015', 'Bread Gloves', 8.51] # Create names and variables in one line\n",
    "print(name)"
   ]
  },
  {
   "cell_type": "code",
   "execution_count": 26,
   "metadata": {},
   "outputs": [
    {
     "name": "stdout",
     "output_type": "stream",
     "text": [
      "76.0\n",
      "76.0\n"
     ]
    }
   ],
   "source": [
    "def drop_fist_last(grades):\n",
    "    first, *middle, last = grades # There is a * in front of middle. So, middle = [76, 98, 54] in the list.\n",
    "    avg = sum(middle) / len(middle)\n",
    "    print(avg)\n",
    "\n",
    "\n",
    "drop_fist_last([65, 76, 98, 54, 21])\n",
    "print((76 + 98 + 54) / 3)"
   ]
  },
  {
   "cell_type": "markdown",
   "metadata": {},
   "source": [
    "## 39 - Zip (and yeast infection story)"
   ]
  },
  {
   "cell_type": "code",
   "execution_count": 27,
   "metadata": {},
   "outputs": [
    {
     "name": "stdout",
     "output_type": "stream",
     "text": [
      "Bucky Roberts\n",
      "Tom Hanks\n",
      "Taylor Swift\n"
     ]
    }
   ],
   "source": [
    "first = ['Bucky', 'Tom', 'Taylor']\n",
    "last = ['Roberts', 'Hanks', 'Swift']\n",
    "\n",
    "for a, b in zip(first, last):\n",
    "    print(a, b)"
   ]
  },
  {
   "cell_type": "markdown",
   "metadata": {},
   "source": [
    "## 40 - Lambda"
   ]
  },
  {
   "cell_type": "code",
   "execution_count": 28,
   "metadata": {},
   "outputs": [
    {
     "name": "stdout",
     "output_type": "stream",
     "text": [
      "35\n"
     ]
    }
   ],
   "source": [
    "answer = lambda x: x * 7 # It is a function that you only want to use once.\n",
    "print(answer(5))"
   ]
  },
  {
   "cell_type": "markdown",
   "metadata": {},
   "source": [
    "## 41 - Min, Max, and Sorting Dictionaries"
   ]
  },
  {
   "cell_type": "code",
   "execution_count": 29,
   "metadata": {},
   "outputs": [
    {
     "name": "stdout",
     "output_type": "stream",
     "text": [
      "(39.28, 'YHOO')\n",
      "(520.54, 'GOOG')\n",
      "[(39.28, 'YHOO'), (76.45, 'FB'), (99.76, 'AAPL'), (306.21, 'AMZN'), (520.54, 'GOOG')]\n"
     ]
    }
   ],
   "source": [
    "stocks = {\n",
    "    'GOOG': 520.54,\n",
    "    'FB': 76.45,\n",
    "    'YHOO': 39.28,\n",
    "    'AMZN': 306.21,\n",
    "    'AAPL': 99.76,\n",
    "}\n",
    "\n",
    "print(min(zip(stocks.values(), stocks.keys()))) # The values have to be the first variable of zip.\n",
    "print(max(zip(stocks.values(), stocks.keys())))\n",
    "print(sorted(zip(stocks.values(), stocks.keys())))"
   ]
  },
  {
   "cell_type": "markdown",
   "metadata": {},
   "source": [
    "## 50 - map"
   ]
  },
  {
   "cell_type": "code",
   "execution_count": 30,
   "metadata": {},
   "outputs": [
    {
     "name": "stdout",
     "output_type": "stream",
     "text": [
      "20 60 150\n",
      "[20, 60, 150]\n",
      "[20, 60, 150]\n"
     ]
    }
   ],
   "source": [
    "income = [10, 30, 75]\n",
    "\n",
    "\n",
    "def double_money(dollars):\n",
    "    return dollars * 2\n",
    "\n",
    "\n",
    "new_income = map(double_money, income) # Return a list of results.\n",
    "print(*new_income)\n",
    "\n",
    "new_income = list(map(double_money, income)) # Using list to combine all variables.\n",
    "print(new_income)\n",
    "\n",
    "new_income = list(map(lambda x: x * 2, income))\n",
    "print(new_income)"
   ]
  },
  {
   "cell_type": "markdown",
   "metadata": {},
   "source": [
    "## 51 - Bitwise Operators"
   ]
  },
  {
   "cell_type": "code",
   "execution_count": 31,
   "metadata": {},
   "outputs": [
    {
     "name": "stdout",
     "output_type": "stream",
     "text": [
      "16\n"
     ]
    }
   ],
   "source": [
    "# Binary AND\n",
    "a = 50    # 110010\n",
    "b = 25    # 011001\n",
    "c = a & b # 010000\n",
    "print(c)"
   ]
  },
  {
   "cell_type": "code",
   "execution_count": 32,
   "metadata": {},
   "outputs": [
    {
     "name": "stdout",
     "output_type": "stream",
     "text": [
      "60\n"
     ]
    }
   ],
   "source": [
    "# Binary Right Shift\n",
    "x = 240       # 11110000\n",
    "print(x >> 2) # 00111100"
   ]
  },
  {
   "cell_type": "markdown",
   "metadata": {},
   "source": [
    "## 52 - Finding Largest or Smallest Items"
   ]
  },
  {
   "cell_type": "code",
   "execution_count": 33,
   "metadata": {},
   "outputs": [
    {
     "name": "stdout",
     "output_type": "stream",
     "text": [
      "[654, 532, 99]\n",
      "[{'ticker': 'F', 'price': 54}, {'ticker': 'TUNA', 'price': 68}]\n"
     ]
    }
   ],
   "source": [
    "import heapq\n",
    "\n",
    "\n",
    "grades = [32, 43, 654, 34, 31, 66, 99, 532]\n",
    "print(heapq.nlargest(3, grades))\n",
    "\n",
    "stocks = [\n",
    "    {'ticker': 'AAPL', 'price': 201},\n",
    "    {'ticker': 'GOOG', 'price': 800},\n",
    "    {'ticker': 'F',    'price': 54},\n",
    "    {'ticker': 'MSFT', 'price': 313},\n",
    "    {'ticker': 'TUNA', 'price': 68},\n",
    "]\n",
    "print(heapq.nsmallest(2, stocks, key=lambda stock: stock['price']))"
   ]
  },
  {
   "cell_type": "markdown",
   "metadata": {},
   "source": [
    "## 54 - Finding Most Frequent Items"
   ]
  },
  {
   "cell_type": "code",
   "execution_count": 34,
   "metadata": {},
   "outputs": [
    {
     "name": "stdout",
     "output_type": "stream",
     "text": [
      "[('the', 5), ('to', 4), ('that', 3)]\n"
     ]
    }
   ],
   "source": [
    "from collections import Counter\n",
    "\n",
    "\n",
    "text = \"We hope to one day become the world's leader in free, educational resources. We are constantly \" \\\n",
    "       \"discovering and adding more free content to the website everyday. There is already an enormous \" \\\n",
    "       \"amount of resources online that can be accessed for free by anyone in the world, the main issue \" \\\n",
    "       \"right now is that very little of it is organized or structured in any way. We want to be the \" \\\n",
    "       \"solution to that problem.\"\n",
    "\n",
    "words = text.split()\n",
    "counter = Counter(words)\n",
    "top_three = counter.most_common(3)\n",
    "print(top_three)"
   ]
  },
  {
   "cell_type": "markdown",
   "metadata": {},
   "source": [
    "## 55 - Dictionary Multiple Key Sort"
   ]
  },
  {
   "cell_type": "code",
   "execution_count": 35,
   "metadata": {},
   "outputs": [
    {
     "name": "stdout",
     "output_type": "stream",
     "text": [
      "{'lname': 'Roberts', 'fname': 'Amanda'}\n",
      "{'lname': 'Barbie', 'fname': 'Bernie'}\n",
      "{'lname': 'Zunks', 'fname': 'Bernie'}\n",
      "{'lname': 'Roberts', 'fname': 'Bucky'}\n",
      "{'lname': 'Hayes', 'fname': 'Dean'}\n",
      "{'lname': 'Hayes', 'fname': 'Jenna'}\n",
      "{'lname': 'Jones', 'fname': 'Sally'}\n",
      "{'lname': 'Jones', 'fname': 'Tom'}\n",
      "{'lname': 'Roberts', 'fname': 'Tom'}\n",
      "{'lname': 'Williams', 'fname': 'Tom'}\n"
     ]
    }
   ],
   "source": [
    "from operator import itemgetter\n",
    "\n",
    "\n",
    "users = [\n",
    "    {'fname': 'Bucky', 'lname': 'Roberts'},\n",
    "    {'fname': 'Tom', 'lname': 'Roberts'},\n",
    "    {'fname': 'Bernie', 'lname': 'Zunks'},\n",
    "    {'fname': 'Jenna', 'lname': 'Hayes'},\n",
    "    {'fname': 'Sally', 'lname': 'Jones'},\n",
    "    {'fname': 'Amanda', 'lname': 'Roberts'},\n",
    "    {'fname': 'Tom', 'lname': 'Williams'},\n",
    "    {'fname': 'Dean', 'lname': 'Hayes'},\n",
    "    {'fname': 'Bernie', 'lname': 'Barbie'},\n",
    "    {'fname': 'Tom', 'lname': 'Jones'}\n",
    "]\n",
    "for x in sorted(users, key=itemgetter('fname', 'lname')): # Sort by fname first, then lname\n",
    "    print(x)"
   ]
  },
  {
   "cell_type": "markdown",
   "metadata": {},
   "source": [
    "## 56 - Sorting Custom Objects"
   ]
  },
  {
   "cell_type": "code",
   "execution_count": 36,
   "metadata": {},
   "outputs": [
    {
     "name": "stdout",
     "output_type": "stream",
     "text": [
      "Amanda:9\n",
      "Brian:2\n",
      "Bucky:43\n",
      "Joby:77\n",
      "Sally:5\n",
      "Tuna:61\n"
     ]
    }
   ],
   "source": [
    "from operator import attrgetter\n",
    "\n",
    "\n",
    "class User:\n",
    "    def __init__(self, x, y):\n",
    "        self.name = x\n",
    "        self.user_id = y\n",
    "\n",
    "    # It is used to compute the \"official\" string representation of an object.\n",
    "    # The repr() built-in function uses __repr__() to display the object.\n",
    "    def __repr__(self):\n",
    "        return self.name + \":\" + str(self.user_id)\n",
    "\n",
    "\n",
    "users = [\n",
    "    User('Bucky', 43),\n",
    "    User('Sally', 5),\n",
    "    User('Tuna', 61),\n",
    "    User('Brian', 2),\n",
    "    User('Joby', 77),\n",
    "    User('Amanda', 9),\n",
    "]\n",
    "for user in sorted(users, key=attrgetter('name')):\n",
    "    print(user)"
   ]
  }
 ],
 "metadata": {
  "kernelspec": {
   "display_name": "Python 3",
   "language": "python",
   "name": "python3"
  },
  "language_info": {
   "codemirror_mode": {
    "name": "ipython",
    "version": 3
   },
   "file_extension": ".py",
   "mimetype": "text/x-python",
   "name": "python",
   "nbconvert_exporter": "python",
   "pygments_lexer": "ipython3",
   "version": "3.5.1"
  }
 },
 "nbformat": 4,
 "nbformat_minor": 2
}
