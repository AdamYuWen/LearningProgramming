{
 "cells": [
  {
   "cell_type": "markdown",
   "metadata": {},
   "source": [
    "# Notes for YouTube Python Tutorials\n",
    "## Automate Microsoft Excel with xlwings in Python\n",
    "https://m.youtube.com/watch?v=5iyL9tMw8vA&list=PL3JVwFmb_BnTPmU9Vax-Q1u2CQ9QbFmiJ&index=2&t=0s"
   ]
  },
  {
   "cell_type": "code",
   "execution_count": 1,
   "metadata": {},
   "outputs": [],
   "source": [
    "import xlwings as xw"
   ]
  },
  {
   "cell_type": "markdown",
   "metadata": {},
   "source": [
    "## Automate Excel with Python and xlwings Part 1: Install xlwings and the basic"
   ]
  },
  {
   "cell_type": "code",
   "execution_count": 2,
   "metadata": {},
   "outputs": [],
   "source": [
    "# Create interactive workbook\n",
    "wb = xw.Book()"
   ]
  },
  {
   "cell_type": "code",
   "execution_count": 3,
   "metadata": {},
   "outputs": [],
   "source": [
    "# Add a worksheet\n",
    "wb.sheets.add('Tab1')\n",
    "\n",
    "# Edit in the worksheet\n",
    "ws = wb.sheets['Tab1']\n",
    "ws.range('A1').value = 'Hello There'\n",
    "ws.range('A2:E20').value = 100"
   ]
  },
  {
   "cell_type": "code",
   "execution_count": 4,
   "metadata": {},
   "outputs": [],
   "source": [
    "# Clear contents\n",
    "ws.cells.clear_contents()"
   ]
  },
  {
   "cell_type": "code",
   "execution_count": 5,
   "metadata": {},
   "outputs": [],
   "source": [
    "# Use row and column index to edit\n",
    "ws.cells(1, 1).value = 100\n",
    "ws.cells(1, 'B').value = 200"
   ]
  },
  {
   "cell_type": "code",
   "execution_count": 6,
   "metadata": {},
   "outputs": [],
   "source": [
    "# Clear a single cell\n",
    "ws.cells(1, 2).clear_contents()"
   ]
  },
  {
   "cell_type": "code",
   "execution_count": 7,
   "metadata": {},
   "outputs": [],
   "source": [
    "# Create table\n",
    "ws.range('A3').value = [['Col A', 'Col B'], [10, 20], [30, 40]]"
   ]
  },
  {
   "cell_type": "code",
   "execution_count": 8,
   "metadata": {},
   "outputs": [
    {
     "data": {
      "text/plain": [
       "[['Col A', 'Col B'], [10.0, 20.0], [30.0, 40.0]]"
      ]
     },
     "execution_count": 8,
     "metadata": {},
     "output_type": "execute_result"
    }
   ],
   "source": [
    "# Read table\n",
    "ws.range('A3').expand().value"
   ]
  },
  {
   "cell_type": "code",
   "execution_count": 9,
   "metadata": {},
   "outputs": [],
   "source": [
    "# Create a horizontal vector\n",
    "ws.range('A7').value = [100, 200, 300, 400, 500]"
   ]
  },
  {
   "cell_type": "code",
   "execution_count": 10,
   "metadata": {},
   "outputs": [],
   "source": [
    "# Create a vertical vector\n",
    "ws.range('A9').options(transpose=True).value = [100, 200, 300, 400, 500]"
   ]
  },
  {
   "cell_type": "code",
   "execution_count": 11,
   "metadata": {},
   "outputs": [
    {
     "data": {
      "text/plain": [
       "100.0"
      ]
     },
     "execution_count": 11,
     "metadata": {},
     "output_type": "execute_result"
    }
   ],
   "source": [
    "# Read values\n",
    "ws.range('A1').value"
   ]
  },
  {
   "cell_type": "markdown",
   "metadata": {},
   "source": [
    "## Automate Excel with Python and xlwings Part 2: Run Python Function in Excel"
   ]
  },
  {
   "cell_type": "markdown",
   "metadata": {},
   "source": [
    "Use xlsm or Add-in function"
   ]
  },
  {
   "cell_type": "markdown",
   "metadata": {},
   "source": [
    "## Automate Excel with Python and xlwings Part 3: Options and Default Converters"
   ]
  },
  {
   "cell_type": "code",
   "execution_count": 12,
   "metadata": {},
   "outputs": [],
   "source": [
    "ws.clear_contents()"
   ]
  },
  {
   "cell_type": "markdown",
   "metadata": {},
   "source": [
    "### ndim"
   ]
  },
  {
   "cell_type": "code",
   "execution_count": 13,
   "metadata": {},
   "outputs": [
    {
     "data": {
      "text/plain": [
       "[100.0, 300.0]"
      ]
     },
     "execution_count": 13,
     "metadata": {},
     "output_type": "execute_result"
    }
   ],
   "source": [
    "ws.range('A1').value = [[100, 200], [300, 400]]\n",
    "ws.range('A1:A2').options(ndim=1).value  # vector"
   ]
  },
  {
   "cell_type": "code",
   "execution_count": 14,
   "metadata": {},
   "outputs": [
    {
     "data": {
      "text/plain": [
       "[[100.0], [300.0]]"
      ]
     },
     "execution_count": 14,
     "metadata": {},
     "output_type": "execute_result"
    }
   ],
   "source": [
    "ws.range('A1:A2').options(ndim=2).value  # The original is a vertical vector."
   ]
  },
  {
   "cell_type": "code",
   "execution_count": 15,
   "metadata": {},
   "outputs": [
    {
     "data": {
      "text/plain": [
       "[[100.0, 200.0]]"
      ]
     },
     "execution_count": 15,
     "metadata": {},
     "output_type": "execute_result"
    }
   ],
   "source": [
    "ws.range('A1:B1').options(ndim=2).value  # The original is a horizontal vector."
   ]
  },
  {
   "cell_type": "markdown",
   "metadata": {},
   "source": [
    "### numbers"
   ]
  },
  {
   "cell_type": "code",
   "execution_count": 16,
   "metadata": {},
   "outputs": [
    {
     "data": {
      "text/plain": [
       "100.0"
      ]
     },
     "execution_count": 16,
     "metadata": {},
     "output_type": "execute_result"
    }
   ],
   "source": [
    "ws.range('A1').value  # By default, it is float."
   ]
  },
  {
   "cell_type": "code",
   "execution_count": 17,
   "metadata": {},
   "outputs": [
    {
     "data": {
      "text/plain": [
       "100"
      ]
     },
     "execution_count": 17,
     "metadata": {},
     "output_type": "execute_result"
    }
   ],
   "source": [
    "ws.range('A1').options(numbers=int).value  # Convert to int."
   ]
  },
  {
   "cell_type": "markdown",
   "metadata": {},
   "source": [
    "### dates"
   ]
  },
  {
   "cell_type": "code",
   "execution_count": 18,
   "metadata": {},
   "outputs": [
    {
     "name": "stdout",
     "output_type": "stream",
     "text": [
      "<class 'datetime.datetime'>\n",
      "2019-03-26 00:00:00\n"
     ]
    }
   ],
   "source": [
    "ws.cells(4, 1).value = '3/26/2019'  # It is date in Excel.\n",
    "print(type(ws.range('A4').value))  # By default, it is datetime.\n",
    "print(ws.range('A4').value)  # Date and time"
   ]
  },
  {
   "cell_type": "code",
   "execution_count": 19,
   "metadata": {},
   "outputs": [
    {
     "data": {
      "text/plain": [
       "datetime.date(2019, 3, 26)"
      ]
     },
     "execution_count": 19,
     "metadata": {},
     "output_type": "execute_result"
    }
   ],
   "source": [
    "import datetime as dt\n",
    "\n",
    "\n",
    "ws.range('A4').options(dates=dt.date).value  # Date only"
   ]
  },
  {
   "cell_type": "markdown",
   "metadata": {},
   "source": [
    "### empty"
   ]
  },
  {
   "cell_type": "code",
   "execution_count": 20,
   "metadata": {},
   "outputs": [
    {
     "data": {
      "text/plain": [
       "[100.0, None, 300.0]"
      ]
     },
     "execution_count": 20,
     "metadata": {},
     "output_type": "execute_result"
    }
   ],
   "source": [
    "ws.range('A6').value = [100, '',300]\n",
    "ws.range('A6:C6').value"
   ]
  },
  {
   "cell_type": "code",
   "execution_count": 21,
   "metadata": {},
   "outputs": [
    {
     "data": {
      "text/plain": [
       "[100.0, 'NA', 300.0]"
      ]
     },
     "execution_count": 21,
     "metadata": {},
     "output_type": "execute_result"
    }
   ],
   "source": [
    "ws.range('A6:C6').options(empty='NA').value"
   ]
  },
  {
   "cell_type": "markdown",
   "metadata": {},
   "source": [
    "### transpose"
   ]
  },
  {
   "cell_type": "code",
   "execution_count": 22,
   "metadata": {},
   "outputs": [],
   "source": [
    "ws.range('A8').options(transpose=True).value = [100, 200, 300]"
   ]
  },
  {
   "cell_type": "markdown",
   "metadata": {},
   "source": [
    "### expand"
   ]
  },
  {
   "cell_type": "code",
   "execution_count": 23,
   "metadata": {},
   "outputs": [
    {
     "name": "stdout",
     "output_type": "stream",
     "text": [
      "[[10.0, 20.0], [100.0, 200.0]]\n",
      "[[10.0, 20.0], [100.0, 200.0]]\n"
     ]
    }
   ],
   "source": [
    "ws.clear_contents()\n",
    "\n",
    "ws.range('A1').value = [[10, 20], [100, 200]]\n",
    "\n",
    "rng1 = ws.range('A1').expand()\n",
    "rng2 = ws.range('A1').options(expand='table')\n",
    "\n",
    "print(rng1.value)\n",
    "print(rng2.value)"
   ]
  },
  {
   "cell_type": "code",
   "execution_count": 24,
   "metadata": {},
   "outputs": [
    {
     "name": "stdout",
     "output_type": "stream",
     "text": [
      "[[10.0, 20.0], [100.0, 200.0]]\n",
      "[[10.0, 20.0], [100.0, 200.0], [1000.0, 2000.0]]\n"
     ]
    }
   ],
   "source": [
    "ws.range('A3').value = [1000, 2000]\n",
    "\n",
    "print(rng1.value)  # It is not expanded after adding more items.\n",
    "print(rng2.value)  # After adding more items into the table, it expanded."
   ]
  },
  {
   "cell_type": "markdown",
   "metadata": {},
   "source": [
    "## Automate Excel with Python and xlwings Part 4: Built-In Converters "
   ]
  },
  {
   "cell_type": "code",
   "execution_count": 25,
   "metadata": {},
   "outputs": [],
   "source": [
    "ws.clear_contents()\n",
    "\n",
    "\n",
    "import numpy as np\n",
    "import pandas as pd"
   ]
  },
  {
   "cell_type": "code",
   "execution_count": 26,
   "metadata": {},
   "outputs": [],
   "source": [
    "ws.range('A1').value = [['row 1', 10], ['row 2', 30]]\n",
    "ws.range('A4').value = [['Col A', 'Col B'], [100, 200]]"
   ]
  },
  {
   "cell_type": "code",
   "execution_count": 27,
   "metadata": {},
   "outputs": [
    {
     "data": {
      "text/plain": [
       "[['row 1', 10.0], ['row 2', 30.0]]"
      ]
     },
     "execution_count": 27,
     "metadata": {},
     "output_type": "execute_result"
    }
   ],
   "source": [
    "ws.range('A1:B2').value  # Read as a table."
   ]
  },
  {
   "cell_type": "code",
   "execution_count": 28,
   "metadata": {},
   "outputs": [
    {
     "data": {
      "text/plain": [
       "{'row 1': 10.0, 'row 2': 30.0}"
      ]
     },
     "execution_count": 28,
     "metadata": {},
     "output_type": "execute_result"
    }
   ],
   "source": [
    "# It ONLY works for a list of keys and a list of values.\n",
    "ws.range('A1:B2').options(dict).value  # Read as a dict."
   ]
  },
  {
   "cell_type": "code",
   "execution_count": 29,
   "metadata": {},
   "outputs": [
    {
     "data": {
      "text/plain": [
       "{'Col A': 100.0, 'Col B': 200.0}"
      ]
     },
     "execution_count": 29,
     "metadata": {},
     "output_type": "execute_result"
    }
   ],
   "source": [
    "# Combine dict and transpose\n",
    "ws.range('A4:B5').options(dict, transpose=True).value"
   ]
  },
  {
   "cell_type": "markdown",
   "metadata": {},
   "source": [
    "### Numpy Array Converter"
   ]
  },
  {
   "cell_type": "code",
   "execution_count": 30,
   "metadata": {},
   "outputs": [],
   "source": [
    "# Import np.array\n",
    "ws.clear_contents()\n",
    "\n",
    "array = np.array([10, 20, 30])\n",
    "ws.range('A1').value = array"
   ]
  },
  {
   "cell_type": "code",
   "execution_count": 31,
   "metadata": {},
   "outputs": [],
   "source": [
    "# Import np.array\n",
    "ws.clear_contents()\n",
    "\n",
    "array = np.array([10, 20, 30])\n",
    "ws.range('A1').options(transpose=True).value = array"
   ]
  },
  {
   "cell_type": "code",
   "execution_count": 32,
   "metadata": {},
   "outputs": [
    {
     "data": {
      "text/plain": [
       "array([10., 20., 30.])"
      ]
     },
     "execution_count": 32,
     "metadata": {},
     "output_type": "execute_result"
    }
   ],
   "source": [
    "# Read array. By default, ndim=1\n",
    "ws.range('A1').options(np.array, expand='table').value"
   ]
  },
  {
   "cell_type": "code",
   "execution_count": 33,
   "metadata": {},
   "outputs": [
    {
     "data": {
      "text/plain": [
       "array([[10.],\n",
       "       [20.],\n",
       "       [30.]])"
      ]
     },
     "execution_count": 33,
     "metadata": {},
     "output_type": "execute_result"
    }
   ],
   "source": [
    "# Read as two dimensions\n",
    "ws.range('A1').options(np.array, expand='table', ndim=2).value"
   ]
  },
  {
   "cell_type": "markdown",
   "metadata": {},
   "source": [
    "### Pandas series Converter"
   ]
  },
  {
   "cell_type": "code",
   "execution_count": 34,
   "metadata": {},
   "outputs": [],
   "source": [
    "ws.clear_contents()\n",
    "\n",
    "ws.range('A1').value = [['date', 'values'],\n",
    "                        ['3/23/2019', 100],\n",
    "                        ['3/24/2019', 200],\n",
    "                        ['3/25/2019', 300],\n",
    "                        ['3/26/2019', 400],\n",
    "                        ['3/27/2019', 500],\n",
    "                        ['3/28/2019', 600],\n",
    "                        ['3/29/2019', 700]]"
   ]
  },
  {
   "cell_type": "code",
   "execution_count": 35,
   "metadata": {},
   "outputs": [
    {
     "data": {
      "text/plain": [
       "[['date', 'values'],\n",
       " [datetime.datetime(2019, 3, 23, 0, 0), 100.0],\n",
       " [datetime.datetime(2019, 3, 24, 0, 0), 200.0],\n",
       " [datetime.datetime(2019, 3, 25, 0, 0), 300.0],\n",
       " [datetime.datetime(2019, 3, 26, 0, 0), 400.0],\n",
       " [datetime.datetime(2019, 3, 27, 0, 0), 500.0],\n",
       " [datetime.datetime(2019, 3, 28, 0, 0), 600.0],\n",
       " [datetime.datetime(2019, 3, 29, 0, 0), 700.0]]"
      ]
     },
     "execution_count": 35,
     "metadata": {},
     "output_type": "execute_result"
    }
   ],
   "source": [
    "# Default\n",
    "ws.range('A1').expand().value"
   ]
  },
  {
   "cell_type": "code",
   "execution_count": 36,
   "metadata": {},
   "outputs": [
    {
     "data": {
      "text/plain": [
       "date\n",
       "2019-03-23    100.0\n",
       "2019-03-24    200.0\n",
       "2019-03-25    300.0\n",
       "2019-03-26    400.0\n",
       "2019-03-27    500.0\n",
       "2019-03-28    600.0\n",
       "2019-03-29    700.0\n",
       "Name: values, dtype: float64"
      ]
     },
     "execution_count": 36,
     "metadata": {},
     "output_type": "execute_result"
    }
   ],
   "source": [
    "# Pandas Series\n",
    "ws.range('A1').options(pd.Series, expand='table').value"
   ]
  },
  {
   "cell_type": "code",
   "execution_count": 37,
   "metadata": {},
   "outputs": [
    {
     "data": {
      "text/html": [
       "<div>\n",
       "<style scoped>\n",
       "    .dataframe tbody tr th:only-of-type {\n",
       "        vertical-align: middle;\n",
       "    }\n",
       "\n",
       "    .dataframe tbody tr th {\n",
       "        vertical-align: top;\n",
       "    }\n",
       "\n",
       "    .dataframe thead th {\n",
       "        text-align: right;\n",
       "    }\n",
       "</style>\n",
       "<table border=\"1\" class=\"dataframe\">\n",
       "  <thead>\n",
       "    <tr style=\"text-align: right;\">\n",
       "      <th></th>\n",
       "      <th>date</th>\n",
       "      <th>values</th>\n",
       "    </tr>\n",
       "  </thead>\n",
       "  <tbody>\n",
       "    <tr>\n",
       "      <th>0</th>\n",
       "      <td>2019-03-23</td>\n",
       "      <td>100.0</td>\n",
       "    </tr>\n",
       "    <tr>\n",
       "      <th>1</th>\n",
       "      <td>2019-03-24</td>\n",
       "      <td>200.0</td>\n",
       "    </tr>\n",
       "    <tr>\n",
       "      <th>2</th>\n",
       "      <td>2019-03-25</td>\n",
       "      <td>300.0</td>\n",
       "    </tr>\n",
       "    <tr>\n",
       "      <th>3</th>\n",
       "      <td>2019-03-26</td>\n",
       "      <td>400.0</td>\n",
       "    </tr>\n",
       "    <tr>\n",
       "      <th>4</th>\n",
       "      <td>2019-03-27</td>\n",
       "      <td>500.0</td>\n",
       "    </tr>\n",
       "    <tr>\n",
       "      <th>5</th>\n",
       "      <td>2019-03-28</td>\n",
       "      <td>600.0</td>\n",
       "    </tr>\n",
       "    <tr>\n",
       "      <th>6</th>\n",
       "      <td>2019-03-29</td>\n",
       "      <td>700.0</td>\n",
       "    </tr>\n",
       "  </tbody>\n",
       "</table>\n",
       "</div>"
      ],
      "text/plain": [
       "        date  values\n",
       "0 2019-03-23   100.0\n",
       "1 2019-03-24   200.0\n",
       "2 2019-03-25   300.0\n",
       "3 2019-03-26   400.0\n",
       "4 2019-03-27   500.0\n",
       "5 2019-03-28   600.0\n",
       "6 2019-03-29   700.0"
      ]
     },
     "execution_count": 37,
     "metadata": {},
     "output_type": "execute_result"
    }
   ],
   "source": [
    "# Not use date as index and has header\n",
    "df = ws.range('A1').options(pd.Series, index=False, header=True, expand='table').value\n",
    "df"
   ]
  },
  {
   "cell_type": "code",
   "execution_count": 38,
   "metadata": {},
   "outputs": [],
   "source": [
    "ws.range('D1').value = df"
   ]
  },
  {
   "cell_type": "markdown",
   "metadata": {},
   "source": [
    "### Pandas DataFrame Converter"
   ]
  },
  {
   "cell_type": "code",
   "execution_count": 39,
   "metadata": {},
   "outputs": [],
   "source": [
    "ws.clear()  # It also clear data types.\n",
    "\n",
    "ws.range('A1').value = [['', 'col b', 'col c', 'col d'],\n",
    "                        ['index', 'date', 'values', 'color'],\n",
    "                        [30, '3/23/2019', 100, 'red'],\n",
    "                        [40, '3/24/2019', 200, 'red'],\n",
    "                        [50, '3/25/2019', 300, 'yellow'],\n",
    "                        [60, '3/26/2019', 400, 'yellow'],\n",
    "                        [70, '3/27/2019', 500, 'green'],\n",
    "                        [80, '3/28/2019', 600, 'green'],\n",
    "                        [90, '3/29/2019', 700, 'green']]"
   ]
  },
  {
   "cell_type": "code",
   "execution_count": 40,
   "metadata": {},
   "outputs": [
    {
     "data": {
      "text/html": [
       "<div>\n",
       "<style scoped>\n",
       "    .dataframe tbody tr th:only-of-type {\n",
       "        vertical-align: middle;\n",
       "    }\n",
       "\n",
       "    .dataframe tbody tr th {\n",
       "        vertical-align: top;\n",
       "    }\n",
       "\n",
       "    .dataframe thead th {\n",
       "        text-align: right;\n",
       "    }\n",
       "</style>\n",
       "<table border=\"1\" class=\"dataframe\">\n",
       "  <thead>\n",
       "    <tr style=\"text-align: right;\">\n",
       "      <th></th>\n",
       "      <th>col b</th>\n",
       "      <th>col c</th>\n",
       "      <th>col d</th>\n",
       "    </tr>\n",
       "  </thead>\n",
       "  <tbody>\n",
       "    <tr>\n",
       "      <th>index</th>\n",
       "      <td>date</td>\n",
       "      <td>values</td>\n",
       "      <td>color</td>\n",
       "    </tr>\n",
       "    <tr>\n",
       "      <th>30.0</th>\n",
       "      <td>2019-03-23 00:00:00</td>\n",
       "      <td>100</td>\n",
       "      <td>red</td>\n",
       "    </tr>\n",
       "    <tr>\n",
       "      <th>40.0</th>\n",
       "      <td>2019-03-24 00:00:00</td>\n",
       "      <td>200</td>\n",
       "      <td>red</td>\n",
       "    </tr>\n",
       "    <tr>\n",
       "      <th>50.0</th>\n",
       "      <td>2019-03-25 00:00:00</td>\n",
       "      <td>300</td>\n",
       "      <td>yellow</td>\n",
       "    </tr>\n",
       "    <tr>\n",
       "      <th>60.0</th>\n",
       "      <td>2019-03-26 00:00:00</td>\n",
       "      <td>400</td>\n",
       "      <td>yellow</td>\n",
       "    </tr>\n",
       "    <tr>\n",
       "      <th>70.0</th>\n",
       "      <td>2019-03-27 00:00:00</td>\n",
       "      <td>500</td>\n",
       "      <td>green</td>\n",
       "    </tr>\n",
       "    <tr>\n",
       "      <th>80.0</th>\n",
       "      <td>2019-03-28 00:00:00</td>\n",
       "      <td>600</td>\n",
       "      <td>green</td>\n",
       "    </tr>\n",
       "    <tr>\n",
       "      <th>90.0</th>\n",
       "      <td>2019-03-29 00:00:00</td>\n",
       "      <td>700</td>\n",
       "      <td>green</td>\n",
       "    </tr>\n",
       "  </tbody>\n",
       "</table>\n",
       "</div>"
      ],
      "text/plain": [
       "                     col b   col c   col d\n",
       "index                 date  values   color\n",
       "30.0   2019-03-23 00:00:00     100     red\n",
       "40.0   2019-03-24 00:00:00     200     red\n",
       "50.0   2019-03-25 00:00:00     300  yellow\n",
       "60.0   2019-03-26 00:00:00     400  yellow\n",
       "70.0   2019-03-27 00:00:00     500   green\n",
       "80.0   2019-03-28 00:00:00     600   green\n",
       "90.0   2019-03-29 00:00:00     700   green"
      ]
     },
     "execution_count": 40,
     "metadata": {},
     "output_type": "execute_result"
    }
   ],
   "source": [
    "df = ws.range('A1').options(pd.DataFrame, expand='table', header=1).value\n",
    "df"
   ]
  },
  {
   "cell_type": "code",
   "execution_count": 41,
   "metadata": {},
   "outputs": [
    {
     "data": {
      "text/html": [
       "<div>\n",
       "<style scoped>\n",
       "    .dataframe tbody tr th:only-of-type {\n",
       "        vertical-align: middle;\n",
       "    }\n",
       "\n",
       "    .dataframe tbody tr th {\n",
       "        vertical-align: top;\n",
       "    }\n",
       "\n",
       "    .dataframe thead tr th {\n",
       "        text-align: left;\n",
       "    }\n",
       "\n",
       "    .dataframe thead tr:last-of-type th {\n",
       "        text-align: right;\n",
       "    }\n",
       "</style>\n",
       "<table border=\"1\" class=\"dataframe\">\n",
       "  <thead>\n",
       "    <tr>\n",
       "      <th></th>\n",
       "      <th>col b</th>\n",
       "      <th>col c</th>\n",
       "      <th>col d</th>\n",
       "    </tr>\n",
       "    <tr>\n",
       "      <th></th>\n",
       "      <th>date</th>\n",
       "      <th>values</th>\n",
       "      <th>color</th>\n",
       "    </tr>\n",
       "    <tr>\n",
       "      <th>index</th>\n",
       "      <th></th>\n",
       "      <th></th>\n",
       "      <th></th>\n",
       "    </tr>\n",
       "  </thead>\n",
       "  <tbody>\n",
       "    <tr>\n",
       "      <th>30.0</th>\n",
       "      <td>2019-03-23</td>\n",
       "      <td>100.0</td>\n",
       "      <td>red</td>\n",
       "    </tr>\n",
       "    <tr>\n",
       "      <th>40.0</th>\n",
       "      <td>2019-03-24</td>\n",
       "      <td>200.0</td>\n",
       "      <td>red</td>\n",
       "    </tr>\n",
       "    <tr>\n",
       "      <th>50.0</th>\n",
       "      <td>2019-03-25</td>\n",
       "      <td>300.0</td>\n",
       "      <td>yellow</td>\n",
       "    </tr>\n",
       "    <tr>\n",
       "      <th>60.0</th>\n",
       "      <td>2019-03-26</td>\n",
       "      <td>400.0</td>\n",
       "      <td>yellow</td>\n",
       "    </tr>\n",
       "    <tr>\n",
       "      <th>70.0</th>\n",
       "      <td>2019-03-27</td>\n",
       "      <td>500.0</td>\n",
       "      <td>green</td>\n",
       "    </tr>\n",
       "    <tr>\n",
       "      <th>80.0</th>\n",
       "      <td>2019-03-28</td>\n",
       "      <td>600.0</td>\n",
       "      <td>green</td>\n",
       "    </tr>\n",
       "    <tr>\n",
       "      <th>90.0</th>\n",
       "      <td>2019-03-29</td>\n",
       "      <td>700.0</td>\n",
       "      <td>green</td>\n",
       "    </tr>\n",
       "  </tbody>\n",
       "</table>\n",
       "</div>"
      ],
      "text/plain": [
       "           col b  col c   col d\n",
       "            date values   color\n",
       "index                          \n",
       "30.0  2019-03-23  100.0     red\n",
       "40.0  2019-03-24  200.0     red\n",
       "50.0  2019-03-25  300.0  yellow\n",
       "60.0  2019-03-26  400.0  yellow\n",
       "70.0  2019-03-27  500.0   green\n",
       "80.0  2019-03-28  600.0   green\n",
       "90.0  2019-03-29  700.0   green"
      ]
     },
     "execution_count": 41,
     "metadata": {},
     "output_type": "execute_result"
    }
   ],
   "source": [
    "# The title is 'col b', not 'date'. 'date' is not in data.\n",
    "df = ws.range('A1').options(pd.DataFrame, expand='table', header=2).value\n",
    "df"
   ]
  },
  {
   "cell_type": "markdown",
   "metadata": {},
   "source": [
    "## Automate Excel with Python and xlwings Part 5: Access the Missing Features\n",
    "https://docs.microsoft.com/en-us/office/vba/api/excel.worksheet"
   ]
  },
  {
   "cell_type": "code",
   "execution_count": 42,
   "metadata": {},
   "outputs": [],
   "source": [
    "ws.clear()\n",
    "\n",
    "ws.range('A1').value = [['Position', 'Level', 'Salary'],\n",
    "                        ['Business Analyst', 1, 45000],\n",
    "                        ['Junior Consultant', 2, 50000],\n",
    "                        ['Senior Consultant', 3, 60000],\n",
    "                        ['Manager', 4, 80000],\n",
    "                        ['Country Manager', 5, 110000],\n",
    "                        ['Region Manager', 6, 150000],\n",
    "                        ['Partner', 7, 200000],\n",
    "                        ['Senior Partner', 8, 300000],\n",
    "                        ['C-level', 9, 500000],\n",
    "                        ['CEO', 10, 1000000]]"
   ]
  },
  {
   "cell_type": "code",
   "execution_count": 43,
   "metadata": {},
   "outputs": [
    {
     "name": "stdout",
     "output_type": "stream",
     "text": [
      "11\n",
      "3\n"
     ]
    }
   ],
   "source": [
    "# Get the last row and column\n",
    "last_row = ws.cells(ws.api.rows.count, 'A').end(-4162).row\n",
    "last_column = ws.cells(1, ws.api.columns.count).end(-4159).column\n",
    "\n",
    "print(last_row)\n",
    "print(last_column)"
   ]
  },
  {
   "cell_type": "code",
   "execution_count": 44,
   "metadata": {},
   "outputs": [
    {
     "data": {
      "text/plain": [
       "True"
      ]
     },
     "execution_count": 44,
     "metadata": {},
     "output_type": "execute_result"
    }
   ],
   "source": [
    "# Add filter in Excel\n",
    "ws.range(ws.cells(1, 1), ws.cells(last_row, last_column)).api.AutoFilter(3, \">=100000\")"
   ]
  },
  {
   "cell_type": "code",
   "execution_count": 45,
   "metadata": {},
   "outputs": [],
   "source": [
    "# Clear filter\n",
    "ws.api.ShowAllData()"
   ]
  },
  {
   "cell_type": "code",
   "execution_count": 46,
   "metadata": {},
   "outputs": [],
   "source": [
    "# Remove filter\n",
    "ws.api.AutoFilterMode = False"
   ]
  },
  {
   "cell_type": "code",
   "execution_count": 47,
   "metadata": {},
   "outputs": [],
   "source": [
    "# Change text to bold\n",
    "ws.range('C2:C' + str(last_row)).api.font.bold = True"
   ]
  },
  {
   "cell_type": "code",
   "execution_count": 48,
   "metadata": {},
   "outputs": [],
   "source": [
    "# Change font size\n",
    "ws.range('C2:C' + str(last_row)).api.font.size = 12"
   ]
  },
  {
   "cell_type": "code",
   "execution_count": 49,
   "metadata": {},
   "outputs": [],
   "source": [
    "# Change font size\n",
    "ws.range('A2:A' + str(last_row)).api.WrapText = True"
   ]
  },
  {
   "cell_type": "code",
   "execution_count": 50,
   "metadata": {},
   "outputs": [],
   "source": [
    "# wb.save('Python Data/xlwings_sample.xlsx')\n",
    "wb.close()"
   ]
  }
 ],
 "metadata": {
  "kernelspec": {
   "display_name": "Python 3",
   "language": "python",
   "name": "python3"
  },
  "language_info": {
   "codemirror_mode": {
    "name": "ipython",
    "version": 3
   },
   "file_extension": ".py",
   "mimetype": "text/x-python",
   "name": "python",
   "nbconvert_exporter": "python",
   "pygments_lexer": "ipython3",
   "version": "3.5.1"
  }
 },
 "nbformat": 4,
 "nbformat_minor": 2
}
