{
 "cells": [
  {
   "cell_type": "markdown",
   "metadata": {},
   "source": [
    "# Notes for YouTube Python Tutorials\n",
    "## Python GUI with Tkinter Playlist\n",
    "https://www.youtube.com/watch?v=RJB1Ek2Ko_Y&list=PL6gx4Cwl9DGBwibXFtPtflztSNPGuIB_d"
   ]
  },
  {
   "cell_type": "code",
   "execution_count": 1,
   "metadata": {},
   "outputs": [],
   "source": [
    "from tkinter import *"
   ]
  },
  {
   "cell_type": "markdown",
   "metadata": {},
   "source": [
    "## Python GUI with Tkinter - 1 - Introduction"
   ]
  },
  {
   "cell_type": "code",
   "execution_count": 2,
   "metadata": {},
   "outputs": [],
   "source": [
    "root = Tk() # Create a blank window\n",
    "\n",
    "the_label = Label(root, text='This is too easy')\n",
    "the_label.pack()\n",
    "\n",
    "root.mainloop() # Keep a loop to show the window"
   ]
  },
  {
   "cell_type": "markdown",
   "metadata": {},
   "source": [
    "## Python GUI with Tkinter - 2 - Organizing your Layout"
   ]
  },
  {
   "cell_type": "code",
   "execution_count": 3,
   "metadata": {},
   "outputs": [],
   "source": [
    "root = Tk()\n",
    "\n",
    "# A top and a bottom frame\n",
    "top_frame = Frame(root)\n",
    "top_frame.pack()\n",
    "bottom_frame = Frame(root)\n",
    "bottom_frame.pack(side=BOTTOM)\n",
    "\n",
    "# Four buttons, 3 in top frame and 1 in bottom frame\n",
    "button_1 = Button(top_frame, text='Button 1', fg='red')\n",
    "button_2 = Button(top_frame, text='Button 2', fg='blue')\n",
    "button_3 = Button(top_frame, text='Button 3', fg='green')\n",
    "button_4 = Button(bottom_frame, text='Button 4', fg='purple')\n",
    "\n",
    "button_1.pack(side=LEFT)\n",
    "button_2.pack(side=LEFT)\n",
    "button_3.pack(side=LEFT)\n",
    "button_4.pack(side=BOTTOM) # The side doesn't really matter, because it is the only one in buttom.\n",
    "\n",
    "root.mainloop()"
   ]
  },
  {
   "cell_type": "markdown",
   "metadata": {},
   "source": [
    "## Python GUI with Tkinter - 3 - Fitting Widgets in your Layout"
   ]
  },
  {
   "cell_type": "code",
   "execution_count": 4,
   "metadata": {},
   "outputs": [],
   "source": [
    "root = Tk()\n",
    "\n",
    "one = Label(root, text='One', bg='red', fg='white')\n",
    "one.pack() # Put in the middle and fill as need for the content\n",
    "two = Label(root, text='Two', bg='green', fg='black')\n",
    "two.pack(fill=X) # Fill as length as the window\n",
    "three = Label(root, text='Three', bg='blue', fg='white')\n",
    "three.pack(side=LEFT, fill=Y) # Put left and fill as height as the window\n",
    "\n",
    "root.mainloop()"
   ]
  },
  {
   "cell_type": "markdown",
   "metadata": {},
   "source": [
    "## Python GUI with Tkinter - 4 - Grid Layout"
   ]
  },
  {
   "cell_type": "code",
   "execution_count": 5,
   "metadata": {},
   "outputs": [],
   "source": [
    "root = Tk()\n",
    "\n",
    "label_1 = Label(root, text='Name')\n",
    "label_2 = Label(root, text='Password')\n",
    "\n",
    "entry_1 = Entry(root)\n",
    "entry_2 = Entry(root)\n",
    "\n",
    "label_1.grid(row=0)\n",
    "label_2.grid(row=1)\n",
    "\n",
    "entry_1.grid(row=0, column=1) # Grid of row and column\n",
    "entry_2.grid(row=1, column=1)\n",
    "\n",
    "root.mainloop()"
   ]
  },
  {
   "cell_type": "markdown",
   "metadata": {},
   "source": [
    "## Python GUI with Tkinter - 5 - More on the Grid Layout"
   ]
  },
  {
   "cell_type": "code",
   "execution_count": 6,
   "metadata": {},
   "outputs": [],
   "source": [
    "root = Tk()\n",
    "\n",
    "label_1 = Label(root, text='Name')\n",
    "label_2 = Label(root, text='Password')\n",
    "\n",
    "entry_1 = Entry(root)\n",
    "entry_2 = Entry(root)\n",
    "\n",
    "label_1.grid(row=0, sticky=E) # sticky to the east\n",
    "label_2.grid(row=1, sticky=E)\n",
    "\n",
    "entry_1.grid(row=0, column=1)\n",
    "entry_2.grid(row=1, column=1)\n",
    "\n",
    "# Add a checkbox\n",
    "c = Checkbutton(root, text='Keep me logged in')\n",
    "c.grid(columnspan=2) # Previously, there are 2 columns.\n",
    "\n",
    "root.mainloop()"
   ]
  },
  {
   "cell_type": "markdown",
   "metadata": {},
   "source": [
    "## Python GUI with Tkinter - 6 - Binding Functions to Layouts"
   ]
  },
  {
   "cell_type": "code",
   "execution_count": 7,
   "metadata": {},
   "outputs": [
    {
     "name": "stdout",
     "output_type": "stream",
     "text": [
      "Hello my name is Bucky!\n"
     ]
    }
   ],
   "source": [
    "def printName():\n",
    "    print('Hello my name is Bucky!')\n",
    "\n",
    "\n",
    "root = Tk()\n",
    "\n",
    "button_1 = Button(root, text='Print my name', command=printName) # No () after function name.\n",
    "button_1.pack()\n",
    "\n",
    "root.mainloop()"
   ]
  },
  {
   "cell_type": "code",
   "execution_count": 8,
   "metadata": {},
   "outputs": [
    {
     "name": "stdout",
     "output_type": "stream",
     "text": [
      "Hello my name is Bucky!\n",
      "Hello my name is Bucky!\n",
      "Hello my name is Bucky!\n"
     ]
    }
   ],
   "source": [
    "# Another way\n",
    "def printName(event):\n",
    "    print('Hello my name is Bucky!')\n",
    "\n",
    "\n",
    "root = Tk()\n",
    "\n",
    "button_1 = Button(root, text='Print my name')\n",
    "button_1.bind(\"<Button-1>\", printName) # <Button-1> is the left button on mouse.\n",
    "button_1.pack()\n",
    "\n",
    "root.mainloop()"
   ]
  },
  {
   "cell_type": "markdown",
   "metadata": {},
   "source": [
    "## Python GUI with Tkinter - 7 - Mouse Click Events"
   ]
  },
  {
   "cell_type": "code",
   "execution_count": 9,
   "metadata": {},
   "outputs": [
    {
     "name": "stdout",
     "output_type": "stream",
     "text": [
      "Left\n",
      "Middle\n",
      "Right\n"
     ]
    }
   ],
   "source": [
    "# The left button on mouse.\n",
    "def left_click(event):\n",
    "    print('Left')\n",
    "\n",
    "# The middle button on mouse.\n",
    "def middle_click(event):\n",
    "    print('Middle')\n",
    "\n",
    "# The right button on mouse.\n",
    "def right_click(event):\n",
    "    print('Right')\n",
    "\n",
    "\n",
    "root = Tk()\n",
    "\n",
    "frame = Frame(root, width=300, height=250)\n",
    "frame.bind('<Button-1>', left_click)\n",
    "frame.bind('<Button-2>', middle_click)\n",
    "frame.bind('<Button-3>', right_click)\n",
    "frame.pack()\n",
    "\n",
    "root.mainloop()"
   ]
  },
  {
   "cell_type": "markdown",
   "metadata": {},
   "source": [
    "## Python GUI with Tkinter - 8 - Using Classes"
   ]
  },
  {
   "cell_type": "code",
   "execution_count": 10,
   "metadata": {},
   "outputs": [
    {
     "name": "stdout",
     "output_type": "stream",
     "text": [
      "Wow, this actually worked!\n"
     ]
    }
   ],
   "source": [
    "class Buckys_Buttons:\n",
    "    \n",
    "    def __init__(self, master):\n",
    "        frame = Frame(master)\n",
    "        frame.pack()\n",
    "        \n",
    "        self.print_button = Button(frame, text='Print Message', command=self.print_message)\n",
    "        self.print_button.pack(side=LEFT)\n",
    "        # Doesn't work in notebook.\n",
    "        self.quit_button = Button(frame, text='Quit', command=frame.quit)\n",
    "        self.quit_button.pack(side=LEFT)\n",
    "    \n",
    "    def print_message(self):\n",
    "        print('Wow, this actually worked!')\n",
    "\n",
    "\n",
    "root = Tk()\n",
    "b = Buckys_Buttons(root)\n",
    "root.mainloop()"
   ]
  },
  {
   "cell_type": "markdown",
   "metadata": {},
   "source": [
    "## Python GUI with Tkinter - 9 - Creating Drop Down Menus"
   ]
  },
  {
   "cell_type": "code",
   "execution_count": 11,
   "metadata": {},
   "outputs": [
    {
     "name": "stdout",
     "output_type": "stream",
     "text": [
      "ok ok I won't...\n"
     ]
    }
   ],
   "source": [
    "def do_nothing():\n",
    "    print(\"ok ok I won't...\")\n",
    "\n",
    "\n",
    "root = Tk()\n",
    "\n",
    "menu = Menu(root)\n",
    "root.config(menu=menu)\n",
    "\n",
    "sub_menu = Menu(menu) # sub_menu goes in side of menu\n",
    "menu.add_cascade(label='File', menu=sub_menu) # Add drop downs.\n",
    "sub_menu.add_command(label='Now Project...', command=do_nothing)\n",
    "sub_menu.add_command(label='Now...', command=do_nothing)\n",
    "sub_menu.add_separator() # Add a separator line\n",
    "sub_menu.add_command(label='Exit', command=do_nothing)\n",
    "\n",
    "edit_menu = Menu(menu)\n",
    "menu.add_cascade(label='Edit', menu=edit_menu)\n",
    "edit_menu.add_command(label='Redo', command=do_nothing)\n",
    "\n",
    "root.mainloop()"
   ]
  },
  {
   "cell_type": "markdown",
   "metadata": {},
   "source": [
    "## Python GUI with Tkinter - 10 - Creating a Toolbar"
   ]
  },
  {
   "cell_type": "code",
   "execution_count": 12,
   "metadata": {},
   "outputs": [
    {
     "name": "stdout",
     "output_type": "stream",
     "text": [
      "ok ok I won't...\n",
      "ok ok I won't...\n"
     ]
    }
   ],
   "source": [
    "def do_nothing():\n",
    "    print(\"ok ok I won't...\")\n",
    "\n",
    "\n",
    "root = Tk()\n",
    "\n",
    "# ***** Main Menu *****\n",
    "\n",
    "menu = Menu(root)\n",
    "root.config(menu=menu)\n",
    "\n",
    "sub_menu = Menu(menu)\n",
    "menu.add_cascade(label='File', menu=sub_menu)\n",
    "sub_menu.add_command(label='Now Project...', command=do_nothing)\n",
    "sub_menu.add_command(label='Now...', command=do_nothing)\n",
    "sub_menu.add_separator()\n",
    "sub_menu.add_command(label='Exit', command=do_nothing)\n",
    "\n",
    "edit_menu = Menu(menu)\n",
    "menu.add_cascade(label='Edit', menu=edit_menu)\n",
    "edit_menu.add_command(label='Redo', command=do_nothing)\n",
    "\n",
    "# ***** Toolbar *****\n",
    "\n",
    "toolbar = Frame(root, bg='blue') # Added background\n",
    "\n",
    "insert_button = Button(toolbar, text='Insert Image', command=do_nothing)\n",
    "insert_button.pack(side=LEFT, padx=2, pady=2) # Leave some space around button\n",
    "print_button = Button(toolbar, text='Print', command=do_nothing)\n",
    "print_button.pack(side=LEFT, padx=2, pady=2)\n",
    "\n",
    "toolbar.pack(side=TOP, fill=X)\n",
    "\n",
    "root.mainloop()"
   ]
  },
  {
   "cell_type": "markdown",
   "metadata": {},
   "source": [
    "## Python GUI with Tkinter - 11 - Adding the Status Bar"
   ]
  },
  {
   "cell_type": "code",
   "execution_count": 13,
   "metadata": {},
   "outputs": [],
   "source": [
    "def do_nothing():\n",
    "    print(\"ok ok I won't...\")\n",
    "\n",
    "\n",
    "root = Tk()\n",
    "\n",
    "# ***** Main Menu *****\n",
    "\n",
    "menu = Menu(root)\n",
    "root.config(menu=menu)\n",
    "\n",
    "sub_menu = Menu(menu)\n",
    "menu.add_cascade(label='File', menu=sub_menu)\n",
    "sub_menu.add_command(label='Now Project...', command=do_nothing)\n",
    "sub_menu.add_command(label='Now...', command=do_nothing)\n",
    "sub_menu.add_separator()\n",
    "sub_menu.add_command(label='Exit', command=do_nothing)\n",
    "\n",
    "edit_menu = Menu(menu)\n",
    "menu.add_cascade(label='Edit', menu=edit_menu)\n",
    "edit_menu.add_command(label='Redo', command=do_nothing)\n",
    "\n",
    "# ***** Toolbar *****\n",
    "\n",
    "toolbar = Frame(root, bg='blue')\n",
    "\n",
    "insert_button = Button(toolbar, text='Insert Image', command=do_nothing)\n",
    "insert_button.pack(side=LEFT, padx=2, pady=2)\n",
    "print_button = Button(toolbar, text='Print', command=do_nothing)\n",
    "print_button.pack(side=LEFT, padx=2, pady=2)\n",
    "\n",
    "toolbar.pack(side=TOP, fill=X)\n",
    "\n",
    "# ***** Status Bar *****\n",
    "\n",
    "status = Label(root, text='Preparing to do nothing...', bd=1, # border\n",
    "               relief=SUNKEN, # sunken in the screen. A separate line above text.\n",
    "               anchor=W) # Shows on the left. By default, it is centered.\n",
    "status.pack(side=BOTTOM, fill=X)\n",
    "\n",
    "root.mainloop()"
   ]
  },
  {
   "cell_type": "markdown",
   "metadata": {},
   "source": [
    "## Python GUI with Tkinter - 12 - Messagebox"
   ]
  },
  {
   "cell_type": "code",
   "execution_count": 14,
   "metadata": {},
   "outputs": [
    {
     "name": "stdout",
     "output_type": "stream",
     "text": [
      " 8===D~  \n"
     ]
    }
   ],
   "source": [
    "import tkinter.messagebox\n",
    "\n",
    "\n",
    "root = Tk()\n",
    "\n",
    "# The first param is the title and the second is the message.\n",
    "tkinter.messagebox.showinfo('Window Title', 'Monkeys can live up to 300 years.')\n",
    "\n",
    "answer = tkinter.messagebox.askquestion('Question 1', 'Do you like silly faces?')\n",
    "\n",
    "if answer == 'yes': # Don't use \"is\".\n",
    "    print(' 8===D~  ')\n",
    "\n",
    "root.mainloop()"
   ]
  },
  {
   "cell_type": "markdown",
   "metadata": {},
   "source": [
    "## Python GUI with Tkinter - 13 - Shapes and Graphics"
   ]
  },
  {
   "cell_type": "code",
   "execution_count": 15,
   "metadata": {},
   "outputs": [],
   "source": [
    "root = Tk()\n",
    "\n",
    "canvas = Canvas(root, width=200, height=100)\n",
    "canvas.pack()\n",
    "\n",
    "# From top left corner, move right by 200 and move down by 50\n",
    "black_line = canvas.create_line(0, 0, 200, 50)\n",
    "red_line = canvas.create_line(0, 100, 200, 50, fill='red') # The line is in red.\n",
    "green_box = canvas.create_rectangle(25, 25, 130, 60, fill='green') # Top left of the rectangle.\n",
    "\n",
    "canvas.delete(red_line) # Remove the red line.\n",
    "# canvas.delete(ALL) # Remove all.\n",
    "\n",
    "root.mainloop()"
   ]
  },
  {
   "cell_type": "markdown",
   "metadata": {},
   "source": [
    "## Python GUI with Tkinter - 14 - Images and Icons"
   ]
  },
  {
   "cell_type": "code",
   "execution_count": 16,
   "metadata": {},
   "outputs": [],
   "source": [
    "root = Tk()\n",
    "\n",
    "photo = PhotoImage(file='Python Data/kobe.png')\n",
    "label = Label(root, image=photo)\n",
    "label.pack()\n",
    "\n",
    "root.mainloop()"
   ]
  }
 ],
 "metadata": {
  "kernelspec": {
   "display_name": "Python 3",
   "language": "python",
   "name": "python3"
  },
  "language_info": {
   "codemirror_mode": {
    "name": "ipython",
    "version": 3
   },
   "file_extension": ".py",
   "mimetype": "text/x-python",
   "name": "python",
   "nbconvert_exporter": "python",
   "pygments_lexer": "ipython3",
   "version": "3.7.4"
  }
 },
 "nbformat": 4,
 "nbformat_minor": 2
}
