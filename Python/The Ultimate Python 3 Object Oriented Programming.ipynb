{
 "cells": [
  {
   "cell_type": "markdown",
   "metadata": {},
   "source": [
    "# Notes for YouTube Python Tutorials\n",
    "## The Ultimate Python 3 Object Oriented Programming\n",
    "https://www.youtube.com/watch?v=ZQ0uBYS_FM4&list=PLiHa1s-EL3vjIVdLySA3aBr8bMlW7r_4f"
   ]
  },
  {
   "cell_type": "markdown",
   "metadata": {},
   "source": [
    "## Python Programming - Multi-line Docstrings"
   ]
  },
  {
   "cell_type": "code",
   "execution_count": 1,
   "metadata": {},
   "outputs": [
    {
     "name": "stdout",
     "output_type": "stream",
     "text": [
      "Help on class ComplexNumber in module __main__:\n",
      "\n",
      "class ComplexNumber(builtins.object)\n",
      " |  ComplexNumber(real, imag)\n",
      " |  \n",
      " |  This is a class for mathematical operations on complex numbers. \n",
      " |    \n",
      " |  Attributes: \n",
      " |      real (int): The real part of complex number. \n",
      " |      imag (int): The imaginary part of complex number.\n",
      " |  \n",
      " |  Methods defined here:\n",
      " |  \n",
      " |  __init__(self, real, imag)\n",
      " |      The constructor for ComplexNumber class. \n",
      " |      \n",
      " |      Parameters: \n",
      " |         real (int): The real part of complex number. \n",
      " |         imag (int): The imaginary part of complex number.\n",
      " |  \n",
      " |  add(self, num)\n",
      " |      The function to add two Complex Numbers. \n",
      " |      \n",
      " |      Parameters: \n",
      " |          num (ComplexNumber): The complex number to be added. \n",
      " |        \n",
      " |      Returns: \n",
      " |          ComplexNumber: A complex number which contains the sum.\n",
      " |  \n",
      " |  ----------------------------------------------------------------------\n",
      " |  Data descriptors defined here:\n",
      " |  \n",
      " |  __dict__\n",
      " |      dictionary for instance variables (if defined)\n",
      " |  \n",
      " |  __weakref__\n",
      " |      list of weak references to the object (if defined)\n",
      "\n",
      "Help on function add in module __main__:\n",
      "\n",
      "add(self, num)\n",
      "    The function to add two Complex Numbers. \n",
      "    \n",
      "    Parameters: \n",
      "        num (ComplexNumber): The complex number to be added. \n",
      "      \n",
      "    Returns: \n",
      "        ComplexNumber: A complex number which contains the sum.\n",
      "\n"
     ]
    }
   ],
   "source": [
    "class ComplexNumber: \n",
    "    \"\"\" \n",
    "    This is a class for mathematical operations on complex numbers. \n",
    "      \n",
    "    Attributes: \n",
    "        real (int): The real part of complex number. \n",
    "        imag (int): The imaginary part of complex number. \n",
    "    \"\"\"\n",
    "  \n",
    "    def __init__(self, real, imag): \n",
    "        \"\"\" \n",
    "        The constructor for ComplexNumber class. \n",
    "  \n",
    "        Parameters: \n",
    "           real (int): The real part of complex number. \n",
    "           imag (int): The imaginary part of complex number.    \n",
    "        \"\"\"\n",
    "  \n",
    "    def add(self, num): \n",
    "        \"\"\" \n",
    "        The function to add two Complex Numbers. \n",
    "  \n",
    "        Parameters: \n",
    "            num (ComplexNumber): The complex number to be added. \n",
    "          \n",
    "        Returns: \n",
    "            ComplexNumber: A complex number which contains the sum. \n",
    "        \"\"\"\n",
    "  \n",
    "        re = self.real + num.real \n",
    "        im = self.imag + num.imag \n",
    "  \n",
    "        return ComplexNumber(re, im) \n",
    "  \n",
    "help(ComplexNumber)  # to access Class docstring \n",
    "help(ComplexNumber.add)  # to access method's docstring "
   ]
  },
  {
   "cell_type": "markdown",
   "metadata": {},
   "source": [
    "## Python Programming - if \\_\\_name\\_\\_ == \"\\_\\_main\\_\\_\""
   ]
  },
  {
   "cell_type": "code",
   "execution_count": 2,
   "metadata": {},
   "outputs": [
    {
     "name": "stdout",
     "output_type": "stream",
     "text": [
      "Created an Object for Class01...\n",
      "Created an Object for Class02...\n"
     ]
    }
   ],
   "source": [
    "class Class01:\n",
    "    \n",
    "    def __init__(self):\n",
    "        print(\"Created an Object for Class01...\")\n",
    "\n",
    "class Class02:\n",
    "    \n",
    "    def __init__(self):\n",
    "        print(\"Created an Object for Class02...\")\n",
    "\n",
    "def main():\n",
    "    O1 = Class01()\n",
    "    O2 = Class02()\n",
    "\n",
    "if __name__ == \"__main__\":\n",
    "    main()"
   ]
  },
  {
   "cell_type": "markdown",
   "metadata": {},
   "source": [
    "## Python Programming - Polymorphism and Overriding"
   ]
  },
  {
   "cell_type": "code",
   "execution_count": 3,
   "metadata": {},
   "outputs": [
    {
     "name": "stdout",
     "output_type": "stream",
     "text": [
      "Ashwin Pajankar, 31\n",
      "James Bond, 40, 1000\n"
     ]
    }
   ],
   "source": [
    "# super() is only used in __init__. It can also be used in other functions.\n",
    "class Person:\n",
    "    \n",
    "    def __init__(self, first, last, age):\n",
    "        self.first = first\n",
    "        self.last = last\n",
    "        self.age = age\n",
    "    \n",
    "    def __str__(self):\n",
    "        return self.first + ' ' + self.last + ', ' + str(self.age)\n",
    "\n",
    "\n",
    "class Employee(Person):\n",
    "    \n",
    "    def __init__(self, first, last, age, salary):\n",
    "        super().__init__(first, last, age) # Use super()\n",
    "        self.salary = salary\n",
    "    \n",
    "    def __str__(self):\n",
    "        return super().__str__() + ', ' + str(self.salary) # Use super()\n",
    "\n",
    "def main():\n",
    "    x = Person('Ashwin', 'Pajankar', 31)\n",
    "    print(x)\n",
    "    \n",
    "    y = Employee('James', 'Bond', 40, 1000)\n",
    "    print(y)\n",
    "\n",
    "\n",
    "if __name__ == \"__main__\":\n",
    "    main()"
   ]
  },
  {
   "cell_type": "markdown",
   "metadata": {},
   "source": [
    "## Python Programming - Multiple Inheritance and Method Resolution Order"
   ]
  },
  {
   "cell_type": "code",
   "execution_count": 4,
   "metadata": {},
   "outputs": [
    {
     "name": "stdout",
     "output_type": "stream",
     "text": [
      "(<class '__main__.D'>, <class '__main__.B'>, <class '__main__.A'>, <class '__main__.C'>, <class 'object'>)\n"
     ]
    }
   ],
   "source": [
    "class A:\n",
    "    pass\n",
    "\n",
    "\n",
    "class B(A):\n",
    "    pass\n",
    "\n",
    "\n",
    "class C:\n",
    "    pass\n",
    "\n",
    "\n",
    "class D(B, C):\n",
    "    pass\n",
    "\n",
    "\n",
    "def main():\n",
    "    print(D.__mro__) # method resolution order: D -> B -> A -> C\n",
    "    # Another way\n",
    "    # print(D.mro())\n",
    "\n",
    "\n",
    "if __name__ == \"__main__\":\n",
    "    main()"
   ]
  },
  {
   "cell_type": "markdown",
   "metadata": {},
   "source": [
    "## Python Programming - Hybrid Inheritance and Diamond of Death"
   ]
  },
  {
   "cell_type": "code",
   "execution_count": 5,
   "metadata": {},
   "outputs": [
    {
     "name": "stdout",
     "output_type": "stream",
     "text": [
      "[<class '__main__.D'>, <class '__main__.B'>, <class '__main__.C'>, <class '__main__.A'>, <class 'object'>]\n"
     ]
    }
   ],
   "source": [
    "#   A\n",
    "#  / \\\n",
    "# B   C\n",
    "#  \\ /\n",
    "#   D\n",
    "\n",
    "class A:\n",
    "    pass\n",
    "\n",
    "\n",
    "class B(A):\n",
    "    pass\n",
    "\n",
    "\n",
    "class C(A):\n",
    "    pass\n",
    "\n",
    "\n",
    "class D(B, C):\n",
    "    pass\n",
    "\n",
    "print(D.mro()) # D -> B -> C -> A"
   ]
  },
  {
   "cell_type": "markdown",
   "metadata": {},
   "source": [
    "## Python Programming - Abstract Class and Abstract Method"
   ]
  },
  {
   "cell_type": "code",
   "execution_count": 6,
   "metadata": {},
   "outputs": [
    {
     "name": "stdout",
     "output_type": "stream",
     "text": [
      "I can walk and run...\n",
      "I can crawl...\n"
     ]
    }
   ],
   "source": [
    "from abc import ABC, abstractmethod\n",
    "\n",
    "\n",
    "class Animal(ABC): # It is a abstract class. No object can be created for this class.\n",
    "    \n",
    "    @abstractmethod\n",
    "    def move(self):\n",
    "        pass\n",
    "\n",
    "\n",
    "class Human(Animal):\n",
    "    \n",
    "    def move(self):\n",
    "        print('I can walk and run...')\n",
    "\n",
    "\n",
    "class Snake(Animal):\n",
    "    \n",
    "    def move(self):\n",
    "        print('I can crawl...')\n",
    "\n",
    "\n",
    "h1 = Human()\n",
    "h1.move()\n",
    "\n",
    "s1 = Snake()\n",
    "s1.move()"
   ]
  },
  {
   "cell_type": "markdown",
   "metadata": {},
   "source": [
    "## Python Programming - Encapsulation, Access Modifiers, and Name Mangling"
   ]
  },
  {
   "cell_type": "code",
   "execution_count": 7,
   "metadata": {},
   "outputs": [
    {
     "name": "stdout",
     "output_type": "stream",
     "text": [
      "Public\n",
      "Internal Use Only\n"
     ]
    }
   ],
   "source": [
    "class A:\n",
    "    \n",
    "    def __init__(self):\n",
    "        self.a = 'Public'\n",
    "        self._b = 'Internal Use Only' # Still can be accessed outside, but use _ to mark it.\n",
    "        self.__c = 'Name Mangling in Action' # Cannot be accessed from outside\n",
    "\n",
    "test = A()\n",
    "print(test.a)\n",
    "print(test._b)\n",
    "# test.__c will not work."
   ]
  },
  {
   "cell_type": "code",
   "execution_count": 8,
   "metadata": {},
   "outputs": [
    {
     "name": "stdout",
     "output_type": "stream",
     "text": [
      "Name Mangling in Action\n"
     ]
    }
   ],
   "source": [
    "# However, __c can be visited in a special way\n",
    "print(test._A__c)"
   ]
  },
  {
   "cell_type": "markdown",
   "metadata": {},
   "source": [
    "## Python Programming - User Defined Exceptions"
   ]
  },
  {
   "cell_type": "code",
   "execution_count": 9,
   "metadata": {},
   "outputs": [
    {
     "name": "stdout",
     "output_type": "stream",
     "text": [
      "Please enter an integer: 12\n",
      "The value is too large!\n",
      "Please enter an integer: 4\n",
      "The value is too small!\n",
      "Please enter an integer: 10\n",
      "Perfect!\n"
     ]
    }
   ],
   "source": [
    "class Error(Exception):\n",
    "    pass\n",
    "\n",
    "\n",
    "class ValueTooSmallError(Error):\n",
    "    pass\n",
    "\n",
    "\n",
    "class ValueTooLargeError(Error):\n",
    "    pass\n",
    "\n",
    "\n",
    "def main():\n",
    "    \n",
    "    number = 10\n",
    "    \n",
    "    try:\n",
    "        i_num = int(input(\"Please enter an integer: \"))\n",
    "        \n",
    "        if i_num < number:\n",
    "            raise ValueTooSmallError\n",
    "        elif i_num > number:\n",
    "            raise ValueTooLargeError\n",
    "        else:\n",
    "            print(\"Perfect!\")\n",
    "    except ValueTooSmallError:\n",
    "        print(\"The value is too small!\")\n",
    "    except ValueTooLargeError:\n",
    "        print(\"The value is too large!\")\n",
    "    except Exception:\n",
    "        print(\"Unexpected error!\")\n",
    "\n",
    "\n",
    "if __name__ == \"__main__\":\n",
    "    for _ in range(3):\n",
    "        main()"
   ]
  }
 ],
 "metadata": {
  "kernelspec": {
   "display_name": "Python 3",
   "language": "python",
   "name": "python3"
  },
  "language_info": {
   "codemirror_mode": {
    "name": "ipython",
    "version": 3
   },
   "file_extension": ".py",
   "mimetype": "text/x-python",
   "name": "python",
   "nbconvert_exporter": "python",
   "pygments_lexer": "ipython3",
   "version": "3.7.4"
  }
 },
 "nbformat": 4,
 "nbformat_minor": 2
}
