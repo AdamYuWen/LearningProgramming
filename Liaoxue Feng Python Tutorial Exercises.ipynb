{
 "cells": [
  {
   "cell_type": "markdown",
   "metadata": {},
   "source": [
    "# 5.0 Function\n",
    "\n",
    "## 5.1 Use Function Exercise"
   ]
  },
  {
   "cell_type": "code",
   "execution_count": 1,
   "metadata": {},
   "outputs": [
    {
     "name": "stdout",
     "output_type": "stream",
     "text": [
      "0xff\n",
      "0x3e8\n"
     ]
    }
   ],
   "source": [
    "n1 = 255\n",
    "n2 = 1000\n",
    "print(hex(n1))\n",
    "print(hex(n2))"
   ]
  },
  {
   "cell_type": "markdown",
   "metadata": {},
   "source": [
    "## 5.2 Define Function Exercise"
   ]
  },
  {
   "cell_type": "code",
   "execution_count": 2,
   "metadata": {},
   "outputs": [
    {
     "name": "stdout",
     "output_type": "stream",
     "text": [
      "quadratic(2, 3, 1) =  (-0.5, -1.0)\n",
      "quadratic(1, 3, -4) =  (1.0, -4.0)\n"
     ]
    }
   ],
   "source": [
    "import math\n",
    "\n",
    "def quadratic(a, b, c):\n",
    "    return (-b + math.sqrt(b * b - 4 * a * c)) / (2 * a), \\\n",
    "           (-b - math.sqrt(b * b - 4 * a * c)) / (2 * a)\n",
    "\n",
    "\n",
    "print('quadratic(2, 3, 1) = ', quadratic(2, 3, 1))\n",
    "print('quadratic(1, 3, -4) = ', quadratic(1, 3, -4))"
   ]
  },
  {
   "cell_type": "markdown",
   "metadata": {},
   "source": [
    "## 5.3 Function Parameter Exercise"
   ]
  },
  {
   "cell_type": "code",
   "execution_count": 3,
   "metadata": {},
   "outputs": [
    {
     "name": "stdout",
     "output_type": "stream",
     "text": [
      "product(5) = 5\n",
      "product(5, 6) = 30\n",
      "product(5, 6, 7) = 210\n",
      "product(5, 6, 7, 9) = 1890\n"
     ]
    }
   ],
   "source": [
    "def product(*l):\n",
    "    ret = 1\n",
    "    for num in l:\n",
    "        ret = ret * num\n",
    "    return ret\n",
    "\n",
    "\n",
    "print('product(5) =', product(5))\n",
    "print('product(5, 6) =', product(5, 6))\n",
    "print('product(5, 6, 7) =', product(5, 6, 7))\n",
    "print('product(5, 6, 7, 9) =', product(5, 6, 7, 9))"
   ]
  },
  {
   "cell_type": "markdown",
   "metadata": {},
   "source": [
    "## 5.4 Recursion Exercise"
   ]
  },
  {
   "cell_type": "code",
   "execution_count": 4,
   "metadata": {},
   "outputs": [
    {
     "name": "stdout",
     "output_type": "stream",
     "text": [
      "A --> C\n",
      "A --> B\n",
      "C --> B\n",
      "A --> C\n",
      "B --> A\n",
      "B --> C\n",
      "A --> C\n"
     ]
    }
   ],
   "source": [
    "def move(n, a, b, c):\n",
    "    if n == 1:\n",
    "        print(a, '-->', c)\n",
    "    else:\n",
    "        move(n - 1, a, c, b)\n",
    "        print(a, '-->', c)\n",
    "        move(n - 1, b, a, c)\n",
    "\n",
    "\n",
    "move(3, 'A', 'B', 'C')"
   ]
  },
  {
   "cell_type": "markdown",
   "metadata": {},
   "source": [
    "# 6.0 Advanced Features\n",
    "\n",
    "## 6.1 Slice Exercise"
   ]
  },
  {
   "cell_type": "code",
   "execution_count": 5,
   "metadata": {},
   "outputs": [
    {
     "name": "stdout",
     "output_type": "stream",
     "text": [
      "hello\n",
      "hello\n",
      "hello\n",
      "hello  world\n",
      "\n",
      "\n"
     ]
    }
   ],
   "source": [
    "def trim(s):\n",
    "    if len(s) == 0:\n",
    "        return s\n",
    "    front_idx, end_idx = 0, len(s) - 1\n",
    "    while front_idx <= end_idx and s[front_idx] == ' ':\n",
    "        front_idx = front_idx + 1\n",
    "    while front_idx <= end_idx and s[end_idx] == ' ':\n",
    "        end_idx = end_idx - 1\n",
    "    return s[front_idx:end_idx + 1]\n",
    "\n",
    "\n",
    "print(trim('hello   '))\n",
    "print(trim('   hello'))\n",
    "print(trim('   hello   '))\n",
    "print(trim('   hello  world   '))\n",
    "print(trim(''))\n",
    "print(trim('   '))"
   ]
  },
  {
   "cell_type": "markdown",
   "metadata": {},
   "source": [
    "## 6.2 Iterable Exercise"
   ]
  },
  {
   "cell_type": "code",
   "execution_count": 6,
   "metadata": {},
   "outputs": [
    {
     "name": "stdout",
     "output_type": "stream",
     "text": [
      "(None, None)\n",
      "(7, 7)\n",
      "(1, 7)\n",
      "(1, 9)\n"
     ]
    }
   ],
   "source": [
    "def findMinAndMax(L):\n",
    "    if len(L) == 0:\n",
    "        return None, None\n",
    "    else:\n",
    "        min_num, max_num = L[0], L[0]\n",
    "        for num in L:\n",
    "            min_num = min(min_num, num)\n",
    "            max_num = max(max_num, num)\n",
    "        return min_num, max_num\n",
    "\n",
    "\n",
    "print(findMinAndMax([]))\n",
    "print(findMinAndMax([7]))\n",
    "print(findMinAndMax([7, 1]))\n",
    "print(findMinAndMax([7, 1, 3, 9, 5]))"
   ]
  },
  {
   "cell_type": "markdown",
   "metadata": {},
   "source": [
    "## 6.3 List Comrehensions Exercise"
   ]
  },
  {
   "cell_type": "code",
   "execution_count": 7,
   "metadata": {},
   "outputs": [
    {
     "name": "stdout",
     "output_type": "stream",
     "text": [
      "['hello', 'world', 'apple']\n"
     ]
    }
   ],
   "source": [
    "L1 = ['Hello', 'World', 18, 'Apple', None]\n",
    "L2 = [s.lower() for s in L1 if isinstance(s, str)]\n",
    "print(L2)"
   ]
  },
  {
   "cell_type": "markdown",
   "metadata": {},
   "source": [
    "## 6.4 Generator Exercise"
   ]
  },
  {
   "cell_type": "code",
   "execution_count": 8,
   "metadata": {},
   "outputs": [
    {
     "name": "stdout",
     "output_type": "stream",
     "text": [
      "[1]\n",
      "[1, 1]\n",
      "[1, 2, 1]\n",
      "[1, 3, 3, 1]\n",
      "[1, 4, 6, 4, 1]\n",
      "[1, 5, 10, 10, 5, 1]\n",
      "[1, 6, 15, 20, 15, 6, 1]\n",
      "[1, 7, 21, 35, 35, 21, 7, 1]\n",
      "[1, 8, 28, 56, 70, 56, 28, 8, 1]\n",
      "[1, 9, 36, 84, 126, 126, 84, 36, 9, 1]\n"
     ]
    }
   ],
   "source": [
    "def triangles():\n",
    "    prev = [1]\n",
    "    yield prev\n",
    "    while True:\n",
    "        middle = [x + y for x, y in zip(prev[0:], prev[1:])]\n",
    "        middle.insert(0, 1)\n",
    "        middle.append(1)\n",
    "        prev = middle\n",
    "        yield middle\n",
    "\n",
    "\n",
    "n = 0\n",
    "results = []\n",
    "for t in triangles():\n",
    "    results.append(t)\n",
    "    n = n + 1\n",
    "    if n == 10:\n",
    "        break\n",
    "\n",
    "for t in results:\n",
    "    print(t)"
   ]
  },
  {
   "cell_type": "markdown",
   "metadata": {},
   "source": [
    "# 7.0 Functional Programming\n",
    "\n",
    "## 7.1.1 map/reduce Exercise 1"
   ]
  },
  {
   "cell_type": "code",
   "execution_count": 9,
   "metadata": {},
   "outputs": [
    {
     "name": "stdout",
     "output_type": "stream",
     "text": [
      "['Adam', 'Lisa', 'Bart']\n"
     ]
    }
   ],
   "source": [
    "def normalize(name):\n",
    "    return name[0].upper() + name[1:].lower()\n",
    "\n",
    "\n",
    "L1 = ['adam', 'LISA', 'barT']\n",
    "L2 = list(map(normalize, L1))\n",
    "print(L2)"
   ]
  },
  {
   "cell_type": "markdown",
   "metadata": {},
   "source": [
    "## 7.1.1 map/reduce Exercise 2"
   ]
  },
  {
   "cell_type": "code",
   "execution_count": 10,
   "metadata": {},
   "outputs": [
    {
     "name": "stdout",
     "output_type": "stream",
     "text": [
      "3 * 5 * 7 * 9 =  945\n"
     ]
    }
   ],
   "source": [
    "from functools import reduce\n",
    "def prod(L):\n",
    "    def fn(x, y):\n",
    "        return x * y\n",
    "\n",
    "    return reduce(fn, L)\n",
    "\n",
    "\n",
    "print('3 * 5 * 7 * 9 = ', prod([3, 5, 7, 9]))"
   ]
  },
  {
   "cell_type": "markdown",
   "metadata": {},
   "source": [
    "## 7.1.1 map/reduce Exercise 3"
   ]
  },
  {
   "cell_type": "code",
   "execution_count": 11,
   "metadata": {},
   "outputs": [
    {
     "name": "stdout",
     "output_type": "stream",
     "text": [
      "str2float('123.456') =  123.456\n",
      "str2float('123456') =  123456\n"
     ]
    }
   ],
   "source": [
    "from functools import reduce\n",
    "\n",
    "\n",
    "DIGITS = {'0': 0, '1': 1, '2': 2, '3': 3, '4': 4,\n",
    "          '5': 5, '6': 6, '7': 7, '8': 8, '9': 9}\n",
    "\n",
    "\n",
    "def str2float(s):\n",
    "    def char2num(n):\n",
    "        return DIGITS[n]\n",
    "\n",
    "    def fn(x, y):\n",
    "        return x * 10 + y\n",
    "\n",
    "    point_idx = s.find('.')\n",
    "    move_point = len(s) - point_idx - 1\n",
    "    if point_idx == -1:\n",
    "        return reduce(fn, map(char2num, s))\n",
    "    else:\n",
    "        return reduce(fn, map(char2num, s[:point_idx] + s[point_idx + 1:])) / (10 ** move_point)\n",
    "\n",
    "\n",
    "print('str2float(\\'123.456\\') = ', str2float('123.456'))\n",
    "print('str2float(\\'123456\\') = ', str2float('123456'))"
   ]
  },
  {
   "cell_type": "markdown",
   "metadata": {},
   "source": [
    "## 7.1.2 filter Exercise"
   ]
  },
  {
   "cell_type": "code",
   "execution_count": 12,
   "metadata": {},
   "outputs": [
    {
     "name": "stdout",
     "output_type": "stream",
     "text": [
      "1~200: [1, 2, 3, 4, 5, 6, 7, 8, 9, 11, 22, 33, 44, 55, 66, 77, 88, 99, 101, 111, 121, 131, 141, 151, 161, 171, 181, 191]\n"
     ]
    }
   ],
   "source": [
    "def is_palindrome(n):\n",
    "    n_str = str(n)\n",
    "    for i, j in zip(range(len(n_str)), range(len(n_str) - 1, -1, -1)):\n",
    "        if n_str[i] != n_str[j]:\n",
    "            return False\n",
    "    return True\n",
    "\n",
    "\n",
    "output = filter(is_palindrome, range(1, 200))\n",
    "print('1~200:', list(output))"
   ]
  },
  {
   "cell_type": "markdown",
   "metadata": {},
   "source": [
    "## 7.1.3 sorted Exercise"
   ]
  },
  {
   "cell_type": "code",
   "execution_count": 13,
   "metadata": {},
   "outputs": [
    {
     "name": "stdout",
     "output_type": "stream",
     "text": [
      "[('Adam', 92), ('Bart', 66), ('Bob', 75), ('Lisa', 88)]\n",
      "[('Bart', 66), ('Bob', 75), ('Lisa', 88), ('Adam', 92)]\n"
     ]
    }
   ],
   "source": [
    "L = [('Bob', 75), ('Adam', 92), ('Bart', 66), ('Lisa', 88)]\n",
    "\n",
    "\n",
    "def by_name(t):\n",
    "    return t[0]\n",
    "\n",
    "\n",
    "def by_score(t):\n",
    "    return t[1]\n",
    "\n",
    "\n",
    "L2 = sorted(L, key=by_name)\n",
    "print(L2)\n",
    "L2 = sorted(L, key=by_score)\n",
    "print(L2)"
   ]
  },
  {
   "cell_type": "markdown",
   "metadata": {},
   "source": [
    "## 7.2 Return Functions Exercise"
   ]
  },
  {
   "cell_type": "code",
   "execution_count": 14,
   "metadata": {},
   "outputs": [
    {
     "name": "stdout",
     "output_type": "stream",
     "text": [
      "1 2 3 4 5\n",
      "[1, 2, 3, 4]\n"
     ]
    }
   ],
   "source": [
    "def createCounter():\n",
    "    s = 0\n",
    "    def counter():\n",
    "        nonlocal s\n",
    "        s = s + 1\n",
    "        return s\n",
    "    return counter\n",
    "\n",
    "\n",
    "counterA = createCounter()\n",
    "print(counterA(), counterA(), counterA(), counterA(), counterA())\n",
    "counterB = createCounter()\n",
    "print([counterB(), counterB(), counterB(), counterB()])"
   ]
  },
  {
   "cell_type": "markdown",
   "metadata": {},
   "source": [
    "## 7.3 Anonymous Functions Exercise"
   ]
  },
  {
   "cell_type": "code",
   "execution_count": 15,
   "metadata": {},
   "outputs": [
    {
     "name": "stdout",
     "output_type": "stream",
     "text": [
      "[1, 3, 5, 7, 9, 11, 13, 15, 17, 19]\n"
     ]
    }
   ],
   "source": [
    "def is_odd(n):\n",
    "    return n % 2 == 1\n",
    "\n",
    "\n",
    "L = list(filter(is_odd, range(1, 20)))\n",
    "print(L)"
   ]
  },
  {
   "cell_type": "code",
   "execution_count": 16,
   "metadata": {},
   "outputs": [
    {
     "name": "stdout",
     "output_type": "stream",
     "text": [
      "[1, 3, 5, 7, 9, 11, 13, 15, 17, 19]\n"
     ]
    }
   ],
   "source": [
    "print(list(filter(lambda x: x % 2 == 1, range(1, 20))))"
   ]
  },
  {
   "cell_type": "markdown",
   "metadata": {},
   "source": [
    "## 7.4 Decorator Exercise"
   ]
  },
  {
   "cell_type": "code",
   "execution_count": 17,
   "metadata": {},
   "outputs": [
    {
     "name": "stdout",
     "output_type": "stream",
     "text": [
      "fast executed in 0.003000020980834961 ms\n",
      "33\n",
      "slow executed in 0.12400007247924805 ms\n",
      "7986\n"
     ]
    }
   ],
   "source": [
    "import time, functools\n",
    "\n",
    "\n",
    "def metric(fn):\n",
    "    @functools.wraps(fn)\n",
    "    def wrapper(*args, **kw):\n",
    "        start_time = time.time()\n",
    "        return_value = fn(*args, **kw)\n",
    "        print('%s executed in %s ms' % (fn.__name__, time.time() - start_time))\n",
    "        return return_value\n",
    "    return wrapper\n",
    "\n",
    "\n",
    "@metric\n",
    "def fast(x, y):\n",
    "    time.sleep(0.0012)\n",
    "    return x + y\n",
    "\n",
    "\n",
    "@metric\n",
    "def slow(x, y, z):\n",
    "    time.sleep(0.1234)\n",
    "    return x * y * z\n",
    "\n",
    "\n",
    "f = fast(11, 22)\n",
    "print(f)\n",
    "\n",
    "s = slow(11, 22, 33)\n",
    "print(s)"
   ]
  },
  {
   "cell_type": "markdown",
   "metadata": {},
   "source": [
    "# 9.0 OOP\n",
    "## 9.2 Visit Limitation Exercise"
   ]
  },
  {
   "cell_type": "code",
   "execution_count": 18,
   "metadata": {},
   "outputs": [
    {
     "name": "stdout",
     "output_type": "stream",
     "text": [
      "Success\n"
     ]
    }
   ],
   "source": [
    "class Student(object):\n",
    "    def __init__(self, name, gender):\n",
    "        self.name = name\n",
    "        self.__gender = gender\n",
    "\n",
    "    def get_gender(self):\n",
    "        return self.__gender\n",
    "\n",
    "    def set_gender(self, gender):\n",
    "        self.__gender = gender\n",
    "\n",
    "\n",
    "bart = Student('Bart', 'male')\n",
    "if bart.get_gender() != 'male':\n",
    "    print('Fail')\n",
    "else:\n",
    "    bart.set_gender('female')\n",
    "    if bart.get_gender() != 'female':\n",
    "        print('Fail')\n",
    "    else:\n",
    "        print('Success')"
   ]
  },
  {
   "cell_type": "markdown",
   "metadata": {},
   "source": [
    "## 9.5 Instance and Class Attributes Exercise"
   ]
  },
  {
   "cell_type": "code",
   "execution_count": 19,
   "metadata": {},
   "outputs": [
    {
     "name": "stdout",
     "output_type": "stream",
     "text": [
      "Students: 2\n",
      "Success!\n"
     ]
    }
   ],
   "source": [
    "class Student(object):\n",
    "    count = 0\n",
    "\n",
    "    def __init__(self, name):\n",
    "        self.name = name\n",
    "        Student.count += 1\n",
    "\n",
    "\n",
    "if Student.count != 0:\n",
    "    print('Fail!')\n",
    "else:\n",
    "    bart = Student('Bart')\n",
    "    if Student.count != 1:\n",
    "        print('Fail!')\n",
    "    else:\n",
    "        lisa = Student('Bart')\n",
    "        if Student.count != 2:\n",
    "            print('Fail!')\n",
    "        else:\n",
    "            print('Students:', Student.count)\n",
    "            print('Success!')"
   ]
  },
  {
   "cell_type": "markdown",
   "metadata": {},
   "source": [
    "# Advanced OOP\n",
    "## 10.2 Using @property Exercise"
   ]
  },
  {
   "cell_type": "code",
   "execution_count": 20,
   "metadata": {},
   "outputs": [
    {
     "name": "stdout",
     "output_type": "stream",
     "text": [
      "resolution = 786432\n",
      "Success!\n"
     ]
    }
   ],
   "source": [
    "class Screen(object):\n",
    "    def __init__(self, width=None, height=None):\n",
    "        self.__width = width\n",
    "        self.__height = height\n",
    "\n",
    "    @property\n",
    "    def width(self):\n",
    "        return self.__width\n",
    "\n",
    "    @width.setter\n",
    "    def width(self, value):\n",
    "        self.__width = value\n",
    "\n",
    "    @property\n",
    "    def height(self):\n",
    "        return self.__height\n",
    "\n",
    "    @height.setter\n",
    "    def height(self, value):\n",
    "        self.__height = value\n",
    "\n",
    "    @property\n",
    "    def resolution(self):\n",
    "        return self.__width * self.__height\n",
    "\n",
    "\n",
    "s = Screen()\n",
    "s.width = 1024\n",
    "s.height = 768\n",
    "print('resolution =', s.resolution)\n",
    "if s.resolution == 786432:\n",
    "    print('Success!')\n",
    "else:\n",
    "    print('Fail!')"
   ]
  },
  {
   "cell_type": "code",
   "execution_count": 21,
   "metadata": {},
   "outputs": [
    {
     "name": "stdout",
     "output_type": "stream",
     "text": [
      "resolution = 786432\n",
      "Success!\n"
     ]
    }
   ],
   "source": [
    "class Screen(object):\n",
    "    @property\n",
    "    def width(self):\n",
    "        return self.__width\n",
    "\n",
    "    @width.setter\n",
    "    def width(self, value):\n",
    "        self.__width = value # It is fine to set a new attribute here. However, it is not recommanded.\n",
    "\n",
    "    @property\n",
    "    def height(self):\n",
    "        return self.__height\n",
    "\n",
    "    @height.setter\n",
    "    def height(self, value):\n",
    "        self.__height = value # It is fine to set a new attribute here. However, it is not recommanded.\n",
    "\n",
    "    @property\n",
    "    def resolution(self):\n",
    "        return self.__width * self.__height\n",
    "\n",
    "\n",
    "s = Screen()\n",
    "s.width = 1024\n",
    "s.height = 768\n",
    "print('resolution =', s.resolution)\n",
    "if s.resolution == 786432:\n",
    "    print('Success!')\n",
    "else:\n",
    "    print('Fail!')"
   ]
  },
  {
   "cell_type": "markdown",
   "metadata": {},
   "source": [
    "## 10.5 Using Enum Class Exercise"
   ]
  },
  {
   "cell_type": "code",
   "execution_count": 22,
   "metadata": {},
   "outputs": [
    {
     "name": "stdout",
     "output_type": "stream",
     "text": [
      "Success!\n"
     ]
    }
   ],
   "source": [
    "from enum import Enum, unique\n",
    "\n",
    "\n",
    "@unique\n",
    "class Gender(Enum):\n",
    "    Male = 0\n",
    "    Female = 1\n",
    "    # Because of unique, we cannot create another category with value 0 or 1\n",
    "\n",
    "\n",
    "class Student(object):\n",
    "    def __init__(self, name, gender):\n",
    "        self.name = name\n",
    "        self.gender = gender\n",
    "\n",
    "\n",
    "bart = Student('Bart', Gender.Male)\n",
    "if bart.gender == Gender.Male:\n",
    "    print('Success!')\n",
    "else:\n",
    "    print('Fail!')"
   ]
  },
  {
   "cell_type": "markdown",
   "metadata": {},
   "source": [
    "# 11.0 Debug and Testing\n",
    "## 11.1 Deal With Bugs"
   ]
  },
  {
   "cell_type": "code",
   "execution_count": 3,
   "metadata": {},
   "outputs": [
    {
     "name": "stdout",
     "output_type": "stream",
     "text": [
      "100 + 200 + 345 = 645\n",
      "invalid literal for int() with base 10: ' 7.6'\n",
      "99 + 88 + 7.6 = 194.6\n"
     ]
    }
   ],
   "source": [
    "from functools import reduce\n",
    "\n",
    "\n",
    "def str2num(s): # Changed this function from original\n",
    "    try:\n",
    "        return int(s)\n",
    "    except ValueError as e:\n",
    "        print(e)\n",
    "        return float(s)\n",
    "\n",
    "\n",
    "def calc(exp):\n",
    "    ss = exp.split('+')\n",
    "    ns = map(str2num, ss)\n",
    "    return reduce(lambda acc, x: acc + x, ns)\n",
    "\n",
    "\n",
    "def main():\n",
    "    r = calc('100 + 200 + 345')\n",
    "    print('100 + 200 + 345 =', r)\n",
    "    r = calc('99 + 88 + 7.6')\n",
    "    print('99 + 88 + 7.6 =', r)\n",
    "\n",
    "\n",
    "main()"
   ]
  },
  {
   "cell_type": "markdown",
   "metadata": {},
   "source": [
    "## 11.3 Unit Testing"
   ]
  },
  {
   "cell_type": "code",
   "execution_count": null,
   "metadata": {},
   "outputs": [],
   "source": [
    "class Student(object):\n",
    "    def __init__(self, name, score):\n",
    "        self.name = name\n",
    "        self.score = score\n",
    "    def get_grade(self):\n",
    "        if self.score >= 60:\n",
    "            return 'B'\n",
    "        if self.score >= 80:\n",
    "            return 'A'\n",
    "        return 'C'"
   ]
  }
 ],
 "metadata": {
  "kernelspec": {
   "display_name": "Python 3",
   "language": "python",
   "name": "python3"
  },
  "language_info": {
   "codemirror_mode": {
    "name": "ipython",
    "version": 3
   },
   "file_extension": ".py",
   "mimetype": "text/x-python",
   "name": "python",
   "nbconvert_exporter": "python",
   "pygments_lexer": "ipython3",
   "version": "3.5.1"
  }
 },
 "nbformat": 4,
 "nbformat_minor": 2
}
