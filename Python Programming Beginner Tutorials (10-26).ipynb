{
 "cells": [
  {
   "cell_type": "markdown",
   "metadata": {},
   "source": [
    "# Notes for YouTube Python Tutorials¶\n",
    "## Python Programming Beginner Tutorials\n",
    "https://www.youtube.com/watch?v=YYXdXT2l-Gg&list=PL-osiE80TeTskrapNbzXhwoFUiLCjGgY7&index=1"
   ]
  },
  {
   "cell_type": "markdown",
   "metadata": {},
   "source": [
    "## Python Tutorial: OS Module - Use Underlying Operating System Functionality"
   ]
  },
  {
   "cell_type": "code",
   "execution_count": 1,
   "metadata": {},
   "outputs": [
    {
     "name": "stdout",
     "output_type": "stream",
     "text": [
      "['DirEntry', 'F_OK', 'MutableMapping', 'O_APPEND', 'O_BINARY', 'O_CREAT', 'O_EXCL', 'O_NOINHERIT', 'O_RANDOM', 'O_RDONLY', 'O_RDWR', 'O_SEQUENTIAL', 'O_SHORT_LIVED', 'O_TEMPORARY', 'O_TEXT', 'O_TRUNC', 'O_WRONLY', 'P_DETACH', 'P_NOWAIT', 'P_NOWAITO', 'P_OVERLAY', 'P_WAIT', 'PathLike', 'R_OK', 'SEEK_CUR', 'SEEK_END', 'SEEK_SET', 'TMP_MAX', 'W_OK', 'X_OK', '_Environ', '__all__', '__builtins__', '__cached__', '__doc__', '__file__', '__loader__', '__name__', '__package__', '__spec__', '_execvpe', '_exists', '_exit', '_fspath', '_get_exports_list', '_putenv', '_unsetenv', '_wrap_close', 'abc', 'abort', 'access', 'altsep', 'chdir', 'chmod', 'close', 'closerange', 'cpu_count', 'curdir', 'defpath', 'device_encoding', 'devnull', 'dup', 'dup2', 'environ', 'error', 'execl', 'execle', 'execlp', 'execlpe', 'execv', 'execve', 'execvp', 'execvpe', 'extsep', 'fdopen', 'fsdecode', 'fsencode', 'fspath', 'fstat', 'fsync', 'ftruncate', 'get_exec_path', 'get_handle_inheritable', 'get_inheritable', 'get_terminal_size', 'getcwd', 'getcwdb', 'getenv', 'getlogin', 'getpid', 'getppid', 'isatty', 'kill', 'linesep', 'link', 'listdir', 'lseek', 'lstat', 'makedirs', 'mkdir', 'name', 'open', 'pardir', 'path', 'pathsep', 'pipe', 'popen', 'putenv', 'read', 'readlink', 'remove', 'removedirs', 'rename', 'renames', 'replace', 'rmdir', 'scandir', 'sep', 'set_handle_inheritable', 'set_inheritable', 'spawnl', 'spawnle', 'spawnv', 'spawnve', 'st', 'startfile', 'stat', 'stat_result', 'statvfs_result', 'strerror', 'supports_bytes_environ', 'supports_dir_fd', 'supports_effective_ids', 'supports_fd', 'supports_follow_symlinks', 'symlink', 'sys', 'system', 'terminal_size', 'times', 'times_result', 'truncate', 'umask', 'uname_result', 'unlink', 'urandom', 'utime', 'waitpid', 'walk', 'write']\n",
      "\n",
      "C:\\Users\\wenad\\Documents\\GitHub\\LearningProgramming\n",
      "\n",
      "C:\\Users\\wenad\\Documents\\GitHub\n"
     ]
    }
   ],
   "source": [
    "import os\n",
    "\n",
    "\n",
    "print(dir(os)) # Shows all functionalities of os\n",
    "print()\n",
    "print(os.getcwd()) # Shows the current workding directory\n",
    "print()\n",
    "os.chdir('/Users/wenad/Documents/GitHub/') # Change directory\n",
    "print(os.getcwd())\n",
    "os.chdir('/Users/wenad/Documents/GitHub/LearningProgramming/')"
   ]
  },
  {
   "cell_type": "code",
   "execution_count": 2,
   "metadata": {},
   "outputs": [
    {
     "name": "stdout",
     "output_type": "stream",
     "text": [
      "['.git', '.gitignore', '.ipynb_checkpoints', 'emacs_tutorial.md', 'git.md', 'Liaoxue Feng Python Tutorial Exercises.ipynb', 'Python 3.4 Programming Tutorials.ipynb', 'Python Programming Beginner Tutorials (1-9).ipynb', 'Python Programming Beginner Tutorials (10-26).ipynb', 'README.md', 'XSD_and_XML.md']\n"
     ]
    }
   ],
   "source": [
    "print(os.listdir()) # List all folder names"
   ]
  },
  {
   "cell_type": "code",
   "execution_count": 3,
   "metadata": {},
   "outputs": [],
   "source": [
    "os.mkdir('OS-Demo-2') # Only create one level of directory\n",
    "os.makedirs('OS-Demo-3/Sub-Dir-1') # Can create multiple levels of directories (Recommended)"
   ]
  },
  {
   "cell_type": "code",
   "execution_count": 4,
   "metadata": {},
   "outputs": [],
   "source": [
    "os.rmdir('OS-Demo-2') # Only remove one level of directory (Recommended)\n",
    "os.removedirs('OS-Demo-3/Sub-Dir-1') # Can remove multiple levels of directories"
   ]
  },
  {
   "cell_type": "code",
   "execution_count": 5,
   "metadata": {},
   "outputs": [
    {
     "name": "stdout",
     "output_type": "stream",
     "text": [
      "os.stat_result(st_mode=33206, st_ino=3377699720802963, st_dev=79347377, st_nlink=1, st_uid=0, st_gid=0, st_size=0, st_atime=1585072200, st_mtime=1585072200, st_ctime=1585072200)\n",
      "\n",
      "0\n",
      "1585072200.5676582\n",
      "2020-03-24 13:50:00.567658\n"
     ]
    }
   ],
   "source": [
    "from datetime import datetime\n",
    "\n",
    "\n",
    "f = open('test.txt', 'w')\n",
    "f.close()\n",
    "\n",
    "os.rename('test.txt', 'demo.txt')\n",
    "\n",
    "print(os.stat('demo.txt')) # Look at information about a file\n",
    "print()\n",
    "print(os.stat('demo.txt').st_size) # file size\n",
    "print(os.stat('demo.txt').st_mtime) # last modification time\n",
    "print(datetime.fromtimestamp(os.stat('demo.txt').st_mtime)) # change to time structure\n",
    "\n",
    "os.remove('demo.txt')"
   ]
  },
  {
   "cell_type": "code",
   "execution_count": 6,
   "metadata": {},
   "outputs": [],
   "source": [
    "# Shows all folders and files name\n",
    "\n",
    "# for dirpath, dirnames, filenames in os.walk(os.getcwd()):\n",
    "#     print('Current Path:', dirpath)\n",
    "#     print('Directories:', dirnames)\n",
    "#     print('Files:', filenames)\n",
    "#     print()"
   ]
  },
  {
   "cell_type": "code",
   "execution_count": 7,
   "metadata": {},
   "outputs": [
    {
     "name": "stdout",
     "output_type": "stream",
     "text": [
      "C:\\Users\\wenad\\Documents\\GitHub\\LearningProgramming\\test.txt\n"
     ]
    }
   ],
   "source": [
    "file_path = os.path.join(os.getcwd(), 'test.txt') # Don't need to worry about doulbe // or missing /\n",
    "print(file_path)"
   ]
  },
  {
   "cell_type": "code",
   "execution_count": 8,
   "metadata": {},
   "outputs": [],
   "source": [
    "with open(file_path, 'w') as f:\n",
    "    f.write('TEXT')\n",
    "    f.close()\n",
    "\n",
    "os.remove(file_path)"
   ]
  },
  {
   "cell_type": "code",
   "execution_count": 9,
   "metadata": {},
   "outputs": [
    {
     "name": "stdout",
     "output_type": "stream",
     "text": [
      "test.txt\n",
      "/tmp\n",
      "('/tmp', 'test.txt')\n",
      "False\n",
      "False\n",
      "False\n",
      "('/tmp/test', '.txt')\n"
     ]
    }
   ],
   "source": [
    "print(os.path.basename('/tmp/test.txt')) # Get the file name. The path doesn't have to be existed.\n",
    "print(os.path.dirname('/tmp/test.txt'))  # Get the directory name\n",
    "print(os.path.split('/tmp/test.txt'))    # Split the dir and file names\n",
    "print(os.path.exists('/tmp/test.txt'))   # Check if the path exist\n",
    "print(os.path.isdir('/tmp/test.txt'))    # Check if it is a directory\n",
    "print(os.path.isfile('/tmp/test.txt'))   # Check if it is a file\n",
    "print(os.path.splitext('/tmp/test.txt')) # Split the file name and extension"
   ]
  },
  {
   "cell_type": "markdown",
   "metadata": {},
   "source": [
    "## Python Tutorial: File Objects - Reading and Writing to Files"
   ]
  },
  {
   "cell_type": "code",
   "execution_count": null,
   "metadata": {},
   "outputs": [],
   "source": []
  }
 ],
 "metadata": {
  "kernelspec": {
   "display_name": "Python 3",
   "language": "python",
   "name": "python3"
  },
  "language_info": {
   "codemirror_mode": {
    "name": "ipython",
    "version": 3
   },
   "file_extension": ".py",
   "mimetype": "text/x-python",
   "name": "python",
   "nbconvert_exporter": "python",
   "pygments_lexer": "ipython3",
   "version": "3.7.4"
  }
 },
 "nbformat": 4,
 "nbformat_minor": 2
}
