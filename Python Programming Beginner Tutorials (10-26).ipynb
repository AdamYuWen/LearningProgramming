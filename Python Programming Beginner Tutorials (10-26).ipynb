{
 "cells": [
  {
   "cell_type": "markdown",
   "metadata": {},
   "source": [
    "# Notes for YouTube Python Tutorials¶\n",
    "## Python Programming Beginner Tutorials\n",
    "https://www.youtube.com/watch?v=YYXdXT2l-Gg&list=PL-osiE80TeTskrapNbzXhwoFUiLCjGgY7&index=1"
   ]
  },
  {
   "cell_type": "markdown",
   "metadata": {},
   "source": [
    "## Python Tutorial: OS Module - Use Underlying Operating System Functionality"
   ]
  },
  {
   "cell_type": "code",
   "execution_count": 1,
   "metadata": {},
   "outputs": [
    {
     "name": "stdout",
     "output_type": "stream",
     "text": [
      "['F_OK', 'MutableMapping', 'O_APPEND', 'O_BINARY', 'O_CREAT', 'O_EXCL', 'O_NOINHERIT', 'O_RANDOM', 'O_RDONLY', 'O_RDWR', 'O_SEQUENTIAL', 'O_SHORT_LIVED', 'O_TEMPORARY', 'O_TEXT', 'O_TRUNC', 'O_WRONLY', 'P_DETACH', 'P_NOWAIT', 'P_NOWAITO', 'P_OVERLAY', 'P_WAIT', 'R_OK', 'SEEK_CUR', 'SEEK_END', 'SEEK_SET', 'TMP_MAX', 'W_OK', 'X_OK', '_Environ', '__all__', '__builtins__', '__cached__', '__doc__', '__file__', '__loader__', '__name__', '__package__', '__spec__', '_execvpe', '_exists', '_exit', '_get_exports_list', '_putenv', '_unsetenv', '_wrap_close', 'abort', 'access', 'altsep', 'chdir', 'chmod', 'close', 'closerange', 'cpu_count', 'curdir', 'defpath', 'device_encoding', 'devnull', 'dup', 'dup2', 'environ', 'errno', 'error', 'execl', 'execle', 'execlp', 'execlpe', 'execv', 'execve', 'execvp', 'execvpe', 'extsep', 'fdopen', 'fsdecode', 'fsencode', 'fstat', 'fsync', 'ftruncate', 'get_exec_path', 'get_handle_inheritable', 'get_inheritable', 'get_terminal_size', 'getcwd', 'getcwdb', 'getenv', 'getlogin', 'getpid', 'getppid', 'isatty', 'kill', 'linesep', 'link', 'listdir', 'lseek', 'lstat', 'makedirs', 'mkdir', 'name', 'open', 'pardir', 'path', 'pathsep', 'pipe', 'popen', 'putenv', 'read', 'readlink', 'remove', 'removedirs', 'rename', 'renames', 'replace', 'rmdir', 'scandir', 'sep', 'set_handle_inheritable', 'set_inheritable', 'spawnl', 'spawnle', 'spawnv', 'spawnve', 'st', 'startfile', 'stat', 'stat_float_times', 'stat_result', 'statvfs_result', 'strerror', 'supports_bytes_environ', 'supports_dir_fd', 'supports_effective_ids', 'supports_fd', 'supports_follow_symlinks', 'symlink', 'sys', 'system', 'terminal_size', 'times', 'times_result', 'truncate', 'umask', 'uname_result', 'unlink', 'urandom', 'utime', 'waitpid', 'walk', 'write']\n",
      "\n",
      "C:\\Users\\yu_wen\\Desktop\\SelfLearning\\GitHub\\LearningProgramming\n",
      "\n",
      "C:\\Users\\yu_wen\\Desktop\\SelfLearning\\GitHub\n"
     ]
    }
   ],
   "source": [
    "import os\n",
    "\n",
    "\n",
    "print(dir(os)) # Shows all functionalities of os\n",
    "print()\n",
    "print(os.getcwd()) # Shows the current workding directory\n",
    "print()\n",
    "# Change directory\n",
    "os.chdir(r'C:\\Users\\yu_wen\\Desktop\\SelfLearning\\GitHub')\n",
    "print(os.getcwd())\n",
    "os.chdir(r'C:\\Users\\yu_wen\\Desktop\\SelfLearning\\GitHub\\LearningProgramming')"
   ]
  },
  {
   "cell_type": "code",
   "execution_count": 2,
   "metadata": {},
   "outputs": [
    {
     "name": "stdout",
     "output_type": "stream",
     "text": [
      "['.git', '.gitignore', '.ipynb_checkpoints', 'emacs_tutorial.md', 'git.md', 'Liaoxue Feng Python Tutorial Exercises.ipynb', 'Python 3.4 Programming Tutorials.ipynb', 'Python Programming Beginner Tutorials (1-9).ipynb', 'Python Programming Beginner Tutorials (10-26).ipynb', 'README.md', 'XSD_and_XML.md']\n"
     ]
    }
   ],
   "source": [
    "print(os.listdir()) # List all folder names"
   ]
  },
  {
   "cell_type": "code",
   "execution_count": 3,
   "metadata": {},
   "outputs": [],
   "source": [
    "os.mkdir('OS-Demo-2') # Only create one level of directory\n",
    "os.makedirs('OS-Demo-3/Sub-Dir-1') # Can create multiple levels of directories (Recommended)"
   ]
  },
  {
   "cell_type": "code",
   "execution_count": 4,
   "metadata": {},
   "outputs": [],
   "source": [
    "os.rmdir('OS-Demo-2') # Only remove one level of directory (Recommended)\n",
    "os.removedirs('OS-Demo-3/Sub-Dir-1') # Can remove multiple levels of directories"
   ]
  },
  {
   "cell_type": "code",
   "execution_count": 5,
   "metadata": {},
   "outputs": [
    {
     "name": "stdout",
     "output_type": "stream",
     "text": [
      "os.stat_result(st_mode=33206, st_ino=12666373953596148, st_dev=686768869, st_nlink=1, st_uid=0, st_gid=0, st_size=0, st_atime=1585162317, st_mtime=1585162317, st_ctime=1585162317)\n",
      "\n",
      "0\n",
      "1585162317.2720335\n",
      "2020-03-25 14:51:57.272033\n"
     ]
    }
   ],
   "source": [
    "from datetime import datetime\n",
    "\n",
    "\n",
    "f = open('test.txt', 'w')\n",
    "f.close()\n",
    "\n",
    "os.rename('test.txt', 'demo.txt')\n",
    "\n",
    "print(os.stat('demo.txt')) # Look at information about a file\n",
    "print()\n",
    "print(os.stat('demo.txt').st_size) # file size\n",
    "print(os.stat('demo.txt').st_mtime) # last modification time\n",
    "print(datetime.fromtimestamp(os.stat('demo.txt').st_mtime)) # change to time structure\n",
    "\n",
    "os.remove('demo.txt')"
   ]
  },
  {
   "cell_type": "code",
   "execution_count": 6,
   "metadata": {},
   "outputs": [],
   "source": [
    "# Shows all folders and files name\n",
    "\n",
    "# for dirpath, dirnames, filenames in os.walk(os.getcwd()):\n",
    "#     print('Current Path:', dirpath)\n",
    "#     print('Directories:', dirnames)\n",
    "#     print('Files:', filenames)\n",
    "#     print()"
   ]
  },
  {
   "cell_type": "code",
   "execution_count": 7,
   "metadata": {},
   "outputs": [
    {
     "name": "stdout",
     "output_type": "stream",
     "text": [
      "C:\\Users\\yu_wen\\Desktop\\SelfLearning\\GitHub\\LearningProgramming\\test.txt\n"
     ]
    }
   ],
   "source": [
    "file_path = os.path.join(os.getcwd(), 'test.txt') # Don't need to worry about doulbe // or missing /\n",
    "print(file_path)"
   ]
  },
  {
   "cell_type": "code",
   "execution_count": 8,
   "metadata": {},
   "outputs": [],
   "source": [
    "with open(file_path, 'w') as f:\n",
    "    f.write('TEXT')\n",
    "    f.close()\n",
    "\n",
    "os.remove(file_path)"
   ]
  },
  {
   "cell_type": "code",
   "execution_count": 9,
   "metadata": {},
   "outputs": [
    {
     "name": "stdout",
     "output_type": "stream",
     "text": [
      "test.txt\n",
      "/tmp\n",
      "('/tmp', 'test.txt')\n",
      "False\n",
      "False\n",
      "False\n",
      "('/tmp/test', '.txt')\n"
     ]
    }
   ],
   "source": [
    "print(os.path.basename('/tmp/test.txt')) # Get the file name. The path doesn't have to be existed.\n",
    "print(os.path.dirname('/tmp/test.txt'))  # Get the directory name\n",
    "print(os.path.split('/tmp/test.txt'))    # Split the dir and file names\n",
    "print(os.path.exists('/tmp/test.txt'))   # Check if the path exist\n",
    "print(os.path.isdir('/tmp/test.txt'))    # Check if it is a directory\n",
    "print(os.path.isfile('/tmp/test.txt'))   # Check if it is a file\n",
    "print(os.path.splitext('/tmp/test.txt')) # Split the file name and extension"
   ]
  },
  {
   "cell_type": "markdown",
   "metadata": {},
   "source": [
    "## Python Tutorial: File Objects - Reading and Writing to Files"
   ]
  },
  {
   "cell_type": "code",
   "execution_count": 10,
   "metadata": {},
   "outputs": [
    {
     "name": "stdout",
     "output_type": "stream",
     "text": [
      "True\n"
     ]
    }
   ],
   "source": [
    "# Contact manager method (Recommend)\n",
    "with open('test.txt', 'w') as f: # It closes the file automatically\n",
    "    f.write('1) This is a test file!\\n')\n",
    "    f.write('2) With multiple lines of data...\\n')\n",
    "    f.write('3) Third line\\n')\n",
    "    f.write('4) Fourth line\\n')\n",
    "    f.write('5) Fifth line\\n')\n",
    "    f.write('6) Sixth line\\n')\n",
    "    f.write('7) Seventh line\\n')\n",
    "    f.write('8) Eighth line\\n')\n",
    "    f.write('9) Ninth line\\n')\n",
    "    f.write('10) Tenth line\\n')\n",
    "\n",
    "print(f.closed) # Still have access to the f variable, but it is closed"
   ]
  },
  {
   "cell_type": "code",
   "execution_count": 11,
   "metadata": {},
   "outputs": [
    {
     "name": "stdout",
     "output_type": "stream",
     "text": [
      "test.txt\n",
      "r\n"
     ]
    }
   ],
   "source": [
    "f = open('test.txt', 'r')  # read\n",
    "# f = open('test.txt', 'w')  # write\n",
    "# f = open('test.txt', 'a')  # append\n",
    "# f = open('test.txt', 'r+') # read and write\n",
    "# f = open('test.txt', 'rb')  # read in binary, which need to be used for picture\n",
    "# f = open('test.txt', 'wb')  # write in binary, which need to be used for picture\n",
    "\n",
    "print(f.name) # file name\n",
    "print(f.mode) # file mode, which is read for this case\n",
    "\n",
    "f.close() # if not, leaking will happen"
   ]
  },
  {
   "cell_type": "code",
   "execution_count": 12,
   "metadata": {},
   "outputs": [
    {
     "name": "stdout",
     "output_type": "stream",
     "text": [
      "1) This is a test file!\n",
      "2) With multiple lines of data...\n",
      "3) Third line\n",
      "4) Fourth line\n",
      "5) Fifth line\n",
      "6) Sixth line\n",
      "7) Seventh line\n",
      "8) Eighth line\n",
      "9) Ninth line\n",
      "10) Tenth line\n",
      "\n"
     ]
    }
   ],
   "source": [
    "# Use read function\n",
    "with open('test.txt', 'r') as f:\n",
    "    f_contents = f.read()\n",
    "    print(f_contents)"
   ]
  },
  {
   "cell_type": "code",
   "execution_count": 13,
   "metadata": {},
   "outputs": [
    {
     "name": "stdout",
     "output_type": "stream",
     "text": [
      "1) This is a test file!\n",
      "2) With multiple lines of data...\n",
      "3) Third line\n",
      "4) Fourth line\n",
      "5) Fifth line\n",
      "6) Sixth line\n",
      "7) Seventh line\n",
      "8) Eighth line\n",
      "9) Ninth line\n",
      "10) Tenth line\n",
      "\n"
     ]
    }
   ],
   "source": [
    "# Use read function\n",
    "with open('test.txt', 'r') as f:\n",
    "    f_contents = f.read(100) # read 100 characters\n",
    "    print(f_contents, end='')\n",
    "    \n",
    "    f_contents = f.read(100) # read the next 100 characters\n",
    "    print(f_contents)"
   ]
  },
  {
   "cell_type": "code",
   "execution_count": 14,
   "metadata": {},
   "outputs": [
    {
     "name": "stdout",
     "output_type": "stream",
     "text": [
      "['1) This is a test file!\\n', '2) With multiple lines of data...\\n', '3) Third line\\n', '4) Fourth line\\n', '5) Fifth line\\n', '6) Sixth line\\n', '7) Seventh line\\n', '8) Eighth line\\n', '9) Ninth line\\n', '10) Tenth line\\n']\n"
     ]
    }
   ],
   "source": [
    "# Only read part of the file, which saves memory\n",
    "with open('test.txt', 'r') as f:\n",
    "    f_contents = f.readlines() # Read lines one by one\n",
    "    print(f_contents)"
   ]
  },
  {
   "cell_type": "code",
   "execution_count": 15,
   "metadata": {},
   "outputs": [
    {
     "name": "stdout",
     "output_type": "stream",
     "text": [
      "1) This is a test file!\n",
      "\n",
      "2) With multiple lines of data...\n",
      "\n"
     ]
    }
   ],
   "source": [
    "# Note: There is blank line after reading each line\n",
    "with open('test.txt', 'r') as f:\n",
    "    f_contents = f.readline() # Read a single line\n",
    "    print(f_contents)\n",
    "    \n",
    "    f_contents = f.readline() # Read another single line\n",
    "    print(f_contents)"
   ]
  },
  {
   "cell_type": "code",
   "execution_count": 16,
   "metadata": {},
   "outputs": [
    {
     "name": "stdout",
     "output_type": "stream",
     "text": [
      "1) This is a test file!\n",
      "2) With multiple lines of data...\n"
     ]
    }
   ],
   "source": [
    "# Note: Remove the blank lines\n",
    "with open('test.txt', 'r') as f:\n",
    "    f_contents = f.readline() # Read a single line\n",
    "    print(f_contents, end='')\n",
    "    \n",
    "    f_contents = f.readline() # Read another single line\n",
    "    print(f_contents, end='')"
   ]
  },
  {
   "cell_type": "code",
   "execution_count": 17,
   "metadata": {},
   "outputs": [
    {
     "name": "stdout",
     "output_type": "stream",
     "text": [
      "1) This is a test file!\n",
      "2) With multiple lines of data...\n",
      "3) Third line\n",
      "4) Fourth line\n",
      "5) Fifth line\n",
      "6) Sixth line\n",
      "7) Seventh line\n",
      "8) Eighth line\n",
      "9) Ninth line\n",
      "10) Tenth line\n"
     ]
    }
   ],
   "source": [
    "# Use for loop\n",
    "with open('test.txt', 'r') as f:\n",
    "    for line in f:\n",
    "        print(line, end='')"
   ]
  },
  {
   "cell_type": "code",
   "execution_count": 18,
   "metadata": {},
   "outputs": [
    {
     "name": "stdout",
     "output_type": "stream",
     "text": [
      "1) This is* a test fi*le!\n",
      "2) Wit*h multiple* lines of *data...\n",
      "3)* Third lin*e\n",
      "4) Fourt*h line\n",
      "5) *Fifth line*\n",
      "6) Sixth *line\n",
      "7) Se*venth line*\n",
      "8) Eighth* line\n",
      "9) N*inth line\n",
      "*10) Tenth *line\n",
      "*"
     ]
    }
   ],
   "source": [
    "# Use while loop\n",
    "with open('test.txt', 'r') as f:\n",
    "    size_to_read = 10\n",
    "    f_contents = f.read(size_to_read)\n",
    "    while len(f_contents) > 0: # When reach to the end, read function will return empty string.\n",
    "        print(f_contents, end='*')\n",
    "        f_contents = f.read(size_to_read)"
   ]
  },
  {
   "cell_type": "code",
   "execution_count": 19,
   "metadata": {},
   "outputs": [
    {
     "name": "stdout",
     "output_type": "stream",
     "text": [
      "10\n"
     ]
    }
   ],
   "source": [
    "# tell function\n",
    "with open('test.txt', 'r') as f:\n",
    "    size_to_read = 10\n",
    "    f_contents = f.read(size_to_read)\n",
    "    print(f.tell()) # Knows where we are in this file"
   ]
  },
  {
   "cell_type": "code",
   "execution_count": 20,
   "metadata": {},
   "outputs": [
    {
     "name": "stdout",
     "output_type": "stream",
     "text": [
      "1) This is1) This is"
     ]
    }
   ],
   "source": [
    "# seek function\n",
    "with open('test.txt', 'r') as f:\n",
    "    size_to_read = 10\n",
    "    f_contents = f.read(size_to_read)\n",
    "    print(f_contents, end='')\n",
    "    \n",
    "    f.seek(0) # set position back to the beginning of the file.\n",
    "    # Otherwise, read function will keep reading.\n",
    "    \n",
    "    f_contents = f.read(size_to_read)\n",
    "    print(f_contents, end='')"
   ]
  },
  {
   "cell_type": "code",
   "execution_count": 21,
   "metadata": {},
   "outputs": [],
   "source": [
    "# seek in write\n",
    "with open('test2.txt', 'w') as f: # If the file exists, the file will be overwritten.\n",
    "    f.write('Test')\n",
    "    f.seek(0)\n",
    "    f.write('R') # Overwrite the first character"
   ]
  },
  {
   "cell_type": "code",
   "execution_count": 22,
   "metadata": {},
   "outputs": [],
   "source": [
    "# Remove file\n",
    "os.remove('test2.txt')"
   ]
  },
  {
   "cell_type": "code",
   "execution_count": 23,
   "metadata": {},
   "outputs": [],
   "source": [
    "# Work with multiple files at the same time\n",
    "with open('test.txt', 'r') as rf:\n",
    "    with open('test_copy.txt', 'w') as wf:\n",
    "        for line in rf:\n",
    "            wf.write(line)"
   ]
  },
  {
   "cell_type": "code",
   "execution_count": 24,
   "metadata": {},
   "outputs": [],
   "source": [
    "# Remove files\n",
    "os.remove('test.txt')\n",
    "os.remove('test_copy.txt')"
   ]
  },
  {
   "cell_type": "markdown",
   "metadata": {},
   "source": [
    "## Python Tutorial: How to Set the Path and Switch Between Different Versions/Executables (Windows)"
   ]
  },
  {
   "cell_type": "markdown",
   "metadata": {},
   "source": [
    "1) Add different version of ptyhon in path\n",
    "    - add python.exe full path into path\n",
    "2) Add different version of pip scripts in path\n",
    "    - add pip.exe full path into path\n",
    "3) Check which version of path is running\n",
    "    - within python\n",
    "        - import sys\n",
    "        - sys.executable\n",
    "    - check all paths\n",
    "        - echo %path%\n",
    "4) Manage packages by pip\n",
    "    - pip install <package_name>\n",
    "    - pip show <package_name>"
   ]
  },
  {
   "cell_type": "markdown",
   "metadata": {},
   "source": [
    "## Python Tutorial: Automate Parsing and Renaming of Multiple Files"
   ]
  },
  {
   "cell_type": "code",
   "execution_count": 25,
   "metadata": {},
   "outputs": [
    {
     "name": "stdout",
     "output_type": "stream",
     "text": [
      "C:\\Users\\yu_wen\\Desktop\\SelfLearning\\GitHub\\LearningProgramming\\test\n"
     ]
    }
   ],
   "source": [
    "# Create some files for testing\n",
    "import os\n",
    "\n",
    "\n",
    "os.mkdir('test')\n",
    "os.chdir(r'C:\\Users\\yu_wen\\Desktop\\SelfLearning\\GitHub\\LearningProgramming\\test')\n",
    "print(os.getcwd())\n",
    "\n",
    "f = open('Earth - Our Solar System - #4.txt', 'w')\n",
    "f.close()\n",
    "f = open('Jupiter - Our Solar System - #6.txt', 'w')\n",
    "f.close()\n",
    "f = open('Mars - Our Solar System - #5.txt', 'w')\n",
    "f.close()\n",
    "f = open('Mercury - Our Solar System - #2.txt', 'w')\n",
    "f.close()\n",
    "f = open('Neptune - Our Solar System - #8.txt', 'w')\n",
    "f.close()\n",
    "f = open('Pluto - Our Solar System - #10.txt', 'w')\n",
    "f.close()\n",
    "f = open('Saturn - Our Solar System - #7.txt', 'w')\n",
    "f.close()\n",
    "f = open('The Sun - Our Solar System - #1.txt', 'w')\n",
    "f.close()\n",
    "f = open('Uranus - Our Solar System - #9.txt', 'w')\n",
    "f.close()\n",
    "f = open('Venus - Our Solar System - #3.txt', 'w')\n",
    "f.close()"
   ]
  },
  {
   "cell_type": "code",
   "execution_count": 26,
   "metadata": {},
   "outputs": [
    {
     "name": "stdout",
     "output_type": "stream",
     "text": [
      "Earth - Our Solar System - #4.txt\n",
      "Jupiter - Our Solar System - #6.txt\n",
      "Mars - Our Solar System - #5.txt\n",
      "Mercury - Our Solar System - #2.txt\n",
      "Neptune - Our Solar System - #8.txt\n",
      "Pluto - Our Solar System - #10.txt\n",
      "Saturn - Our Solar System - #7.txt\n",
      "The Sun - Our Solar System - #1.txt\n",
      "Uranus - Our Solar System - #9.txt\n",
      "Venus - Our Solar System - #3.txt\n"
     ]
    }
   ],
   "source": [
    "# List out all file names\n",
    "for f in os.listdir():\n",
    "    print(f)"
   ]
  },
  {
   "cell_type": "code",
   "execution_count": 27,
   "metadata": {},
   "outputs": [],
   "source": [
    "# Rename files\n",
    "for f in os.listdir():\n",
    "    f_name, f_ext = os.path.splitext(f)\n",
    "    f_title, f_course, f_num = f_name.split('-')\n",
    "    f_title = f_title.strip() # remove all extra space at the end\n",
    "    f_course = f_course.strip()\n",
    "    f_num = f_num.strip()[1:].zfill(2) # remove # and fill zeros for single digital\n",
    "    new_name = '{}-{}{}'.format(f_num, f_title, f_ext)\n",
    "    os.rename(f, new_name)"
   ]
  },
  {
   "cell_type": "code",
   "execution_count": 28,
   "metadata": {},
   "outputs": [
    {
     "name": "stdout",
     "output_type": "stream",
     "text": [
      "01-The Sun.txt\n",
      "02-Mercury.txt\n",
      "03-Venus.txt\n",
      "04-Earth.txt\n",
      "05-Mars.txt\n",
      "06-Jupiter.txt\n",
      "07-Saturn.txt\n",
      "08-Neptune.txt\n",
      "09-Uranus.txt\n",
      "10-Pluto.txt\n"
     ]
    }
   ],
   "source": [
    "# List out all file names\n",
    "for f in os.listdir():\n",
    "    print(f)"
   ]
  },
  {
   "cell_type": "code",
   "execution_count": 29,
   "metadata": {},
   "outputs": [],
   "source": [
    "# Removed test folder\n",
    "import shutil\n",
    "\n",
    "\n",
    "os.chdir(r'C:\\Users\\yu_wen\\Desktop\\SelfLearning\\GitHub\\LearningProgramming')\n",
    "shutil.rmtree('test')"
   ]
  },
  {
   "cell_type": "markdown",
   "metadata": {},
   "source": [
    "## Python Tutorial: CSV Module - How to Read, Parse, and Write CSV Files"
   ]
  },
  {
   "cell_type": "code",
   "execution_count": 43,
   "metadata": {},
   "outputs": [
    {
     "name": "stdout",
     "output_type": "stream",
     "text": [
      "john-doe@bogusemail.com\n",
      "maryjacobs@bogusemail.com\n",
      "davesmith@bogusemail.com\n"
     ]
    }
   ],
   "source": [
    "import csv\n",
    "\n",
    "\n",
    "with open('names.csv', 'w', newline='') as csv_file: # No extra line was created.\n",
    "    csv_writer = csv.writer(csv_file) # '-' is not a good delimiter\n",
    "    \n",
    "    csv_writer.writerow(['first_name', 'last_name', 'email'])\n",
    "    csv_writer.writerow(['John', 'Doe', 'john-doe@bogusemail.com'])\n",
    "    csv_writer.writerow(['Mary', 'Smith-Robinson', 'maryjacobs@bogusemail.com'])\n",
    "    csv_writer.writerow(['Dave', 'Smith', 'davesmith@bogusemail.com'])\n",
    "\n",
    "\n",
    "with open('names.csv', 'r') as csv_file:\n",
    "    csv_reader = csv.reader(csv_file) # csv_reader is an object in memory\n",
    "\n",
    "    next(csv_reader) # Skip the header ==> Generator\n",
    "\n",
    "    for line in csv_reader:\n",
    "        print(line[2])"
   ]
  },
  {
   "cell_type": "code",
   "execution_count": 50,
   "metadata": {},
   "outputs": [],
   "source": [
    "# Work with multiple files at the same time\n",
    "with open('names.csv', 'r') as csv_file:\n",
    "    csv_reader = csv.reader(csv_file)\n",
    "    \n",
    "    with open('new_names.csv', 'w', newline='') as new_file:\n",
    "        csv_writer = csv.writer(new_file, delimiter='\\t') # '-' is not a good delimiter\n",
    "        \n",
    "        for line in csv_reader:\n",
    "            csv_writer.writerow(line)"
   ]
  },
  {
   "cell_type": "code",
   "execution_count": 51,
   "metadata": {},
   "outputs": [
    {
     "name": "stdout",
     "output_type": "stream",
     "text": [
      "{'first_name': 'John', 'last_name': 'Doe', 'email': 'john-doe@bogusemail.com'}\n",
      "{'first_name': 'Mary', 'last_name': 'Smith-Robinson', 'email': 'maryjacobs@bogusemail.com'}\n",
      "{'first_name': 'Dave', 'last_name': 'Smith', 'email': 'davesmith@bogusemail.com'}\n"
     ]
    }
   ],
   "source": [
    "# Use DictReader and DictWriter\n",
    "os.remove('new_names.csv')\n",
    "\n",
    "\n",
    "with open('names.csv', 'r') as csv_file:\n",
    "    csv_reader = csv.DictReader(csv_file)\n",
    "    \n",
    "    for line in csv_reader:\n",
    "        print(line['email']) # using the key instead of index"
   ]
  },
  {
   "cell_type": "code",
   "execution_count": 56,
   "metadata": {},
   "outputs": [],
   "source": [
    "with open('names.csv', 'r') as csv_file:\n",
    "    csv_reader = csv.DictReader(csv_file)\n",
    "    \n",
    "    with open('new_names.csv', 'w', newline='') as new_file:\n",
    "        fieldnames = ['first_name', 'last_name', 'email']\n",
    "        \n",
    "        csv_writer = csv.DictWriter(new_file, fieldnames=fieldnames)\n",
    "        \n",
    "        csv_writer.writeheader() # Write the header names.\n",
    "        \n",
    "        for line in csv_reader:\n",
    "            del line['email'] # remove the email by using key\n",
    "            csv_writer.writerow(line)"
   ]
  },
  {
   "cell_type": "code",
   "execution_count": 57,
   "metadata": {},
   "outputs": [],
   "source": [
    "os.remove('names.csv')\n",
    "os.remove('new_names.csv')"
   ]
  },
  {
   "cell_type": "markdown",
   "metadata": {},
   "source": [
    "## Python Tutorial: Real World Example - Parsing Names From a CSV to an HTML List"
   ]
  },
  {
   "cell_type": "markdown",
   "metadata": {},
   "source": [
    "Real World Example of \"Python Tutorial: CSV Module - How to Read, Parse, and Write CSV Files\""
   ]
  },
  {
   "cell_type": "markdown",
   "metadata": {},
   "source": [
    "### Suggested: Python Tutorial: Generators - How to use them and the benefits you received"
   ]
  },
  {
   "cell_type": "code",
   "execution_count": 58,
   "metadata": {},
   "outputs": [
    {
     "name": "stdout",
     "output_type": "stream",
     "text": [
      "1\n",
      "4\n",
      "9\n"
     ]
    }
   ],
   "source": [
    "# Generators: Don't hold the entire result in memory. It yields one result at a time.\n",
    "def square_numbers(nums):\n",
    "    for i in nums:\n",
    "        yield(i*i)\n",
    "\n",
    "\n",
    "my_nums = square_numbers([1, 2, 3, 4, 5])\n",
    "\n",
    "print(next(my_nums))\n",
    "print(next(my_nums))\n",
    "print(next(my_nums))\n",
    "# If there are more than 5, an error message will be generated, because there are only 5 items in the list."
   ]
  },
  {
   "cell_type": "code",
   "execution_count": 63,
   "metadata": {},
   "outputs": [
    {
     "name": "stdout",
     "output_type": "stream",
     "text": [
      "1\n",
      "4\n",
      "9\n",
      "16\n",
      "25\n"
     ]
    }
   ],
   "source": [
    "# Use for loop. The for loop knows where to stop\n",
    "my_nums = square_numbers([1, 2, 3, 4, 5]) # my_nums has to be re-defined\n",
    "for num in my_nums:\n",
    "    print(num)"
   ]
  },
  {
   "cell_type": "markdown",
   "metadata": {},
   "source": [
    "#### Suggested: Python Tutorial: Comprehensions - How they work and why you should be using them"
   ]
  },
  {
   "cell_type": "markdown",
   "metadata": {},
   "source": [
    "List comprehensions: easier and more readable way to create a list."
   ]
  },
  {
   "cell_type": "code",
   "execution_count": 70,
   "metadata": {},
   "outputs": [
    {
     "name": "stdout",
     "output_type": "stream",
     "text": [
      "[1, 2, 3, 4, 5, 6, 7, 8, 9, 10]\n"
     ]
    }
   ],
   "source": [
    "nums = [1, 2, 3, 4, 5, 6, 7, 8, 9, 10]\n",
    "my_list = [n for n in nums]\n",
    "print(my_list)"
   ]
  },
  {
   "cell_type": "code",
   "execution_count": 71,
   "metadata": {},
   "outputs": [
    {
     "name": "stdout",
     "output_type": "stream",
     "text": [
      "[1, 4, 9, 16, 25, 36, 49, 64, 81, 100]\n"
     ]
    }
   ],
   "source": [
    "my_list = [n*n for n in nums]\n",
    "print(my_list)"
   ]
  },
  {
   "cell_type": "code",
   "execution_count": 75,
   "metadata": {},
   "outputs": [
    {
     "name": "stdout",
     "output_type": "stream",
     "text": [
      "[1, 4, 9, 16, 25, 36, 49, 64, 81, 100]\n"
     ]
    }
   ],
   "source": [
    "# Using a map + lambda\n",
    "my_list = list(map(lambda n: n*n, nums))\n",
    "print(my_list)"
   ]
  },
  {
   "cell_type": "code",
   "execution_count": 77,
   "metadata": {},
   "outputs": [
    {
     "name": "stdout",
     "output_type": "stream",
     "text": [
      "[2, 4, 6, 8, 10]\n"
     ]
    }
   ],
   "source": [
    "my_list = [n for n in nums if n%2 == 0]\n",
    "print(my_list)"
   ]
  },
  {
   "cell_type": "code",
   "execution_count": 80,
   "metadata": {},
   "outputs": [
    {
     "name": "stdout",
     "output_type": "stream",
     "text": [
      "[2, 4, 6, 8, 10]\n"
     ]
    }
   ],
   "source": [
    "# Using a filter + lambda\n",
    "my_list = list(filter(lambda n: n%2 == 0, nums))\n",
    "print(my_list)"
   ]
  },
  {
   "cell_type": "code",
   "execution_count": 81,
   "metadata": {},
   "outputs": [
    {
     "name": "stdout",
     "output_type": "stream",
     "text": [
      "[('a', 0), ('a', 1), ('a', 2), ('a', 3), ('b', 0), ('b', 1), ('b', 2), ('b', 3), ('c', 0), ('c', 1), ('c', 2), ('c', 3), ('d', 0), ('d', 1), ('d', 2), ('d', 3)]\n"
     ]
    }
   ],
   "source": [
    "my_list = [(letter, num) for letter in 'abcd' for num in range(4)]\n",
    "print(my_list)"
   ]
  },
  {
   "cell_type": "code",
   "execution_count": 84,
   "metadata": {},
   "outputs": [
    {
     "name": "stdout",
     "output_type": "stream",
     "text": [
      "{'Wade': 'Deadpool', 'Clark': 'Superman', 'Logan': 'Wolverine', 'Bruce': 'Batman'}\n"
     ]
    }
   ],
   "source": [
    "# Dictionary Comprehensions\n",
    "names = ['Bruce', 'Clark', 'Peter', 'Logan', 'Wade']\n",
    "heros = ['Batman', 'Superman', 'Spiderman', 'Wolverine', 'Deadpool']\n",
    "\n",
    "my_dict = {name: hero for name, hero in zip (names, heros) if name != 'Peter'}\n",
    "print(my_dict)"
   ]
  },
  {
   "cell_type": "code",
   "execution_count": 85,
   "metadata": {},
   "outputs": [
    {
     "name": "stdout",
     "output_type": "stream",
     "text": [
      "{1, 2, 3, 4, 5, 6, 7, 8, 9}\n"
     ]
    }
   ],
   "source": [
    "# Set Comprehensions\n",
    "nums = [1, 1, 2, 1, 3, 4, 3, 4, 5, 5, 6, 7, 8, 7, 9, 9]\n",
    "my_set = {n for n in nums}\n",
    "print(my_set)"
   ]
  },
  {
   "cell_type": "code",
   "execution_count": 88,
   "metadata": {},
   "outputs": [
    {
     "name": "stdout",
     "output_type": "stream",
     "text": [
      "1\n",
      "2\n",
      "3\n",
      "4\n",
      "5\n",
      "6\n",
      "7\n",
      "8\n",
      "9\n",
      "10\n"
     ]
    }
   ],
   "source": [
    "# Generator Expressions\n",
    "nums = [1, 2, 3, 4, 5, 6, 7, 8, 9, 10]\n",
    "my_gen = (n for n in nums)\n",
    "for i in my_gen:\n",
    "    print(i)"
   ]
  },
  {
   "cell_type": "markdown",
   "metadata": {},
   "source": [
    "#### End: Python Tutorial: Comprehensions - How they work and why you should be using them"
   ]
  },
  {
   "cell_type": "code",
   "execution_count": 66,
   "metadata": {},
   "outputs": [
    {
     "name": "stdout",
     "output_type": "stream",
     "text": [
      "[1, 4, 9, 16, 25]\n",
      "1\n",
      "4\n",
      "9\n",
      "16\n",
      "25\n"
     ]
    }
   ],
   "source": [
    "my_nums = [x*x for x in [1, 2, 3, 4, 5]] # It is a list.\n",
    "print(my_nums)\n",
    "for num in my_nums:\n",
    "    print(num)"
   ]
  },
  {
   "cell_type": "code",
   "execution_count": 67,
   "metadata": {},
   "outputs": [
    {
     "name": "stdout",
     "output_type": "stream",
     "text": [
      "<generator object <genexpr> at 0x0000000004D57CA8>\n",
      "1\n",
      "4\n",
      "9\n",
      "16\n",
      "25\n"
     ]
    }
   ],
   "source": [
    "my_nums = (x*x for x in [1, 2, 3, 4, 5]) # It is a generator.\n",
    "print(my_nums)\n",
    "for num in my_nums:\n",
    "    print(num)"
   ]
  },
  {
   "cell_type": "code",
   "execution_count": 68,
   "metadata": {},
   "outputs": [
    {
     "name": "stdout",
     "output_type": "stream",
     "text": [
      "[1, 4, 9, 16, 25]\n"
     ]
    }
   ],
   "source": [
    "my_nums = (x*x for x in [1, 2, 3, 4, 5]) # It is a generator.\n",
    "print(list(my_nums)) # Convert generator to a list. However, it loses performance.\n",
    "# For a large number of list, the memory and time will be big differences."
   ]
  },
  {
   "cell_type": "markdown",
   "metadata": {},
   "source": [
    "### End: Python Tutorial: Generators - How to use them and the benefits you received"
   ]
  },
  {
   "cell_type": "markdown",
   "metadata": {},
   "source": [
    "## Python Tutorial: Datetime Module - How to work with Dates, Times, Timedeltas, and Timezones"
   ]
  }
 ],
 "metadata": {
  "kernelspec": {
   "display_name": "Python 3",
   "language": "python",
   "name": "python3"
  },
  "language_info": {
   "codemirror_mode": {
    "name": "ipython",
    "version": 3
   },
   "file_extension": ".py",
   "mimetype": "text/x-python",
   "name": "python",
   "nbconvert_exporter": "python",
   "pygments_lexer": "ipython3",
   "version": "3.5.1"
  }
 },
 "nbformat": 4,
 "nbformat_minor": 2
}
