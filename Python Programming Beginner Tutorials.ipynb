{
 "cells": [
  {
   "cell_type": "markdown",
   "metadata": {},
   "source": [
    "# Notes for YouTube Python Tutorials\n",
    "## Python Programming Beginner Tutorials\n",
    "https://www.youtube.com/watch?v=YYXdXT2l-Gg&list=PL-osiE80TeTskrapNbzXhwoFUiLCjGgY7&index=1"
   ]
  },
  {
   "cell_type": "markdown",
   "metadata": {},
   "source": [
    "## Python Tutorial for Beginner 2: Strings - Working with Textual Data"
   ]
  },
  {
   "cell_type": "code",
   "execution_count": 1,
   "metadata": {},
   "outputs": [
    {
     "name": "stdout",
     "output_type": "stream",
     "text": [
      "Bobby's World was a good\n",
      "cartoon in the 1990s\n"
     ]
    }
   ],
   "source": [
    "message = \"\"\"Bobby's World was a good\n",
    "cartoon in the 1990s\"\"\"\n",
    "print(message)"
   ]
  },
  {
   "cell_type": "code",
   "execution_count": 2,
   "metadata": {},
   "outputs": [
    {
     "name": "stdout",
     "output_type": "stream",
     "text": [
      "3\n",
      "6\n",
      "Hello Universe\n"
     ]
    }
   ],
   "source": [
    "message = 'Hello World'\n",
    "print(message.count('l')) # Count the number of 'l'\n",
    "print(message.find('World')) # Find where is 'World'\n",
    "\n",
    "new_message = message.replace('World', 'Universe')\n",
    "print(new_message)"
   ]
  },
  {
   "cell_type": "markdown",
   "metadata": {},
   "source": [
    "### Suggested: Python Tutorial: Slicing Lists and Strings"
   ]
  },
  {
   "cell_type": "code",
   "execution_count": 3,
   "metadata": {},
   "outputs": [
    {
     "name": "stdout",
     "output_type": "stream",
     "text": [
      "[9, 8, 7, 6, 5, 4, 3]\n"
     ]
    }
   ],
   "source": [
    "my_list = [0, 1, 2, 3, 4, 5, 6, 7, 8, 9]\n",
    "#          0, 1, 2, 3, 4, 5, 6, 7, 8, 9\n",
    "#        -10,-9,-8,-7,-6,-5,-4,-3,-2,-1\n",
    "# list[start:end:step]\n",
    "print(my_list[-1:2:-1]) # Reverse lsit\n",
    "# All slicing works for both lists and strings."
   ]
  },
  {
   "cell_type": "markdown",
   "metadata": {},
   "source": [
    "### End: Python Tutorial: Slicing Lists and Strings"
   ]
  },
  {
   "cell_type": "code",
   "execution_count": 4,
   "metadata": {},
   "outputs": [
    {
     "name": "stdout",
     "output_type": "stream",
     "text": [
      "Hello, Michael. Welcome!\n",
      "Hello, Michael. Welcome!\n"
     ]
    }
   ],
   "source": [
    "greeting = 'Hello'\n",
    "name = 'Michael'\n",
    "\n",
    "message = greeting + ', ' + name + '. Welcome!'\n",
    "print(message)\n",
    "message = '{}, {}. Welcome!'.format(greeting, name) # This format is easier to read.\n",
    "print(message)"
   ]
  },
  {
   "cell_type": "markdown",
   "metadata": {},
   "source": [
    "### Suggested: Python Tutorial: String Formatting - Advanced Operations for Dicts, Lists, Numbers, and Dates"
   ]
  },
  {
   "cell_type": "code",
   "execution_count": 5,
   "metadata": {},
   "outputs": [
    {
     "name": "stdout",
     "output_type": "stream",
     "text": [
      "1 - My name is Jenn and I am 23 years old.\n",
      "\n",
      "2 - Name: Jenn && Age: 23\n",
      "    Name: Jenn && Age: 23\n",
      "\n",
      "3 - My name is Jenn and I am 23 years old.\n",
      "\n",
      "3 - My name is Jenn and I am 23 years old.\n",
      "\n",
      "4 - My name is Jenn and I am 23 years old.\n",
      "\n"
     ]
    }
   ],
   "source": [
    "person = {'name': 'Jenn', 'age': 23}\n",
    "\n",
    "\n",
    "# Use format for dictionary\n",
    "sentence = '1 - My name is {0} and I am {1} years old.\\n'.format(person['name'], person['age'])\n",
    "print(sentence)\n",
    "\n",
    "\n",
    "# Can use values in format multiple times\n",
    "sentence = '2 - Name: {0} && Age: {1}\\n    ' \\\n",
    "           'Name: {0} && Age: {1}\\n'.format(person['name'], person['age'])\n",
    "print(sentence)\n",
    "\n",
    "\n",
    "# Use the key of dictionary in sentence\n",
    "sentence = '3 - My name is {0[name]} and I am {1[age]} years old.\\n'.format(person, person)\n",
    "print(sentence)\n",
    "sentence = '3 - My name is {0[name]} and I am {0[age]} years old.\\n'.format(person)\n",
    "print(sentence)\n",
    "\n",
    "\n",
    "# Unpack dictionary\n",
    "sentence = '4 - My name is {name} and I am {age} years old.\\n'.format(**person)\n",
    "print(sentence)"
   ]
  },
  {
   "cell_type": "code",
   "execution_count": 6,
   "metadata": {},
   "outputs": [
    {
     "name": "stdout",
     "output_type": "stream",
     "text": [
      "My name is Jenn and I am 23 years old.\n",
      "\n"
     ]
    }
   ],
   "source": [
    "# Lists is similar with dictionary\n",
    "l = ['Jenn', 23]\n",
    "sentence = 'My name is {0[0]} and I am {0[1]} years old.\\n'.format(l)\n",
    "print(sentence)"
   ]
  },
  {
   "cell_type": "code",
   "execution_count": 7,
   "metadata": {},
   "outputs": [
    {
     "name": "stdout",
     "output_type": "stream",
     "text": [
      "My name is Jack and I am 33 years old.\n",
      "\n"
     ]
    }
   ],
   "source": [
    "# Use format in a class\n",
    "class Person:\n",
    "    def __init__(self, name, age):\n",
    "        self.name = name\n",
    "        self.age = age\n",
    "\n",
    "\n",
    "p1 = Person('Jack', '33')\n",
    "sentence = 'My name is {0.name} and I am {0.age} years old.\\n'.format(p1)\n",
    "print(sentence)"
   ]
  },
  {
   "cell_type": "code",
   "execution_count": 8,
   "metadata": {},
   "outputs": [
    {
     "name": "stdout",
     "output_type": "stream",
     "text": [
      "My name is Jenn and I am 30 years old.\n",
      "\n"
     ]
    }
   ],
   "source": [
    "# Use key words in format\n",
    "sentence = 'My name is {name} and I am {age} years old.\\n'.format(name='Jenn', age='30')\n",
    "print(sentence)"
   ]
  },
  {
   "cell_type": "code",
   "execution_count": 9,
   "metadata": {},
   "outputs": [
    {
     "name": "stdout",
     "output_type": "stream",
     "text": [
      "The value is 01\n",
      "The value is 02\n",
      "The value is 03\n",
      "The value is 04\n",
      "The value is 05\n",
      "The value is 06\n",
      "The value is 07\n",
      "The value is 08\n",
      "The value is 09\n",
      "The value is 10\n"
     ]
    }
   ],
   "source": [
    "# Show more digits\n",
    "for i in range(1, 11):\n",
    "    sentence = 'The value is {:02}'.format(i) # 2 digits and use 0 for placeholder\n",
    "    print(sentence)"
   ]
  },
  {
   "cell_type": "code",
   "execution_count": 10,
   "metadata": {},
   "outputs": [
    {
     "name": "stdout",
     "output_type": "stream",
     "text": [
      "Pi is equal to 3.14\n"
     ]
    }
   ],
   "source": [
    "# Only show a few decimal places\n",
    "pi = 3.1415926\n",
    "sentence = 'Pi is equal to {:.2f}'.format(pi)\n",
    "print(sentence)"
   ]
  },
  {
   "cell_type": "code",
   "execution_count": 11,
   "metadata": {},
   "outputs": [
    {
     "name": "stdout",
     "output_type": "stream",
     "text": [
      "The number is 1,000,000\n",
      "The number is 1,000,000.00\n"
     ]
    }
   ],
   "source": [
    "# Add comma separators\n",
    "sentence = 'The number is {:,}'.format(1000**2)\n",
    "print(sentence)\n",
    "sentence = 'The number is {:,.2f}'.format(1000**2)\n",
    "print(sentence)"
   ]
  },
  {
   "cell_type": "code",
   "execution_count": 12,
   "metadata": {},
   "outputs": [
    {
     "name": "stdout",
     "output_type": "stream",
     "text": [
      "September 24, 2016 fell on a Saturday and was the 268 day of the year\n"
     ]
    }
   ],
   "source": [
    "import datetime\n",
    "\n",
    "\n",
    "my_date = datetime.datetime(2016, 9, 24, 12, 30, 45)\n",
    "# March 01, 2016 fell on a Tuesday and was the 061 day of the year\n",
    "# 0 is necessary, because there is only one parameter in format and it is used multiple times.\n",
    "# The space and comma after : is for displaying\n",
    "sentence = '{0:%B %d, %Y} fell on a {0:%A} and was the {0:%j} day of the year'.format(my_date)\n",
    "print(sentence)"
   ]
  },
  {
   "cell_type": "markdown",
   "metadata": {},
   "source": [
    "### End: Python Tutorial: String Formatting - Advanced Operations for Dicts, Lists, Numbers, and Dates"
   ]
  },
  {
   "cell_type": "code",
   "execution_count": 13,
   "metadata": {},
   "outputs": [
    {
     "name": "stdout",
     "output_type": "stream",
     "text": [
      "Hello, MICHAEL. Welcome!\n"
     ]
    }
   ],
   "source": [
    "# Use f string (Have to be version 3.6 or above)\n",
    "greeting = 'Hello'\n",
    "name = 'Michael'\n",
    "\n",
    "message = f'{greeting}, {name.upper()}. Welcome!'\n",
    "print(message)"
   ]
  },
  {
   "cell_type": "code",
   "execution_count": 14,
   "metadata": {},
   "outputs": [
    {
     "name": "stdout",
     "output_type": "stream",
     "text": [
      "['__add__', '__class__', '__contains__', '__delattr__', '__dir__', '__doc__', '__eq__', '__format__', '__ge__', '__getattribute__', '__getitem__', '__getnewargs__', '__gt__', '__hash__', '__init__', '__init_subclass__', '__iter__', '__le__', '__len__', '__lt__', '__mod__', '__mul__', '__ne__', '__new__', '__reduce__', '__reduce_ex__', '__repr__', '__rmod__', '__rmul__', '__setattr__', '__sizeof__', '__str__', '__subclasshook__', 'capitalize', 'casefold', 'center', 'count', 'encode', 'endswith', 'expandtabs', 'find', 'format', 'format_map', 'index', 'isalnum', 'isalpha', 'isascii', 'isdecimal', 'isdigit', 'isidentifier', 'islower', 'isnumeric', 'isprintable', 'isspace', 'istitle', 'isupper', 'join', 'ljust', 'lower', 'lstrip', 'maketrans', 'partition', 'replace', 'rfind', 'rindex', 'rjust', 'rpartition', 'rsplit', 'rstrip', 'split', 'splitlines', 'startswith', 'strip', 'swapcase', 'title', 'translate', 'upper', 'zfill']\n"
     ]
    }
   ],
   "source": [
    "# Show all methods of a variable\n",
    "# Based on the methods, we can use 'replace' or 'upper' ...\n",
    "print(dir(name))"
   ]
  },
  {
   "cell_type": "code",
   "execution_count": 15,
   "metadata": {},
   "outputs": [
    {
     "name": "stdout",
     "output_type": "stream",
     "text": [
      "Help on method_descriptor:\n",
      "\n",
      "lower(self, /)\n",
      "    Return a copy of the string converted to lowercase.\n",
      "\n",
      "None\n"
     ]
    }
   ],
   "source": [
    "# Help function to show how to use a function\n",
    "print(help(str.lower))"
   ]
  },
  {
   "cell_type": "markdown",
   "metadata": {},
   "source": [
    "## Python Tutorial for Beginners 4: Lists, Tuples, and Sets"
   ]
  },
  {
   "cell_type": "code",
   "execution_count": 16,
   "metadata": {},
   "outputs": [
    {
     "name": "stdout",
     "output_type": "stream",
     "text": [
      "['History', 'Math', 'Phsics', 'CompSci', ['Art', 'Education']]\n",
      "['History', 'Math', 'Phsics', 'CompSci', 'Art', 'Education']\n"
     ]
    }
   ],
   "source": [
    "# append is different from extend\n",
    "courses = ['History', 'Math', 'Phsics', 'CompSci']\n",
    "courses_2 = ['Art', 'Education']\n",
    "\n",
    "# Add the list to courses\n",
    "courses.append(courses_2)\n",
    "print(courses)\n",
    "\n",
    "# Extend the list of courses\n",
    "courses = ['History', 'Math', 'Phsics', 'CompSci']\n",
    "courses.extend(courses_2) # Same as \"courses += courses_2\"\n",
    "print(courses)"
   ]
  },
  {
   "cell_type": "code",
   "execution_count": 17,
   "metadata": {},
   "outputs": [
    {
     "name": "stdout",
     "output_type": "stream",
     "text": [
      "CompSci\n",
      "['History', 'Math', 'Phsics']\n"
     ]
    }
   ],
   "source": [
    "# pop removes the last item\n",
    "# pop function returns the poped value\n",
    "courses = ['History', 'Math', 'Phsics', 'CompSci']\n",
    "popped = courses.pop()\n",
    "print(popped)\n",
    "print(courses)"
   ]
  },
  {
   "cell_type": "code",
   "execution_count": 18,
   "metadata": {},
   "outputs": [
    {
     "name": "stdout",
     "output_type": "stream",
     "text": [
      "['CompSci', 'Phsics', 'Math', 'History']\n",
      "['CompSci', 'History', 'Math', 'Phsics']\n",
      "['Phsics', 'Math', 'History', 'CompSci']\n"
     ]
    }
   ],
   "source": [
    "# reverse\n",
    "courses = ['History', 'Math', 'Phsics', 'CompSci']\n",
    "courses.reverse()\n",
    "print(courses)\n",
    "\n",
    "# sort\n",
    "courses = ['History', 'Math', 'Phsics', 'CompSci']\n",
    "courses.sort()\n",
    "print(courses)\n",
    "\n",
    "# reverse and sort\n",
    "courses = ['History', 'Math', 'Phsics', 'CompSci']\n",
    "courses.sort(reverse=True)\n",
    "print(courses)"
   ]
  },
  {
   "cell_type": "code",
   "execution_count": 19,
   "metadata": {},
   "outputs": [
    {
     "name": "stdout",
     "output_type": "stream",
     "text": [
      "['CompSci', 'History', 'Math', 'Phsics']\n",
      "['History', 'Math', 'Phsics', 'CompSci']\n",
      "['CompSci', 'History', 'Math', 'Phsics']\n"
     ]
    }
   ],
   "source": [
    "# sort (method) vs sorted (function)\n",
    "# sort changes the original variable\n",
    "courses = ['History', 'Math', 'Phsics', 'CompSci']\n",
    "courses.sort()\n",
    "print(courses)\n",
    "\n",
    "# sorted does NOT change the original variable\n",
    "courses = ['History', 'Math', 'Phsics', 'CompSci']\n",
    "sorted_courses = sorted(courses) # sorted(courses, reverse=True) for reverse\n",
    "print(courses)\n",
    "print(sorted_courses)"
   ]
  },
  {
   "cell_type": "markdown",
   "metadata": {},
   "source": [
    "### Suggested: Python Tutorial: Sorting Lists, Tuples, and Objects"
   ]
  },
  {
   "cell_type": "code",
   "execution_count": 20,
   "metadata": {},
   "outputs": [
    {
     "name": "stdout",
     "output_type": "stream",
     "text": [
      "Tuple\t [1, 2, 3, 4, 5, 6, 7, 8, 9]\n",
      "age: None\n",
      "job: programming\n",
      "name: Corey\n",
      "os: Mac\n"
     ]
    }
   ],
   "source": [
    "tup = (9, 1, 8, 2, 7, 3, 6, 4, 5)\n",
    "# tup.sort() doesn't work, because tuple doesn't have sort method.\n",
    "s_tup = sorted(tup)\n",
    "print('Tuple\\t', s_tup)\n",
    "\n",
    "\n",
    "di = {'name': 'Corey', 'job': 'programming', 'age': None, 'os': 'Mac'}\n",
    "# di.sort() doesn't work, because tuple doesn't have sort method.\n",
    "s_di = sorted(di) # s_di is not a dictionary\n",
    "for i in s_di: # s_di only includes keys\n",
    "    print(f'{i}: {di[i]}') # Because s_di only includes keys, \"s_di[i]\" won't work."
   ]
  },
  {
   "cell_type": "code",
   "execution_count": 21,
   "metadata": {},
   "outputs": [
    {
     "name": "stdout",
     "output_type": "stream",
     "text": [
      "[1, 2, 3, -4, -5, -6]\n"
     ]
    }
   ],
   "source": [
    "li = [-6, -5, -4, 1, 2, 3]\n",
    "s_li = sorted(li, key=abs) # Sort the list based on abs values\n",
    "print(s_li)"
   ]
  },
  {
   "cell_type": "code",
   "execution_count": 22,
   "metadata": {},
   "outputs": [
    {
     "name": "stdout",
     "output_type": "stream",
     "text": [
      "[(Sarah,29,$80000), (John,43,$90000), (Carl,37,$70000)]\n"
     ]
    }
   ],
   "source": [
    "class Employee():\n",
    "    def __init__(self, name, age, salary):\n",
    "        self.name = name\n",
    "        self.age = age\n",
    "        self.salary = salary\n",
    "\n",
    "    def __repr__(self):\n",
    "        return '({},{},${})'.format(self.name, self.age, self.salary)\n",
    "\n",
    "e1 = Employee('Carl', 37, 70000)\n",
    "e2 = Employee('Sarah', 29, 80000)\n",
    "e3 = Employee('John', 43, 90000)\n",
    "\n",
    "def e_sort(emp):\n",
    "    return emp.name\n",
    "\n",
    "employees = [e1, e2, e3]\n",
    "s_employees = sorted(employees, key=e_sort, reverse=True) # key need to be a function, like abs\n",
    "print(s_employees)"
   ]
  },
  {
   "cell_type": "code",
   "execution_count": 23,
   "metadata": {},
   "outputs": [
    {
     "name": "stdout",
     "output_type": "stream",
     "text": [
      "[(Carl,37,$70000), (John,43,$90000), (Sarah,29,$80000)]\n"
     ]
    }
   ],
   "source": [
    "# Use lambda instead of regular function\n",
    "s_employees = sorted(employees, key=lambda e: e.name)\n",
    "print(s_employees)"
   ]
  },
  {
   "cell_type": "code",
   "execution_count": 24,
   "metadata": {},
   "outputs": [
    {
     "name": "stdout",
     "output_type": "stream",
     "text": [
      "[(Sarah,29,$80000), (Carl,37,$70000), (John,43,$90000)]\n"
     ]
    }
   ],
   "source": [
    "# Use library instead of regular function\n",
    "from operator import attrgetter\n",
    "\n",
    "\n",
    "s_employees = sorted(employees, key=attrgetter('age'))\n",
    "print(s_employees)"
   ]
  },
  {
   "cell_type": "markdown",
   "metadata": {},
   "source": [
    "### End: Python Tutorial: Sorting Lists, Tuples, and Objects"
   ]
  },
  {
   "cell_type": "code",
   "execution_count": 25,
   "metadata": {},
   "outputs": [
    {
     "name": "stdout",
     "output_type": "stream",
     "text": [
      "3\n",
      "False\n"
     ]
    }
   ],
   "source": [
    "courses = ['History', 'Math', 'Phsics', 'CompSci']\n",
    "print(courses.index('CompSci'))\n",
    "print('Art' in courses)"
   ]
  },
  {
   "cell_type": "code",
   "execution_count": 26,
   "metadata": {},
   "outputs": [
    {
     "name": "stdout",
     "output_type": "stream",
     "text": [
      "0 History\n",
      "1 Math\n",
      "2 Phsics\n",
      "3 CompSci\n"
     ]
    }
   ],
   "source": [
    "courses = ['History', 'Math', 'Phsics', 'CompSci']\n",
    "for index, course in enumerate(courses): # Using enumerate to get index and item\n",
    "    print(index, course)"
   ]
  },
  {
   "cell_type": "code",
   "execution_count": 27,
   "metadata": {},
   "outputs": [
    {
     "name": "stdout",
     "output_type": "stream",
     "text": [
      "1 History\n",
      "2 Math\n",
      "3 Phsics\n",
      "4 CompSci\n"
     ]
    }
   ],
   "source": [
    "for index, course in enumerate(courses, start=1): # Set the index starts from 1\n",
    "    print(index, course)"
   ]
  },
  {
   "cell_type": "code",
   "execution_count": 28,
   "metadata": {},
   "outputs": [
    {
     "name": "stdout",
     "output_type": "stream",
     "text": [
      "History - Math - Phsics - CompSci\n"
     ]
    }
   ],
   "source": [
    "# join a list together\n",
    "courses = ['History', 'Math', 'Phsics', 'CompSci']\n",
    "print(' - '.join(courses))"
   ]
  },
  {
   "cell_type": "code",
   "execution_count": 29,
   "metadata": {},
   "outputs": [
    {
     "name": "stdout",
     "output_type": "stream",
     "text": [
      "['History', 'Math', 'Phsics', 'CompSci']\n"
     ]
    }
   ],
   "source": [
    "# Separate a string into list\n",
    "courses_str = 'History - Math - Phsics - CompSci'\n",
    "new_list = courses_str.split(' - ')\n",
    "print(new_list)"
   ]
  },
  {
   "cell_type": "markdown",
   "metadata": {},
   "source": [
    "### Suggested: Programming Terms: Mutable vs Immutable"
   ]
  },
  {
   "cell_type": "markdown",
   "metadata": {},
   "source": [
    "An immutable object is an object whose state cannot be modified after it is created. This is in contrast to a mutable object, which can be modified after it is created.\n",
    "Mutable: list\n",
    "Imutable: string, tuple"
   ]
  },
  {
   "cell_type": "code",
   "execution_count": 30,
   "metadata": {},
   "outputs": [
    {
     "name": "stdout",
     "output_type": "stream",
     "text": [
      "corey\n",
      "Address of a is: 2392036502448\n"
     ]
    }
   ],
   "source": [
    "# Print memory address\n",
    "a = 'corey'\n",
    "print(a)\n",
    "print('Address of a is: {}'.format(id(a)))"
   ]
  },
  {
   "cell_type": "code",
   "execution_count": 31,
   "metadata": {},
   "outputs": [
    {
     "name": "stdout",
     "output_type": "stream",
     "text": [
      "john\n"
     ]
    },
    {
     "ename": "TypeError",
     "evalue": "'str' object does not support item assignment",
     "output_type": "error",
     "traceback": [
      "\u001b[1;31m---------------------------------------------------------------------------\u001b[0m",
      "\u001b[1;31mTypeError\u001b[0m                                 Traceback (most recent call last)",
      "\u001b[1;32m<ipython-input-31-9fae89f2c68f>\u001b[0m in \u001b[0;36m<module>\u001b[1;34m\u001b[0m\n\u001b[0;32m      3\u001b[0m \u001b[0ma\u001b[0m \u001b[1;33m=\u001b[0m \u001b[1;34m'john'\u001b[0m \u001b[1;31m# The whole value can be changed. A new variable, which has a new address, was created.\u001b[0m\u001b[1;33m\u001b[0m\u001b[1;33m\u001b[0m\u001b[0m\n\u001b[0;32m      4\u001b[0m \u001b[0mprint\u001b[0m\u001b[1;33m(\u001b[0m\u001b[0ma\u001b[0m\u001b[1;33m)\u001b[0m\u001b[1;33m\u001b[0m\u001b[1;33m\u001b[0m\u001b[0m\n\u001b[1;32m----> 5\u001b[1;33m \u001b[0ma\u001b[0m\u001b[1;33m[\u001b[0m\u001b[1;36m0\u001b[0m\u001b[1;33m]\u001b[0m \u001b[1;33m=\u001b[0m \u001b[1;34m'C'\u001b[0m \u001b[1;31m# A single value can NOT be changed, so we got an error.\u001b[0m\u001b[1;33m\u001b[0m\u001b[1;33m\u001b[0m\u001b[0m\n\u001b[0m",
      "\u001b[1;31mTypeError\u001b[0m: 'str' object does not support item assignment"
     ]
    }
   ],
   "source": [
    "# Imutable\n",
    "a = 'corey'\n",
    "a = 'john' # The whole value can be changed. A new variable, which has a new address, was created.\n",
    "print(a)\n",
    "a[0] = 'C' # A single value can NOT be changed, so we got an error."
   ]
  },
  {
   "cell_type": "code",
   "execution_count": 32,
   "metadata": {},
   "outputs": [
    {
     "name": "stdout",
     "output_type": "stream",
     "text": [
      "[6, 2, 3, 4, 5]\n"
     ]
    }
   ],
   "source": [
    "# Mutable\n",
    "l = [1, 2, 3, 4, 5]\n",
    "l[0] = 6\n",
    "print(l)"
   ]
  },
  {
   "cell_type": "code",
   "execution_count": 33,
   "metadata": {},
   "outputs": [
    {
     "name": "stdout",
     "output_type": "stream",
     "text": [
      "Hello world\n",
      "Hello world\n"
     ]
    }
   ],
   "source": [
    "# Change a single character of a string\n",
    "# Method 1:\n",
    "s = 'Hello zorld'\n",
    "s = list(s)\n",
    "s[6] = 'w'\n",
    "s = ''.join(s)\n",
    "print(s)\n",
    "\n",
    "# Method 2:\n",
    "s = 'Hello zorld'\n",
    "s = s[:6] + 'w' + s[7:]\n",
    "print(s)"
   ]
  },
  {
   "cell_type": "markdown",
   "metadata": {},
   "source": [
    "### End: Programming Terms: Mutable vs Immutable"
   ]
  },
  {
   "cell_type": "code",
   "execution_count": 34,
   "metadata": {},
   "outputs": [
    {
     "name": "stdout",
     "output_type": "stream",
     "text": [
      "['Art', 'Math', 'Phsics', 'CompSci']\n",
      "['Art', 'Math', 'Phsics', 'CompSci']\n"
     ]
    }
   ],
   "source": [
    "list_1 = ['History', 'Math', 'Phsics', 'CompSci']\n",
    "list_2 = list_1 # Shallow copy\n",
    "\n",
    "list_1[0] = 'Art'\n",
    "\n",
    "print(list_1)\n",
    "print(list_2)"
   ]
  },
  {
   "cell_type": "code",
   "execution_count": 35,
   "metadata": {},
   "outputs": [
    {
     "name": "stdout",
     "output_type": "stream",
     "text": [
      "['Art', 'Math', 'Phsics', 'CompSci']\n",
      "['History', 'Math', 'Phsics', 'CompSci']\n"
     ]
    }
   ],
   "source": [
    "# Use deep copy to list\n",
    "# Method 1:\n",
    "list_1 = ['History', 'Math', 'Phsics', 'CompSci']\n",
    "list_2 = list(list_1)\n",
    "\n",
    "list_1[0] = 'Art'\n",
    "\n",
    "print(list_1)\n",
    "print(list_2)"
   ]
  },
  {
   "cell_type": "code",
   "execution_count": 36,
   "metadata": {},
   "outputs": [
    {
     "name": "stdout",
     "output_type": "stream",
     "text": [
      "['Art', 'Math', 'Phsics', 'CompSci']\n",
      "['History', 'Math', 'Phsics', 'CompSci']\n"
     ]
    }
   ],
   "source": [
    "# Use deep copy to list\n",
    "# Method 2:\n",
    "list_1 = ['History', 'Math', 'Phsics', 'CompSci']\n",
    "list_2 = list_1[:]\n",
    "\n",
    "list_1[0] = 'Art'\n",
    "\n",
    "print(list_1)\n",
    "print(list_2)"
   ]
  },
  {
   "cell_type": "code",
   "execution_count": 37,
   "metadata": {},
   "outputs": [
    {
     "name": "stdout",
     "output_type": "stream",
     "text": [
      "['Art', 'Math', 'Phsics', 'CompSci']\n",
      "['History', 'Math', 'Phsics', 'CompSci']\n"
     ]
    }
   ],
   "source": [
    "# Use deep copy to list\n",
    "# Method 3:\n",
    "from copy import deepcopy\n",
    "\n",
    "\n",
    "list_1 = ['History', 'Math', 'Phsics', 'CompSci']\n",
    "list_2 = deepcopy(list_1)\n",
    "\n",
    "list_1[0] = 'Art'\n",
    "\n",
    "print(list_1)\n",
    "print(list_2)"
   ]
  },
  {
   "cell_type": "code",
   "execution_count": 38,
   "metadata": {},
   "outputs": [
    {
     "name": "stdout",
     "output_type": "stream",
     "text": [
      "{'CompSci', 'Phsics', 'Math', 'History'}\n"
     ]
    }
   ],
   "source": [
    "set_courses = {'History', 'Math', 'Phsics', 'CompSci'}\n",
    "print(set_courses) # The order of set is changing every time."
   ]
  },
  {
   "cell_type": "code",
   "execution_count": 39,
   "metadata": {},
   "outputs": [
    {
     "name": "stdout",
     "output_type": "stream",
     "text": [
      "True\n",
      "{'Math', 'History'}\n",
      "{'Physics', 'CompSci'}\n",
      "{'Design', 'History', 'Art', 'Physics', 'Math', 'CompSci'}\n"
     ]
    }
   ],
   "source": [
    "cs_courses = {'History', 'Math', 'Physics', 'CompSci'}\n",
    "art_courses = {'History', 'Math', 'Art', 'Design'}\n",
    "\n",
    "print('Math' in cs_courses)\n",
    "print(cs_courses.intersection(art_courses))\n",
    "print(cs_courses.difference(art_courses))\n",
    "print(cs_courses.union(art_courses))"
   ]
  },
  {
   "cell_type": "code",
   "execution_count": 40,
   "metadata": {},
   "outputs": [],
   "source": [
    "# Empty Lists\n",
    "empty_list = []\n",
    "empty_list = list()\n",
    "\n",
    "# Empty Tuples\n",
    "empty_tuple = ()\n",
    "empty_tuple = tuple()\n",
    "\n",
    "# Empty Sets\n",
    "empty_set = {} # This is NOT right! It's a dict.\n",
    "empty_set = set()"
   ]
  },
  {
   "cell_type": "markdown",
   "metadata": {},
   "source": [
    "## Python Tutorial for Beginners 5: Dictionaries - Working with Key-Value Pairs"
   ]
  },
  {
   "cell_type": "code",
   "execution_count": 41,
   "metadata": {},
   "outputs": [
    {
     "name": "stdout",
     "output_type": "stream",
     "text": [
      "John\n",
      "None\n",
      "Not Found\n"
     ]
    }
   ],
   "source": [
    "student = {'name': 'John', 'age': 25, 'courses': ['Math', 'CompSci']}\n",
    "\n",
    "print(student['name'])\n",
    "# If the key is not exist, an error message will be pop up.\n",
    "# print(student['phone'])\n",
    "\n",
    "# Using function get instead of using key\n",
    "print(student.get('phone'))\n",
    "print(student.get('phone', 'Not Found'))"
   ]
  },
  {
   "cell_type": "code",
   "execution_count": 42,
   "metadata": {},
   "outputs": [
    {
     "name": "stdout",
     "output_type": "stream",
     "text": [
      "{'name': 'John', 'age': 25, 'courses': ['Math', 'CompSci'], 'phone': '555-5555'}\n",
      "{'name': 'John', 'age': 25, 'courses': ['Math', 'CompSci']}\n",
      "25\n",
      "{'name': 'Jane', 'courses': ['Math', 'CompSci'], 'age': 26, 'phone': '555-5555'}\n"
     ]
    }
   ],
   "source": [
    "# Add a single key into dict\n",
    "student['phone'] = '555-5555'\n",
    "print(student)\n",
    "\n",
    "# Remove a key (Method 1)\n",
    "del student['phone']\n",
    "print(student)\n",
    "\n",
    "# Remove a key (Method 2)\n",
    "age = student.pop('age')\n",
    "print(age)\n",
    "\n",
    "# Using function update to change multiple values at a time\n",
    "# It has to be a dict in update function.\n",
    "student.update({'name': 'Jane', 'age': 26, 'phone': '555-5555'})\n",
    "print(student)"
   ]
  },
  {
   "cell_type": "code",
   "execution_count": 43,
   "metadata": {},
   "outputs": [
    {
     "name": "stdout",
     "output_type": "stream",
     "text": [
      "4\n",
      "dict_keys(['name', 'courses', 'age', 'phone'])\n",
      "dict_values(['Jane', ['Math', 'CompSci'], 26, '555-5555'])\n",
      "dict_items([('name', 'Jane'), ('courses', ['Math', 'CompSci']), ('age', 26), ('phone', '555-5555')])\n"
     ]
    }
   ],
   "source": [
    "# Print elements\n",
    "print(len(student))\n",
    "print(student.keys())\n",
    "print(student.values())\n",
    "print(student.items())"
   ]
  },
  {
   "cell_type": "code",
   "execution_count": 44,
   "metadata": {},
   "outputs": [
    {
     "name": "stdout",
     "output_type": "stream",
     "text": [
      "name Jane\n",
      "courses ['Math', 'CompSci']\n",
      "age 26\n",
      "phone 555-5555\n"
     ]
    }
   ],
   "source": [
    "# Loop dict\n",
    "for key, value in student.items():\n",
    "    print(key, value)"
   ]
  },
  {
   "cell_type": "markdown",
   "metadata": {},
   "source": [
    "## Python Tutorial for Beginners 6: Conditionals and Booleans - If, Else, and Elif Statements"
   ]
  },
  {
   "cell_type": "code",
   "execution_count": 45,
   "metadata": {},
   "outputs": [
    {
     "name": "stdout",
     "output_type": "stream",
     "text": [
      "2392034340936\n",
      "2392036456904\n",
      "True\n",
      "False\n"
     ]
    }
   ],
   "source": [
    "# is vs ==\n",
    "a = [1, 2, 3]\n",
    "b = [1, 2, 3]\n",
    "print(id(a))\n",
    "print(id(b))\n",
    "print(a == b) # if the values are the same\n",
    "print(a is b) # if they are in the same memory location"
   ]
  },
  {
   "cell_type": "code",
   "execution_count": 46,
   "metadata": {},
   "outputs": [
    {
     "name": "stdout",
     "output_type": "stream",
     "text": [
      "True\n",
      "True\n"
     ]
    }
   ],
   "source": [
    "a = [1, 2, 3]\n",
    "b = a\n",
    "print(a == b) # if the values are the same\n",
    "print(a is b) # if they are in the same memory location, same as id(a) == id(b)"
   ]
  },
  {
   "cell_type": "markdown",
   "metadata": {},
   "source": [
    "False values:<br>\n",
    "False<br>\n",
    "None<br>\n",
    "Zero of any numeric type<br>\n",
    "Any empty sequence. For example, '', (), []<br>\n",
    "Any empty mapping. For example, {}<br>"
   ]
  },
  {
   "cell_type": "markdown",
   "metadata": {},
   "source": [
    "## Python Tutorial for Beginners 8: Functions"
   ]
  },
  {
   "cell_type": "code",
   "execution_count": 47,
   "metadata": {},
   "outputs": [
    {
     "name": "stdout",
     "output_type": "stream",
     "text": [
      "HELLO FUNCTION.\n"
     ]
    }
   ],
   "source": [
    "def hello_function():\n",
    "    return 'Hello Function.'\n",
    "\n",
    "\n",
    "# Known the function returns a string, then the funtions for strings are works for the self-defined function.\n",
    "print(hello_function().upper())"
   ]
  },
  {
   "cell_type": "markdown",
   "metadata": {},
   "source": [
    "### Suggested 1: Python Tutorial: Variable Scope - Understanding the LEGB rule and global/nonlocal statements"
   ]
  },
  {
   "cell_type": "markdown",
   "metadata": {},
   "source": [
    "LEGB<br>\n",
    "Local, Enclosing, Global, Built-in"
   ]
  },
  {
   "cell_type": "code",
   "execution_count": 48,
   "metadata": {},
   "outputs": [
    {
     "name": "stdout",
     "output_type": "stream",
     "text": [
      "local x\n",
      "local x\n"
     ]
    }
   ],
   "source": [
    "x = 'global x'\n",
    "\n",
    "\n",
    "def test():\n",
    "    global x # Use the global x. Note: Don't have to be defined initially. \n",
    "    x = 'local x'\n",
    "    print(x)\n",
    "\n",
    "\n",
    "test()\n",
    "print(x)"
   ]
  },
  {
   "cell_type": "markdown",
   "metadata": {},
   "source": [
    "If we have a self-defined function, whose name is the same as a built-in function, the program will use the self-defined function instead of the built-in one."
   ]
  },
  {
   "cell_type": "code",
   "execution_count": 49,
   "metadata": {},
   "outputs": [
    {
     "name": "stdout",
     "output_type": "stream",
     "text": [
      "inner x\n",
      "inner x\n"
     ]
    }
   ],
   "source": [
    "def outer(): # Enclosing function to function inner\n",
    "    x = 'outer x' # Enclosing variable\n",
    "    \n",
    "    def inner():\n",
    "        nonlocal x # Use the enclosing variable x.\n",
    "        x = 'inner x'\n",
    "        print(x)\n",
    "    \n",
    "    inner()\n",
    "    print(x)\n",
    "\n",
    "outer()"
   ]
  },
  {
   "cell_type": "markdown",
   "metadata": {},
   "source": [
    "### Suggested 2: Python Tutorial: Decorators - Dynamically Alter The Functionality Of Your Functions"
   ]
  },
  {
   "cell_type": "markdown",
   "metadata": {},
   "source": [
    "### Suggested 3: Programming Terms: Closures - How to Use Them and Why They Are Useful"
   ]
  },
  {
   "cell_type": "markdown",
   "metadata": {},
   "source": [
    "### Suggested 4: Programming Terms: First-Class Functions"
   ]
  },
  {
   "cell_type": "code",
   "execution_count": 50,
   "metadata": {},
   "outputs": [
    {
     "name": "stdout",
     "output_type": "stream",
     "text": [
      "<function square at 0x0000022CF07BF8B8>\n",
      "<function square at 0x0000022CF07BF8B8>\n",
      "25\n"
     ]
    }
   ],
   "source": [
    "# Treat the variable f as a function\n",
    "def square(x):\n",
    "    return x * x\n",
    "\n",
    "f = square # no ()\n",
    "\n",
    "print(square)\n",
    "print(f)\n",
    "print(f(5))"
   ]
  },
  {
   "cell_type": "code",
   "execution_count": 51,
   "metadata": {},
   "outputs": [
    {
     "name": "stdout",
     "output_type": "stream",
     "text": [
      "[1, 4, 9, 16, 25]\n",
      "[1, 8, 27, 64, 125]\n"
     ]
    }
   ],
   "source": [
    "# Higher order function\n",
    "# Pass functions as arguments\n",
    "def square(x):\n",
    "    return x * x\n",
    "\n",
    "\n",
    "def cube(x):\n",
    "    return x * x * x\n",
    "\n",
    "\n",
    "def my_map(func, arg_list):\n",
    "    result = []\n",
    "    for i in arg_list:\n",
    "        result.append(func(i)) # the function is executed\n",
    "    return result\n",
    "\n",
    "squares = my_map(square, [1, 2, 3, 4, 5]) # not executing the function, because there is no ()\n",
    "print(squares)\n",
    "squares = my_map(cube, [1, 2, 3, 4, 5])\n",
    "print(squares)"
   ]
  },
  {
   "cell_type": "code",
   "execution_count": 52,
   "metadata": {},
   "outputs": [
    {
     "name": "stdout",
     "output_type": "stream",
     "text": [
      "Log Hi!\n"
     ]
    }
   ],
   "source": [
    "# Higher order function\n",
    "# Return functions as results of other functions\n",
    "def logger(msg):\n",
    "    \n",
    "    def log_message():\n",
    "        print('Log', msg)\n",
    "    \n",
    "    return log_message\n",
    "\n",
    "log_hi = logger('Hi!')\n",
    "log_hi()"
   ]
  },
  {
   "cell_type": "code",
   "execution_count": 53,
   "metadata": {},
   "outputs": [
    {
     "name": "stdout",
     "output_type": "stream",
     "text": [
      "<h1>Test Headline!</h1>\n",
      "<h1>Another Headline!</h1>\n",
      "<p>Test Paragraph!</p>\n"
     ]
    }
   ],
   "source": [
    "# Example of returning functions\n",
    "def html_tag(tag):\n",
    "    \n",
    "    def wrap_text(msg):\n",
    "        print('<{0}>{1}</{0}>'.format(tag, msg))\n",
    "    \n",
    "    return wrap_text\n",
    "\n",
    "print_h1 = html_tag('h1') # It returns the wrap_text function\n",
    "print_h1('Test Headline!') # 'Test Headline!' will be passed to msg of wrap_text function\n",
    "print_h1('Another Headline!')\n",
    "\n",
    "print_p = html_tag('p')\n",
    "print_p('Test Paragraph!')"
   ]
  },
  {
   "cell_type": "markdown",
   "metadata": {},
   "source": [
    "### End 4: Programming Terms: First-Class Functions"
   ]
  },
  {
   "cell_type": "markdown",
   "metadata": {},
   "source": [
    "Closure is an inner function that remembers and has access to variables in the local scope in which it was created even after the outer function has finished executing."
   ]
  },
  {
   "cell_type": "code",
   "execution_count": 54,
   "metadata": {},
   "outputs": [
    {
     "name": "stdout",
     "output_type": "stream",
     "text": [
      "Hi\n",
      "Hello\n"
     ]
    }
   ],
   "source": [
    "def outer_func(msg):\n",
    "    message = msg\n",
    "    \n",
    "    def inner_func():\n",
    "        print(message)\n",
    "    \n",
    "    return inner_func\n",
    "\n",
    "hi_func = outer_func('Hi')\n",
    "hello_func = outer_func('Hello')\n",
    "\n",
    "hi_func()\n",
    "hello_func()"
   ]
  },
  {
   "cell_type": "code",
   "execution_count": 55,
   "metadata": {},
   "outputs": [
    {
     "name": "stdout",
     "output_type": "stream",
     "text": [
      "6\n",
      "9\n",
      "0\n",
      "-1\n"
     ]
    }
   ],
   "source": [
    "import logging\n",
    "logging.basicConfig(filename='example.log', level=logging.INFO)\n",
    "\n",
    "\n",
    "def logger(func):\n",
    "    def log_func(*args):\n",
    "        # Add some more functionality to formula\n",
    "        logging.info('Running \"{}\" with arguments {}'.format(func.__name__, args))\n",
    "        print(func(*args))\n",
    "    return log_func\n",
    "\n",
    "\n",
    "def add(x, y):\n",
    "    return x + y\n",
    "\n",
    "\n",
    "def sub(x, y):\n",
    "    return x - y\n",
    "\n",
    "\n",
    "add_logger = logger(add)\n",
    "sub_logger = logger(sub)\n",
    "\n",
    "add_logger(3, 3)\n",
    "add_logger(4, 5)\n",
    "\n",
    "sub_logger(3, 3)\n",
    "sub_logger(4, 5)\n",
    "\n",
    "logging.shutdown()"
   ]
  },
  {
   "cell_type": "markdown",
   "metadata": {},
   "source": [
    "### End 3: Programming Terms: Closures - How to Use Them and Why They Are Useful"
   ]
  },
  {
   "cell_type": "markdown",
   "metadata": {},
   "source": [
    "Decorator is a function that takes another function as an argument, adds some kinda functionality and then returns another function."
   ]
  },
  {
   "cell_type": "code",
   "execution_count": 56,
   "metadata": {},
   "outputs": [
    {
     "name": "stdout",
     "output_type": "stream",
     "text": [
      "display function ran\n"
     ]
    }
   ],
   "source": [
    "def decorator_function(original_function):\n",
    "    def wrapper_function():\n",
    "        return original_function()\n",
    "    return wrapper_function\n",
    "\n",
    "\n",
    "def display():\n",
    "    print('display function ran')\n",
    "\n",
    "\n",
    "decorated_display = decorator_function(display)\n",
    "decorated_display() # execute the wrapper_function\n",
    "\n",
    "# decorated_display function is the decorator_function with display function as a parameter\n",
    "# wrapper_function is created with display function and returns a wrapper_function\n",
    "# when wrapper_function is executed, display function will be returned in wrapper_function"
   ]
  },
  {
   "cell_type": "markdown",
   "metadata": {},
   "source": [
    "Why decorator is used?<br>\n",
    "Decoratoring a function allows us to easily add a functionality to our existing functions by adding that functionality inside our wrapper.<br>\n",
    "In the previous example, without modifing original_function, we can modify the wrapper_function to add more functionalities."
   ]
  },
  {
   "cell_type": "code",
   "execution_count": 57,
   "metadata": {},
   "outputs": [
    {
     "name": "stdout",
     "output_type": "stream",
     "text": [
      "wrapper executed this before display\n",
      "display function ran\n"
     ]
    }
   ],
   "source": [
    "def decorator_function(original_function):\n",
    "    def wrapper_function():\n",
    "        print('wrapper executed this before {}'.format(original_function.__name__))\n",
    "        return original_function()\n",
    "    return wrapper_function\n",
    "\n",
    "\n",
    "def display():\n",
    "    print('display function ran')\n",
    "\n",
    "\n",
    "decorated_display = decorator_function(display)\n",
    "decorated_display()"
   ]
  },
  {
   "cell_type": "code",
   "execution_count": 58,
   "metadata": {},
   "outputs": [
    {
     "name": "stdout",
     "output_type": "stream",
     "text": [
      "wrapper executed this before display\n",
      "display function ran\n"
     ]
    }
   ],
   "source": [
    "def decorator_function(original_function):\n",
    "    def wrapper_function():\n",
    "        print('wrapper executed this before {}'.format(original_function.__name__))\n",
    "        return original_function()\n",
    "    return wrapper_function\n",
    "\n",
    "\n",
    "@decorator_function # same as display = decorator_function(display)\n",
    "def display():\n",
    "    print('display function ran')\n",
    "\n",
    "\n",
    "display()"
   ]
  },
  {
   "cell_type": "code",
   "execution_count": 59,
   "metadata": {},
   "outputs": [
    {
     "name": "stdout",
     "output_type": "stream",
     "text": [
      "wrapper executed this before display\n",
      "display function ran\n",
      "wrapper executed this before display_info\n",
      "display_info ran with arguments (John, 25)\n"
     ]
    }
   ],
   "source": [
    "# Use one decorator_function for mutiple different functions\n",
    "def decorator_function(original_function):\n",
    "    def wrapper_function(*args, **kwargs):\n",
    "        print('wrapper executed this before {}'.format(original_function.__name__))\n",
    "        return original_function(*args, **kwargs)\n",
    "    return wrapper_function\n",
    "\n",
    "\n",
    "@decorator_function # same as display = decorator_function(display)\n",
    "def display():\n",
    "    print('display function ran')\n",
    "\n",
    "\n",
    "@decorator_function\n",
    "def display_info(name, age):\n",
    "    print('display_info ran with arguments ({}, {})'.format(name, age))\n",
    "\n",
    "\n",
    "display()\n",
    "display_info('John', 25)"
   ]
  },
  {
   "cell_type": "code",
   "execution_count": 60,
   "metadata": {},
   "outputs": [
    {
     "name": "stdout",
     "output_type": "stream",
     "text": [
      "call method executed this before display\n",
      "display function ran\n",
      "call method executed this before display_info\n",
      "display_info ran with arguments (John, 25)\n"
     ]
    }
   ],
   "source": [
    "# Use decorator class\n",
    "class dectorate_class(object):\n",
    "    def __init__(self, original_function):\n",
    "        self.original_function = original_function\n",
    "\n",
    "    def __call__(self, *args, **kwargs):\n",
    "        print('call method executed this before {}'.format(self.original_function.__name__))\n",
    "        return self.original_function(*args, **kwargs)\n",
    "\n",
    "\n",
    "@dectorate_class\n",
    "def display():\n",
    "    print('display function ran')\n",
    "\n",
    "\n",
    "@dectorate_class\n",
    "def display_info(name, age):\n",
    "    print('display_info ran with arguments ({}, {})'.format(name, age))\n",
    "\n",
    "\n",
    "display()\n",
    "display_info('John', 25)"
   ]
  },
  {
   "cell_type": "code",
   "execution_count": 61,
   "metadata": {},
   "outputs": [
    {
     "name": "stdout",
     "output_type": "stream",
     "text": [
      "display_info ran with arguments (Hank, 30)\n",
      "display_info ran in: 1.0025172233581543 sec\n"
     ]
    }
   ],
   "source": [
    "# Add timer as a dectorate\n",
    "import time\n",
    "\n",
    "\n",
    "def my_timer(original_function):\n",
    "    def wrapper(*args, **kwargs):\n",
    "        t1 = time.time()\n",
    "        result = original_function(*args, **kwargs)\n",
    "        t2 = time.time() - t1\n",
    "        print('{} ran in: {} sec'.format(original_function.__name__, t2))\n",
    "        return result\n",
    "\n",
    "    return wrapper\n",
    "\n",
    "\n",
    "@my_timer\n",
    "def display_info(name, age):\n",
    "    time.sleep(1)\n",
    "    print('display_info ran with arguments ({}, {})'.format(name, age))\n",
    "\n",
    "display_info('Hank', 30)"
   ]
  },
  {
   "cell_type": "code",
   "execution_count": 62,
   "metadata": {},
   "outputs": [
    {
     "name": "stdout",
     "output_type": "stream",
     "text": [
      "display_info ran with arguments (Hank, 30)\n",
      "display_info ran in: 1.0035369396209717 sec\n"
     ]
    }
   ],
   "source": [
    "from functools import wraps\n",
    "\n",
    "\n",
    "def my_logger(orig_func):\n",
    "    import logging\n",
    "    logging.basicConfig(filename='{}.log'.format(orig_func.__name__), level=logging.INFO)\n",
    "\n",
    "    @wraps(orig_func)\n",
    "    def wrapper(*args, **kwargs):\n",
    "        logging.info('Ran with args: {}, and kwargs: {}'.format(args, kwargs))\n",
    "        logging.shutdown()\n",
    "        return orig_func(*args, **kwargs)\n",
    "\n",
    "    return wrapper\n",
    "\n",
    "\n",
    "def my_timer(orig_func):\n",
    "    import time\n",
    "\n",
    "    @wraps(orig_func)\n",
    "    def wrapper(*args, **kwargs):\n",
    "        t1 = time.time()\n",
    "        result = orig_func(*args, **kwargs)\n",
    "        t2 = time.time() - t1\n",
    "        print('{} ran in: {} sec'.format(orig_func.__name__, t2))\n",
    "        return result\n",
    "\n",
    "    return wrapper\n",
    "\n",
    "import time\n",
    "\n",
    "# If not using @wraps(orig_func), the my_logger decorator will work on the wrapper function in my_timer.\n",
    "# @wraps(orig_func) will lock the orig_func as it is.\n",
    "@my_logger\n",
    "@my_timer\n",
    "def display_info(name, age):\n",
    "    time.sleep(1)\n",
    "    print('display_info ran with arguments ({}, {})'.format(name, age))\n",
    "\n",
    "display_info('Hank', 30)"
   ]
  },
  {
   "cell_type": "markdown",
   "metadata": {},
   "source": [
    "### End 2: Python Tutorial: Decorators - Dynamically Alter The Functionality Of Your Functions"
   ]
  },
  {
   "cell_type": "markdown",
   "metadata": {},
   "source": [
    "### End 1: Python Tutorial: Variable Scope - Understanding the LEGB rule and global/nonlocal statements"
   ]
  },
  {
   "cell_type": "code",
   "execution_count": 63,
   "metadata": {},
   "outputs": [
    {
     "name": "stdout",
     "output_type": "stream",
     "text": [
      "('Math', 'Art')\n",
      "{'name': 'John', 'age': 22}\n"
     ]
    }
   ],
   "source": [
    "# *args and **kwargs, not know how many arguments will be\n",
    "def student_info(*args, **kwargs):\n",
    "    print(args) # positional arguments\n",
    "    print(kwargs) # keyword arguments\n",
    "\n",
    "\n",
    "student_info('Math', 'Art', name='John', age=22)"
   ]
  },
  {
   "cell_type": "code",
   "execution_count": 64,
   "metadata": {},
   "outputs": [
    {
     "name": "stdout",
     "output_type": "stream",
     "text": [
      "(['Math', 'Art'], {'name': 'John', 'age': 22})\n",
      "{}\n",
      "('Math', 'Art')\n",
      "{'name': 'John', 'age': 22}\n"
     ]
    }
   ],
   "source": [
    "courses = ['Math', 'Art']\n",
    "info = {'name': 'John', 'age': 22}\n",
    "\n",
    "# It doesn't work as what we want.\n",
    "student_info(courses, info)\n",
    "\n",
    "# Adding * for lists or ** for dict\n",
    "student_info(*courses, **info)"
   ]
  }
 ],
 "metadata": {
  "kernelspec": {
   "display_name": "Python 3",
   "language": "python",
   "name": "python3"
  },
  "language_info": {
   "codemirror_mode": {
    "name": "ipython",
    "version": 3
   },
   "file_extension": ".py",
   "mimetype": "text/x-python",
   "name": "python",
   "nbconvert_exporter": "python",
   "pygments_lexer": "ipython3",
   "version": "3.7.4"
  }
 },
 "nbformat": 4,
 "nbformat_minor": 2
}
