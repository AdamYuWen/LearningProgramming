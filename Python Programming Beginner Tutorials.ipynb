{
 "cells": [
  {
   "cell_type": "markdown",
   "metadata": {},
   "source": [
    "# Notes for YouTube Python Tutorials\n",
    "## Python Programming Beginner Tutorials\n",
    "https://www.youtube.com/watch?v=YYXdXT2l-Gg&list=PL-osiE80TeTskrapNbzXhwoFUiLCjGgY7&index=1"
   ]
  },
  {
   "cell_type": "markdown",
   "metadata": {},
   "source": [
    "## <font color='red'>Python Tutorial for Beginner 2: Strings - Working with Textual Data</font>"
   ]
  },
  {
   "cell_type": "code",
   "execution_count": 1,
   "metadata": {},
   "outputs": [
    {
     "name": "stdout",
     "output_type": "stream",
     "text": [
      "Bobby's World was a good\n",
      "cartoon in the 1990s\n"
     ]
    }
   ],
   "source": [
    "message = \"\"\"Bobby's World was a good\n",
    "cartoon in the 1990s\"\"\"\n",
    "print(message)"
   ]
  },
  {
   "cell_type": "code",
   "execution_count": 2,
   "metadata": {},
   "outputs": [
    {
     "name": "stdout",
     "output_type": "stream",
     "text": [
      "3\n",
      "6\n",
      "Hello Universe\n"
     ]
    }
   ],
   "source": [
    "message = 'Hello World'\n",
    "print(message.count('l')) # Count the number of 'l'\n",
    "print(message.find('World')) # Find where is 'World'\n",
    "\n",
    "new_message = message.replace('World', 'Universe')\n",
    "print(new_message)"
   ]
  },
  {
   "cell_type": "markdown",
   "metadata": {},
   "source": [
    "### Suggested: Python Tutorial: Slicing Lists and Strings"
   ]
  },
  {
   "cell_type": "code",
   "execution_count": 3,
   "metadata": {},
   "outputs": [
    {
     "name": "stdout",
     "output_type": "stream",
     "text": [
      "[9, 8, 7, 6, 5, 4, 3]\n"
     ]
    }
   ],
   "source": [
    "my_list = [0, 1, 2, 3, 4, 5, 6, 7, 8, 9]\n",
    "#          0, 1, 2, 3, 4, 5, 6, 7, 8, 9\n",
    "#        -10,-9,-8,-7,-6,-5,-4,-3,-2,-1\n",
    "# list[start:end:step]\n",
    "print(my_list[-1:2:-1]) # Reverse lsit\n",
    "# All slicing works for both lists and strings."
   ]
  },
  {
   "cell_type": "markdown",
   "metadata": {},
   "source": [
    "### End: Python Tutorial: Slicing Lists and Strings"
   ]
  },
  {
   "cell_type": "code",
   "execution_count": 4,
   "metadata": {},
   "outputs": [
    {
     "name": "stdout",
     "output_type": "stream",
     "text": [
      "Hello, Michael. Welcome!\n",
      "Hello, Michael. Welcome!\n"
     ]
    }
   ],
   "source": [
    "greeting = 'Hello'\n",
    "name = 'Michael'\n",
    "\n",
    "message = greeting + ', ' + name + '. Welcome!'\n",
    "print(message)\n",
    "message = '{}, {}. Welcome!'.format(greeting, name) # This format is easier to read.\n",
    "print(message)"
   ]
  },
  {
   "cell_type": "markdown",
   "metadata": {},
   "source": [
    "### Suggested: Python Tutorial: String Formatting - Advanced Operations for Dicts, Lists, Numbers, and Dates"
   ]
  },
  {
   "cell_type": "code",
   "execution_count": 5,
   "metadata": {},
   "outputs": [
    {
     "name": "stdout",
     "output_type": "stream",
     "text": [
      "1 - My name is Jenn and I am 23 years old.\n",
      "\n",
      "2 - Name: Jenn && Age: 23\n",
      "    Name: Jenn && Age: 23\n",
      "\n",
      "3 - My name is Jenn and I am 23 years old.\n",
      "\n",
      "3 - My name is Jenn and I am 23 years old.\n",
      "\n",
      "4 - My name is Jenn and I am 23 years old.\n",
      "\n"
     ]
    }
   ],
   "source": [
    "person = {'name': 'Jenn', 'age': 23}\n",
    "\n",
    "\n",
    "# Use format for dictionary\n",
    "sentence = '1 - My name is {0} and I am {1} years old.\\n'.format(person['name'], person['age'])\n",
    "print(sentence)\n",
    "\n",
    "\n",
    "# Can use values in format multiple times\n",
    "sentence = '2 - Name: {0} && Age: {1}\\n    ' \\\n",
    "           'Name: {0} && Age: {1}\\n'.format(person['name'], person['age'])\n",
    "print(sentence)\n",
    "\n",
    "\n",
    "# Use the key of dictionary in sentence\n",
    "sentence = '3 - My name is {0[name]} and I am {1[age]} years old.\\n'.format(person, person)\n",
    "print(sentence)\n",
    "sentence = '3 - My name is {0[name]} and I am {0[age]} years old.\\n'.format(person)\n",
    "print(sentence)\n",
    "\n",
    "\n",
    "# Unpack dictionary\n",
    "sentence = '4 - My name is {name} and I am {age} years old.\\n'.format(**person)\n",
    "print(sentence)"
   ]
  },
  {
   "cell_type": "code",
   "execution_count": 6,
   "metadata": {},
   "outputs": [
    {
     "name": "stdout",
     "output_type": "stream",
     "text": [
      "My name is Jenn and I am 23 years old.\n",
      "\n"
     ]
    }
   ],
   "source": [
    "# Lists is similar with dictionary\n",
    "l = ['Jenn', 23]\n",
    "sentence = 'My name is {0[0]} and I am {0[1]} years old.\\n'.format(l)\n",
    "print(sentence)"
   ]
  },
  {
   "cell_type": "code",
   "execution_count": 7,
   "metadata": {},
   "outputs": [
    {
     "name": "stdout",
     "output_type": "stream",
     "text": [
      "My name is Jack and I am 33 years old.\n",
      "\n"
     ]
    }
   ],
   "source": [
    "# Use format in a class\n",
    "class Person:\n",
    "    def __init__(self, name, age):\n",
    "        self.name = name\n",
    "        self.age = age\n",
    "\n",
    "\n",
    "p1 = Person('Jack', '33')\n",
    "sentence = 'My name is {0.name} and I am {0.age} years old.\\n'.format(p1)\n",
    "print(sentence)"
   ]
  },
  {
   "cell_type": "code",
   "execution_count": 8,
   "metadata": {},
   "outputs": [
    {
     "name": "stdout",
     "output_type": "stream",
     "text": [
      "My name is Jenn and I am 30 years old.\n",
      "\n"
     ]
    }
   ],
   "source": [
    "# Use key words in format\n",
    "sentence = 'My name is {name} and I am {age} years old.\\n'.format(name='Jenn', age='30')\n",
    "print(sentence)"
   ]
  },
  {
   "cell_type": "code",
   "execution_count": 9,
   "metadata": {},
   "outputs": [
    {
     "name": "stdout",
     "output_type": "stream",
     "text": [
      "The value is 01\n",
      "The value is 02\n",
      "The value is 03\n",
      "The value is 04\n",
      "The value is 05\n",
      "The value is 06\n",
      "The value is 07\n",
      "The value is 08\n",
      "The value is 09\n",
      "The value is 10\n"
     ]
    }
   ],
   "source": [
    "# Show more digits\n",
    "for i in range(1, 11):\n",
    "    sentence = 'The value is {:02}'.format(i) # 2 digits and use 0 for placeholder\n",
    "    print(sentence)"
   ]
  },
  {
   "cell_type": "code",
   "execution_count": 10,
   "metadata": {},
   "outputs": [
    {
     "name": "stdout",
     "output_type": "stream",
     "text": [
      "Pi is equal to 3.14\n"
     ]
    }
   ],
   "source": [
    "# Only show a few decimal places\n",
    "pi = 3.1415926\n",
    "sentence = 'Pi is equal to {:.2f}'.format(pi)\n",
    "print(sentence)"
   ]
  },
  {
   "cell_type": "code",
   "execution_count": 11,
   "metadata": {},
   "outputs": [
    {
     "name": "stdout",
     "output_type": "stream",
     "text": [
      "The number is 1,000,000\n",
      "The number is 1,000,000.00\n"
     ]
    }
   ],
   "source": [
    "# Add comma separators\n",
    "sentence = 'The number is {:,}'.format(1000**2)\n",
    "print(sentence)\n",
    "sentence = 'The number is {:,.2f}'.format(1000**2)\n",
    "print(sentence)"
   ]
  },
  {
   "cell_type": "code",
   "execution_count": 12,
   "metadata": {},
   "outputs": [
    {
     "name": "stdout",
     "output_type": "stream",
     "text": [
      "September 24, 2016 fell on a Saturday and was the 268 day of the year\n"
     ]
    }
   ],
   "source": [
    "import datetime\n",
    "\n",
    "\n",
    "my_date = datetime.datetime(2016, 9, 24, 12, 30, 45)\n",
    "# March 01, 2016 fell on a Tuesday and was the 061 day of the year\n",
    "# 0 is necessary, because there is only one parameter in format and it is used multiple times.\n",
    "# The space and comma after : is for displaying\n",
    "sentence = '{0:%B %d, %Y} fell on a {0:%A} and was the {0:%j} day of the year'.format(my_date)\n",
    "print(sentence)"
   ]
  },
  {
   "cell_type": "markdown",
   "metadata": {},
   "source": [
    "### End: Python Tutorial: String Formatting - Advanced Operations for Dicts, Lists, Numbers, and Dates"
   ]
  },
  {
   "cell_type": "code",
   "execution_count": 13,
   "metadata": {},
   "outputs": [
    {
     "name": "stdout",
     "output_type": "stream",
     "text": [
      "Hello, MICHAEL. Welcome!\n"
     ]
    }
   ],
   "source": [
    "# Use f string (Have to be version 3.6 or above)\n",
    "greeting = 'Hello'\n",
    "name = 'Michael'\n",
    "\n",
    "message = f'{greeting}, {name.upper()}. Welcome!'\n",
    "print(message)"
   ]
  },
  {
   "cell_type": "code",
   "execution_count": 14,
   "metadata": {},
   "outputs": [
    {
     "name": "stdout",
     "output_type": "stream",
     "text": [
      "['__add__', '__class__', '__contains__', '__delattr__', '__dir__', '__doc__', '__eq__', '__format__', '__ge__', '__getattribute__', '__getitem__', '__getnewargs__', '__gt__', '__hash__', '__init__', '__init_subclass__', '__iter__', '__le__', '__len__', '__lt__', '__mod__', '__mul__', '__ne__', '__new__', '__reduce__', '__reduce_ex__', '__repr__', '__rmod__', '__rmul__', '__setattr__', '__sizeof__', '__str__', '__subclasshook__', 'capitalize', 'casefold', 'center', 'count', 'encode', 'endswith', 'expandtabs', 'find', 'format', 'format_map', 'index', 'isalnum', 'isalpha', 'isascii', 'isdecimal', 'isdigit', 'isidentifier', 'islower', 'isnumeric', 'isprintable', 'isspace', 'istitle', 'isupper', 'join', 'ljust', 'lower', 'lstrip', 'maketrans', 'partition', 'replace', 'rfind', 'rindex', 'rjust', 'rpartition', 'rsplit', 'rstrip', 'split', 'splitlines', 'startswith', 'strip', 'swapcase', 'title', 'translate', 'upper', 'zfill']\n"
     ]
    }
   ],
   "source": [
    "# Show all methods of a variable\n",
    "# Based on the methods, we can use 'replace' or 'upper' ...\n",
    "print(dir(name))"
   ]
  },
  {
   "cell_type": "code",
   "execution_count": 15,
   "metadata": {},
   "outputs": [
    {
     "name": "stdout",
     "output_type": "stream",
     "text": [
      "Help on method_descriptor:\n",
      "\n",
      "lower(self, /)\n",
      "    Return a copy of the string converted to lowercase.\n",
      "\n",
      "None\n"
     ]
    }
   ],
   "source": [
    "# Help function to show how to use a function\n",
    "print(help(str.lower))"
   ]
  },
  {
   "cell_type": "markdown",
   "metadata": {},
   "source": [
    "## <font color='red'>Python Tutorial for Beginners 3: Integers and Floats - Working with Numeric Data</font>"
   ]
  },
  {
   "cell_type": "code",
   "execution_count": null,
   "metadata": {},
   "outputs": [],
   "source": []
  }
 ],
 "metadata": {
  "kernelspec": {
   "display_name": "Python 3",
   "language": "python",
   "name": "python3"
  },
  "language_info": {
   "codemirror_mode": {
    "name": "ipython",
    "version": 3
   },
   "file_extension": ".py",
   "mimetype": "text/x-python",
   "name": "python",
   "nbconvert_exporter": "python",
   "pygments_lexer": "ipython3",
   "version": "3.7.4"
  }
 },
 "nbformat": 4,
 "nbformat_minor": 2
}
