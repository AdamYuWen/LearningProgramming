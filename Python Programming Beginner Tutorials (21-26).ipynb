{
 "cells": [
  {
   "cell_type": "markdown",
   "metadata": {},
   "source": [
    "# Notes for YouTube Python Tutorials\n",
    "## Python Programming Beginner Tutorials\n",
    "https://www.youtube.com/watch?v=YYXdXT2l-Gg&list=PL-osiE80TeTskrapNbzXhwoFUiLCjGgY7&index=1"
   ]
  },
  {
   "cell_type": "markdown",
   "metadata": {},
   "source": [
    "## Python Tutorial: Unit Testing Your Code with the unittest Module"
   ]
  },
  {
   "cell_type": "markdown",
   "metadata": {},
   "source": [
    "### Suggested: Python Tutorial: if \\_\\_name__ == '\\_\\_main__'"
   ]
  },
  {
   "cell_type": "raw",
   "metadata": {},
   "source": [
    "# __name__ is a special varialbe, which was created before code runs.\n",
    "def main():\n",
    "    print(\"First Module's Name: {}\".format(__name__)\n",
    "\n",
    "if __name__ == '__main__': # Python is running this file direclty, if it is true.\n",
    "    main() # Only run the code, when it is main."
   ]
  },
  {
   "cell_type": "markdown",
   "metadata": {},
   "source": [
    "### End: Python Tutorial: if \\_\\_name__ == '\\_\\_main__'"
   ]
  },
  {
   "cell_type": "raw",
   "metadata": {},
   "source": [
    "# In command line, use the following if the file doesn't have if __name__ == '__main__'\n",
    "python -m unittest test_calc.py\n",
    "\n",
    "# In command line, use the following if it has if __name__ == '__main__'\n",
    "python test_calc.py"
   ]
  },
  {
   "cell_type": "code",
   "execution_count": 1,
   "metadata": {},
   "outputs": [],
   "source": [
    "def add(x, y):\n",
    "    \"\"\"Add Function\"\"\"\n",
    "    return x + y\n",
    "\n",
    "def subtract(x, y):\n",
    "    \"\"\"Subtract Function\"\"\"\n",
    "    return x - y\n",
    "\n",
    "def multiply(x, y):\n",
    "    \"\"\"Multiply Function\"\"\"\n",
    "    return x * y\n",
    "\n",
    "def divide(x, y):\n",
    "    \"\"\"Divide Function\"\"\"\n",
    "    if y == 0:\n",
    "        raise ValueError('Can not divide by zero!')\n",
    "    return x / y"
   ]
  },
  {
   "cell_type": "code",
   "execution_count": 2,
   "metadata": {},
   "outputs": [
    {
     "name": "stderr",
     "output_type": "stream",
     "text": [
      "test_add (__main__.TestCalc) ... ok\n",
      "test_divide (__main__.TestCalc) ... ok\n",
      "test_multiply (__main__.TestCalc) ... ok\n",
      "test_subtract (__main__.TestCalc) ... ok\n",
      "\n",
      "----------------------------------------------------------------------\n",
      "Ran 4 tests in 0.006s\n",
      "\n",
      "OK\n"
     ]
    },
    {
     "data": {
      "text/plain": [
       "<unittest.main.TestProgram at 0x13162a40388>"
      ]
     },
     "execution_count": 2,
     "metadata": {},
     "output_type": "execute_result"
    }
   ],
   "source": [
    "import unittest\n",
    "\n",
    "\n",
    "class TestCalc(unittest.TestCase): # the class name can be anything\n",
    "\n",
    "    def test_add(self): # need to start with \"test_\"\n",
    "        self.assertAlmostEqual(add(10, 5), 15)\n",
    "        self.assertAlmostEqual(add(-1, 1), 0)\n",
    "        self.assertAlmostEqual(add(-1, -1), -2) # It treats as 1 test instead of 3.\n",
    "\n",
    "    def test_subtract(self):\n",
    "        self.assertAlmostEqual(subtract(10, 5), 5)\n",
    "        self.assertAlmostEqual(subtract(-1, 1), -2)\n",
    "        self.assertAlmostEqual(subtract(-1, -1), 0)\n",
    "\n",
    "    def test_multiply(self):\n",
    "        self.assertAlmostEqual(multiply(10, 5), 50)\n",
    "        self.assertAlmostEqual(multiply(-1, 1), -1)\n",
    "        self.assertAlmostEqual(multiply(-1, -1), 1)\n",
    "\n",
    "\n",
    "    def test_divide(self):\n",
    "        self.assertAlmostEqual(divide(10, 5), 2)\n",
    "        self.assertAlmostEqual(divide(-1, 1), -1)\n",
    "        self.assertAlmostEqual(divide(-1, -1), 1)\n",
    "        self.assertAlmostEqual(divide(5, 2), 2.5)\n",
    "\n",
    "        self.assertRaises(ValueError, divide, 10, 0)\n",
    "        # Another method for Exception\n",
    "        with self.assertRaises(ValueError): # recommend\n",
    "            divide(10, 0)\n",
    "\n",
    "\n",
    "# if __name__ == '__main__':\n",
    "#     unittest.main()\n",
    "\n",
    "unittest.main(argv=[''], verbosity=2, exit=False)"
   ]
  },
  {
   "cell_type": "code",
   "execution_count": null,
   "metadata": {},
   "outputs": [],
   "source": []
  }
 ],
 "metadata": {
  "kernelspec": {
   "display_name": "Python 3",
   "language": "python",
   "name": "python3"
  },
  "language_info": {
   "codemirror_mode": {
    "name": "ipython",
    "version": 3
   },
   "file_extension": ".py",
   "mimetype": "text/x-python",
   "name": "python",
   "nbconvert_exporter": "python",
   "pygments_lexer": "ipython3",
   "version": "3.7.4"
  }
 },
 "nbformat": 4,
 "nbformat_minor": 2
}
