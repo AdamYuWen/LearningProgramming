{
 "cells": [
  {
   "cell_type": "markdown",
   "metadata": {},
   "source": [
    "# Notes for YouTube R Tutorials\n",
    "## R tutorial - Learn R Programming"
   ]
  },
  {
   "cell_type": "markdown",
   "metadata": {},
   "source": [
    "## R tutorial - The True Basics of R"
   ]
  },
  {
   "cell_type": "code",
   "execution_count": 1,
   "metadata": {},
   "outputs": [
    {
     "data": {
      "text/html": [
       "<ol class=list-inline>\n",
       "\t<li>'height'</li>\n",
       "\t<li>'width'</li>\n",
       "</ol>\n"
      ],
      "text/latex": [
       "\\begin{enumerate*}\n",
       "\\item 'height'\n",
       "\\item 'width'\n",
       "\\end{enumerate*}\n"
      ],
      "text/markdown": [
       "1. 'height'\n",
       "2. 'width'\n",
       "\n",
       "\n"
      ],
      "text/plain": [
       "[1] \"height\" \"width\" "
      ]
     },
     "metadata": {},
     "output_type": "display_data"
    }
   ],
   "source": [
    "height <- 2\n",
    "width <- 4\n",
    "ls()  # List all variable names"
   ]
  },
  {
   "cell_type": "markdown",
   "metadata": {},
   "source": [
    "## R tutorial - The basic data types in R"
   ]
  },
  {
   "cell_type": "code",
   "execution_count": 2,
   "metadata": {},
   "outputs": [
    {
     "data": {
      "text/html": [
       "'logical'"
      ],
      "text/latex": [
       "'logical'"
      ],
      "text/markdown": [
       "'logical'"
      ],
      "text/plain": [
       "[1] \"logical\""
      ]
     },
     "metadata": {},
     "output_type": "display_data"
    }
   ],
   "source": [
    "class(NA)  # same as TRUE and FALSE"
   ]
  },
  {
   "cell_type": "code",
   "execution_count": 3,
   "metadata": {},
   "outputs": [
    {
     "data": {
      "text/html": [
       "'numeric'"
      ],
      "text/latex": [
       "'numeric'"
      ],
      "text/markdown": [
       "'numeric'"
      ],
      "text/plain": [
       "[1] \"numeric\""
      ]
     },
     "metadata": {},
     "output_type": "display_data"
    }
   ],
   "source": [
    "class(2)"
   ]
  },
  {
   "cell_type": "code",
   "execution_count": 4,
   "metadata": {},
   "outputs": [
    {
     "data": {
      "text/html": [
       "'integer'"
      ],
      "text/latex": [
       "'integer'"
      ],
      "text/markdown": [
       "'integer'"
      ],
      "text/plain": [
       "[1] \"integer\""
      ]
     },
     "metadata": {},
     "output_type": "display_data"
    }
   ],
   "source": [
    "class(2L)"
   ]
  },
  {
   "cell_type": "code",
   "execution_count": 5,
   "metadata": {},
   "outputs": [
    {
     "data": {
      "text/html": [
       "TRUE"
      ],
      "text/latex": [
       "TRUE"
      ],
      "text/markdown": [
       "TRUE"
      ],
      "text/plain": [
       "[1] TRUE"
      ]
     },
     "metadata": {},
     "output_type": "display_data"
    }
   ],
   "source": [
    "is.numeric(2)"
   ]
  },
  {
   "cell_type": "code",
   "execution_count": 6,
   "metadata": {},
   "outputs": [
    {
     "data": {
      "text/html": [
       "FALSE"
      ],
      "text/latex": [
       "FALSE"
      ],
      "text/markdown": [
       "FALSE"
      ],
      "text/plain": [
       "[1] FALSE"
      ]
     },
     "metadata": {},
     "output_type": "display_data"
    }
   ],
   "source": [
    "is.integer(2)"
   ]
  },
  {
   "cell_type": "code",
   "execution_count": 7,
   "metadata": {},
   "outputs": [
    {
     "data": {
      "text/html": [
       "1"
      ],
      "text/latex": [
       "1"
      ],
      "text/markdown": [
       "1"
      ],
      "text/plain": [
       "[1] 1"
      ]
     },
     "metadata": {},
     "output_type": "display_data"
    }
   ],
   "source": [
    "as.numeric(TRUE)"
   ]
  },
  {
   "cell_type": "code",
   "execution_count": 8,
   "metadata": {},
   "outputs": [
    {
     "data": {
      "text/html": [
       "'4'"
      ],
      "text/latex": [
       "'4'"
      ],
      "text/markdown": [
       "'4'"
      ],
      "text/plain": [
       "[1] \"4\""
      ]
     },
     "metadata": {},
     "output_type": "display_data"
    }
   ],
   "source": [
    "as.character(4)"
   ]
  },
  {
   "cell_type": "code",
   "execution_count": 9,
   "metadata": {},
   "outputs": [
    {
     "data": {
      "text/html": [
       "4.5"
      ],
      "text/latex": [
       "4.5"
      ],
      "text/markdown": [
       "4.5"
      ],
      "text/plain": [
       "[1] 4.5"
      ]
     },
     "metadata": {},
     "output_type": "display_data"
    }
   ],
   "source": [
    "as.numeric(\"4.5\")"
   ]
  },
  {
   "cell_type": "markdown",
   "metadata": {},
   "source": [
    "## R tutorial - How to Create and Name Vector in R"
   ]
  },
  {
   "cell_type": "code",
   "execution_count": 10,
   "metadata": {},
   "outputs": [
    {
     "data": {
      "text/html": [
       "<ol class=list-inline>\n",
       "\t<li>'hearts'</li>\n",
       "\t<li>'spades'</li>\n",
       "\t<li>'diamonds'</li>\n",
       "\t<li>'diamonds'</li>\n",
       "\t<li>'spades'</li>\n",
       "</ol>\n"
      ],
      "text/latex": [
       "\\begin{enumerate*}\n",
       "\\item 'hearts'\n",
       "\\item 'spades'\n",
       "\\item 'diamonds'\n",
       "\\item 'diamonds'\n",
       "\\item 'spades'\n",
       "\\end{enumerate*}\n"
      ],
      "text/markdown": [
       "1. 'hearts'\n",
       "2. 'spades'\n",
       "3. 'diamonds'\n",
       "4. 'diamonds'\n",
       "5. 'spades'\n",
       "\n",
       "\n"
      ],
      "text/plain": [
       "[1] \"hearts\"   \"spades\"   \"diamonds\" \"diamonds\" \"spades\"  "
      ]
     },
     "metadata": {},
     "output_type": "display_data"
    }
   ],
   "source": [
    "# Create a vector\n",
    "drawn_suits <- c(\"hearts\", \"spades\", \"diamonds\", \"diamonds\", \"spades\")\n",
    "drawn_suits"
   ]
  },
  {
   "cell_type": "code",
   "execution_count": 11,
   "metadata": {},
   "outputs": [
    {
     "data": {
      "text/html": [
       "TRUE"
      ],
      "text/latex": [
       "TRUE"
      ],
      "text/markdown": [
       "TRUE"
      ],
      "text/plain": [
       "[1] TRUE"
      ]
     },
     "metadata": {},
     "output_type": "display_data"
    }
   ],
   "source": [
    "is.vector(drawn_suits)"
   ]
  },
  {
   "cell_type": "code",
   "execution_count": 12,
   "metadata": {},
   "outputs": [
    {
     "data": {
      "text/html": [
       "<ol class=list-inline>\n",
       "\t<li>11</li>\n",
       "\t<li>12</li>\n",
       "\t<li>11</li>\n",
       "\t<li>13</li>\n",
       "</ol>\n"
      ],
      "text/latex": [
       "\\begin{enumerate*}\n",
       "\\item 11\n",
       "\\item 12\n",
       "\\item 11\n",
       "\\item 13\n",
       "\\end{enumerate*}\n"
      ],
      "text/markdown": [
       "1. 11\n",
       "2. 12\n",
       "3. 11\n",
       "4. 13\n",
       "\n",
       "\n"
      ],
      "text/plain": [
       "[1] 11 12 11 13"
      ]
     },
     "metadata": {},
     "output_type": "display_data"
    }
   ],
   "source": [
    "remain <- c(11, 12, 11, 13)\n",
    "remain"
   ]
  },
  {
   "cell_type": "code",
   "execution_count": 13,
   "metadata": {},
   "outputs": [
    {
     "data": {
      "text/html": [
       "<dl class=dl-horizontal>\n",
       "\t<dt>spades</dt>\n",
       "\t\t<dd>11</dd>\n",
       "\t<dt>hearts</dt>\n",
       "\t\t<dd>12</dd>\n",
       "\t<dt>diamonds</dt>\n",
       "\t\t<dd>11</dd>\n",
       "\t<dt>clubs</dt>\n",
       "\t\t<dd>13</dd>\n",
       "</dl>\n"
      ],
      "text/latex": [
       "\\begin{description*}\n",
       "\\item[spades] 11\n",
       "\\item[hearts] 12\n",
       "\\item[diamonds] 11\n",
       "\\item[clubs] 13\n",
       "\\end{description*}\n"
      ],
      "text/markdown": [
       "spades\n",
       ":   11hearts\n",
       ":   12diamonds\n",
       ":   11clubs\n",
       ":   13\n",
       "\n"
      ],
      "text/plain": [
       "  spades   hearts diamonds    clubs \n",
       "      11       12       11       13 "
      ]
     },
     "metadata": {},
     "output_type": "display_data"
    }
   ],
   "source": [
    "# Name a vector\n",
    "suits <- c(\"spades\", \"hearts\", \"diamonds\", \"clubs\")\n",
    "names(remain) <- suits\n",
    "remain"
   ]
  },
  {
   "cell_type": "code",
   "execution_count": 14,
   "metadata": {},
   "outputs": [
    {
     "data": {
      "text/html": [
       "<dl class=dl-horizontal>\n",
       "\t<dt>spades</dt>\n",
       "\t\t<dd>11</dd>\n",
       "\t<dt>hearts</dt>\n",
       "\t\t<dd>12</dd>\n",
       "\t<dt>diamonds</dt>\n",
       "\t\t<dd>11</dd>\n",
       "\t<dt>clubs</dt>\n",
       "\t\t<dd>13</dd>\n",
       "</dl>\n"
      ],
      "text/latex": [
       "\\begin{description*}\n",
       "\\item[spades] 11\n",
       "\\item[hearts] 12\n",
       "\\item[diamonds] 11\n",
       "\\item[clubs] 13\n",
       "\\end{description*}\n"
      ],
      "text/markdown": [
       "spades\n",
       ":   11hearts\n",
       ":   12diamonds\n",
       ":   11clubs\n",
       ":   13\n",
       "\n"
      ],
      "text/plain": [
       "  spades   hearts diamonds    clubs \n",
       "      11       12       11       13 "
      ]
     },
     "metadata": {},
     "output_type": "display_data"
    }
   ],
   "source": [
    "# Option 2\n",
    "remain <- c(spades = 11, hearts = 12, diamonds = 11, clubs = 13)\n",
    "remain"
   ]
  },
  {
   "cell_type": "code",
   "execution_count": 15,
   "metadata": {},
   "outputs": [
    {
     "data": {
      "text/html": [
       "<dl class=dl-horizontal>\n",
       "\t<dt>spades</dt>\n",
       "\t\t<dd>11</dd>\n",
       "\t<dt>hearts</dt>\n",
       "\t\t<dd>12</dd>\n",
       "\t<dt>diamonds</dt>\n",
       "\t\t<dd>11</dd>\n",
       "\t<dt>clubs</dt>\n",
       "\t\t<dd>13</dd>\n",
       "</dl>\n"
      ],
      "text/latex": [
       "\\begin{description*}\n",
       "\\item[spades] 11\n",
       "\\item[hearts] 12\n",
       "\\item[diamonds] 11\n",
       "\\item[clubs] 13\n",
       "\\end{description*}\n"
      ],
      "text/markdown": [
       "spades\n",
       ":   11hearts\n",
       ":   12diamonds\n",
       ":   11clubs\n",
       ":   13\n",
       "\n"
      ],
      "text/plain": [
       "  spades   hearts diamonds    clubs \n",
       "      11       12       11       13 "
      ]
     },
     "metadata": {},
     "output_type": "display_data"
    }
   ],
   "source": [
    "# Option 3\n",
    "remain <- c(\"spades\" = 11, \"hearts\" = 12, \"diamonds\" = 11, \"clubs\" = 13)\n",
    "remain"
   ]
  },
  {
   "cell_type": "code",
   "execution_count": 16,
   "metadata": {},
   "outputs": [
    {
     "name": "stdout",
     "output_type": "stream",
     "text": [
      " Named num [1:4] 11 12 11 13\n",
      " - attr(*, \"names\")= chr [1:4] \"spades\" \"hearts\" \"diamonds\" \"clubs\"\n"
     ]
    }
   ],
   "source": [
    "str(remain)"
   ]
  },
  {
   "cell_type": "code",
   "execution_count": 17,
   "metadata": {},
   "outputs": [
    {
     "data": {
      "text/html": [
       "5"
      ],
      "text/latex": [
       "5"
      ],
      "text/markdown": [
       "5"
      ],
      "text/plain": [
       "[1] 5"
      ]
     },
     "metadata": {},
     "output_type": "display_data"
    }
   ],
   "source": [
    "length(drawn_suits)"
   ]
  },
  {
   "cell_type": "markdown",
   "metadata": {},
   "source": [
    "### Vectors are homogeneous\n",
    "- Only elements of the same type\n",
    "- Atomic vectors <> lists\n",
    "- Automatic coercion if necessary"
   ]
  },
  {
   "cell_type": "code",
   "execution_count": 18,
   "metadata": {},
   "outputs": [
    {
     "data": {
      "text/html": [
       "<ol class=list-inline>\n",
       "\t<li>'7'</li>\n",
       "\t<li>'4'</li>\n",
       "\t<li>'A'</li>\n",
       "\t<li>'10'</li>\n",
       "\t<li>'K'</li>\n",
       "\t<li>'3'</li>\n",
       "\t<li>'2'</li>\n",
       "\t<li>'Q'</li>\n",
       "</ol>\n"
      ],
      "text/latex": [
       "\\begin{enumerate*}\n",
       "\\item '7'\n",
       "\\item '4'\n",
       "\\item 'A'\n",
       "\\item '10'\n",
       "\\item 'K'\n",
       "\\item '3'\n",
       "\\item '2'\n",
       "\\item 'Q'\n",
       "\\end{enumerate*}\n"
      ],
      "text/markdown": [
       "1. '7'\n",
       "2. '4'\n",
       "3. 'A'\n",
       "4. '10'\n",
       "5. 'K'\n",
       "6. '3'\n",
       "7. '2'\n",
       "8. 'Q'\n",
       "\n",
       "\n"
      ],
      "text/plain": [
       "[1] \"7\"  \"4\"  \"A\"  \"10\" \"K\"  \"3\"  \"2\"  \"Q\" "
      ]
     },
     "metadata": {},
     "output_type": "display_data"
    }
   ],
   "source": [
    "drawn_ranks <- c(7, 4, \"A\", 10, \"K\", 3, 2, \"Q\")  # Changed all numeric to character by R.\n",
    "drawn_ranks"
   ]
  },
  {
   "cell_type": "markdown",
   "metadata": {},
   "source": [
    "## R tutorial - Different Ways to Create and Name Vectors in R"
   ]
  },
  {
   "cell_type": "code",
   "execution_count": 19,
   "metadata": {},
   "outputs": [
    {
     "data": {
      "text/html": [
       "<ol class=list-inline>\n",
       "\t<li>20</li>\n",
       "\t<li>60</li>\n",
       "\t<li>-50</li>\n",
       "</ol>\n"
      ],
      "text/latex": [
       "\\begin{enumerate*}\n",
       "\\item 20\n",
       "\\item 60\n",
       "\\item -50\n",
       "\\end{enumerate*}\n"
      ],
      "text/markdown": [
       "1. 20\n",
       "2. 60\n",
       "3. -50\n",
       "\n",
       "\n"
      ],
      "text/plain": [
       "[1]  20  60 -50"
      ]
     },
     "metadata": {},
     "output_type": "display_data"
    }
   ],
   "source": [
    "earnings <- c(50, 100, 30)\n",
    "expenses <- c(30, 40, 80)\n",
    "\n",
    "earnings - expenses"
   ]
  },
  {
   "cell_type": "code",
   "execution_count": 20,
   "metadata": {},
   "outputs": [
    {
     "data": {
      "text/html": [
       "<ol class=list-inline>\n",
       "\t<li>60</li>\n",
       "\t<li>120</li>\n",
       "\t<li>60</li>\n",
       "</ol>\n"
      ],
      "text/latex": [
       "\\begin{enumerate*}\n",
       "\\item 60\n",
       "\\item 120\n",
       "\\item 60\n",
       "\\end{enumerate*}\n"
      ],
      "text/markdown": [
       "1. 60\n",
       "2. 120\n",
       "3. 60\n",
       "\n",
       "\n"
      ],
      "text/plain": [
       "[1]  60 120  60"
      ]
     },
     "metadata": {},
     "output_type": "display_data"
    }
   ],
   "source": [
    "earnings + c(10, 20, 30)  # Adding one by one"
   ]
  },
  {
   "cell_type": "markdown",
   "metadata": {},
   "source": [
    "## R tutorial - Subsetting your Vectors in R"
   ]
  },
  {
   "cell_type": "code",
   "execution_count": 21,
   "metadata": {},
   "outputs": [
    {
     "data": {
      "text/html": [
       "<strong>spades:</strong> 11"
      ],
      "text/latex": [
       "\\textbf{spades:} 11"
      ],
      "text/markdown": [
       "**spades:** 11"
      ],
      "text/plain": [
       "spades \n",
       "    11 "
      ]
     },
     "metadata": {},
     "output_type": "display_data"
    }
   ],
   "source": [
    "remain <- c(spades = 11, hearts = 12, dimaonds = 11, clubs = 13)\n",
    "remain[1]  # 1-based index"
   ]
  },
  {
   "cell_type": "code",
   "execution_count": 22,
   "metadata": {},
   "outputs": [
    {
     "data": {
      "text/html": [
       "<strong>spades:</strong> 11"
      ],
      "text/latex": [
       "\\textbf{spades:} 11"
      ],
      "text/markdown": [
       "**spades:** 11"
      ],
      "text/plain": [
       "spades \n",
       "    11 "
      ]
     },
     "metadata": {},
     "output_type": "display_data"
    }
   ],
   "source": [
    "remain[\"spades\"]"
   ]
  },
  {
   "cell_type": "code",
   "execution_count": 23,
   "metadata": {},
   "outputs": [
    {
     "data": {
      "text/html": [
       "<dl class=dl-horizontal>\n",
       "\t<dt>spades</dt>\n",
       "\t\t<dd>11</dd>\n",
       "\t<dt>clubs</dt>\n",
       "\t\t<dd>13</dd>\n",
       "</dl>\n"
      ],
      "text/latex": [
       "\\begin{description*}\n",
       "\\item[spades] 11\n",
       "\\item[clubs] 13\n",
       "\\end{description*}\n"
      ],
      "text/markdown": [
       "spades\n",
       ":   11clubs\n",
       ":   13\n",
       "\n"
      ],
      "text/plain": [
       "spades  clubs \n",
       "    11     13 "
      ]
     },
     "metadata": {},
     "output_type": "display_data"
    }
   ],
   "source": [
    "remain_black <- remain[c(1, 4)]\n",
    "remain_black"
   ]
  },
  {
   "cell_type": "code",
   "execution_count": 24,
   "metadata": {},
   "outputs": [
    {
     "data": {
      "text/html": [
       "<dl class=dl-horizontal>\n",
       "\t<dt>clubs</dt>\n",
       "\t\t<dd>13</dd>\n",
       "\t<dt>spades</dt>\n",
       "\t\t<dd>11</dd>\n",
       "</dl>\n"
      ],
      "text/latex": [
       "\\begin{description*}\n",
       "\\item[clubs] 13\n",
       "\\item[spades] 11\n",
       "\\end{description*}\n"
      ],
      "text/markdown": [
       "clubs\n",
       ":   13spades\n",
       ":   11\n",
       "\n"
      ],
      "text/plain": [
       " clubs spades \n",
       "    13     11 "
      ]
     },
     "metadata": {},
     "output_type": "display_data"
    }
   ],
   "source": [
    "remain[c(4, 1)]  # The order is not the same as previous."
   ]
  },
  {
   "cell_type": "code",
   "execution_count": 25,
   "metadata": {},
   "outputs": [
    {
     "data": {
      "text/html": [
       "<dl class=dl-horizontal>\n",
       "\t<dt>clubs</dt>\n",
       "\t\t<dd>13</dd>\n",
       "\t<dt>spades</dt>\n",
       "\t\t<dd>11</dd>\n",
       "</dl>\n"
      ],
      "text/latex": [
       "\\begin{description*}\n",
       "\\item[clubs] 13\n",
       "\\item[spades] 11\n",
       "\\end{description*}\n"
      ],
      "text/markdown": [
       "clubs\n",
       ":   13spades\n",
       ":   11\n",
       "\n"
      ],
      "text/plain": [
       " clubs spades \n",
       "    13     11 "
      ]
     },
     "metadata": {},
     "output_type": "display_data"
    }
   ],
   "source": [
    "remain[c(\"clubs\", \"spades\")]"
   ]
  },
  {
   "cell_type": "code",
   "execution_count": 26,
   "metadata": {},
   "outputs": [
    {
     "data": {
      "text/html": [
       "<dl class=dl-horizontal>\n",
       "\t<dt>hearts</dt>\n",
       "\t\t<dd>12</dd>\n",
       "\t<dt>dimaonds</dt>\n",
       "\t\t<dd>11</dd>\n",
       "\t<dt>clubs</dt>\n",
       "\t\t<dd>13</dd>\n",
       "</dl>\n"
      ],
      "text/latex": [
       "\\begin{description*}\n",
       "\\item[hearts] 12\n",
       "\\item[dimaonds] 11\n",
       "\\item[clubs] 13\n",
       "\\end{description*}\n"
      ],
      "text/markdown": [
       "hearts\n",
       ":   12dimaonds\n",
       ":   11clubs\n",
       ":   13\n",
       "\n"
      ],
      "text/plain": [
       "  hearts dimaonds    clubs \n",
       "      12       11       13 "
      ]
     },
     "metadata": {},
     "output_type": "display_data"
    }
   ],
   "source": [
    "remain[-1]  # All but index 1 are returned."
   ]
  },
  {
   "cell_type": "code",
   "execution_count": 27,
   "metadata": {},
   "outputs": [
    {
     "data": {
      "text/html": [
       "<dl class=dl-horizontal>\n",
       "\t<dt>dimaonds</dt>\n",
       "\t\t<dd>11</dd>\n",
       "\t<dt>clubs</dt>\n",
       "\t\t<dd>13</dd>\n",
       "</dl>\n"
      ],
      "text/latex": [
       "\\begin{description*}\n",
       "\\item[dimaonds] 11\n",
       "\\item[clubs] 13\n",
       "\\end{description*}\n"
      ],
      "text/markdown": [
       "dimaonds\n",
       ":   11clubs\n",
       ":   13\n",
       "\n"
      ],
      "text/plain": [
       "dimaonds    clubs \n",
       "      11       13 "
      ]
     },
     "metadata": {},
     "output_type": "display_data"
    }
   ],
   "source": [
    "remain[-c(1, 2)]  # All but index 1 and 2 are returned."
   ]
  },
  {
   "cell_type": "code",
   "execution_count": 28,
   "metadata": {},
   "outputs": [],
   "source": [
    "# The following does NOT work.\n",
    "# remain[-\"spades\"]"
   ]
  },
  {
   "cell_type": "code",
   "execution_count": 29,
   "metadata": {},
   "outputs": [
    {
     "data": {
      "text/html": [
       "<dl class=dl-horizontal>\n",
       "\t<dt>hearts</dt>\n",
       "\t\t<dd>12</dd>\n",
       "\t<dt>clubs</dt>\n",
       "\t\t<dd>13</dd>\n",
       "</dl>\n"
      ],
      "text/latex": [
       "\\begin{description*}\n",
       "\\item[hearts] 12\n",
       "\\item[clubs] 13\n",
       "\\end{description*}\n"
      ],
      "text/markdown": [
       "hearts\n",
       ":   12clubs\n",
       ":   13\n",
       "\n"
      ],
      "text/plain": [
       "hearts  clubs \n",
       "    12     13 "
      ]
     },
     "metadata": {},
     "output_type": "display_data"
    }
   ],
   "source": [
    "remain[c(FALSE, TRUE, FALSE, TRUE)]"
   ]
  },
  {
   "cell_type": "code",
   "execution_count": 30,
   "metadata": {},
   "outputs": [
    {
     "data": {
      "text/html": [
       "<dl class=dl-horizontal>\n",
       "\t<dt>hearts</dt>\n",
       "\t\t<dd>12</dd>\n",
       "\t<dt>clubs</dt>\n",
       "\t\t<dd>13</dd>\n",
       "</dl>\n"
      ],
      "text/latex": [
       "\\begin{description*}\n",
       "\\item[hearts] 12\n",
       "\\item[clubs] 13\n",
       "\\end{description*}\n"
      ],
      "text/markdown": [
       "hearts\n",
       ":   12clubs\n",
       ":   13\n",
       "\n"
      ],
      "text/plain": [
       "hearts  clubs \n",
       "    12     13 "
      ]
     },
     "metadata": {},
     "output_type": "display_data"
    }
   ],
   "source": [
    "selection_vector <- c(FALSE, TRUE, FALSE, TRUE)\n",
    "remain[selection_vector]"
   ]
  },
  {
   "cell_type": "code",
   "execution_count": 31,
   "metadata": {},
   "outputs": [
    {
     "data": {
      "text/html": [
       "<dl class=dl-horizontal>\n",
       "\t<dt>spades</dt>\n",
       "\t\t<dd>11</dd>\n",
       "\t<dt>dimaonds</dt>\n",
       "\t\t<dd>11</dd>\n",
       "</dl>\n"
      ],
      "text/latex": [
       "\\begin{description*}\n",
       "\\item[spades] 11\n",
       "\\item[dimaonds] 11\n",
       "\\end{description*}\n"
      ],
      "text/markdown": [
       "spades\n",
       ":   11dimaonds\n",
       ":   11\n",
       "\n"
      ],
      "text/plain": [
       "  spades dimaonds \n",
       "      11       11 "
      ]
     },
     "metadata": {},
     "output_type": "display_data"
    }
   ],
   "source": [
    "remain[c(TRUE, FALSE)]  # R recycles c(T, F) to c(T, F, T, F)\n",
    "# Same as remain[c(TRUE, FALSE, TRUE, FALSE)]"
   ]
  },
  {
   "cell_type": "code",
   "execution_count": 32,
   "metadata": {},
   "outputs": [
    {
     "data": {
      "text/html": [
       "<dl class=dl-horizontal>\n",
       "\t<dt>spades</dt>\n",
       "\t\t<dd>11</dd>\n",
       "\t<dt>dimaonds</dt>\n",
       "\t\t<dd>11</dd>\n",
       "\t<dt>clubs</dt>\n",
       "\t\t<dd>13</dd>\n",
       "</dl>\n"
      ],
      "text/latex": [
       "\\begin{description*}\n",
       "\\item[spades] 11\n",
       "\\item[dimaonds] 11\n",
       "\\item[clubs] 13\n",
       "\\end{description*}\n"
      ],
      "text/markdown": [
       "spades\n",
       ":   11dimaonds\n",
       ":   11clubs\n",
       ":   13\n",
       "\n"
      ],
      "text/plain": [
       "  spades dimaonds    clubs \n",
       "      11       11       13 "
      ]
     },
     "metadata": {},
     "output_type": "display_data"
    }
   ],
   "source": [
    "remain[c(TRUE, FALSE, TRUE)]  # Same as remain[c(TRUE, FALSE, TRUE, TRUE)]"
   ]
  },
  {
   "cell_type": "markdown",
   "metadata": {},
   "source": [
    "## R tutorial - Learn How to Create and Name Matrices in R"
   ]
  },
  {
   "cell_type": "code",
   "execution_count": 33,
   "metadata": {},
   "outputs": [
    {
     "data": {
      "text/html": [
       "<table>\n",
       "<tbody>\n",
       "\t<tr><td>1</td><td>3</td><td>5</td></tr>\n",
       "\t<tr><td>2</td><td>4</td><td>6</td></tr>\n",
       "</tbody>\n",
       "</table>\n"
      ],
      "text/latex": [
       "\\begin{tabular}{lll}\n",
       "\t 1 & 3 & 5\\\\\n",
       "\t 2 & 4 & 6\\\\\n",
       "\\end{tabular}\n"
      ],
      "text/markdown": [
       "\n",
       "| 1 | 3 | 5 |\n",
       "| 2 | 4 | 6 |\n",
       "\n"
      ],
      "text/plain": [
       "     [,1] [,2] [,3]\n",
       "[1,] 1    3    5   \n",
       "[2,] 2    4    6   "
      ]
     },
     "metadata": {},
     "output_type": "display_data"
    }
   ],
   "source": [
    "# Create a matrix\n",
    "matrix(1:6, nrow = 2)  # Fill column first."
   ]
  },
  {
   "cell_type": "code",
   "execution_count": 34,
   "metadata": {},
   "outputs": [
    {
     "data": {
      "text/html": [
       "<table>\n",
       "<tbody>\n",
       "\t<tr><td>1</td><td>3</td><td>5</td></tr>\n",
       "\t<tr><td>2</td><td>4</td><td>6</td></tr>\n",
       "</tbody>\n",
       "</table>\n"
      ],
      "text/latex": [
       "\\begin{tabular}{lll}\n",
       "\t 1 & 3 & 5\\\\\n",
       "\t 2 & 4 & 6\\\\\n",
       "\\end{tabular}\n"
      ],
      "text/markdown": [
       "\n",
       "| 1 | 3 | 5 |\n",
       "| 2 | 4 | 6 |\n",
       "\n"
      ],
      "text/plain": [
       "     [,1] [,2] [,3]\n",
       "[1,] 1    3    5   \n",
       "[2,] 2    4    6   "
      ]
     },
     "metadata": {},
     "output_type": "display_data"
    }
   ],
   "source": [
    "matrix(1:6, ncol = 3)"
   ]
  },
  {
   "cell_type": "code",
   "execution_count": 35,
   "metadata": {},
   "outputs": [
    {
     "data": {
      "text/html": [
       "<table>\n",
       "<tbody>\n",
       "\t<tr><td>1</td><td>2</td><td>3</td></tr>\n",
       "\t<tr><td>4</td><td>5</td><td>6</td></tr>\n",
       "</tbody>\n",
       "</table>\n"
      ],
      "text/latex": [
       "\\begin{tabular}{lll}\n",
       "\t 1 & 2 & 3\\\\\n",
       "\t 4 & 5 & 6\\\\\n",
       "\\end{tabular}\n"
      ],
      "text/markdown": [
       "\n",
       "| 1 | 2 | 3 |\n",
       "| 4 | 5 | 6 |\n",
       "\n"
      ],
      "text/plain": [
       "     [,1] [,2] [,3]\n",
       "[1,] 1    2    3   \n",
       "[2,] 4    5    6   "
      ]
     },
     "metadata": {},
     "output_type": "display_data"
    }
   ],
   "source": [
    "matrix(1:6, nrow = 2, byrow = TRUE)  # Fill row first."
   ]
  },
  {
   "cell_type": "code",
   "execution_count": 36,
   "metadata": {},
   "outputs": [
    {
     "data": {
      "text/html": [
       "<table>\n",
       "<tbody>\n",
       "\t<tr><td>1</td><td>3</td><td>5</td></tr>\n",
       "\t<tr><td>2</td><td>4</td><td>6</td></tr>\n",
       "</tbody>\n",
       "</table>\n"
      ],
      "text/latex": [
       "\\begin{tabular}{lll}\n",
       "\t 1 & 3 & 5\\\\\n",
       "\t 2 & 4 & 6\\\\\n",
       "\\end{tabular}\n"
      ],
      "text/markdown": [
       "\n",
       "| 1 | 3 | 5 |\n",
       "| 2 | 4 | 6 |\n",
       "\n"
      ],
      "text/plain": [
       "     [,1] [,2] [,3]\n",
       "[1,] 1    3    5   \n",
       "[2,] 2    4    6   "
      ]
     },
     "metadata": {},
     "output_type": "display_data"
    }
   ],
   "source": [
    "# Create a matrix: recycling\n",
    "matrix(1:6, nrow = 2, ncol = 3)"
   ]
  },
  {
   "cell_type": "code",
   "execution_count": 37,
   "metadata": {},
   "outputs": [
    {
     "name": "stderr",
     "output_type": "stream",
     "text": [
      "Warning message in matrix(1:4, nrow = 2, ncol = 3):\n",
      "\"data length [4] is not a sub-multiple or multiple of the number of columns [3]\""
     ]
    },
    {
     "data": {
      "text/html": [
       "<table>\n",
       "<tbody>\n",
       "\t<tr><td>1</td><td>3</td><td>1</td></tr>\n",
       "\t<tr><td>2</td><td>4</td><td>2</td></tr>\n",
       "</tbody>\n",
       "</table>\n"
      ],
      "text/latex": [
       "\\begin{tabular}{lll}\n",
       "\t 1 & 3 & 1\\\\\n",
       "\t 2 & 4 & 2\\\\\n",
       "\\end{tabular}\n"
      ],
      "text/markdown": [
       "\n",
       "| 1 | 3 | 1 |\n",
       "| 2 | 4 | 2 |\n",
       "\n"
      ],
      "text/plain": [
       "     [,1] [,2] [,3]\n",
       "[1,] 1    3    1   \n",
       "[2,] 2    4    2   "
      ]
     },
     "metadata": {},
     "output_type": "display_data"
    }
   ],
   "source": [
    "matrix(1:4, nrow = 2, ncol = 3)  # It was created but a warning poped up."
   ]
  },
  {
   "cell_type": "code",
   "execution_count": 38,
   "metadata": {},
   "outputs": [
    {
     "data": {
      "text/html": [
       "<table>\n",
       "<tbody>\n",
       "\t<tr><td>1</td><td>1</td></tr>\n",
       "\t<tr><td>2</td><td>2</td></tr>\n",
       "\t<tr><td>3</td><td>3</td></tr>\n",
       "</tbody>\n",
       "</table>\n"
      ],
      "text/latex": [
       "\\begin{tabular}{ll}\n",
       "\t 1 & 1\\\\\n",
       "\t 2 & 2\\\\\n",
       "\t 3 & 3\\\\\n",
       "\\end{tabular}\n"
      ],
      "text/markdown": [
       "\n",
       "| 1 | 1 |\n",
       "| 2 | 2 |\n",
       "| 3 | 3 |\n",
       "\n"
      ],
      "text/plain": [
       "     [,1] [,2]\n",
       "[1,] 1    1   \n",
       "[2,] 2    2   \n",
       "[3,] 3    3   "
      ]
     },
     "metadata": {},
     "output_type": "display_data"
    }
   ],
   "source": [
    "cbind(1:3, 1:3)  # column bind"
   ]
  },
  {
   "cell_type": "code",
   "execution_count": 39,
   "metadata": {},
   "outputs": [
    {
     "data": {
      "text/html": [
       "<table>\n",
       "<tbody>\n",
       "\t<tr><td>1</td><td>2</td><td>3</td></tr>\n",
       "\t<tr><td>1</td><td>2</td><td>3</td></tr>\n",
       "</tbody>\n",
       "</table>\n"
      ],
      "text/latex": [
       "\\begin{tabular}{lll}\n",
       "\t 1 & 2 & 3\\\\\n",
       "\t 1 & 2 & 3\\\\\n",
       "\\end{tabular}\n"
      ],
      "text/markdown": [
       "\n",
       "| 1 | 2 | 3 |\n",
       "| 1 | 2 | 3 |\n",
       "\n"
      ],
      "text/plain": [
       "     [,1] [,2] [,3]\n",
       "[1,] 1    2    3   \n",
       "[2,] 1    2    3   "
      ]
     },
     "metadata": {},
     "output_type": "display_data"
    }
   ],
   "source": [
    "rbind(1:3, 1:3)  # row bind"
   ]
  },
  {
   "cell_type": "code",
   "execution_count": 40,
   "metadata": {},
   "outputs": [
    {
     "data": {
      "text/html": [
       "<table>\n",
       "<tbody>\n",
       "\t<tr><td>1</td><td>2</td><td>3</td></tr>\n",
       "\t<tr><td>4</td><td>5</td><td>6</td></tr>\n",
       "\t<tr><td>7</td><td>8</td><td>9</td></tr>\n",
       "</tbody>\n",
       "</table>\n"
      ],
      "text/latex": [
       "\\begin{tabular}{lll}\n",
       "\t 1 & 2 & 3\\\\\n",
       "\t 4 & 5 & 6\\\\\n",
       "\t 7 & 8 & 9\\\\\n",
       "\\end{tabular}\n"
      ],
      "text/markdown": [
       "\n",
       "| 1 | 2 | 3 |\n",
       "| 4 | 5 | 6 |\n",
       "| 7 | 8 | 9 |\n",
       "\n"
      ],
      "text/plain": [
       "     [,1] [,2] [,3]\n",
       "[1,] 1    2    3   \n",
       "[2,] 4    5    6   \n",
       "[3,] 7    8    9   "
      ]
     },
     "metadata": {},
     "output_type": "display_data"
    }
   ],
   "source": [
    "m <- matrix(1:6, byrow = TRUE, nrow = 2)\n",
    "rbind(m, 7:9)"
   ]
  },
  {
   "cell_type": "code",
   "execution_count": 41,
   "metadata": {},
   "outputs": [
    {
     "data": {
      "text/html": [
       "<table>\n",
       "<tbody>\n",
       "\t<tr><td>1 </td><td>2 </td><td>3 </td><td>10</td></tr>\n",
       "\t<tr><td>4 </td><td>5 </td><td>6 </td><td>11</td></tr>\n",
       "</tbody>\n",
       "</table>\n"
      ],
      "text/latex": [
       "\\begin{tabular}{llll}\n",
       "\t 1  & 2  & 3  & 10\\\\\n",
       "\t 4  & 5  & 6  & 11\\\\\n",
       "\\end{tabular}\n"
      ],
      "text/markdown": [
       "\n",
       "| 1  | 2  | 3  | 10 |\n",
       "| 4  | 5  | 6  | 11 |\n",
       "\n"
      ],
      "text/plain": [
       "     [,1] [,2] [,3] [,4]\n",
       "[1,] 1    2    3    10  \n",
       "[2,] 4    5    6    11  "
      ]
     },
     "metadata": {},
     "output_type": "display_data"
    }
   ],
   "source": [
    "cbind(m, c(10, 11))"
   ]
  },
  {
   "cell_type": "code",
   "execution_count": 42,
   "metadata": {},
   "outputs": [
    {
     "data": {
      "text/html": [
       "<table>\n",
       "<tbody>\n",
       "\t<tr><th scope=row>row1</th><td>1</td><td>2</td><td>3</td></tr>\n",
       "\t<tr><th scope=row>row2</th><td>4</td><td>5</td><td>6</td></tr>\n",
       "</tbody>\n",
       "</table>\n"
      ],
      "text/latex": [
       "\\begin{tabular}{r|lll}\n",
       "\trow1 & 1 & 2 & 3\\\\\n",
       "\trow2 & 4 & 5 & 6\\\\\n",
       "\\end{tabular}\n"
      ],
      "text/markdown": [
       "\n",
       "| row1 | 1 | 2 | 3 |\n",
       "| row2 | 4 | 5 | 6 |\n",
       "\n"
      ],
      "text/plain": [
       "     [,1] [,2] [,3]\n",
       "row1 1    2    3   \n",
       "row2 4    5    6   "
      ]
     },
     "metadata": {},
     "output_type": "display_data"
    }
   ],
   "source": [
    "# Naming a matrix\n",
    "rownames(m) <- c(\"row1\", \"row2\")\n",
    "m"
   ]
  },
  {
   "cell_type": "code",
   "execution_count": 43,
   "metadata": {},
   "outputs": [
    {
     "data": {
      "text/html": [
       "<table>\n",
       "<thead><tr><th></th><th scope=col>col1</th><th scope=col>col2</th><th scope=col>col3</th></tr></thead>\n",
       "<tbody>\n",
       "\t<tr><th scope=row>row1</th><td>1</td><td>2</td><td>3</td></tr>\n",
       "\t<tr><th scope=row>row2</th><td>4</td><td>5</td><td>6</td></tr>\n",
       "</tbody>\n",
       "</table>\n"
      ],
      "text/latex": [
       "\\begin{tabular}{r|lll}\n",
       "  & col1 & col2 & col3\\\\\n",
       "\\hline\n",
       "\trow1 & 1 & 2 & 3\\\\\n",
       "\trow2 & 4 & 5 & 6\\\\\n",
       "\\end{tabular}\n"
      ],
      "text/markdown": [
       "\n",
       "| <!--/--> | col1 | col2 | col3 |\n",
       "|---|---|---|---|\n",
       "| row1 | 1 | 2 | 3 |\n",
       "| row2 | 4 | 5 | 6 |\n",
       "\n"
      ],
      "text/plain": [
       "     col1 col2 col3\n",
       "row1 1    2    3   \n",
       "row2 4    5    6   "
      ]
     },
     "metadata": {},
     "output_type": "display_data"
    }
   ],
   "source": [
    "colnames(m) <- c(\"col1\", \"col2\", \"col3\")\n",
    "m"
   ]
  },
  {
   "cell_type": "code",
   "execution_count": 44,
   "metadata": {},
   "outputs": [
    {
     "data": {
      "text/html": [
       "<table>\n",
       "<thead><tr><th></th><th scope=col>col1</th><th scope=col>col2</th><th scope=col>col3</th></tr></thead>\n",
       "<tbody>\n",
       "\t<tr><th scope=row>row1</th><td>1</td><td>2</td><td>3</td></tr>\n",
       "\t<tr><th scope=row>row2</th><td>4</td><td>5</td><td>6</td></tr>\n",
       "</tbody>\n",
       "</table>\n"
      ],
      "text/latex": [
       "\\begin{tabular}{r|lll}\n",
       "  & col1 & col2 & col3\\\\\n",
       "\\hline\n",
       "\trow1 & 1 & 2 & 3\\\\\n",
       "\trow2 & 4 & 5 & 6\\\\\n",
       "\\end{tabular}\n"
      ],
      "text/markdown": [
       "\n",
       "| <!--/--> | col1 | col2 | col3 |\n",
       "|---|---|---|---|\n",
       "| row1 | 1 | 2 | 3 |\n",
       "| row2 | 4 | 5 | 6 |\n",
       "\n"
      ],
      "text/plain": [
       "     col1 col2 col3\n",
       "row1 1    2    3   \n",
       "row2 4    5    6   "
      ]
     },
     "metadata": {},
     "output_type": "display_data"
    }
   ],
   "source": [
    "# Adding names when creating it.\n",
    "m <- matrix(1:6, byrow = TRUE, nrow = 2,\n",
    "            dimnames = list(c(\"row1\", \"row2\"),\n",
    "                            c(\"col1\", \"col2\", \"col3\")))\n",
    "m"
   ]
  },
  {
   "cell_type": "code",
   "execution_count": 45,
   "metadata": {},
   "outputs": [
    {
     "data": {
      "text/html": [
       "<table>\n",
       "<tbody>\n",
       "\t<tr><td>1</td><td>5</td><td>A</td><td>E</td><td>C</td></tr>\n",
       "\t<tr><td>2</td><td>6</td><td>B</td><td>F</td><td>D</td></tr>\n",
       "\t<tr><td>3</td><td>7</td><td>C</td><td>A</td><td>E</td></tr>\n",
       "\t<tr><td>4</td><td>8</td><td>D</td><td>B</td><td>F</td></tr>\n",
       "</tbody>\n",
       "</table>\n"
      ],
      "text/latex": [
       "\\begin{tabular}{lllll}\n",
       "\t 1 & 5 & A & E & C\\\\\n",
       "\t 2 & 6 & B & F & D\\\\\n",
       "\t 3 & 7 & C & A & E\\\\\n",
       "\t 4 & 8 & D & B & F\\\\\n",
       "\\end{tabular}\n"
      ],
      "text/markdown": [
       "\n",
       "| 1 | 5 | A | E | C |\n",
       "| 2 | 6 | B | F | D |\n",
       "| 3 | 7 | C | A | E |\n",
       "| 4 | 8 | D | B | F |\n",
       "\n"
      ],
      "text/plain": [
       "     [,1] [,2] [,3] [,4] [,5]\n",
       "[1,] 1    5    A    E    C   \n",
       "[2,] 2    6    B    F    D   \n",
       "[3,] 3    7    C    A    E   \n",
       "[4,] 4    8    D    B    F   "
      ]
     },
     "metadata": {},
     "output_type": "display_data"
    }
   ],
   "source": [
    "# Coercion\n",
    "num <- matrix(1:8, ncol = 2)\n",
    "char <- matrix(LETTERS[1:6], nrow = 4, ncol = 3)\n",
    "\n",
    "cbind(num, char)  # Changed numbers to characters."
   ]
  },
  {
   "cell_type": "markdown",
   "metadata": {},
   "source": [
    "## R tutorial - Learn How to Subset Matrices in R"
   ]
  },
  {
   "cell_type": "code",
   "execution_count": 46,
   "metadata": {},
   "outputs": [
    {
     "data": {
      "text/html": [
       "<table>\n",
       "<tbody>\n",
       "\t<tr><td> 9</td><td>14</td><td>13</td><td> 1</td></tr>\n",
       "\t<tr><td>10</td><td> 6</td><td> 4</td><td>15</td></tr>\n",
       "\t<tr><td>11</td><td> 3</td><td> 5</td><td> 7</td></tr>\n",
       "</tbody>\n",
       "</table>\n"
      ],
      "text/latex": [
       "\\begin{tabular}{llll}\n",
       "\t  9 & 14 & 13 &  1\\\\\n",
       "\t 10 &  6 &  4 & 15\\\\\n",
       "\t 11 &  3 &  5 &  7\\\\\n",
       "\\end{tabular}\n"
      ],
      "text/markdown": [
       "\n",
       "|  9 | 14 | 13 |  1 |\n",
       "| 10 |  6 |  4 | 15 |\n",
       "| 11 |  3 |  5 |  7 |\n",
       "\n"
      ],
      "text/plain": [
       "     [,1] [,2] [,3] [,4]\n",
       "[1,]  9   14   13    1  \n",
       "[2,] 10    6    4   15  \n",
       "[3,] 11    3    5    7  "
      ]
     },
     "metadata": {},
     "output_type": "display_data"
    }
   ],
   "source": [
    "# Create a matrix by random numbers\n",
    "m <- matrix(sample(1:15, 12), nrow = 3)  # Select 12 numbers from 1 to 15.\n",
    "m"
   ]
  },
  {
   "cell_type": "code",
   "execution_count": 47,
   "metadata": {},
   "outputs": [
    {
     "data": {
      "text/html": [
       "13"
      ],
      "text/latex": [
       "13"
      ],
      "text/markdown": [
       "13"
      ],
      "text/plain": [
       "[1] 13"
      ]
     },
     "metadata": {},
     "output_type": "display_data"
    }
   ],
   "source": [
    "m[1,3]  # row 1 and col 3"
   ]
  },
  {
   "cell_type": "code",
   "execution_count": 48,
   "metadata": {},
   "outputs": [
    {
     "data": {
      "text/html": [
       "14"
      ],
      "text/latex": [
       "14"
      ],
      "text/markdown": [
       "14"
      ],
      "text/plain": [
       "[1] 14"
      ]
     },
     "metadata": {},
     "output_type": "display_data"
    },
    {
     "data": {
      "text/html": [
       "5"
      ],
      "text/latex": [
       "5"
      ],
      "text/markdown": [
       "5"
      ],
      "text/plain": [
       "[1] 5"
      ]
     },
     "metadata": {},
     "output_type": "display_data"
    }
   ],
   "source": [
    "m[4]  # counting from column by column\n",
    "\n",
    "m[9]"
   ]
  },
  {
   "cell_type": "code",
   "execution_count": 49,
   "metadata": {},
   "outputs": [
    {
     "data": {
      "text/html": [
       "<table>\n",
       "<thead><tr><th></th><th scope=col>a</th><th scope=col>b</th><th scope=col>c</th><th scope=col>d</th></tr></thead>\n",
       "<tbody>\n",
       "\t<tr><th scope=row>r1</th><td> 9</td><td>14</td><td>13</td><td> 1</td></tr>\n",
       "\t<tr><th scope=row>r2</th><td>10</td><td> 6</td><td> 4</td><td>15</td></tr>\n",
       "\t<tr><th scope=row>r3</th><td>11</td><td> 3</td><td> 5</td><td> 7</td></tr>\n",
       "</tbody>\n",
       "</table>\n"
      ],
      "text/latex": [
       "\\begin{tabular}{r|llll}\n",
       "  & a & b & c & d\\\\\n",
       "\\hline\n",
       "\tr1 &  9 & 14 & 13 &  1\\\\\n",
       "\tr2 & 10 &  6 &  4 & 15\\\\\n",
       "\tr3 & 11 &  3 &  5 &  7\\\\\n",
       "\\end{tabular}\n"
      ],
      "text/markdown": [
       "\n",
       "| <!--/--> | a | b | c | d |\n",
       "|---|---|---|---|---|\n",
       "| r1 |  9 | 14 | 13 |  1 |\n",
       "| r2 | 10 |  6 |  4 | 15 |\n",
       "| r3 | 11 |  3 |  5 |  7 |\n",
       "\n"
      ],
      "text/plain": [
       "   a  b  c  d \n",
       "r1  9 14 13  1\n",
       "r2 10  6  4 15\n",
       "r3 11  3  5  7"
      ]
     },
     "metadata": {},
     "output_type": "display_data"
    }
   ],
   "source": [
    "rownames(m) <- c(\"r1\", \"r2\", \"r3\")\n",
    "colnames(m) <- c(\"a\", \"b\", \"c\", \"d\")\n",
    "m"
   ]
  },
  {
   "cell_type": "code",
   "execution_count": 50,
   "metadata": {},
   "outputs": [
    {
     "data": {
      "text/html": [
       "4"
      ],
      "text/latex": [
       "4"
      ],
      "text/markdown": [
       "4"
      ],
      "text/plain": [
       "[1] 4"
      ]
     },
     "metadata": {},
     "output_type": "display_data"
    }
   ],
   "source": [
    "m[\"r2\",\"c\"]  # same as m[2,3]"
   ]
  },
  {
   "cell_type": "code",
   "execution_count": 51,
   "metadata": {},
   "outputs": [
    {
     "data": {
      "text/html": [
       "<dl class=dl-horizontal>\n",
       "\t<dt>c</dt>\n",
       "\t\t<dd>5</dd>\n",
       "\t<dt>d</dt>\n",
       "\t\t<dd>7</dd>\n",
       "</dl>\n"
      ],
      "text/latex": [
       "\\begin{description*}\n",
       "\\item[c] 5\n",
       "\\item[d] 7\n",
       "\\end{description*}\n"
      ],
      "text/markdown": [
       "c\n",
       ":   5d\n",
       ":   7\n",
       "\n"
      ],
      "text/plain": [
       "c d \n",
       "5 7 "
      ]
     },
     "metadata": {},
     "output_type": "display_data"
    }
   ],
   "source": [
    "m[c(FALSE, FALSE, TRUE),\n",
    "  c(FALSE, FALSE, TRUE, TRUE)]"
   ]
  },
  {
   "cell_type": "markdown",
   "metadata": {},
   "source": [
    "## R tutorial - Matrix Arithmetic in R"
   ]
  },
  {
   "cell_type": "code",
   "execution_count": 52,
   "metadata": {},
   "outputs": [
    {
     "data": {
      "text/html": [
       "<table>\n",
       "<tbody>\n",
       "\t<tr><td>316</td><td>556</td></tr>\n",
       "\t<tr><td>343</td><td>584</td></tr>\n",
       "\t<tr><td>378</td><td>742</td></tr>\n",
       "</tbody>\n",
       "</table>\n"
      ],
      "text/latex": [
       "\\begin{tabular}{ll}\n",
       "\t 316 & 556\\\\\n",
       "\t 343 & 584\\\\\n",
       "\t 378 & 742\\\\\n",
       "\\end{tabular}\n"
      ],
      "text/markdown": [
       "\n",
       "| 316 | 556 |\n",
       "| 343 | 584 |\n",
       "| 378 | 742 |\n",
       "\n"
      ],
      "text/plain": [
       "     [,1] [,2]\n",
       "[1,] 316  556 \n",
       "[2,] 343  584 \n",
       "[3,] 378  742 "
      ]
     },
     "metadata": {},
     "output_type": "display_data"
    }
   ],
   "source": [
    "# Matrix Multiplication\n",
    "# element by element\n",
    "lotr_matrix <- matrix(c(316, 343, 378, 556, 584, 742), nrow = 3)\n",
    "lotr_matrix"
   ]
  },
  {
   "cell_type": "code",
   "execution_count": 53,
   "metadata": {},
   "outputs": [
    {
     "data": {
      "text/html": [
       "<table>\n",
       "<tbody>\n",
       "\t<tr><td>1.11</td><td>1.11</td></tr>\n",
       "\t<tr><td>0.99</td><td>0.99</td></tr>\n",
       "\t<tr><td>0.82</td><td>0.82</td></tr>\n",
       "</tbody>\n",
       "</table>\n"
      ],
      "text/latex": [
       "\\begin{tabular}{ll}\n",
       "\t 1.11 & 1.11\\\\\n",
       "\t 0.99 & 0.99\\\\\n",
       "\t 0.82 & 0.82\\\\\n",
       "\\end{tabular}\n"
      ],
      "text/markdown": [
       "\n",
       "| 1.11 | 1.11 |\n",
       "| 0.99 | 0.99 |\n",
       "| 0.82 | 0.82 |\n",
       "\n"
      ],
      "text/plain": [
       "     [,1] [,2]\n",
       "[1,] 1.11 1.11\n",
       "[2,] 0.99 0.99\n",
       "[3,] 0.82 0.82"
      ]
     },
     "metadata": {},
     "output_type": "display_data"
    }
   ],
   "source": [
    "rates <- matrix(c(1.11, 0.99, 0.82), nrow = 3, ncol = 2)\n",
    "rates"
   ]
  },
  {
   "cell_type": "code",
   "execution_count": 54,
   "metadata": {},
   "outputs": [
    {
     "data": {
      "text/html": [
       "<table>\n",
       "<tbody>\n",
       "\t<tr><td>350.76</td><td>617.16</td></tr>\n",
       "\t<tr><td>339.57</td><td>578.16</td></tr>\n",
       "\t<tr><td>309.96</td><td>608.44</td></tr>\n",
       "</tbody>\n",
       "</table>\n"
      ],
      "text/latex": [
       "\\begin{tabular}{ll}\n",
       "\t 350.76 & 617.16\\\\\n",
       "\t 339.57 & 578.16\\\\\n",
       "\t 309.96 & 608.44\\\\\n",
       "\\end{tabular}\n"
      ],
      "text/markdown": [
       "\n",
       "| 350.76 | 617.16 |\n",
       "| 339.57 | 578.16 |\n",
       "| 309.96 | 608.44 |\n",
       "\n"
      ],
      "text/plain": [
       "     [,1]   [,2]  \n",
       "[1,] 350.76 617.16\n",
       "[2,] 339.57 578.16\n",
       "[3,] 309.96 608.44"
      ]
     },
     "metadata": {},
     "output_type": "display_data"
    }
   ],
   "source": [
    "lotr_matrix * rates"
   ]
  },
  {
   "cell_type": "markdown",
   "metadata": {},
   "source": [
    "## R tutorial - Using Factors in R"
   ]
  },
  {
   "cell_type": "code",
   "execution_count": 55,
   "metadata": {},
   "outputs": [
    {
     "data": {
      "text/html": [
       "<ol class=list-inline>\n",
       "\t<li>'B'</li>\n",
       "\t<li>'AB'</li>\n",
       "\t<li>'O'</li>\n",
       "\t<li>'A'</li>\n",
       "\t<li>'O'</li>\n",
       "\t<li>'O'</li>\n",
       "\t<li>'A'</li>\n",
       "\t<li>'B'</li>\n",
       "</ol>\n"
      ],
      "text/latex": [
       "\\begin{enumerate*}\n",
       "\\item 'B'\n",
       "\\item 'AB'\n",
       "\\item 'O'\n",
       "\\item 'A'\n",
       "\\item 'O'\n",
       "\\item 'O'\n",
       "\\item 'A'\n",
       "\\item 'B'\n",
       "\\end{enumerate*}\n"
      ],
      "text/markdown": [
       "1. 'B'\n",
       "2. 'AB'\n",
       "3. 'O'\n",
       "4. 'A'\n",
       "5. 'O'\n",
       "6. 'O'\n",
       "7. 'A'\n",
       "8. 'B'\n",
       "\n",
       "\n"
      ],
      "text/plain": [
       "[1] \"B\"  \"AB\" \"O\"  \"A\"  \"O\"  \"O\"  \"A\"  \"B\" "
      ]
     },
     "metadata": {},
     "output_type": "display_data"
    }
   ],
   "source": [
    "# Categorical Variables\n",
    "blood <- c(\"B\", \"AB\", \"O\", \"A\", \"O\", \"O\", \"A\", \"B\")\n",
    "blood"
   ]
  },
  {
   "cell_type": "code",
   "execution_count": 56,
   "metadata": {},
   "outputs": [
    {
     "data": {
      "text/html": [
       "<ol class=list-inline>\n",
       "\t<li>B</li>\n",
       "\t<li>AB</li>\n",
       "\t<li>O</li>\n",
       "\t<li>A</li>\n",
       "\t<li>O</li>\n",
       "\t<li>O</li>\n",
       "\t<li>A</li>\n",
       "\t<li>B</li>\n",
       "</ol>\n",
       "\n",
       "<details>\n",
       "\t<summary style=display:list-item;cursor:pointer>\n",
       "\t\t<strong>Levels</strong>:\n",
       "\t</summary>\n",
       "\t<ol class=list-inline>\n",
       "\t\t<li>'A'</li>\n",
       "\t\t<li>'AB'</li>\n",
       "\t\t<li>'B'</li>\n",
       "\t\t<li>'O'</li>\n",
       "\t</ol>\n",
       "</details>"
      ],
      "text/latex": [
       "\\begin{enumerate*}\n",
       "\\item B\n",
       "\\item AB\n",
       "\\item O\n",
       "\\item A\n",
       "\\item O\n",
       "\\item O\n",
       "\\item A\n",
       "\\item B\n",
       "\\end{enumerate*}\n",
       "\n",
       "\\emph{Levels}: \\begin{enumerate*}\n",
       "\\item 'A'\n",
       "\\item 'AB'\n",
       "\\item 'B'\n",
       "\\item 'O'\n",
       "\\end{enumerate*}\n"
      ],
      "text/markdown": [
       "1. B\n",
       "2. AB\n",
       "3. O\n",
       "4. A\n",
       "5. O\n",
       "6. O\n",
       "7. A\n",
       "8. B\n",
       "\n",
       "\n",
       "\n",
       "**Levels**: 1. 'A'\n",
       "2. 'AB'\n",
       "3. 'B'\n",
       "4. 'O'\n",
       "\n",
       "\n"
      ],
      "text/plain": [
       "[1] B  AB O  A  O  O  A  B \n",
       "Levels: A AB B O"
      ]
     },
     "metadata": {},
     "output_type": "display_data"
    }
   ],
   "source": [
    "blood_factor <- factor(blood)\n",
    "blood_factor  # Levels are categories and sorted alphabetically."
   ]
  },
  {
   "cell_type": "code",
   "execution_count": 57,
   "metadata": {},
   "outputs": [
    {
     "name": "stdout",
     "output_type": "stream",
     "text": [
      " Factor w/ 4 levels \"A\",\"AB\",\"B\",\"O\": 3 2 4 1 4 4 1 3\n"
     ]
    }
   ],
   "source": [
    "str(blood_factor)"
   ]
  },
  {
   "cell_type": "code",
   "execution_count": 58,
   "metadata": {},
   "outputs": [
    {
     "data": {
      "text/html": [
       "<ol class=list-inline>\n",
       "\t<li>B</li>\n",
       "\t<li>AB</li>\n",
       "\t<li>O</li>\n",
       "\t<li>A</li>\n",
       "\t<li>O</li>\n",
       "\t<li>O</li>\n",
       "\t<li>A</li>\n",
       "\t<li>B</li>\n",
       "</ol>\n",
       "\n",
       "<details>\n",
       "\t<summary style=display:list-item;cursor:pointer>\n",
       "\t\t<strong>Levels</strong>:\n",
       "\t</summary>\n",
       "\t<ol class=list-inline>\n",
       "\t\t<li>'O'</li>\n",
       "\t\t<li>'A'</li>\n",
       "\t\t<li>'B'</li>\n",
       "\t\t<li>'AB'</li>\n",
       "\t</ol>\n",
       "</details>"
      ],
      "text/latex": [
       "\\begin{enumerate*}\n",
       "\\item B\n",
       "\\item AB\n",
       "\\item O\n",
       "\\item A\n",
       "\\item O\n",
       "\\item O\n",
       "\\item A\n",
       "\\item B\n",
       "\\end{enumerate*}\n",
       "\n",
       "\\emph{Levels}: \\begin{enumerate*}\n",
       "\\item 'O'\n",
       "\\item 'A'\n",
       "\\item 'B'\n",
       "\\item 'AB'\n",
       "\\end{enumerate*}\n"
      ],
      "text/markdown": [
       "1. B\n",
       "2. AB\n",
       "3. O\n",
       "4. A\n",
       "5. O\n",
       "6. O\n",
       "7. A\n",
       "8. B\n",
       "\n",
       "\n",
       "\n",
       "**Levels**: 1. 'O'\n",
       "2. 'A'\n",
       "3. 'B'\n",
       "4. 'AB'\n",
       "\n",
       "\n"
      ],
      "text/plain": [
       "[1] B  AB O  A  O  O  A  B \n",
       "Levels: O A B AB"
      ]
     },
     "metadata": {},
     "output_type": "display_data"
    }
   ],
   "source": [
    "# Different orders\n",
    "blood_factor2 <- factor(blood,\n",
    "                        levels = c(\"O\", \"A\", \"B\", \"AB\"))\n",
    "blood_factor2  # The order of Levels is different."
   ]
  },
  {
   "cell_type": "code",
   "execution_count": 59,
   "metadata": {},
   "outputs": [
    {
     "data": {
      "text/html": [
       "<ol class=list-inline>\n",
       "\t<li>BT_B</li>\n",
       "\t<li>BT_AB</li>\n",
       "\t<li>BT_O</li>\n",
       "\t<li>BT_A</li>\n",
       "\t<li>BT_O</li>\n",
       "\t<li>BT_O</li>\n",
       "\t<li>BT_A</li>\n",
       "\t<li>BT_B</li>\n",
       "</ol>\n",
       "\n",
       "<details>\n",
       "\t<summary style=display:list-item;cursor:pointer>\n",
       "\t\t<strong>Levels</strong>:\n",
       "\t</summary>\n",
       "\t<ol class=list-inline>\n",
       "\t\t<li>'BT_A'</li>\n",
       "\t\t<li>'BT_AB'</li>\n",
       "\t\t<li>'BT_B'</li>\n",
       "\t\t<li>'BT_O'</li>\n",
       "\t</ol>\n",
       "</details>"
      ],
      "text/latex": [
       "\\begin{enumerate*}\n",
       "\\item BT\\_B\n",
       "\\item BT\\_AB\n",
       "\\item BT\\_O\n",
       "\\item BT\\_A\n",
       "\\item BT\\_O\n",
       "\\item BT\\_O\n",
       "\\item BT\\_A\n",
       "\\item BT\\_B\n",
       "\\end{enumerate*}\n",
       "\n",
       "\\emph{Levels}: \\begin{enumerate*}\n",
       "\\item 'BT\\_A'\n",
       "\\item 'BT\\_AB'\n",
       "\\item 'BT\\_B'\n",
       "\\item 'BT\\_O'\n",
       "\\end{enumerate*}\n"
      ],
      "text/markdown": [
       "1. BT_B\n",
       "2. BT_AB\n",
       "3. BT_O\n",
       "4. BT_A\n",
       "5. BT_O\n",
       "6. BT_O\n",
       "7. BT_A\n",
       "8. BT_B\n",
       "\n",
       "\n",
       "\n",
       "**Levels**: 1. 'BT_A'\n",
       "2. 'BT_AB'\n",
       "3. 'BT_B'\n",
       "4. 'BT_O'\n",
       "\n",
       "\n"
      ],
      "text/plain": [
       "[1] BT_B  BT_AB BT_O  BT_A  BT_O  BT_O  BT_A  BT_B \n",
       "Levels: BT_A BT_AB BT_B BT_O"
      ]
     },
     "metadata": {},
     "output_type": "display_data"
    }
   ],
   "source": [
    "# Rename factor levels\n",
    "# MUST know the order of labels!!!\n",
    "blood <- c(\"B\", \"AB\", \"O\", \"A\", \"O\", \"O\", \"A\", \"B\")\n",
    "blood_factor <- factor(blood)\n",
    "levels(blood_factor) <- c(\"BT_A\", \"BT_AB\", \"BT_B\", \"BT_O\")  # Use the levels function.\n",
    "blood_factor"
   ]
  },
  {
   "cell_type": "code",
   "execution_count": 60,
   "metadata": {},
   "outputs": [
    {
     "data": {
      "text/html": [
       "<ol class=list-inline>\n",
       "\t<li>BT_B</li>\n",
       "\t<li>BT_AB</li>\n",
       "\t<li>BT_O</li>\n",
       "\t<li>BT_A</li>\n",
       "\t<li>BT_O</li>\n",
       "\t<li>BT_O</li>\n",
       "\t<li>BT_A</li>\n",
       "\t<li>BT_B</li>\n",
       "</ol>\n",
       "\n",
       "<details>\n",
       "\t<summary style=display:list-item;cursor:pointer>\n",
       "\t\t<strong>Levels</strong>:\n",
       "\t</summary>\n",
       "\t<ol class=list-inline>\n",
       "\t\t<li>'BT_A'</li>\n",
       "\t\t<li>'BT_AB'</li>\n",
       "\t\t<li>'BT_B'</li>\n",
       "\t\t<li>'BT_O'</li>\n",
       "\t</ol>\n",
       "</details>"
      ],
      "text/latex": [
       "\\begin{enumerate*}\n",
       "\\item BT\\_B\n",
       "\\item BT\\_AB\n",
       "\\item BT\\_O\n",
       "\\item BT\\_A\n",
       "\\item BT\\_O\n",
       "\\item BT\\_O\n",
       "\\item BT\\_A\n",
       "\\item BT\\_B\n",
       "\\end{enumerate*}\n",
       "\n",
       "\\emph{Levels}: \\begin{enumerate*}\n",
       "\\item 'BT\\_A'\n",
       "\\item 'BT\\_AB'\n",
       "\\item 'BT\\_B'\n",
       "\\item 'BT\\_O'\n",
       "\\end{enumerate*}\n"
      ],
      "text/markdown": [
       "1. BT_B\n",
       "2. BT_AB\n",
       "3. BT_O\n",
       "4. BT_A\n",
       "5. BT_O\n",
       "6. BT_O\n",
       "7. BT_A\n",
       "8. BT_B\n",
       "\n",
       "\n",
       "\n",
       "**Levels**: 1. 'BT_A'\n",
       "2. 'BT_AB'\n",
       "3. 'BT_B'\n",
       "4. 'BT_O'\n",
       "\n",
       "\n"
      ],
      "text/plain": [
       "[1] BT_B  BT_AB BT_O  BT_A  BT_O  BT_O  BT_A  BT_B \n",
       "Levels: BT_A BT_AB BT_B BT_O"
      ]
     },
     "metadata": {},
     "output_type": "display_data"
    }
   ],
   "source": [
    "# OR, in factor function\n",
    "# MUST know the order of labels!!!\n",
    "factor(blood, labels = c(\"BT_A\", \"BT_AB\", \"BT_B\", \"BT_O\"))"
   ]
  },
  {
   "cell_type": "code",
   "execution_count": 61,
   "metadata": {},
   "outputs": [
    {
     "data": {
      "text/html": [
       "<ol class=list-inline>\n",
       "\t<li>BT_B</li>\n",
       "\t<li>BT_AB</li>\n",
       "\t<li>BT_O</li>\n",
       "\t<li>BT_A</li>\n",
       "\t<li>BT_O</li>\n",
       "\t<li>BT_O</li>\n",
       "\t<li>BT_A</li>\n",
       "\t<li>BT_B</li>\n",
       "</ol>\n",
       "\n",
       "<details>\n",
       "\t<summary style=display:list-item;cursor:pointer>\n",
       "\t\t<strong>Levels</strong>:\n",
       "\t</summary>\n",
       "\t<ol class=list-inline>\n",
       "\t\t<li>'BT_O'</li>\n",
       "\t\t<li>'BT_A'</li>\n",
       "\t\t<li>'BT_B'</li>\n",
       "\t\t<li>'BT_AB'</li>\n",
       "\t</ol>\n",
       "</details>"
      ],
      "text/latex": [
       "\\begin{enumerate*}\n",
       "\\item BT\\_B\n",
       "\\item BT\\_AB\n",
       "\\item BT\\_O\n",
       "\\item BT\\_A\n",
       "\\item BT\\_O\n",
       "\\item BT\\_O\n",
       "\\item BT\\_A\n",
       "\\item BT\\_B\n",
       "\\end{enumerate*}\n",
       "\n",
       "\\emph{Levels}: \\begin{enumerate*}\n",
       "\\item 'BT\\_O'\n",
       "\\item 'BT\\_A'\n",
       "\\item 'BT\\_B'\n",
       "\\item 'BT\\_AB'\n",
       "\\end{enumerate*}\n"
      ],
      "text/markdown": [
       "1. BT_B\n",
       "2. BT_AB\n",
       "3. BT_O\n",
       "4. BT_A\n",
       "5. BT_O\n",
       "6. BT_O\n",
       "7. BT_A\n",
       "8. BT_B\n",
       "\n",
       "\n",
       "\n",
       "**Levels**: 1. 'BT_O'\n",
       "2. 'BT_A'\n",
       "3. 'BT_B'\n",
       "4. 'BT_AB'\n",
       "\n",
       "\n"
      ],
      "text/plain": [
       "[1] BT_B  BT_AB BT_O  BT_A  BT_O  BT_O  BT_A  BT_B \n",
       "Levels: BT_O BT_A BT_B BT_AB"
      ]
     },
     "metadata": {},
     "output_type": "display_data"
    }
   ],
   "source": [
    "# Better method\n",
    "factor(blood,\n",
    "       levels = c(\"O\", \"A\", \"B\", \"AB\"),\n",
    "       labels = c(\"BT_O\", \"BT_A\", \"BT_B\", \"BT_AB\"))"
   ]
  },
  {
   "cell_type": "markdown",
   "metadata": {},
   "source": [
    "### Nominal versus Ordinal"
   ]
  },
  {
   "cell_type": "code",
   "execution_count": 62,
   "metadata": {},
   "outputs": [
    {
     "name": "stderr",
     "output_type": "stream",
     "text": [
      "Warning message in Ops.factor(blood_factor[1], blood_factor[2]):\n",
      "\"'<' not meaningful for factors\""
     ]
    },
    {
     "data": {
      "text/html": [
       "&lt;NA&gt;"
      ],
      "text/latex": [
       "<NA>"
      ],
      "text/markdown": [
       "&lt;NA&gt;"
      ],
      "text/plain": [
       "[1] NA"
      ]
     },
     "metadata": {},
     "output_type": "display_data"
    }
   ],
   "source": [
    "# Nominal factor: cannot compare\n",
    "blood <- c(\"B\", \"AB\", \"O\", \"A\", \"O\", \"O\", \"A\", \"B\")\n",
    "blood_factor <- factor(blood)\n",
    "blood_factor[1] < blood_factor[2]"
   ]
  },
  {
   "cell_type": "code",
   "execution_count": 63,
   "metadata": {},
   "outputs": [
    {
     "data": {
      "text/html": [
       "TRUE"
      ],
      "text/latex": [
       "TRUE"
      ],
      "text/markdown": [
       "TRUE"
      ],
      "text/plain": [
       "[1] TRUE"
      ]
     },
     "metadata": {},
     "output_type": "display_data"
    }
   ],
   "source": [
    "# Ordinal factor\n",
    "tshirt <- c(\"M\", \"L\", \"S\", \"S\", \"L\", \"M\", \"L\", \"M\")\n",
    "tshirt_factor <- factor(tshirt, ordered = TRUE, levels = c(\"S\", \"M\", \"L\"))\n",
    "tshirt_factor[1] < tshirt_factor[2]"
   ]
  },
  {
   "cell_type": "markdown",
   "metadata": {},
   "source": [
    "## R tutorial - How to Create & Name Lists in R"
   ]
  },
  {
   "cell_type": "code",
   "execution_count": 64,
   "metadata": {},
   "outputs": [
    {
     "data": {
      "text/html": [
       "<ol class=list-inline>\n",
       "\t<li>'Rsome times'</li>\n",
       "\t<li>'190'</li>\n",
       "\t<li>'5'</li>\n",
       "</ol>\n"
      ],
      "text/latex": [
       "\\begin{enumerate*}\n",
       "\\item 'Rsome times'\n",
       "\\item '190'\n",
       "\\item '5'\n",
       "\\end{enumerate*}\n"
      ],
      "text/markdown": [
       "1. 'Rsome times'\n",
       "2. '190'\n",
       "3. '5'\n",
       "\n",
       "\n"
      ],
      "text/plain": [
       "[1] \"Rsome times\" \"190\"         \"5\"          "
      ]
     },
     "metadata": {},
     "output_type": "display_data"
    }
   ],
   "source": [
    "# List: different R objects and no coercion\n",
    "c(\"Rsome times\", 190, 5)  # It is vector."
   ]
  },
  {
   "cell_type": "code",
   "execution_count": 65,
   "metadata": {},
   "outputs": [
    {
     "data": {
      "text/html": [
       "<ol>\n",
       "\t<li>'Rsome times'</li>\n",
       "\t<li>190</li>\n",
       "\t<li>5</li>\n",
       "</ol>\n"
      ],
      "text/latex": [
       "\\begin{enumerate}\n",
       "\\item 'Rsome times'\n",
       "\\item 190\n",
       "\\item 5\n",
       "\\end{enumerate}\n"
      ],
      "text/markdown": [
       "1. 'Rsome times'\n",
       "2. 190\n",
       "3. 5\n",
       "\n",
       "\n"
      ],
      "text/plain": [
       "[[1]]\n",
       "[1] \"Rsome times\"\n",
       "\n",
       "[[2]]\n",
       "[1] 190\n",
       "\n",
       "[[3]]\n",
       "[1] 5\n"
      ]
     },
     "metadata": {},
     "output_type": "display_data"
    }
   ],
   "source": [
    "list(\"Rsome times\", 190, 5)  # list"
   ]
  },
  {
   "cell_type": "code",
   "execution_count": 66,
   "metadata": {},
   "outputs": [
    {
     "data": {
      "text/html": [
       "<dl>\n",
       "\t<dt>$title</dt>\n",
       "\t\t<dd>'Rsome times'</dd>\n",
       "\t<dt>$duration</dt>\n",
       "\t\t<dd>190</dd>\n",
       "\t<dt>$track</dt>\n",
       "\t\t<dd>5</dd>\n",
       "</dl>\n"
      ],
      "text/latex": [
       "\\begin{description}\n",
       "\\item[\\$title] 'Rsome times'\n",
       "\\item[\\$duration] 190\n",
       "\\item[\\$track] 5\n",
       "\\end{description}\n"
      ],
      "text/markdown": [
       "$title\n",
       ":   'Rsome times'\n",
       "$duration\n",
       ":   190\n",
       "$track\n",
       ":   5\n",
       "\n",
       "\n"
      ],
      "text/plain": [
       "$title\n",
       "[1] \"Rsome times\"\n",
       "\n",
       "$duration\n",
       "[1] 190\n",
       "\n",
       "$track\n",
       "[1] 5\n"
      ]
     },
     "metadata": {},
     "output_type": "display_data"
    }
   ],
   "source": [
    "song <- list(\"Rsome times\", 190, 5)\n",
    "names(song) <- c(\"title\", \"duration\", \"track\")\n",
    "song"
   ]
  },
  {
   "cell_type": "code",
   "execution_count": 67,
   "metadata": {},
   "outputs": [
    {
     "name": "stdout",
     "output_type": "stream",
     "text": [
      "List of 3\n",
      " $ title   : chr \"Rsome times\"\n",
      " $ duration: num 190\n",
      " $ track   : num 5\n"
     ]
    }
   ],
   "source": [
    "song <- list(title = \"Rsome times\",\n",
    "             duration = 190,\n",
    "             track = 5)\n",
    "str(song)"
   ]
  },
  {
   "cell_type": "code",
   "execution_count": 68,
   "metadata": {},
   "outputs": [
    {
     "name": "stdout",
     "output_type": "stream",
     "text": [
      "List of 4\n",
      " $ title   : chr \"Rsome times\"\n",
      " $ duration: num 190\n",
      " $ track   : num 5\n",
      " $ similar :List of 2\n",
      "  ..$ title   : chr \"R you on time?\"\n",
      "  ..$ duration: num 230\n"
     ]
    }
   ],
   "source": [
    "# List in list\n",
    "similar_song <- list(title = \"R you on time?\",\n",
    "                     duration = 230)\n",
    "song <- list(title = \"Rsome times\",\n",
    "             duration = 190,\n",
    "             track = 5,\n",
    "             similar = similar_song)\n",
    "\n",
    "str(song)"
   ]
  },
  {
   "cell_type": "markdown",
   "metadata": {},
   "source": [
    "## R tutorial - How to Subset & Extend Lists in R"
   ]
  },
  {
   "cell_type": "code",
   "execution_count": 69,
   "metadata": {},
   "outputs": [
    {
     "data": {
      "text/html": [
       "<strong>$title</strong> = 'Rsome times'"
      ],
      "text/latex": [
       "\\textbf{\\$title} = 'Rsome times'"
      ],
      "text/markdown": [
       "**$title** = 'Rsome times'"
      ],
      "text/plain": [
       "$title\n",
       "[1] \"Rsome times\"\n"
      ]
     },
     "metadata": {},
     "output_type": "display_data"
    }
   ],
   "source": [
    "song[1]  # single [] returns a list"
   ]
  },
  {
   "cell_type": "code",
   "execution_count": 70,
   "metadata": {},
   "outputs": [
    {
     "data": {
      "text/html": [
       "'Rsome times'"
      ],
      "text/latex": [
       "'Rsome times'"
      ],
      "text/markdown": [
       "'Rsome times'"
      ],
      "text/plain": [
       "[1] \"Rsome times\""
      ]
     },
     "metadata": {},
     "output_type": "display_data"
    }
   ],
   "source": [
    "song[[1]]  # double [] returns the element"
   ]
  },
  {
   "cell_type": "code",
   "execution_count": 71,
   "metadata": {},
   "outputs": [
    {
     "data": {
      "text/html": [
       "<dl>\n",
       "\t<dt>$title</dt>\n",
       "\t\t<dd>'Rsome times'</dd>\n",
       "\t<dt>$track</dt>\n",
       "\t\t<dd>5</dd>\n",
       "</dl>\n"
      ],
      "text/latex": [
       "\\begin{description}\n",
       "\\item[\\$title] 'Rsome times'\n",
       "\\item[\\$track] 5\n",
       "\\end{description}\n"
      ],
      "text/markdown": [
       "$title\n",
       ":   'Rsome times'\n",
       "$track\n",
       ":   5\n",
       "\n",
       "\n"
      ],
      "text/plain": [
       "$title\n",
       "[1] \"Rsome times\"\n",
       "\n",
       "$track\n",
       "[1] 5\n"
      ]
     },
     "metadata": {},
     "output_type": "display_data"
    }
   ],
   "source": [
    "song[c(1, 3)]"
   ]
  },
  {
   "cell_type": "code",
   "execution_count": 72,
   "metadata": {},
   "outputs": [
    {
     "data": {
      "text/html": [
       "'R you on time?'"
      ],
      "text/latex": [
       "'R you on time?'"
      ],
      "text/markdown": [
       "'R you on time?'"
      ],
      "text/plain": [
       "[1] \"R you on time?\""
      ]
     },
     "metadata": {},
     "output_type": "display_data"
    }
   ],
   "source": [
    "# The following line doesn't work\n",
    "# song[[c(1, 3)]] is the same as song[[1]][[3]] ==> out of bounds\n",
    "\n",
    "song[[4]][[1]]"
   ]
  },
  {
   "cell_type": "code",
   "execution_count": 73,
   "metadata": {},
   "outputs": [
    {
     "data": {
      "text/html": [
       "190"
      ],
      "text/latex": [
       "190"
      ],
      "text/markdown": [
       "190"
      ],
      "text/plain": [
       "[1] 190"
      ]
     },
     "metadata": {},
     "output_type": "display_data"
    }
   ],
   "source": [
    "song[[\"duration\"]]"
   ]
  },
  {
   "cell_type": "code",
   "execution_count": 74,
   "metadata": {},
   "outputs": [
    {
     "data": {
      "text/html": [
       "<dl>\n",
       "\t<dt>$duration</dt>\n",
       "\t\t<dd>190</dd>\n",
       "\t<dt>$track</dt>\n",
       "\t\t<dd>5</dd>\n",
       "</dl>\n"
      ],
      "text/latex": [
       "\\begin{description}\n",
       "\\item[\\$duration] 190\n",
       "\\item[\\$track] 5\n",
       "\\end{description}\n"
      ],
      "text/markdown": [
       "$duration\n",
       ":   190\n",
       "$track\n",
       ":   5\n",
       "\n",
       "\n"
      ],
      "text/plain": [
       "$duration\n",
       "[1] 190\n",
       "\n",
       "$track\n",
       "[1] 5\n"
      ]
     },
     "metadata": {},
     "output_type": "display_data"
    }
   ],
   "source": [
    "song[c(FALSE, TRUE, TRUE, FALSE)]"
   ]
  },
  {
   "cell_type": "code",
   "execution_count": 75,
   "metadata": {},
   "outputs": [],
   "source": [
    "# The following line doesn't work\n",
    "# song[[c(FALSE, TRUE, TRUE, FALSE)]] is the same as song[[F]][[T]][[F]][[T]]"
   ]
  },
  {
   "cell_type": "code",
   "execution_count": 76,
   "metadata": {},
   "outputs": [
    {
     "data": {
      "text/html": [
       "190"
      ],
      "text/latex": [
       "190"
      ],
      "text/markdown": [
       "190"
      ],
      "text/plain": [
       "[1] 190"
      ]
     },
     "metadata": {},
     "output_type": "display_data"
    }
   ],
   "source": [
    "song$duration"
   ]
  },
  {
   "cell_type": "code",
   "execution_count": 77,
   "metadata": {},
   "outputs": [
    {
     "data": {
      "text/html": [
       "<dl>\n",
       "\t<dt>$title</dt>\n",
       "\t\t<dd>'Rsome times'</dd>\n",
       "\t<dt>$duration</dt>\n",
       "\t\t<dd>190</dd>\n",
       "\t<dt>$track</dt>\n",
       "\t\t<dd>5</dd>\n",
       "\t<dt>$similar</dt>\n",
       "\t\t<dd><dl>\n",
       "\t<dt>$title</dt>\n",
       "\t\t<dd>'R you on time?'</dd>\n",
       "\t<dt>$duration</dt>\n",
       "\t\t<dd>230</dd>\n",
       "</dl>\n",
       "</dd>\n",
       "\t<dt>$sent</dt>\n",
       "\t\t<dd><ol class=list-inline>\n",
       "\t<li>'Kurt'</li>\n",
       "\t<li>'Florence'</li>\n",
       "\t<li>'Patti'</li>\n",
       "\t<li>'Dave'</li>\n",
       "</ol>\n",
       "</dd>\n",
       "</dl>\n"
      ],
      "text/latex": [
       "\\begin{description}\n",
       "\\item[\\$title] 'Rsome times'\n",
       "\\item[\\$duration] 190\n",
       "\\item[\\$track] 5\n",
       "\\item[\\$similar] \\begin{description}\n",
       "\\item[\\$title] 'R you on time?'\n",
       "\\item[\\$duration] 230\n",
       "\\end{description}\n",
       "\n",
       "\\item[\\$sent] \\begin{enumerate*}\n",
       "\\item 'Kurt'\n",
       "\\item 'Florence'\n",
       "\\item 'Patti'\n",
       "\\item 'Dave'\n",
       "\\end{enumerate*}\n",
       "\n",
       "\\end{description}\n"
      ],
      "text/markdown": [
       "$title\n",
       ":   'Rsome times'\n",
       "$duration\n",
       ":   190\n",
       "$track\n",
       ":   5\n",
       "$similar\n",
       ":   $title\n",
       ":   'R you on time?'\n",
       "$duration\n",
       ":   230\n",
       "\n",
       "\n",
       "\n",
       "$sent\n",
       ":   1. 'Kurt'\n",
       "2. 'Florence'\n",
       "3. 'Patti'\n",
       "4. 'Dave'\n",
       "\n",
       "\n",
       "\n",
       "\n",
       "\n"
      ],
      "text/plain": [
       "$title\n",
       "[1] \"Rsome times\"\n",
       "\n",
       "$duration\n",
       "[1] 190\n",
       "\n",
       "$track\n",
       "[1] 5\n",
       "\n",
       "$similar\n",
       "$similar$title\n",
       "[1] \"R you on time?\"\n",
       "\n",
       "$similar$duration\n",
       "[1] 230\n",
       "\n",
       "\n",
       "$sent\n",
       "[1] \"Kurt\"     \"Florence\" \"Patti\"    \"Dave\"    \n"
      ]
     },
     "metadata": {},
     "output_type": "display_data"
    }
   ],
   "source": [
    "# Extending\n",
    "friends <- c(\"Kurt\", \"Florence\", \"Patti\", \"Dave\")\n",
    "song$sent <- friends\n",
    "song"
   ]
  },
  {
   "cell_type": "code",
   "execution_count": 78,
   "metadata": {},
   "outputs": [
    {
     "data": {
      "text/html": [
       "<dl>\n",
       "\t<dt>$title</dt>\n",
       "\t\t<dd>'Rsome times'</dd>\n",
       "\t<dt>$duration</dt>\n",
       "\t\t<dd>190</dd>\n",
       "\t<dt>$track</dt>\n",
       "\t\t<dd>5</dd>\n",
       "\t<dt>$similar</dt>\n",
       "\t\t<dd><dl>\n",
       "\t<dt>$title</dt>\n",
       "\t\t<dd>'R you on time?'</dd>\n",
       "\t<dt>$duration</dt>\n",
       "\t\t<dd>230</dd>\n",
       "</dl>\n",
       "</dd>\n",
       "\t<dt>$sent</dt>\n",
       "\t\t<dd><ol class=list-inline>\n",
       "\t<li>'Kurt'</li>\n",
       "\t<li>'Florence'</li>\n",
       "\t<li>'Patti'</li>\n",
       "\t<li>'Dave'</li>\n",
       "</ol>\n",
       "</dd>\n",
       "</dl>\n"
      ],
      "text/latex": [
       "\\begin{description}\n",
       "\\item[\\$title] 'Rsome times'\n",
       "\\item[\\$duration] 190\n",
       "\\item[\\$track] 5\n",
       "\\item[\\$similar] \\begin{description}\n",
       "\\item[\\$title] 'R you on time?'\n",
       "\\item[\\$duration] 230\n",
       "\\end{description}\n",
       "\n",
       "\\item[\\$sent] \\begin{enumerate*}\n",
       "\\item 'Kurt'\n",
       "\\item 'Florence'\n",
       "\\item 'Patti'\n",
       "\\item 'Dave'\n",
       "\\end{enumerate*}\n",
       "\n",
       "\\end{description}\n"
      ],
      "text/markdown": [
       "$title\n",
       ":   'Rsome times'\n",
       "$duration\n",
       ":   190\n",
       "$track\n",
       ":   5\n",
       "$similar\n",
       ":   $title\n",
       ":   'R you on time?'\n",
       "$duration\n",
       ":   230\n",
       "\n",
       "\n",
       "\n",
       "$sent\n",
       ":   1. 'Kurt'\n",
       "2. 'Florence'\n",
       "3. 'Patti'\n",
       "4. 'Dave'\n",
       "\n",
       "\n",
       "\n",
       "\n",
       "\n"
      ],
      "text/plain": [
       "$title\n",
       "[1] \"Rsome times\"\n",
       "\n",
       "$duration\n",
       "[1] 190\n",
       "\n",
       "$track\n",
       "[1] 5\n",
       "\n",
       "$similar\n",
       "$similar$title\n",
       "[1] \"R you on time?\"\n",
       "\n",
       "$similar$duration\n",
       "[1] 230\n",
       "\n",
       "\n",
       "$sent\n",
       "[1] \"Kurt\"     \"Florence\" \"Patti\"    \"Dave\"    \n"
      ]
     },
     "metadata": {},
     "output_type": "display_data"
    }
   ],
   "source": [
    "song[[\"sent\"]] <- friends  # the same as the previous one\n",
    "song"
   ]
  },
  {
   "cell_type": "markdown",
   "metadata": {},
   "source": [
    "## R tutorial - Using the Data Frame in R"
   ]
  },
  {
   "cell_type": "code",
   "execution_count": 79,
   "metadata": {},
   "outputs": [
    {
     "data": {
      "text/html": [
       "<table>\n",
       "<thead><tr><th scope=col>name</th><th scope=col>age</th><th scope=col>child</th></tr></thead>\n",
       "<tbody>\n",
       "\t<tr><td>Anne </td><td>28   </td><td>FALSE</td></tr>\n",
       "\t<tr><td>Pete </td><td>30   </td><td> TRUE</td></tr>\n",
       "\t<tr><td>Frank</td><td>21   </td><td> TRUE</td></tr>\n",
       "\t<tr><td>Julia</td><td>39   </td><td>FALSE</td></tr>\n",
       "\t<tr><td>Cath </td><td>35   </td><td> TRUE</td></tr>\n",
       "</tbody>\n",
       "</table>\n"
      ],
      "text/latex": [
       "\\begin{tabular}{r|lll}\n",
       " name & age & child\\\\\n",
       "\\hline\n",
       "\t Anne  & 28    & FALSE\\\\\n",
       "\t Pete  & 30    &  TRUE\\\\\n",
       "\t Frank & 21    &  TRUE\\\\\n",
       "\t Julia & 39    & FALSE\\\\\n",
       "\t Cath  & 35    &  TRUE\\\\\n",
       "\\end{tabular}\n"
      ],
      "text/markdown": [
       "\n",
       "| name | age | child |\n",
       "|---|---|---|\n",
       "| Anne  | 28    | FALSE |\n",
       "| Pete  | 30    |  TRUE |\n",
       "| Frank | 21    |  TRUE |\n",
       "| Julia | 39    | FALSE |\n",
       "| Cath  | 35    |  TRUE |\n",
       "\n"
      ],
      "text/plain": [
       "  name  age child\n",
       "1 Anne  28  FALSE\n",
       "2 Pete  30   TRUE\n",
       "3 Frank 21   TRUE\n",
       "4 Julia 39  FALSE\n",
       "5 Cath  35   TRUE"
      ]
     },
     "metadata": {},
     "output_type": "display_data"
    }
   ],
   "source": [
    "# Create df\n",
    "name <- c(\"Anne\", \"Pete\", \"Frank\", \"Julia\", \"Cath\")\n",
    "age <- c(28, 30, 21, 39, 35)\n",
    "child <- c(FALSE, TRUE, TRUE, FALSE, TRUE)\n",
    "\n",
    "df <- data.frame(name, age, child)\n",
    "df"
   ]
  },
  {
   "cell_type": "code",
   "execution_count": 80,
   "metadata": {},
   "outputs": [
    {
     "data": {
      "text/html": [
       "<table>\n",
       "<thead><tr><th scope=col>Name</th><th scope=col>Age</th><th scope=col>Child</th></tr></thead>\n",
       "<tbody>\n",
       "\t<tr><td>Anne </td><td>28   </td><td>FALSE</td></tr>\n",
       "\t<tr><td>Pete </td><td>30   </td><td> TRUE</td></tr>\n",
       "\t<tr><td>Frank</td><td>21   </td><td> TRUE</td></tr>\n",
       "\t<tr><td>Julia</td><td>39   </td><td>FALSE</td></tr>\n",
       "\t<tr><td>Cath </td><td>35   </td><td> TRUE</td></tr>\n",
       "</tbody>\n",
       "</table>\n"
      ],
      "text/latex": [
       "\\begin{tabular}{r|lll}\n",
       " Name & Age & Child\\\\\n",
       "\\hline\n",
       "\t Anne  & 28    & FALSE\\\\\n",
       "\t Pete  & 30    &  TRUE\\\\\n",
       "\t Frank & 21    &  TRUE\\\\\n",
       "\t Julia & 39    & FALSE\\\\\n",
       "\t Cath  & 35    &  TRUE\\\\\n",
       "\\end{tabular}\n"
      ],
      "text/markdown": [
       "\n",
       "| Name | Age | Child |\n",
       "|---|---|---|\n",
       "| Anne  | 28    | FALSE |\n",
       "| Pete  | 30    |  TRUE |\n",
       "| Frank | 21    |  TRUE |\n",
       "| Julia | 39    | FALSE |\n",
       "| Cath  | 35    |  TRUE |\n",
       "\n"
      ],
      "text/plain": [
       "  Name  Age Child\n",
       "1 Anne  28  FALSE\n",
       "2 Pete  30   TRUE\n",
       "3 Frank 21   TRUE\n",
       "4 Julia 39  FALSE\n",
       "5 Cath  35   TRUE"
      ]
     },
     "metadata": {},
     "output_type": "display_data"
    }
   ],
   "source": [
    "df <- data.frame(Name = name, Age = age, Child = child)  # Using defined names\n",
    "df"
   ]
  },
  {
   "cell_type": "code",
   "execution_count": 81,
   "metadata": {},
   "outputs": [
    {
     "name": "stdout",
     "output_type": "stream",
     "text": [
      "'data.frame':\t5 obs. of  3 variables:\n",
      " $ Name : Factor w/ 5 levels \"Anne\",\"Cath\",..: 1 5 3 4 2\n",
      " $ Age  : num  28 30 21 39 35\n",
      " $ Child: logi  FALSE TRUE TRUE FALSE TRUE\n"
     ]
    }
   ],
   "source": [
    "str(df)  # R consider character as factors"
   ]
  },
  {
   "cell_type": "code",
   "execution_count": 82,
   "metadata": {},
   "outputs": [
    {
     "name": "stdout",
     "output_type": "stream",
     "text": [
      "'data.frame':\t5 obs. of  3 variables:\n",
      " $ name : chr  \"Anne\" \"Pete\" \"Frank\" \"Julia\" ...\n",
      " $ age  : num  28 30 21 39 35\n",
      " $ child: logi  FALSE TRUE TRUE FALSE TRUE\n"
     ]
    }
   ],
   "source": [
    "people <- data.frame(name, age, child, stringsAsFactors = FALSE)  # not use factors\n",
    "str(people)"
   ]
  },
  {
   "cell_type": "markdown",
   "metadata": {},
   "source": [
    "## R tutorial - Learn How to Subset, Extend & Sort Data Frames in R"
   ]
  },
  {
   "cell_type": "code",
   "execution_count": 83,
   "metadata": {},
   "outputs": [
    {
     "data": {
      "text/html": [
       "<table>\n",
       "<thead><tr><th scope=col>name</th><th scope=col>age</th><th scope=col>child</th></tr></thead>\n",
       "<tbody>\n",
       "\t<tr><td>Anne </td><td>28   </td><td>FALSE</td></tr>\n",
       "\t<tr><td>Pete </td><td>30   </td><td> TRUE</td></tr>\n",
       "\t<tr><td>Frank</td><td>21   </td><td> TRUE</td></tr>\n",
       "\t<tr><td>Julia</td><td>39   </td><td>FALSE</td></tr>\n",
       "\t<tr><td>Cath </td><td>35   </td><td> TRUE</td></tr>\n",
       "</tbody>\n",
       "</table>\n"
      ],
      "text/latex": [
       "\\begin{tabular}{r|lll}\n",
       " name & age & child\\\\\n",
       "\\hline\n",
       "\t Anne  & 28    & FALSE\\\\\n",
       "\t Pete  & 30    &  TRUE\\\\\n",
       "\t Frank & 21    &  TRUE\\\\\n",
       "\t Julia & 39    & FALSE\\\\\n",
       "\t Cath  & 35    &  TRUE\\\\\n",
       "\\end{tabular}\n"
      ],
      "text/markdown": [
       "\n",
       "| name | age | child |\n",
       "|---|---|---|\n",
       "| Anne  | 28    | FALSE |\n",
       "| Pete  | 30    |  TRUE |\n",
       "| Frank | 21    |  TRUE |\n",
       "| Julia | 39    | FALSE |\n",
       "| Cath  | 35    |  TRUE |\n",
       "\n"
      ],
      "text/plain": [
       "  name  age child\n",
       "1 Anne  28  FALSE\n",
       "2 Pete  30   TRUE\n",
       "3 Frank 21   TRUE\n",
       "4 Julia 39  FALSE\n",
       "5 Cath  35   TRUE"
      ]
     },
     "metadata": {},
     "output_type": "display_data"
    }
   ],
   "source": [
    "people"
   ]
  },
  {
   "cell_type": "code",
   "execution_count": 84,
   "metadata": {},
   "outputs": [
    {
     "data": {
      "text/html": [
       "21"
      ],
      "text/latex": [
       "21"
      ],
      "text/markdown": [
       "21"
      ],
      "text/plain": [
       "[1] 21"
      ]
     },
     "metadata": {},
     "output_type": "display_data"
    },
    {
     "data": {
      "text/html": [
       "21"
      ],
      "text/latex": [
       "21"
      ],
      "text/markdown": [
       "21"
      ],
      "text/plain": [
       "[1] 21"
      ]
     },
     "metadata": {},
     "output_type": "display_data"
    }
   ],
   "source": [
    "people[3,2]  # Use index to visit values.\n",
    "\n",
    "# Same as\n",
    "\n",
    "people[3,\"age\"]"
   ]
  },
  {
   "cell_type": "code",
   "execution_count": 85,
   "metadata": {},
   "outputs": [
    {
     "data": {
      "text/html": [
       "<table>\n",
       "<thead><tr><th></th><th scope=col>name</th><th scope=col>age</th><th scope=col>child</th></tr></thead>\n",
       "<tbody>\n",
       "\t<tr><th scope=row>3</th><td>Frank</td><td>21   </td><td>TRUE </td></tr>\n",
       "</tbody>\n",
       "</table>\n"
      ],
      "text/latex": [
       "\\begin{tabular}{r|lll}\n",
       "  & name & age & child\\\\\n",
       "\\hline\n",
       "\t3 & Frank & 21    & TRUE \\\\\n",
       "\\end{tabular}\n"
      ],
      "text/markdown": [
       "\n",
       "| <!--/--> | name | age | child |\n",
       "|---|---|---|---|\n",
       "| 3 | Frank | 21    | TRUE  |\n",
       "\n"
      ],
      "text/plain": [
       "  name  age child\n",
       "3 Frank 21  TRUE "
      ]
     },
     "metadata": {},
     "output_type": "display_data"
    }
   ],
   "source": [
    "people[3,]"
   ]
  },
  {
   "cell_type": "code",
   "execution_count": 86,
   "metadata": {},
   "outputs": [
    {
     "data": {
      "text/html": [
       "<ol class=list-inline>\n",
       "\t<li>28</li>\n",
       "\t<li>30</li>\n",
       "\t<li>21</li>\n",
       "\t<li>39</li>\n",
       "\t<li>35</li>\n",
       "</ol>\n"
      ],
      "text/latex": [
       "\\begin{enumerate*}\n",
       "\\item 28\n",
       "\\item 30\n",
       "\\item 21\n",
       "\\item 39\n",
       "\\item 35\n",
       "\\end{enumerate*}\n"
      ],
      "text/markdown": [
       "1. 28\n",
       "2. 30\n",
       "3. 21\n",
       "4. 39\n",
       "5. 35\n",
       "\n",
       "\n"
      ],
      "text/plain": [
       "[1] 28 30 21 39 35"
      ]
     },
     "metadata": {},
     "output_type": "display_data"
    }
   ],
   "source": [
    "people[,\"age\"]"
   ]
  },
  {
   "cell_type": "code",
   "execution_count": 87,
   "metadata": {},
   "outputs": [
    {
     "data": {
      "text/html": [
       "<table>\n",
       "<thead><tr><th></th><th scope=col>age</th><th scope=col>child</th></tr></thead>\n",
       "<tbody>\n",
       "\t<tr><th scope=row>3</th><td>21  </td><td>TRUE</td></tr>\n",
       "\t<tr><th scope=row>5</th><td>35  </td><td>TRUE</td></tr>\n",
       "</tbody>\n",
       "</table>\n"
      ],
      "text/latex": [
       "\\begin{tabular}{r|ll}\n",
       "  & age & child\\\\\n",
       "\\hline\n",
       "\t3 & 21   & TRUE\\\\\n",
       "\t5 & 35   & TRUE\\\\\n",
       "\\end{tabular}\n"
      ],
      "text/markdown": [
       "\n",
       "| <!--/--> | age | child |\n",
       "|---|---|---|\n",
       "| 3 | 21   | TRUE |\n",
       "| 5 | 35   | TRUE |\n",
       "\n"
      ],
      "text/plain": [
       "  age child\n",
       "3 21  TRUE \n",
       "5 35  TRUE "
      ]
     },
     "metadata": {},
     "output_type": "display_data"
    }
   ],
   "source": [
    "people[c(3, 5), c(\"age\", \"child\")]"
   ]
  },
  {
   "cell_type": "code",
   "execution_count": 88,
   "metadata": {},
   "outputs": [
    {
     "data": {
      "text/html": [
       "<table>\n",
       "<thead><tr><th scope=col>age</th></tr></thead>\n",
       "<tbody>\n",
       "\t<tr><td>28</td></tr>\n",
       "\t<tr><td>30</td></tr>\n",
       "\t<tr><td>21</td></tr>\n",
       "\t<tr><td>39</td></tr>\n",
       "\t<tr><td>35</td></tr>\n",
       "</tbody>\n",
       "</table>\n"
      ],
      "text/latex": [
       "\\begin{tabular}{r|l}\n",
       " age\\\\\n",
       "\\hline\n",
       "\t 28\\\\\n",
       "\t 30\\\\\n",
       "\t 21\\\\\n",
       "\t 39\\\\\n",
       "\t 35\\\\\n",
       "\\end{tabular}\n"
      ],
      "text/markdown": [
       "\n",
       "| age |\n",
       "|---|\n",
       "| 28 |\n",
       "| 30 |\n",
       "| 21 |\n",
       "| 39 |\n",
       "| 35 |\n",
       "\n"
      ],
      "text/plain": [
       "  age\n",
       "1 28 \n",
       "2 30 \n",
       "3 21 \n",
       "4 39 \n",
       "5 35 "
      ]
     },
     "metadata": {},
     "output_type": "display_data"
    }
   ],
   "source": [
    "people[2]  # It is a dataframe, not vector."
   ]
  },
  {
   "cell_type": "code",
   "execution_count": 89,
   "metadata": {},
   "outputs": [
    {
     "data": {
      "text/html": [
       "<ol class=list-inline>\n",
       "\t<li>28</li>\n",
       "\t<li>30</li>\n",
       "\t<li>21</li>\n",
       "\t<li>39</li>\n",
       "\t<li>35</li>\n",
       "</ol>\n"
      ],
      "text/latex": [
       "\\begin{enumerate*}\n",
       "\\item 28\n",
       "\\item 30\n",
       "\\item 21\n",
       "\\item 39\n",
       "\\item 35\n",
       "\\end{enumerate*}\n"
      ],
      "text/markdown": [
       "1. 28\n",
       "2. 30\n",
       "3. 21\n",
       "4. 39\n",
       "5. 35\n",
       "\n",
       "\n"
      ],
      "text/plain": [
       "[1] 28 30 21 39 35"
      ]
     },
     "metadata": {},
     "output_type": "display_data"
    },
    {
     "data": {
      "text/html": [
       "<ol class=list-inline>\n",
       "\t<li>28</li>\n",
       "\t<li>30</li>\n",
       "\t<li>21</li>\n",
       "\t<li>39</li>\n",
       "\t<li>35</li>\n",
       "</ol>\n"
      ],
      "text/latex": [
       "\\begin{enumerate*}\n",
       "\\item 28\n",
       "\\item 30\n",
       "\\item 21\n",
       "\\item 39\n",
       "\\item 35\n",
       "\\end{enumerate*}\n"
      ],
      "text/markdown": [
       "1. 28\n",
       "2. 30\n",
       "3. 21\n",
       "4. 39\n",
       "5. 35\n",
       "\n",
       "\n"
      ],
      "text/plain": [
       "[1] 28 30 21 39 35"
      ]
     },
     "metadata": {},
     "output_type": "display_data"
    },
    {
     "data": {
      "text/html": [
       "<ol class=list-inline>\n",
       "\t<li>28</li>\n",
       "\t<li>30</li>\n",
       "\t<li>21</li>\n",
       "\t<li>39</li>\n",
       "\t<li>35</li>\n",
       "</ol>\n"
      ],
      "text/latex": [
       "\\begin{enumerate*}\n",
       "\\item 28\n",
       "\\item 30\n",
       "\\item 21\n",
       "\\item 39\n",
       "\\item 35\n",
       "\\end{enumerate*}\n"
      ],
      "text/markdown": [
       "1. 28\n",
       "2. 30\n",
       "3. 21\n",
       "4. 39\n",
       "5. 35\n",
       "\n",
       "\n"
      ],
      "text/plain": [
       "[1] 28 30 21 39 35"
      ]
     },
     "metadata": {},
     "output_type": "display_data"
    }
   ],
   "source": [
    "# It is a vector.\n",
    "people$age\n",
    "\n",
    "# Same as\n",
    "\n",
    "people[[\"age\"]]\n",
    "\n",
    "# Same as\n",
    "\n",
    "people[[2]]"
   ]
  },
  {
   "cell_type": "code",
   "execution_count": 90,
   "metadata": {},
   "outputs": [
    {
     "data": {
      "text/html": [
       "<table>\n",
       "<thead><tr><th scope=col>name</th><th scope=col>age</th><th scope=col>child</th><th scope=col>height</th></tr></thead>\n",
       "<tbody>\n",
       "\t<tr><td>Anne </td><td>28   </td><td>FALSE</td><td>163  </td></tr>\n",
       "\t<tr><td>Pete </td><td>30   </td><td> TRUE</td><td>177  </td></tr>\n",
       "\t<tr><td>Frank</td><td>21   </td><td> TRUE</td><td>163  </td></tr>\n",
       "\t<tr><td>Julia</td><td>39   </td><td>FALSE</td><td>162  </td></tr>\n",
       "\t<tr><td>Cath </td><td>35   </td><td> TRUE</td><td>157  </td></tr>\n",
       "</tbody>\n",
       "</table>\n"
      ],
      "text/latex": [
       "\\begin{tabular}{r|llll}\n",
       " name & age & child & height\\\\\n",
       "\\hline\n",
       "\t Anne  & 28    & FALSE & 163  \\\\\n",
       "\t Pete  & 30    &  TRUE & 177  \\\\\n",
       "\t Frank & 21    &  TRUE & 163  \\\\\n",
       "\t Julia & 39    & FALSE & 162  \\\\\n",
       "\t Cath  & 35    &  TRUE & 157  \\\\\n",
       "\\end{tabular}\n"
      ],
      "text/markdown": [
       "\n",
       "| name | age | child | height |\n",
       "|---|---|---|---|\n",
       "| Anne  | 28    | FALSE | 163   |\n",
       "| Pete  | 30    |  TRUE | 177   |\n",
       "| Frank | 21    |  TRUE | 163   |\n",
       "| Julia | 39    | FALSE | 162   |\n",
       "| Cath  | 35    |  TRUE | 157   |\n",
       "\n"
      ],
      "text/plain": [
       "  name  age child height\n",
       "1 Anne  28  FALSE 163   \n",
       "2 Pete  30   TRUE 177   \n",
       "3 Frank 21   TRUE 163   \n",
       "4 Julia 39  FALSE 162   \n",
       "5 Cath  35   TRUE 157   "
      ]
     },
     "metadata": {},
     "output_type": "display_data"
    },
    {
     "data": {
      "text/html": [
       "<table>\n",
       "<thead><tr><th scope=col>name</th><th scope=col>age</th><th scope=col>child</th><th scope=col>height</th><th scope=col>weight</th></tr></thead>\n",
       "<tbody>\n",
       "\t<tr><td>Anne </td><td>28   </td><td>FALSE</td><td>163  </td><td>74   </td></tr>\n",
       "\t<tr><td>Pete </td><td>30   </td><td> TRUE</td><td>177  </td><td>63   </td></tr>\n",
       "\t<tr><td>Frank</td><td>21   </td><td> TRUE</td><td>163  </td><td>68   </td></tr>\n",
       "\t<tr><td>Julia</td><td>39   </td><td>FALSE</td><td>162  </td><td>55   </td></tr>\n",
       "\t<tr><td>Cath </td><td>35   </td><td> TRUE</td><td>157  </td><td>56   </td></tr>\n",
       "</tbody>\n",
       "</table>\n"
      ],
      "text/latex": [
       "\\begin{tabular}{r|lllll}\n",
       " name & age & child & height & weight\\\\\n",
       "\\hline\n",
       "\t Anne  & 28    & FALSE & 163   & 74   \\\\\n",
       "\t Pete  & 30    &  TRUE & 177   & 63   \\\\\n",
       "\t Frank & 21    &  TRUE & 163   & 68   \\\\\n",
       "\t Julia & 39    & FALSE & 162   & 55   \\\\\n",
       "\t Cath  & 35    &  TRUE & 157   & 56   \\\\\n",
       "\\end{tabular}\n"
      ],
      "text/markdown": [
       "\n",
       "| name | age | child | height | weight |\n",
       "|---|---|---|---|---|\n",
       "| Anne  | 28    | FALSE | 163   | 74    |\n",
       "| Pete  | 30    |  TRUE | 177   | 63    |\n",
       "| Frank | 21    |  TRUE | 163   | 68    |\n",
       "| Julia | 39    | FALSE | 162   | 55    |\n",
       "| Cath  | 35    |  TRUE | 157   | 56    |\n",
       "\n"
      ],
      "text/plain": [
       "  name  age child height weight\n",
       "1 Anne  28  FALSE 163    74    \n",
       "2 Pete  30   TRUE 177    63    \n",
       "3 Frank 21   TRUE 163    68    \n",
       "4 Julia 39  FALSE 162    55    \n",
       "5 Cath  35   TRUE 157    56    "
      ]
     },
     "metadata": {},
     "output_type": "display_data"
    }
   ],
   "source": [
    "# Extend Data Frame (same as list)\n",
    "# Add column\n",
    "height <- c(163, 177, 163, 162, 157)\n",
    "\n",
    "people$height <- height\n",
    "\n",
    "# Same as\n",
    "\n",
    "people[[\"height\"]] <- height\n",
    "people\n",
    "\n",
    "# Same as\n",
    "\n",
    "weight <- c(74, 63, 68, 55, 56)\n",
    "cbind(people, weight)"
   ]
  },
  {
   "cell_type": "code",
   "execution_count": 91,
   "metadata": {},
   "outputs": [
    {
     "data": {
      "text/html": [
       "<table>\n",
       "<thead><tr><th scope=col>name</th><th scope=col>age</th><th scope=col>child</th><th scope=col>height</th></tr></thead>\n",
       "<tbody>\n",
       "\t<tr><td>Anne </td><td>28   </td><td>FALSE</td><td>163  </td></tr>\n",
       "\t<tr><td>Pete </td><td>30   </td><td> TRUE</td><td>177  </td></tr>\n",
       "\t<tr><td>Frank</td><td>21   </td><td> TRUE</td><td>163  </td></tr>\n",
       "\t<tr><td>Julia</td><td>39   </td><td>FALSE</td><td>162  </td></tr>\n",
       "\t<tr><td>Cath </td><td>35   </td><td> TRUE</td><td>157  </td></tr>\n",
       "\t<tr><td>Tom  </td><td>37   </td><td>FALSE</td><td>183  </td></tr>\n",
       "</tbody>\n",
       "</table>\n"
      ],
      "text/latex": [
       "\\begin{tabular}{r|llll}\n",
       " name & age & child & height\\\\\n",
       "\\hline\n",
       "\t Anne  & 28    & FALSE & 163  \\\\\n",
       "\t Pete  & 30    &  TRUE & 177  \\\\\n",
       "\t Frank & 21    &  TRUE & 163  \\\\\n",
       "\t Julia & 39    & FALSE & 162  \\\\\n",
       "\t Cath  & 35    &  TRUE & 157  \\\\\n",
       "\t Tom   & 37    & FALSE & 183  \\\\\n",
       "\\end{tabular}\n"
      ],
      "text/markdown": [
       "\n",
       "| name | age | child | height |\n",
       "|---|---|---|---|\n",
       "| Anne  | 28    | FALSE | 163   |\n",
       "| Pete  | 30    |  TRUE | 177   |\n",
       "| Frank | 21    |  TRUE | 163   |\n",
       "| Julia | 39    | FALSE | 162   |\n",
       "| Cath  | 35    |  TRUE | 157   |\n",
       "| Tom   | 37    | FALSE | 183   |\n",
       "\n"
      ],
      "text/plain": [
       "  name  age child height\n",
       "1 Anne  28  FALSE 163   \n",
       "2 Pete  30   TRUE 177   \n",
       "3 Frank 21   TRUE 163   \n",
       "4 Julia 39  FALSE 162   \n",
       "5 Cath  35   TRUE 157   \n",
       "6 Tom   37  FALSE 183   "
      ]
     },
     "metadata": {},
     "output_type": "display_data"
    }
   ],
   "source": [
    "# Add row\n",
    "# The following does NOT work.\n",
    "# tom <- data.frame(\"Tom\", 37, FALSE, 183)\n",
    "# rbind(people, tom)\n",
    "\n",
    "tom <- data.frame(name = \"Tom\", age = 37, child = FALSE, height = 183)\n",
    "rbind(people, tom)"
   ]
  },
  {
   "cell_type": "code",
   "execution_count": 92,
   "metadata": {},
   "outputs": [
    {
     "data": {
      "text/html": [
       "<ol class=list-inline>\n",
       "\t<li>21</li>\n",
       "\t<li>28</li>\n",
       "\t<li>30</li>\n",
       "\t<li>35</li>\n",
       "\t<li>39</li>\n",
       "</ol>\n"
      ],
      "text/latex": [
       "\\begin{enumerate*}\n",
       "\\item 21\n",
       "\\item 28\n",
       "\\item 30\n",
       "\\item 35\n",
       "\\item 39\n",
       "\\end{enumerate*}\n"
      ],
      "text/markdown": [
       "1. 21\n",
       "2. 28\n",
       "3. 30\n",
       "4. 35\n",
       "5. 39\n",
       "\n",
       "\n"
      ],
      "text/plain": [
       "[1] 21 28 30 35 39"
      ]
     },
     "metadata": {},
     "output_type": "display_data"
    },
    {
     "data": {
      "text/html": [
       "<table>\n",
       "<thead><tr><th scope=col>name</th><th scope=col>age</th><th scope=col>child</th><th scope=col>height</th></tr></thead>\n",
       "<tbody>\n",
       "\t<tr><td>Anne </td><td>28   </td><td>FALSE</td><td>163  </td></tr>\n",
       "\t<tr><td>Pete </td><td>30   </td><td> TRUE</td><td>177  </td></tr>\n",
       "\t<tr><td>Frank</td><td>21   </td><td> TRUE</td><td>163  </td></tr>\n",
       "\t<tr><td>Julia</td><td>39   </td><td>FALSE</td><td>162  </td></tr>\n",
       "\t<tr><td>Cath </td><td>35   </td><td> TRUE</td><td>157  </td></tr>\n",
       "</tbody>\n",
       "</table>\n"
      ],
      "text/latex": [
       "\\begin{tabular}{r|llll}\n",
       " name & age & child & height\\\\\n",
       "\\hline\n",
       "\t Anne  & 28    & FALSE & 163  \\\\\n",
       "\t Pete  & 30    &  TRUE & 177  \\\\\n",
       "\t Frank & 21    &  TRUE & 163  \\\\\n",
       "\t Julia & 39    & FALSE & 162  \\\\\n",
       "\t Cath  & 35    &  TRUE & 157  \\\\\n",
       "\\end{tabular}\n"
      ],
      "text/markdown": [
       "\n",
       "| name | age | child | height |\n",
       "|---|---|---|---|\n",
       "| Anne  | 28    | FALSE | 163   |\n",
       "| Pete  | 30    |  TRUE | 177   |\n",
       "| Frank | 21    |  TRUE | 163   |\n",
       "| Julia | 39    | FALSE | 162   |\n",
       "| Cath  | 35    |  TRUE | 157   |\n",
       "\n"
      ],
      "text/plain": [
       "  name  age child height\n",
       "1 Anne  28  FALSE 163   \n",
       "2 Pete  30   TRUE 177   \n",
       "3 Frank 21   TRUE 163   \n",
       "4 Julia 39  FALSE 162   \n",
       "5 Cath  35   TRUE 157   "
      ]
     },
     "metadata": {},
     "output_type": "display_data"
    }
   ],
   "source": [
    "# Sorting\n",
    "sort(people$age)\n",
    "people"
   ]
  },
  {
   "cell_type": "code",
   "execution_count": 93,
   "metadata": {},
   "outputs": [
    {
     "data": {
      "text/html": [
       "<ol class=list-inline>\n",
       "\t<li>3</li>\n",
       "\t<li>1</li>\n",
       "\t<li>2</li>\n",
       "\t<li>5</li>\n",
       "\t<li>4</li>\n",
       "</ol>\n"
      ],
      "text/latex": [
       "\\begin{enumerate*}\n",
       "\\item 3\n",
       "\\item 1\n",
       "\\item 2\n",
       "\\item 5\n",
       "\\item 4\n",
       "\\end{enumerate*}\n"
      ],
      "text/markdown": [
       "1. 3\n",
       "2. 1\n",
       "3. 2\n",
       "4. 5\n",
       "5. 4\n",
       "\n",
       "\n"
      ],
      "text/plain": [
       "[1] 3 1 2 5 4"
      ]
     },
     "metadata": {},
     "output_type": "display_data"
    }
   ],
   "source": [
    "ranks <- order(people$age)\n",
    "ranks  # index 3 has the lowest value and index 1 has the second lowest value."
   ]
  },
  {
   "cell_type": "code",
   "execution_count": 94,
   "metadata": {},
   "outputs": [
    {
     "data": {
      "text/html": [
       "<table>\n",
       "<thead><tr><th></th><th scope=col>name</th><th scope=col>age</th><th scope=col>child</th><th scope=col>height</th></tr></thead>\n",
       "<tbody>\n",
       "\t<tr><th scope=row>4</th><td>Julia</td><td>39   </td><td>FALSE</td><td>162  </td></tr>\n",
       "\t<tr><th scope=row>5</th><td>Cath </td><td>35   </td><td> TRUE</td><td>157  </td></tr>\n",
       "\t<tr><th scope=row>2</th><td>Pete </td><td>30   </td><td> TRUE</td><td>177  </td></tr>\n",
       "\t<tr><th scope=row>1</th><td>Anne </td><td>28   </td><td>FALSE</td><td>163  </td></tr>\n",
       "\t<tr><th scope=row>3</th><td>Frank</td><td>21   </td><td> TRUE</td><td>163  </td></tr>\n",
       "</tbody>\n",
       "</table>\n"
      ],
      "text/latex": [
       "\\begin{tabular}{r|llll}\n",
       "  & name & age & child & height\\\\\n",
       "\\hline\n",
       "\t4 & Julia & 39    & FALSE & 162  \\\\\n",
       "\t5 & Cath  & 35    &  TRUE & 157  \\\\\n",
       "\t2 & Pete  & 30    &  TRUE & 177  \\\\\n",
       "\t1 & Anne  & 28    & FALSE & 163  \\\\\n",
       "\t3 & Frank & 21    &  TRUE & 163  \\\\\n",
       "\\end{tabular}\n"
      ],
      "text/markdown": [
       "\n",
       "| <!--/--> | name | age | child | height |\n",
       "|---|---|---|---|---|\n",
       "| 4 | Julia | 39    | FALSE | 162   |\n",
       "| 5 | Cath  | 35    |  TRUE | 157   |\n",
       "| 2 | Pete  | 30    |  TRUE | 177   |\n",
       "| 1 | Anne  | 28    | FALSE | 163   |\n",
       "| 3 | Frank | 21    |  TRUE | 163   |\n",
       "\n"
      ],
      "text/plain": [
       "  name  age child height\n",
       "4 Julia 39  FALSE 162   \n",
       "5 Cath  35   TRUE 157   \n",
       "2 Pete  30   TRUE 177   \n",
       "1 Anne  28  FALSE 163   \n",
       "3 Frank 21   TRUE 163   "
      ]
     },
     "metadata": {},
     "output_type": "display_data"
    }
   ],
   "source": [
    "people[order(people$age, decreasing = TRUE),]"
   ]
  },
  {
   "cell_type": "markdown",
   "metadata": {},
   "source": [
    "## R tutorial - Making Basic Graphics in R\n",
    "plot()<br>\n",
    "hist()"
   ]
  },
  {
   "cell_type": "markdown",
   "metadata": {},
   "source": [
    "## R tutorial - Customizing Your Plots in R"
   ]
  },
  {
   "cell_type": "code",
   "execution_count": 95,
   "metadata": {},
   "outputs": [
    {
     "data": {
      "text/html": [
       "<table>\n",
       "<thead><tr><th scope=col>temperature</th><th scope=col>pressure</th></tr></thead>\n",
       "<tbody>\n",
       "\t<tr><td>  0    </td><td> 0.0002</td></tr>\n",
       "\t<tr><td> 20    </td><td> 0.0012</td></tr>\n",
       "\t<tr><td> 40    </td><td> 0.0060</td></tr>\n",
       "\t<tr><td> 60    </td><td> 0.0300</td></tr>\n",
       "\t<tr><td> 80    </td><td> 0.0900</td></tr>\n",
       "\t<tr><td>100    </td><td> 0.2700</td></tr>\n",
       "\t<tr><td>120    </td><td> 0.7500</td></tr>\n",
       "\t<tr><td>140    </td><td> 1.8500</td></tr>\n",
       "\t<tr><td>160    </td><td> 4.2000</td></tr>\n",
       "\t<tr><td>180    </td><td> 8.8000</td></tr>\n",
       "\t<tr><td>200    </td><td>17.3000</td></tr>\n",
       "</tbody>\n",
       "</table>\n"
      ],
      "text/latex": [
       "\\begin{tabular}{r|ll}\n",
       " temperature & pressure\\\\\n",
       "\\hline\n",
       "\t   0     &  0.0002\\\\\n",
       "\t  20     &  0.0012\\\\\n",
       "\t  40     &  0.0060\\\\\n",
       "\t  60     &  0.0300\\\\\n",
       "\t  80     &  0.0900\\\\\n",
       "\t 100     &  0.2700\\\\\n",
       "\t 120     &  0.7500\\\\\n",
       "\t 140     &  1.8500\\\\\n",
       "\t 160     &  4.2000\\\\\n",
       "\t 180     &  8.8000\\\\\n",
       "\t 200     & 17.3000\\\\\n",
       "\\end{tabular}\n"
      ],
      "text/markdown": [
       "\n",
       "| temperature | pressure |\n",
       "|---|---|\n",
       "|   0     |  0.0002 |\n",
       "|  20     |  0.0012 |\n",
       "|  40     |  0.0060 |\n",
       "|  60     |  0.0300 |\n",
       "|  80     |  0.0900 |\n",
       "| 100     |  0.2700 |\n",
       "| 120     |  0.7500 |\n",
       "| 140     |  1.8500 |\n",
       "| 160     |  4.2000 |\n",
       "| 180     |  8.8000 |\n",
       "| 200     | 17.3000 |\n",
       "\n"
      ],
      "text/plain": [
       "   temperature pressure\n",
       "1    0          0.0002 \n",
       "2   20          0.0012 \n",
       "3   40          0.0060 \n",
       "4   60          0.0300 \n",
       "5   80          0.0900 \n",
       "6  100          0.2700 \n",
       "7  120          0.7500 \n",
       "8  140          1.8500 \n",
       "9  160          4.2000 \n",
       "10 180          8.8000 \n",
       "11 200         17.3000 "
      ]
     },
     "metadata": {},
     "output_type": "display_data"
    }
   ],
   "source": [
    "temperature <- c(0, 20, 40, 60, 80, 100, 120, 140, 160, 180, 200)\n",
    "pressure <- c(0.0002, 0.0012, 0.0060, 0.0300, 0.0900, 0.2700, 0.7500, 1.8500, 4.2000, 8.8000, 17.3000)\n",
    "\n",
    "mercury <- data.frame(temperature, pressure)\n",
    "mercury"
   ]
  },
  {
   "cell_type": "code",
   "execution_count": 96,
   "metadata": {},
   "outputs": [
    {
     "data": {
      "image/png": "[encoded data removed]",
      "text/plain": [
       "plot without title"
      ]
     },
     "metadata": {},
     "output_type": "display_data"
    }
   ],
   "source": [
    "plot(mercury$temperature, mercury$pressure)"
   ]
  },
  {
   "cell_type": "code",
   "execution_count": 97,
   "metadata": {},
   "outputs": [
    {
     "data": {
      "image/png": "[encoded data removed]",
      "text/plain": [
       "Plot with title \"T vs P for Mercury\""
      ]
     },
     "metadata": {},
     "output_type": "display_data"
    }
   ],
   "source": [
    "plot(mercury$temperature, mercury$pressure,\n",
    "     xlab = \"Temperature\",  # horizontal axis label\n",
    "     ylab = \"Pressure\",  # vertical axis label\n",
    "     main = \"T vs P for Mercury\",  # plot tilte\n",
    "     type = \"o\",  # plot type\n",
    "     col = \"orange\")  # plot color"
   ]
  },
  {
   "cell_type": "code",
   "execution_count": 98,
   "metadata": {},
   "outputs": [],
   "source": [
    "?par  # graphical parameters, all parameters that can be modified for plot\n",
    "# par()  # get all parameter values"
   ]
  },
  {
   "cell_type": "code",
   "execution_count": 99,
   "metadata": {},
   "outputs": [
    {
     "data": {
      "text/html": [
       "'blue'"
      ],
      "text/latex": [
       "'blue'"
      ],
      "text/markdown": [
       "'blue'"
      ],
      "text/plain": [
       "[1] \"blue\""
      ]
     },
     "metadata": {},
     "output_type": "display_data"
    },
    {
     "data": {
      "image/png": "[encoded data removed]",
      "text/plain": [
       "plot without title"
      ]
     },
     "metadata": {},
     "output_type": "display_data"
    }
   ],
   "source": [
    "par(col = \"blue\")  # change the color of plot to blue. By default, it is black.\n",
    "par()$col\n",
    "plot(mercury$temperature, mercury$pressure)"
   ]
  },
  {
   "cell_type": "code",
   "execution_count": 100,
   "metadata": {},
   "outputs": [
    {
     "data": {
      "image/png": "[encoded data removed]",
      "text/plain": [
       "Plot with title \"T vs P for Mercury\""
      ]
     },
     "metadata": {},
     "output_type": "display_data"
    }
   ],
   "source": [
    "plot(mercury$temperature, mercury$pressure,\n",
    "     xlab = \"Temperature\",\n",
    "     ylab = \"Pressure\",\n",
    "     main = \"T vs P for Mercury\",\n",
    "     type = \"o\",\n",
    "     col = \"orange\",\n",
    "     col.main = \"darkgray\",  # title color\n",
    "     cex.axis = 1.5,  # size of axis\n",
    "     lty = 5,  # line type\n",
    "     pch = 4)  # plot symbol"
   ]
  },
  {
   "cell_type": "markdown",
   "metadata": {},
   "source": [
    "## R tutorial - How to plot multiple graphs in R"
   ]
  },
  {
   "cell_type": "code",
   "execution_count": 101,
   "metadata": {},
   "outputs": [
    {
     "name": "stdout",
     "output_type": "stream",
     "text": [
      "'data.frame':\t5 obs. of  5 variables:\n",
      " $ sales    : num  231 156 10 519 437\n",
      " $ ads      : num  8.2 6.9 3 12 10.6\n",
      " $ comp     : num  11 12 15 1 5\n",
      " $ inv      : num  294 232 149 600 567\n",
      " $ size_dist: num  8.2 4.1 4.3 16.1 14.1\n"
     ]
    }
   ],
   "source": [
    "sales <- c(231, 156, 10, 519, 437)\n",
    "ads <- c(8.2, 6.9, 3, 12, 10.6)\n",
    "comp <- c(11, 12, 15, 1, 5)\n",
    "inv <- c(294, 232, 149, 600, 567)\n",
    "size_dist <- c(8.2, 4.1, 4.3, 16.1, 14.1)\n",
    "\n",
    "shop <- data.frame(sales, ads, comp, inv, size_dist)\n",
    "str(shop)"
   ]
  },
  {
   "cell_type": "code",
   "execution_count": 102,
   "metadata": {},
   "outputs": [
    {
     "data": {
      "image/png": "[encoded data removed]",
      "text/plain": [
       "plot without title"
      ]
     },
     "metadata": {},
     "output_type": "display_data"
    }
   ],
   "source": [
    "# multiple graphs, 2 rows and 2 columns\n",
    "par(mfrow = c(2,2))  # goes row by row. \"mfcol = c(2,2)\" goes column by column\n",
    "plot(shop$ads, shop$sales)\n",
    "plot(shop$comp, shop$sales)\n",
    "plot(shop$inv, shop$sales)\n",
    "plot(shop$size_dist, shop$sales)"
   ]
  },
  {
   "cell_type": "code",
   "execution_count": 103,
   "metadata": {},
   "outputs": [
    {
     "data": {
      "image/png": "[encoded data removed]",
      "text/plain": [
       "plot without title"
      ]
     },
     "metadata": {},
     "output_type": "display_data"
    }
   ],
   "source": [
    "# layout function for layout of graphs\n",
    "grid <- matrix(c(1, 1, 2, 3), nrow = 2, ncol = 2, byrow = TRUE)\n",
    "\n",
    "layout(grid)\n",
    "plot(shop$ads, shop$sales)\n",
    "plot(shop$comp, shop$sales)\n",
    "plot(shop$inv, shop$sales)"
   ]
  },
  {
   "cell_type": "code",
   "execution_count": 104,
   "metadata": {},
   "outputs": [],
   "source": [
    "# Reset back to default\n",
    "layout(1)\n",
    "par(mfcol = c(1, 1))"
   ]
  },
  {
   "cell_type": "code",
   "execution_count": 105,
   "metadata": {},
   "outputs": [
    {
     "data": {
      "image/png": "[encoded data removed]",
      "text/plain": [
       "plot without title"
      ]
     },
     "metadata": {},
     "output_type": "display_data"
    }
   ],
   "source": [
    "# Stack graphical elements\n",
    "plot(shop$ads, shop$sales,\n",
    "     pch = 16, col = 2, xlab = \"advertisement\", ylab = \"net sales\")\n",
    "\n",
    "lm_sales <- lm(shop$sales ~ shop$ads)\n",
    "\n",
    "abline(coef(lm_sales), lwd = 2)  # add the coefficient line"
   ]
  },
  {
   "cell_type": "code",
   "execution_count": 106,
   "metadata": {},
   "outputs": [
    {
     "data": {
      "image/png": "[encoded data removed]",
      "text/plain": [
       "plot without title"
      ]
     },
     "metadata": {},
     "output_type": "display_data"
    }
   ],
   "source": [
    "# Add lines between dots\n",
    "ranks <- order(shop$ads)\n",
    "\n",
    "plot(shop$ads, shop$sales,\n",
    "     pch = 16, col = 2, xlab = \"advertisement\", ylab = \"net sales\")\n",
    "\n",
    "lm_sales <- lm(shop$sales ~ shop$ads)\n",
    "\n",
    "abline(coef(lm_sales), lwd = 2)\n",
    "\n",
    "lines(shop$ads[ranks], shop$sales[ranks])"
   ]
  },
  {
   "cell_type": "markdown",
   "metadata": {},
   "source": [
    "## R tutorial - How To Use Conditional Statements in R"
   ]
  },
  {
   "cell_type": "code",
   "execution_count": 107,
   "metadata": {},
   "outputs": [
    {
     "name": "stdout",
     "output_type": "stream",
     "text": [
      "[1] \"x is either a positive number\"\n"
     ]
    }
   ],
   "source": [
    "x <- 3\n",
    "\n",
    "if(x < 0) {\n",
    "    print(\"x is a negative number\")\n",
    "} else if(x == 0) {\n",
    "    print(\"x is zero\")\n",
    "} else {\n",
    "    print(\"x is either a positive number\")\n",
    "}"
   ]
  },
  {
   "cell_type": "markdown",
   "metadata": {},
   "source": [
    "## R tutorial - Logical Operators and Vectors in R"
   ]
  },
  {
   "cell_type": "markdown",
   "metadata": {},
   "source": [
    "AND operator &<br>\n",
    "OR operator |<br>\n",
    "NOT operator !"
   ]
  },
  {
   "cell_type": "markdown",
   "metadata": {},
   "source": [
    "### & vs &&, | vs ||"
   ]
  },
  {
   "cell_type": "code",
   "execution_count": 108,
   "metadata": {},
   "outputs": [
    {
     "data": {
      "text/html": [
       "<ol class=list-inline>\n",
       "\t<li>TRUE</li>\n",
       "\t<li>FALSE</li>\n",
       "\t<li>FALSE</li>\n",
       "</ol>\n"
      ],
      "text/latex": [
       "\\begin{enumerate*}\n",
       "\\item TRUE\n",
       "\\item FALSE\n",
       "\\item FALSE\n",
       "\\end{enumerate*}\n"
      ],
      "text/markdown": [
       "1. TRUE\n",
       "2. FALSE\n",
       "3. FALSE\n",
       "\n",
       "\n"
      ],
      "text/plain": [
       "[1]  TRUE FALSE FALSE"
      ]
     },
     "metadata": {},
     "output_type": "display_data"
    },
    {
     "data": {
      "text/html": [
       "TRUE"
      ],
      "text/latex": [
       "TRUE"
      ],
      "text/markdown": [
       "TRUE"
      ],
      "text/plain": [
       "[1] TRUE"
      ]
     },
     "metadata": {},
     "output_type": "display_data"
    }
   ],
   "source": [
    "c(TRUE, TRUE, FALSE) & c(TRUE, FALSE, FALSE)\n",
    "\n",
    "c(TRUE, TRUE, FALSE) && c(TRUE, FALSE, FALSE)  # Only return the first element of each vector"
   ]
  },
  {
   "cell_type": "code",
   "execution_count": 109,
   "metadata": {},
   "outputs": [
    {
     "data": {
      "text/html": [
       "<ol class=list-inline>\n",
       "\t<li>TRUE</li>\n",
       "\t<li>TRUE</li>\n",
       "\t<li>FALSE</li>\n",
       "</ol>\n"
      ],
      "text/latex": [
       "\\begin{enumerate*}\n",
       "\\item TRUE\n",
       "\\item TRUE\n",
       "\\item FALSE\n",
       "\\end{enumerate*}\n"
      ],
      "text/markdown": [
       "1. TRUE\n",
       "2. TRUE\n",
       "3. FALSE\n",
       "\n",
       "\n"
      ],
      "text/plain": [
       "[1]  TRUE  TRUE FALSE"
      ]
     },
     "metadata": {},
     "output_type": "display_data"
    },
    {
     "data": {
      "text/html": [
       "TRUE"
      ],
      "text/latex": [
       "TRUE"
      ],
      "text/markdown": [
       "TRUE"
      ],
      "text/plain": [
       "[1] TRUE"
      ]
     },
     "metadata": {},
     "output_type": "display_data"
    }
   ],
   "source": [
    "c(TRUE, TRUE, FALSE) | c(TRUE, FALSE, FALSE)\n",
    "\n",
    "c(TRUE, TRUE, FALSE) || c(FALSE, FALSE, FALSE)  # Only return the first element of each vector"
   ]
  },
  {
   "cell_type": "markdown",
   "metadata": {},
   "source": [
    "## R tutorial - Relational Operator in R"
   ]
  },
  {
   "cell_type": "code",
   "execution_count": 110,
   "metadata": {},
   "outputs": [
    {
     "data": {
      "text/html": [
       "TRUE"
      ],
      "text/latex": [
       "TRUE"
      ],
      "text/markdown": [
       "TRUE"
      ],
      "text/plain": [
       "[1] TRUE"
      ]
     },
     "metadata": {},
     "output_type": "display_data"
    }
   ],
   "source": [
    "TRUE > FALSE  # TRUE == 1 and FALSE == 0"
   ]
  }
 ],
 "metadata": {
  "kernelspec": {
   "display_name": "R",
   "language": "R",
   "name": "ir"
  },
  "language_info": {
   "codemirror_mode": "r",
   "file_extension": ".r",
   "mimetype": "text/x-r-source",
   "name": "R",
   "pygments_lexer": "r",
   "version": "3.6.1"
  }
 },
 "nbformat": 4,
 "nbformat_minor": 2
}
