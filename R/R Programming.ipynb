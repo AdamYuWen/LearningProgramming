{
 "cells": [
  {
   "cell_type": "markdown",
   "metadata": {},
   "source": [
    "# Notes for YouTube R Tutorials\n",
    "## R Programming\n",
    "https://www.youtube.com/watch?v=7076ZuAwUn8&list=PLWPirh4EWFpEvN4ktS8LE0cvLCSfhD55t&index=1"
   ]
  },
  {
   "cell_type": "markdown",
   "metadata": {},
   "source": [
    "## R Programming - Basic Syntax"
   ]
  },
  {
   "cell_type": "markdown",
   "metadata": {},
   "source": [
    "Calling \"R\" in terminal is using the R compiler."
   ]
  },
  {
   "cell_type": "markdown",
   "metadata": {},
   "source": [
    "## R Programming - Variables"
   ]
  },
  {
   "cell_type": "code",
   "execution_count": 6,
   "metadata": {},
   "outputs": [],
   "source": [
    "varx <- 5\n",
    "\n",
    "10 -> vary"
   ]
  },
  {
   "cell_type": "code",
   "execution_count": 7,
   "metadata": {},
   "outputs": [
    {
     "data": {
      "text/html": [
       "<ol class=list-inline>\n",
       "\t<li>'varx'</li>\n",
       "\t<li>'vary'</li>\n",
       "</ol>\n"
      ],
      "text/latex": [
       "\\begin{enumerate*}\n",
       "\\item 'varx'\n",
       "\\item 'vary'\n",
       "\\end{enumerate*}\n"
      ],
      "text/markdown": [
       "1. 'varx'\n",
       "2. 'vary'\n",
       "\n",
       "\n"
      ],
      "text/plain": [
       "[1] \"varx\" \"vary\""
      ]
     },
     "metadata": {},
     "output_type": "display_data"
    }
   ],
   "source": [
    "ls()  # List all variable names."
   ]
  },
  {
   "cell_type": "code",
   "execution_count": 8,
   "metadata": {},
   "outputs": [
    {
     "data": {
      "text/html": [
       "'vary'"
      ],
      "text/latex": [
       "'vary'"
      ],
      "text/markdown": [
       "'vary'"
      ],
      "text/plain": [
       "[1] \"vary\""
      ]
     },
     "metadata": {},
     "output_type": "display_data"
    }
   ],
   "source": [
    "rm(varx)  # Remove a variable.\n",
    "ls()"
   ]
  },
  {
   "cell_type": "markdown",
   "metadata": {},
   "source": [
    "## R Programming - Datatypes"
   ]
  },
  {
   "cell_type": "markdown",
   "metadata": {},
   "source": [
    "Matrices: A two dimensional Data Set.<br>\n",
    "Arrays: Multi-dimensional Data Set."
   ]
  },
  {
   "cell_type": "markdown",
   "metadata": {},
   "source": [
    "## R Programming - Decision Making"
   ]
  },
  {
   "cell_type": "code",
   "execution_count": 10,
   "metadata": {},
   "outputs": [
    {
     "data": {
      "text/html": [
       "TRUE"
      ],
      "text/latex": [
       "TRUE"
      ],
      "text/markdown": [
       "TRUE"
      ],
      "text/plain": [
       "[1] TRUE"
      ]
     },
     "metadata": {},
     "output_type": "display_data"
    }
   ],
   "source": [
    "varx <- TRUE\n",
    "isTRUE(varx)  # Check if a variable is TRUE."
   ]
  },
  {
   "cell_type": "markdown",
   "metadata": {},
   "source": [
    "## R Programming - Switch Statement"
   ]
  },
  {
   "cell_type": "code",
   "execution_count": 11,
   "metadata": {},
   "outputs": [
    {
     "name": "stdout",
     "output_type": "stream",
     "text": [
      "[1] \"fourth\"\n"
     ]
    }
   ],
   "source": [
    "# switch(expression, case1, case2, case3, ...)\n",
    "x <- switch(\n",
    "    4,\n",
    "    \"first\",\n",
    "    \"second\",\n",
    "    \"third\",\n",
    "    \"fourth\"\n",
    ")\n",
    "\n",
    "print(x)"
   ]
  },
  {
   "cell_type": "markdown",
   "metadata": {},
   "source": [
    "## R Programming - for Loop"
   ]
  },
  {
   "cell_type": "code",
   "execution_count": 12,
   "metadata": {},
   "outputs": [
    {
     "name": "stdout",
     "output_type": "stream",
     "text": [
      "[1] \"A\"\n",
      "[1] \"B\"\n",
      "[1] \"C\"\n",
      "[1] \"D\"\n",
      "[1] \"E\"\n",
      "[1] \"F\"\n",
      "[1] \"G\"\n"
     ]
    }
   ],
   "source": [
    "x <- LETTERS[1:7]\n",
    "\n",
    "for (i in x) {\n",
    "    print(i)\n",
    "}"
   ]
  },
  {
   "cell_type": "markdown",
   "metadata": {},
   "source": [
    "## R Programming - While Loop"
   ]
  },
  {
   "cell_type": "code",
   "execution_count": 14,
   "metadata": {},
   "outputs": [
    {
     "name": "stdout",
     "output_type": "stream",
     "text": [
      "[1] \"while loop\"\n",
      "[1] \"while loop\"\n"
     ]
    }
   ],
   "source": [
    "values <- c(\"while loop\")\n",
    "count <- 5\n",
    "\n",
    "while (count < 7) {\n",
    "    print(values)\n",
    "    count <- count + 1\n",
    "}"
   ]
  },
  {
   "cell_type": "markdown",
   "metadata": {},
   "source": [
    "## R Programming - Repeat Loop"
   ]
  },
  {
   "cell_type": "code",
   "execution_count": 15,
   "metadata": {},
   "outputs": [
    {
     "name": "stdout",
     "output_type": "stream",
     "text": [
      "[1] \"Hello World\"\n",
      "[1] \"Hello World\"\n",
      "[1] \"Hello World\"\n",
      "[1] \"Hello World\"\n",
      "[1] \"Hello World\"\n",
      "[1] \"Hello World\"\n"
     ]
    }
   ],
   "source": [
    "x <- c(\"Hello World\")\n",
    "count <- 2\n",
    "\n",
    "repeat {\n",
    "    print(x)\n",
    "    count <- count + 1\n",
    "    \n",
    "    if (count > 7) {\n",
    "        break\n",
    "    }\n",
    "}"
   ]
  },
  {
   "cell_type": "markdown",
   "metadata": {},
   "source": [
    "## R Programming - Array"
   ]
  },
  {
   "cell_type": "code",
   "execution_count": 17,
   "metadata": {},
   "outputs": [
    {
     "name": "stdout",
     "output_type": "stream",
     "text": [
      ", , 1\n",
      "\n",
      "     [,1] [,2] [,3]\n",
      "[1,]    6   10   43\n",
      "[2,]    2   16   15\n",
      "[3,]    1   22   25\n",
      "\n",
      ", , 2\n",
      "\n",
      "     [,1] [,2] [,3]\n",
      "[1,]    6   10   43\n",
      "[2,]    2   16   15\n",
      "[3,]    1   22   25\n",
      "\n"
     ]
    }
   ],
   "source": [
    "vector1 <- c(6, 2, 1)\n",
    "vector2 <- c(10, 16, 22, 43, 15, 25)\n",
    "\n",
    "result <- array(c(vector1, vector2), dim = c(3, 3, 2))\n",
    "print(result)"
   ]
  },
  {
   "cell_type": "markdown",
   "metadata": {},
   "source": [
    "## R Programming - Functions"
   ]
  },
  {
   "cell_type": "code",
   "execution_count": 18,
   "metadata": {},
   "outputs": [
    {
     "name": "stdout",
     "output_type": "stream",
     "text": [
      "[1] 2\n",
      "[1] 4\n",
      "[1] 6\n"
     ]
    }
   ],
   "source": [
    "aFunc <- function(a) {\n",
    "    for (i in 1:a) {\n",
    "        b <- i * 2\n",
    "        print(b)\n",
    "    }\n",
    "}\n",
    "\n",
    "aFunc(3)"
   ]
  },
  {
   "cell_type": "markdown",
   "metadata": {},
   "source": [
    "## R Programming - Strings\n",
    "\"Hello\" or 'hello'"
   ]
  },
  {
   "cell_type": "code",
   "execution_count": 20,
   "metadata": {},
   "outputs": [
    {
     "name": "stdout",
     "output_type": "stream",
     "text": [
      "[1] \"Hello man How are you feeling?\"\n"
     ]
    }
   ],
   "source": [
    "abc <- \"Hello man\"\n",
    "def <- 'How'\n",
    "hij <- \"are you feeling?\"\n",
    "\n",
    "print(paste(abc, def, hij))  # By default, sep = \" \""
   ]
  },
  {
   "cell_type": "code",
   "execution_count": 23,
   "metadata": {},
   "outputs": [
    {
     "name": "stdout",
     "output_type": "stream",
     "text": [
      "[1] \"Hello man-How-are you feeling?\"\n"
     ]
    }
   ],
   "source": [
    "print(paste(abc, def, hij, sep = \"-\"))"
   ]
  },
  {
   "cell_type": "code",
   "execution_count": 28,
   "metadata": {},
   "outputs": [
    {
     "name": "stdout",
     "output_type": "stream",
     "text": [
      "[1] \"Hello manHoware you feeling?\"\n"
     ]
    }
   ],
   "source": [
    "print(paste(abc, def, hij, sep = \"\"))"
   ]
  },
  {
   "cell_type": "code",
   "execution_count": 34,
   "metadata": {},
   "outputs": [
    {
     "name": "stdout",
     "output_type": "stream",
     "text": [
      "[1] \"Hello manHoware you feeling?\"\n"
     ]
    }
   ],
   "source": [
    "print(paste(abc, def, hij, sep = \"\", collapse = \"\"))"
   ]
  },
  {
   "cell_type": "markdown",
   "metadata": {},
   "source": [
    "## R Programming - List"
   ]
  },
  {
   "cell_type": "code",
   "execution_count": 60,
   "metadata": {},
   "outputs": [
    {
     "name": "stdout",
     "output_type": "stream",
     "text": [
      "[[1]]\n",
      "[1] \"Red\"\n",
      "\n",
      "[[2]]\n",
      "[1] \"Green\"\n",
      "\n",
      "[[3]]\n",
      "[1] 21 32 11\n",
      "\n",
      "[[4]]\n",
      "[1] TRUE\n",
      "\n",
      "[[5]]\n",
      "[1] 51.23\n",
      "\n",
      "[[6]]\n",
      "[1] 119.1\n",
      "\n"
     ]
    }
   ],
   "source": [
    "list_data <- list(\"Red\", \"Green\", c(21, 32, 11), TRUE, 51.23, 119.1)\n",
    "print(list_data)"
   ]
  },
  {
   "cell_type": "code",
   "execution_count": 61,
   "metadata": {},
   "outputs": [
    {
     "name": "stdout",
     "output_type": "stream",
     "text": [
      "$`1st Quarter`\n",
      "[1] \"Red\"\n",
      "\n",
      "$A_Matrix\n",
      "[1] \"Green\"\n",
      "\n",
      "$`A Inner list`\n",
      "[1] 21 32 11\n",
      "\n",
      "$<NA>\n",
      "[1] TRUE\n",
      "\n",
      "$<NA>\n",
      "[1] 51.23\n",
      "\n",
      "$<NA>\n",
      "[1] 119.1\n",
      "\n"
     ]
    }
   ],
   "source": [
    "names(list_data) <- c(\"1st Quarter\", \"A_Matrix\", \"A Inner list\")  # NA for un-named elements\n",
    "print(list_data)"
   ]
  },
  {
   "cell_type": "code",
   "execution_count": 62,
   "metadata": {},
   "outputs": [
    {
     "name": "stdout",
     "output_type": "stream",
     "text": [
      "$`1st Quarter`\n",
      "[1] \"Red\"\n",
      "\n",
      "$A_Matrix\n",
      "[1] \"Green\"\n",
      "\n",
      "$`A Inner list`\n",
      "[1] 21 32 11\n",
      "\n",
      "$<NA>\n",
      "[1] TRUE\n",
      "\n",
      "$x\n",
      "[1] 42\n",
      "\n",
      "$<NA>\n",
      "[1] 51.23\n",
      "\n",
      "$<NA>\n",
      "[1] 119.1\n",
      "\n"
     ]
    }
   ],
   "source": [
    "list_data = append(list_data, list(x = 42), 4)  # \"x\" is the variable name.\n",
    "print(list_data)"
   ]
  },
  {
   "cell_type": "code",
   "execution_count": 63,
   "metadata": {},
   "outputs": [
    {
     "name": "stdout",
     "output_type": "stream",
     "text": [
      "$`1st Quarter`\n",
      "[1] \"Red\"\n",
      "\n",
      "$A_Matrix\n",
      "[1] \"Green\"\n",
      "\n",
      "$`A Inner list`\n",
      "[1] 21 32 11\n",
      "\n",
      "$<NA>\n",
      "[1] TRUE\n",
      "\n",
      "$x\n",
      "[1] 42\n",
      "\n",
      "$<NA>\n",
      "[1] 51.23\n",
      "\n",
      "$<NA>\n",
      "[1] 119.1\n",
      "\n",
      "$`New element`\n",
      "[1] \"New element\"\n",
      "\n"
     ]
    }
   ],
   "source": [
    "list_data[[\"New element\"]] <- \"New element\"\n",
    "print(list_data)"
   ]
  },
  {
   "cell_type": "code",
   "execution_count": 64,
   "metadata": {},
   "outputs": [
    {
     "name": "stdout",
     "output_type": "stream",
     "text": [
      "$`1st Quarter`\n",
      "[1] \"Red\"\n",
      "\n",
      "$A_Matrix\n",
      "[1] \"Green\"\n",
      "\n",
      "$`A Inner list`\n",
      "[1] 21 32 11\n",
      "\n",
      "$<NA>\n",
      "[1] \"Update element\"\n",
      "\n",
      "$x\n",
      "[1] 42\n",
      "\n",
      "$<NA>\n",
      "[1] 51.23\n",
      "\n",
      "$<NA>\n",
      "[1] 119.1\n",
      "\n",
      "$`New element`\n",
      "[1] \"New element\"\n",
      "\n"
     ]
    }
   ],
   "source": [
    "# Update element at some position in the list.\n",
    "list_data[4] <- \"Update element\"\n",
    "print(list_data)"
   ]
  },
  {
   "cell_type": "code",
   "execution_count": 65,
   "metadata": {},
   "outputs": [
    {
     "name": "stdout",
     "output_type": "stream",
     "text": [
      "$`1st Quarter`\n",
      "[1] \"Red\"\n",
      "\n",
      "$A_Matrix\n",
      "[1] \"Green\"\n",
      "\n",
      "$`A Inner list`\n",
      "[1] 21 32 11\n",
      "\n",
      "$x\n",
      "[1] 42\n",
      "\n",
      "$<NA>\n",
      "[1] 51.23\n",
      "\n",
      "$<NA>\n",
      "[1] 119.1\n",
      "\n",
      "$`New element`\n",
      "[1] \"New element\"\n",
      "\n"
     ]
    }
   ],
   "source": [
    "# Remove the element\n",
    "list_data[4] <- NULL\n",
    "print(list_data)"
   ]
  },
  {
   "cell_type": "markdown",
   "metadata": {},
   "source": [
    "## R Programming - Matrix\n",
    "matrix(data, nrow, ncol, byrow, dimnames)"
   ]
  },
  {
   "cell_type": "markdown",
   "metadata": {},
   "source": [
    "## R Programming - Factors"
   ]
  },
  {
   "cell_type": "code",
   "execution_count": 66,
   "metadata": {},
   "outputs": [
    {
     "name": "stdout",
     "output_type": "stream",
     "text": [
      " [1] abc abc abc abc def def def def asc asc asc asc\n",
      "Levels: abc def asc\n"
     ]
    }
   ],
   "source": [
    "# generate factor levels\n",
    "# 3 is an integer giving the number of levels\n",
    "# 4 is an integer giving the number of replications\n",
    "\n",
    "v <- gl(3, 4, labels = c(\"abc\", \"def\", \"asc\"))  # 3 levels and each level repeat 4 times.\n",
    "print(v)"
   ]
  },
  {
   "cell_type": "markdown",
   "metadata": {},
   "source": [
    "## R Programming - Data Frames"
   ]
  },
  {
   "cell_type": "code",
   "execution_count": 69,
   "metadata": {},
   "outputs": [
    {
     "name": "stdout",
     "output_type": "stream",
     "text": [
      "  employee_id employee_name salary\n",
      "1           1           raj  63003\n",
      "2           2         rohit  51502\n",
      "3           3          amit  61002\n",
      "4           4         sahil  44440\n"
     ]
    }
   ],
   "source": [
    "employee.data <- data.frame(\n",
    "    employee_id = c(1:4),\n",
    "    employee_name = c(\"raj\", \"rohit\", \"amit\", \"sahil\"),\n",
    "    salary = c(63003, 51502, 61002, 44440),\n",
    "    stringsAsFactors = FALSE\n",
    ")\n",
    "\n",
    "print(employee.data)"
   ]
  },
  {
   "cell_type": "code",
   "execution_count": 70,
   "metadata": {},
   "outputs": [
    {
     "name": "stdout",
     "output_type": "stream",
     "text": [
      "'data.frame':\t4 obs. of  3 variables:\n",
      " $ employee_id  : int  1 2 3 4\n",
      " $ employee_name: chr  \"raj\" \"rohit\" \"amit\" \"sahil\"\n",
      " $ salary       : num  63003 51502 61002 44440\n"
     ]
    }
   ],
   "source": [
    "str(employee.data)"
   ]
  },
  {
   "cell_type": "code",
   "execution_count": 71,
   "metadata": {},
   "outputs": [
    {
     "data": {
      "text/plain": [
       "  employee_id   employee_name          salary     \n",
       " Min.   :1.00   Length:4           Min.   :44440  \n",
       " 1st Qu.:1.75   Class :character   1st Qu.:49737  \n",
       " Median :2.50   Mode  :character   Median :56252  \n",
       " Mean   :2.50                      Mean   :54987  \n",
       " 3rd Qu.:3.25                      3rd Qu.:61502  \n",
       " Max.   :4.00                      Max.   :63003  "
      ]
     },
     "metadata": {},
     "output_type": "display_data"
    }
   ],
   "source": [
    "summary(employee.data)"
   ]
  },
  {
   "cell_type": "code",
   "execution_count": 72,
   "metadata": {},
   "outputs": [
    {
     "name": "stdout",
     "output_type": "stream",
     "text": [
      "  employee_id employee_name salary department\n",
      "1           1           raj  63003    Network\n",
      "2           2         rohit  51502   Software\n",
      "3           3          amit  61002     Mobile\n",
      "4           4         sahil  44440        Web\n"
     ]
    }
   ],
   "source": [
    "# adding column\n",
    "employee.data$department <- c(\"Network\", \"Software\", \"Mobile\", \"Web\")\n",
    "print(employee.data)"
   ]
  },
  {
   "cell_type": "markdown",
   "metadata": {},
   "source": [
    "## R Programming - Packages"
   ]
  },
  {
   "cell_type": "code",
   "execution_count": 73,
   "metadata": {},
   "outputs": [
    {
     "data": {
      "text/html": [
       "'C:/Users/wenad/Anaconda3/Lib/R/library'"
      ],
      "text/latex": [
       "'C:/Users/wenad/Anaconda3/Lib/R/library'"
      ],
      "text/markdown": [
       "'C:/Users/wenad/Anaconda3/Lib/R/library'"
      ],
      "text/plain": [
       "[1] \"C:/Users/wenad/Anaconda3/Lib/R/library\""
      ]
     },
     "metadata": {},
     "output_type": "display_data"
    }
   ],
   "source": [
    "# Get library locations that contain R packages\n",
    ".libPaths()"
   ]
  },
  {
   "cell_type": "code",
   "execution_count": 74,
   "metadata": {},
   "outputs": [],
   "source": [
    "# Get the list of all the packages installed\n",
    "library()"
   ]
  },
  {
   "cell_type": "code",
   "execution_count": 75,
   "metadata": {},
   "outputs": [
    {
     "data": {
      "text/html": [
       "<ol class=list-inline>\n",
       "\t<li>'.GlobalEnv'</li>\n",
       "\t<li>'jupyter:irkernel'</li>\n",
       "\t<li>'package:stats'</li>\n",
       "\t<li>'package:graphics'</li>\n",
       "\t<li>'package:grDevices'</li>\n",
       "\t<li>'package:utils'</li>\n",
       "\t<li>'package:datasets'</li>\n",
       "\t<li>'package:methods'</li>\n",
       "\t<li>'Autoloads'</li>\n",
       "\t<li>'package:base'</li>\n",
       "</ol>\n"
      ],
      "text/latex": [
       "\\begin{enumerate*}\n",
       "\\item '.GlobalEnv'\n",
       "\\item 'jupyter:irkernel'\n",
       "\\item 'package:stats'\n",
       "\\item 'package:graphics'\n",
       "\\item 'package:grDevices'\n",
       "\\item 'package:utils'\n",
       "\\item 'package:datasets'\n",
       "\\item 'package:methods'\n",
       "\\item 'Autoloads'\n",
       "\\item 'package:base'\n",
       "\\end{enumerate*}\n"
      ],
      "text/markdown": [
       "1. '.GlobalEnv'\n",
       "2. 'jupyter:irkernel'\n",
       "3. 'package:stats'\n",
       "4. 'package:graphics'\n",
       "5. 'package:grDevices'\n",
       "6. 'package:utils'\n",
       "7. 'package:datasets'\n",
       "8. 'package:methods'\n",
       "9. 'Autoloads'\n",
       "10. 'package:base'\n",
       "\n",
       "\n"
      ],
      "text/plain": [
       " [1] \".GlobalEnv\"        \"jupyter:irkernel\"  \"package:stats\"    \n",
       " [4] \"package:graphics\"  \"package:grDevices\" \"package:utils\"    \n",
       " [7] \"package:datasets\"  \"package:methods\"   \"Autoloads\"        \n",
       "[10] \"package:base\"     "
      ]
     },
     "metadata": {},
     "output_type": "display_data"
    }
   ],
   "source": [
    "# Get all packages currently loaded in the R environment\n",
    "search()"
   ]
  },
  {
   "cell_type": "code",
   "execution_count": 76,
   "metadata": {},
   "outputs": [
    {
     "name": "stdout",
     "output_type": "stream",
     "text": [
      "package 'XML' successfully unpacked and MD5 sums checked\n",
      "\n",
      "The downloaded binary packages are in\n",
      "\tC:\\Users\\wenad\\AppData\\Local\\Temp\\RtmpMzPkls\\downloaded_packages\n"
     ]
    }
   ],
   "source": [
    "# install new package called XML\n",
    "install.packages(\"XML\")"
   ]
  },
  {
   "cell_type": "markdown",
   "metadata": {},
   "source": [
    "## R Programming - Opening Files"
   ]
  },
  {
   "cell_type": "code",
   "execution_count": 88,
   "metadata": {},
   "outputs": [
    {
     "name": "stdout",
     "output_type": "stream",
     "text": [
      "   ï..Price Age    KM TuelType  HP MetColor Automatic   CC Doors Weight\n",
      "1     13500  23 46986   Diesel  90        1         0 2000     3   1165\n",
      "2     13750  23 72937   Diesel  90        1         0 2000     3   1165\n",
      "3     13950  24 41711   Diesel  90        1         0 2000     3   1165\n",
      "4     14950  26 48000   Diesel  90        0         0 2000     3   1165\n",
      "5     13750  30 38500   Diesel  90        0         0 2000     3   1170\n",
      "6     12950  32 61000   Diesel  90        0         0 2000     3   1170\n",
      "7     16900  27 94612   Diesel  90        1         0 2000     3   1245\n",
      "8     18600  30 75889   Diesel  90        1         0 2000     3   1245\n",
      "9     21500  27 19700   Petrol 192        0         0 1800     3   1185\n",
      "10    12950  23 71138   Diesel  69        0         0 1900     3   1105\n"
     ]
    }
   ],
   "source": [
    "data1 <- read.csv(\"R Data/R_Programming_csv_sample_data.csv\")\n",
    "print(data1)"
   ]
  },
  {
   "cell_type": "code",
   "execution_count": 89,
   "metadata": {},
   "outputs": [
    {
     "name": "stdout",
     "output_type": "stream",
     "text": [
      "[1] TRUE\n"
     ]
    }
   ],
   "source": [
    "print(is.data.frame(data1))"
   ]
  },
  {
   "cell_type": "code",
   "execution_count": 90,
   "metadata": {},
   "outputs": [
    {
     "name": "stdout",
     "output_type": "stream",
     "text": [
      "[1] 10\n",
      "[1] 10\n"
     ]
    }
   ],
   "source": [
    "print(nrow(data1))\n",
    "print(ncol(data1))"
   ]
  },
  {
   "cell_type": "code",
   "execution_count": 91,
   "metadata": {},
   "outputs": [
    {
     "name": "stdout",
     "output_type": "stream",
     "text": [
      "[1] 94612\n"
     ]
    }
   ],
   "source": [
    "print(max(data1$KM))"
   ]
  },
  {
   "cell_type": "code",
   "execution_count": 92,
   "metadata": {},
   "outputs": [
    {
     "name": "stdout",
     "output_type": "stream",
     "text": [
      "  ï..Price Age    KM TuelType HP MetColor Automatic   CC Doors Weight\n",
      "7    16900  27 94612   Diesel 90        1         0 2000     3   1245\n"
     ]
    }
   ],
   "source": [
    "maxDetails <- subset(data1, KM == max(KM))\n",
    "print(maxDetails)"
   ]
  },
  {
   "cell_type": "code",
   "execution_count": 93,
   "metadata": {},
   "outputs": [
    {
     "name": "stdout",
     "output_type": "stream",
     "text": [
      "  X ï..Price Age    KM TuelType HP MetColor Automatic   CC Doors Weight\n",
      "1 7    16900  27 94612   Diesel 90        1         0 2000     3   1245\n"
     ]
    }
   ],
   "source": [
    "write.csv(maxDetails, \"R Data/R_Programming_csv_write_data.csv\")\n",
    "newdata <- read.csv(\"R Data/R_Programming_csv_write_data.csv\")\n",
    "print(newdata)"
   ]
  },
  {
   "cell_type": "markdown",
   "metadata": {},
   "source": [
    "## R Programming - Plotting Pie Chart"
   ]
  },
  {
   "cell_type": "code",
   "execution_count": 94,
   "metadata": {},
   "outputs": [
    {
     "data": {
      "image/png": "[encoded data removed]",
      "text/plain": [
       "Plot with title \"Pie Chart of Fruits\""
      ]
     },
     "metadata": {},
     "output_type": "display_data"
    }
   ],
   "source": [
    "slices <- c(10, 12, 4, 16, 8)\n",
    "lbls <- c(\"Mango\", \"Orange\", \"Banana\", \"Jack\", \"Pine\")\n",
    "\n",
    "pie(slices, labels = lbls, main = \"Pie Chart of Fruits\")"
   ]
  },
  {
   "cell_type": "code",
   "execution_count": 97,
   "metadata": {},
   "outputs": [
    {
     "name": "stdout",
     "output_type": "stream",
     "text": [
      "package 'plotrix' successfully unpacked and MD5 sums checked\n",
      "\n",
      "The downloaded binary packages are in\n",
      "\tC:\\Users\\wenad\\AppData\\Local\\Temp\\RtmpMzPkls\\downloaded_packages\n"
     ]
    }
   ],
   "source": [
    "install.packages(\"plotrix\")"
   ]
  },
  {
   "cell_type": "code",
   "execution_count": 99,
   "metadata": {},
   "outputs": [
    {
     "data": {
      "image/png": "[encoded data removed]",
      "text/plain": [
       "Plot with title \"Pie Chart of Fruits\""
      ]
     },
     "metadata": {},
     "output_type": "display_data"
    }
   ],
   "source": [
    "# 3-D Pie Chart\n",
    "library(plotrix)\n",
    "\n",
    "slices <- c(10, 12, 4, 16, 8)\n",
    "lbls <- c(\"Mango\", \"Orange\", \"Banana\", \"Jack\", \"Pine\")\n",
    "\n",
    "pie3D(slices, labels = lbls, explode = 0.1, main = \"Pie Chart of Fruits\")  # It is pie3D."
   ]
  },
  {
   "cell_type": "markdown",
   "metadata": {},
   "source": [
    "## R Programming - Plotting Bar Chart"
   ]
  },
  {
   "cell_type": "code",
   "execution_count": 109,
   "metadata": {},
   "outputs": [
    {
     "data": {
      "image/png": "[encoded data removed]",
      "text/plain": [
       "Plot with title \"Car Distribution\""
      ]
     },
     "metadata": {},
     "output_type": "display_data"
    }
   ],
   "source": [
    "counts <- matrix(c(3, 4, 5, 15, 12, 5), nrow = 2, byrow = TRUE)\n",
    "counts <- table(counts)\n",
    "\n",
    "barplot(counts, main = \"Car Distribution\", xlab = \"Number of Grears\")"
   ]
  }
 ],
 "metadata": {
  "kernelspec": {
   "display_name": "R",
   "language": "R",
   "name": "ir"
  },
  "language_info": {
   "codemirror_mode": "r",
   "file_extension": ".r",
   "mimetype": "text/x-r-source",
   "name": "R",
   "pygments_lexer": "r",
   "version": "3.6.1"
  }
 },
 "nbformat": 4,
 "nbformat_minor": 2
}
