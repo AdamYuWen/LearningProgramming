{
 "cells": [
  {
   "cell_type": "markdown",
   "metadata": {},
   "source": [
    "# Notes for YouTube R Tutorials\n",
    "## R Programming\n",
    "https://www.youtube.com/watch?v=7076ZuAwUn8&list=PLWPirh4EWFpEvN4ktS8LE0cvLCSfhD55t&index=1"
   ]
  },
  {
   "cell_type": "markdown",
   "metadata": {},
   "source": [
    "## R Programming - Basic Syntax"
   ]
  },
  {
   "cell_type": "markdown",
   "metadata": {},
   "source": [
    "Calling \"R\" in terminal is using the R compiler."
   ]
  },
  {
   "cell_type": "markdown",
   "metadata": {},
   "source": [
    "## R Programming - Variables"
   ]
  },
  {
   "cell_type": "code",
   "execution_count": 1,
   "metadata": {},
   "outputs": [],
   "source": [
    "varx <- 5\n",
    "\n",
    "10 -> vary"
   ]
  },
  {
   "cell_type": "code",
   "execution_count": 2,
   "metadata": {},
   "outputs": [
    {
     "data": {
      "text/html": [
       "<ol class=list-inline>\n",
       "\t<li>'varx'</li>\n",
       "\t<li>'vary'</li>\n",
       "</ol>\n"
      ],
      "text/latex": [
       "\\begin{enumerate*}\n",
       "\\item 'varx'\n",
       "\\item 'vary'\n",
       "\\end{enumerate*}\n"
      ],
      "text/markdown": [
       "1. 'varx'\n",
       "2. 'vary'\n",
       "\n",
       "\n"
      ],
      "text/plain": [
       "[1] \"varx\" \"vary\""
      ]
     },
     "metadata": {},
     "output_type": "display_data"
    }
   ],
   "source": [
    "ls()  # List all variable names."
   ]
  },
  {
   "cell_type": "code",
   "execution_count": 3,
   "metadata": {},
   "outputs": [
    {
     "data": {
      "text/html": [
       "'vary'"
      ],
      "text/latex": [
       "'vary'"
      ],
      "text/markdown": [
       "'vary'"
      ],
      "text/plain": [
       "[1] \"vary\""
      ]
     },
     "metadata": {},
     "output_type": "display_data"
    }
   ],
   "source": [
    "rm(varx)  # Remove a variable.\n",
    "ls()"
   ]
  },
  {
   "cell_type": "markdown",
   "metadata": {},
   "source": [
    "## R Programming - Datatypes"
   ]
  },
  {
   "cell_type": "markdown",
   "metadata": {},
   "source": [
    "Matrices: A two dimensional Data Set.<br>\n",
    "Arrays: Multi-dimensional Data Set."
   ]
  },
  {
   "cell_type": "markdown",
   "metadata": {},
   "source": [
    "## R Programming - Decision Making"
   ]
  },
  {
   "cell_type": "code",
   "execution_count": 4,
   "metadata": {},
   "outputs": [
    {
     "data": {
      "text/html": [
       "TRUE"
      ],
      "text/latex": [
       "TRUE"
      ],
      "text/markdown": [
       "TRUE"
      ],
      "text/plain": [
       "[1] TRUE"
      ]
     },
     "metadata": {},
     "output_type": "display_data"
    }
   ],
   "source": [
    "varx <- TRUE\n",
    "isTRUE(varx)  # Check if a variable is TRUE."
   ]
  },
  {
   "cell_type": "markdown",
   "metadata": {},
   "source": [
    "## R Programming - Switch Statement"
   ]
  },
  {
   "cell_type": "code",
   "execution_count": 5,
   "metadata": {},
   "outputs": [
    {
     "name": "stdout",
     "output_type": "stream",
     "text": [
      "[1] \"fourth\"\n"
     ]
    }
   ],
   "source": [
    "# switch(expression, case1, case2, case3, ...)\n",
    "x <- switch(\n",
    "    4,\n",
    "    \"first\",\n",
    "    \"second\",\n",
    "    \"third\",\n",
    "    \"fourth\"\n",
    ")\n",
    "\n",
    "print(x)"
   ]
  },
  {
   "cell_type": "markdown",
   "metadata": {},
   "source": [
    "## R Programming - for Loop"
   ]
  },
  {
   "cell_type": "code",
   "execution_count": 6,
   "metadata": {},
   "outputs": [
    {
     "name": "stdout",
     "output_type": "stream",
     "text": [
      "[1] \"A\"\n",
      "[1] \"B\"\n",
      "[1] \"C\"\n",
      "[1] \"D\"\n",
      "[1] \"E\"\n",
      "[1] \"F\"\n",
      "[1] \"G\"\n"
     ]
    }
   ],
   "source": [
    "x <- LETTERS[1:7]\n",
    "\n",
    "for (i in x) {\n",
    "    print(i)\n",
    "}"
   ]
  },
  {
   "cell_type": "markdown",
   "metadata": {},
   "source": [
    "## R Programming - While Loop"
   ]
  },
  {
   "cell_type": "code",
   "execution_count": 7,
   "metadata": {},
   "outputs": [
    {
     "name": "stdout",
     "output_type": "stream",
     "text": [
      "[1] \"while loop\"\n",
      "[1] \"while loop\"\n"
     ]
    }
   ],
   "source": [
    "values <- c(\"while loop\")\n",
    "count <- 5\n",
    "\n",
    "while (count < 7) {\n",
    "    print(values)\n",
    "    count <- count + 1\n",
    "}"
   ]
  },
  {
   "cell_type": "markdown",
   "metadata": {},
   "source": [
    "## R Programming - Repeat Loop"
   ]
  },
  {
   "cell_type": "code",
   "execution_count": 8,
   "metadata": {},
   "outputs": [
    {
     "name": "stdout",
     "output_type": "stream",
     "text": [
      "[1] \"Hello World\"\n",
      "[1] \"Hello World\"\n",
      "[1] \"Hello World\"\n",
      "[1] \"Hello World\"\n",
      "[1] \"Hello World\"\n",
      "[1] \"Hello World\"\n"
     ]
    }
   ],
   "source": [
    "x <- c(\"Hello World\")\n",
    "count <- 2\n",
    "\n",
    "repeat {\n",
    "    print(x)\n",
    "    count <- count + 1\n",
    "    \n",
    "    if (count > 7) {\n",
    "        break\n",
    "    }\n",
    "}"
   ]
  },
  {
   "cell_type": "markdown",
   "metadata": {},
   "source": [
    "## R Programming - Array"
   ]
  },
  {
   "cell_type": "code",
   "execution_count": 9,
   "metadata": {},
   "outputs": [
    {
     "name": "stdout",
     "output_type": "stream",
     "text": [
      ", , 1\n",
      "\n",
      "     [,1] [,2] [,3]\n",
      "[1,]    6   10   43\n",
      "[2,]    2   16   15\n",
      "[3,]    1   22   25\n",
      "\n",
      ", , 2\n",
      "\n",
      "     [,1] [,2] [,3]\n",
      "[1,]    6   10   43\n",
      "[2,]    2   16   15\n",
      "[3,]    1   22   25\n",
      "\n"
     ]
    }
   ],
   "source": [
    "vector1 <- c(6, 2, 1)\n",
    "vector2 <- c(10, 16, 22, 43, 15, 25)\n",
    "\n",
    "result <- array(c(vector1, vector2), dim = c(3, 3, 2))\n",
    "print(result)"
   ]
  },
  {
   "cell_type": "markdown",
   "metadata": {},
   "source": [
    "## R Programming - Functions"
   ]
  },
  {
   "cell_type": "code",
   "execution_count": 10,
   "metadata": {},
   "outputs": [
    {
     "name": "stdout",
     "output_type": "stream",
     "text": [
      "[1] 2\n",
      "[1] 4\n",
      "[1] 6\n"
     ]
    }
   ],
   "source": [
    "aFunc <- function(a) {\n",
    "    for (i in 1:a) {\n",
    "        b <- i * 2\n",
    "        print(b)\n",
    "    }\n",
    "}\n",
    "\n",
    "aFunc(3)"
   ]
  },
  {
   "cell_type": "markdown",
   "metadata": {},
   "source": [
    "## R Programming - Strings\n",
    "\"Hello\" or 'hello'"
   ]
  },
  {
   "cell_type": "code",
   "execution_count": 11,
   "metadata": {},
   "outputs": [
    {
     "name": "stdout",
     "output_type": "stream",
     "text": [
      "[1] \"Hello man How are you feeling?\"\n"
     ]
    }
   ],
   "source": [
    "abc <- \"Hello man\"\n",
    "def <- 'How'\n",
    "hij <- \"are you feeling?\"\n",
    "\n",
    "print(paste(abc, def, hij))  # By default, sep = \" \""
   ]
  },
  {
   "cell_type": "code",
   "execution_count": 12,
   "metadata": {},
   "outputs": [
    {
     "name": "stdout",
     "output_type": "stream",
     "text": [
      "[1] \"Hello man-How-are you feeling?\"\n"
     ]
    }
   ],
   "source": [
    "print(paste(abc, def, hij, sep = \"-\"))"
   ]
  },
  {
   "cell_type": "code",
   "execution_count": 13,
   "metadata": {},
   "outputs": [
    {
     "name": "stdout",
     "output_type": "stream",
     "text": [
      "[1] \"Hello manHoware you feeling?\"\n"
     ]
    }
   ],
   "source": [
    "print(paste(abc, def, hij, sep = \"\"))"
   ]
  },
  {
   "cell_type": "code",
   "execution_count": 14,
   "metadata": {},
   "outputs": [
    {
     "name": "stdout",
     "output_type": "stream",
     "text": [
      "[1] \"Hello manHoware you feeling?\"\n"
     ]
    }
   ],
   "source": [
    "print(paste(abc, def, hij, sep = \"\", collapse = \"\"))"
   ]
  },
  {
   "cell_type": "markdown",
   "metadata": {},
   "source": [
    "## R Programming - List"
   ]
  },
  {
   "cell_type": "code",
   "execution_count": 15,
   "metadata": {},
   "outputs": [
    {
     "name": "stdout",
     "output_type": "stream",
     "text": [
      "[[1]]\n",
      "[1] \"Red\"\n",
      "\n",
      "[[2]]\n",
      "[1] \"Green\"\n",
      "\n",
      "[[3]]\n",
      "[1] 21 32 11\n",
      "\n",
      "[[4]]\n",
      "[1] TRUE\n",
      "\n",
      "[[5]]\n",
      "[1] 51.23\n",
      "\n",
      "[[6]]\n",
      "[1] 119.1\n",
      "\n"
     ]
    }
   ],
   "source": [
    "list_data <- list(\"Red\", \"Green\", c(21, 32, 11), TRUE, 51.23, 119.1)\n",
    "print(list_data)"
   ]
  },
  {
   "cell_type": "code",
   "execution_count": 16,
   "metadata": {},
   "outputs": [
    {
     "name": "stdout",
     "output_type": "stream",
     "text": [
      "$`1st Quarter`\n",
      "[1] \"Red\"\n",
      "\n",
      "$A_Matrix\n",
      "[1] \"Green\"\n",
      "\n",
      "$`A Inner list`\n",
      "[1] 21 32 11\n",
      "\n",
      "$<NA>\n",
      "[1] TRUE\n",
      "\n",
      "$<NA>\n",
      "[1] 51.23\n",
      "\n",
      "$<NA>\n",
      "[1] 119.1\n",
      "\n"
     ]
    }
   ],
   "source": [
    "names(list_data) <- c(\"1st Quarter\", \"A_Matrix\", \"A Inner list\")  # NA for un-named elements\n",
    "print(list_data)"
   ]
  },
  {
   "cell_type": "code",
   "execution_count": 17,
   "metadata": {},
   "outputs": [
    {
     "name": "stdout",
     "output_type": "stream",
     "text": [
      "$`1st Quarter`\n",
      "[1] \"Red\"\n",
      "\n",
      "$A_Matrix\n",
      "[1] \"Green\"\n",
      "\n",
      "$`A Inner list`\n",
      "[1] 21 32 11\n",
      "\n",
      "$<NA>\n",
      "[1] TRUE\n",
      "\n",
      "$x\n",
      "[1] 42\n",
      "\n",
      "$<NA>\n",
      "[1] 51.23\n",
      "\n",
      "$<NA>\n",
      "[1] 119.1\n",
      "\n"
     ]
    }
   ],
   "source": [
    "list_data = append(list_data, list(x = 42), 4)  # \"x\" is the variable name.\n",
    "print(list_data)"
   ]
  },
  {
   "cell_type": "code",
   "execution_count": 18,
   "metadata": {},
   "outputs": [
    {
     "name": "stdout",
     "output_type": "stream",
     "text": [
      "$`1st Quarter`\n",
      "[1] \"Red\"\n",
      "\n",
      "$A_Matrix\n",
      "[1] \"Green\"\n",
      "\n",
      "$`A Inner list`\n",
      "[1] 21 32 11\n",
      "\n",
      "$<NA>\n",
      "[1] TRUE\n",
      "\n",
      "$x\n",
      "[1] 42\n",
      "\n",
      "$<NA>\n",
      "[1] 51.23\n",
      "\n",
      "$<NA>\n",
      "[1] 119.1\n",
      "\n",
      "$`New element`\n",
      "[1] \"New element\"\n",
      "\n"
     ]
    }
   ],
   "source": [
    "list_data[[\"New element\"]] <- \"New element\"\n",
    "print(list_data)"
   ]
  },
  {
   "cell_type": "code",
   "execution_count": 19,
   "metadata": {},
   "outputs": [
    {
     "name": "stdout",
     "output_type": "stream",
     "text": [
      "$`1st Quarter`\n",
      "[1] \"Red\"\n",
      "\n",
      "$A_Matrix\n",
      "[1] \"Green\"\n",
      "\n",
      "$`A Inner list`\n",
      "[1] 21 32 11\n",
      "\n",
      "$<NA>\n",
      "[1] \"Update element\"\n",
      "\n",
      "$x\n",
      "[1] 42\n",
      "\n",
      "$<NA>\n",
      "[1] 51.23\n",
      "\n",
      "$<NA>\n",
      "[1] 119.1\n",
      "\n",
      "$`New element`\n",
      "[1] \"New element\"\n",
      "\n"
     ]
    }
   ],
   "source": [
    "# Update element at some position in the list.\n",
    "list_data[4] <- \"Update element\"\n",
    "print(list_data)"
   ]
  },
  {
   "cell_type": "code",
   "execution_count": 20,
   "metadata": {},
   "outputs": [
    {
     "name": "stdout",
     "output_type": "stream",
     "text": [
      "$`1st Quarter`\n",
      "[1] \"Red\"\n",
      "\n",
      "$A_Matrix\n",
      "[1] \"Green\"\n",
      "\n",
      "$`A Inner list`\n",
      "[1] 21 32 11\n",
      "\n",
      "$x\n",
      "[1] 42\n",
      "\n",
      "$<NA>\n",
      "[1] 51.23\n",
      "\n",
      "$<NA>\n",
      "[1] 119.1\n",
      "\n",
      "$`New element`\n",
      "[1] \"New element\"\n",
      "\n"
     ]
    }
   ],
   "source": [
    "# Remove the element\n",
    "list_data[4] <- NULL\n",
    "print(list_data)"
   ]
  },
  {
   "cell_type": "markdown",
   "metadata": {},
   "source": [
    "## R Programming - Matrix\n",
    "matrix(data, nrow, ncol, byrow, dimnames)"
   ]
  },
  {
   "cell_type": "markdown",
   "metadata": {},
   "source": [
    "## R Programming - Factors"
   ]
  },
  {
   "cell_type": "code",
   "execution_count": 21,
   "metadata": {},
   "outputs": [
    {
     "name": "stdout",
     "output_type": "stream",
     "text": [
      " [1] abc abc abc abc def def def def asc asc asc asc\n",
      "Levels: abc def asc\n"
     ]
    }
   ],
   "source": [
    "# generate factor levels\n",
    "# 3 is an integer giving the number of levels\n",
    "# 4 is an integer giving the number of replications\n",
    "\n",
    "v <- gl(3, 4, labels = c(\"abc\", \"def\", \"asc\"))  # 3 levels and each level repeat 4 times.\n",
    "print(v)"
   ]
  },
  {
   "cell_type": "markdown",
   "metadata": {},
   "source": [
    "## R Programming - Data Frames"
   ]
  },
  {
   "cell_type": "code",
   "execution_count": 22,
   "metadata": {},
   "outputs": [
    {
     "name": "stdout",
     "output_type": "stream",
     "text": [
      "  employee_id employee_name salary\n",
      "1           1           raj  63003\n",
      "2           2         rohit  51502\n",
      "3           3          amit  61002\n",
      "4           4         sahil  44440\n"
     ]
    }
   ],
   "source": [
    "employee.data <- data.frame(\n",
    "    employee_id = c(1:4),\n",
    "    employee_name = c(\"raj\", \"rohit\", \"amit\", \"sahil\"),\n",
    "    salary = c(63003, 51502, 61002, 44440),\n",
    "    stringsAsFactors = FALSE\n",
    ")\n",
    "\n",
    "print(employee.data)"
   ]
  },
  {
   "cell_type": "code",
   "execution_count": 23,
   "metadata": {},
   "outputs": [
    {
     "name": "stdout",
     "output_type": "stream",
     "text": [
      "'data.frame':\t4 obs. of  3 variables:\n",
      " $ employee_id  : int  1 2 3 4\n",
      " $ employee_name: chr  \"raj\" \"rohit\" \"amit\" \"sahil\"\n",
      " $ salary       : num  63003 51502 61002 44440\n"
     ]
    }
   ],
   "source": [
    "str(employee.data)"
   ]
  },
  {
   "cell_type": "code",
   "execution_count": 24,
   "metadata": {},
   "outputs": [
    {
     "data": {
      "text/plain": [
       "  employee_id   employee_name          salary     \n",
       " Min.   :1.00   Length:4           Min.   :44440  \n",
       " 1st Qu.:1.75   Class :character   1st Qu.:49737  \n",
       " Median :2.50   Mode  :character   Median :56252  \n",
       " Mean   :2.50                      Mean   :54987  \n",
       " 3rd Qu.:3.25                      3rd Qu.:61502  \n",
       " Max.   :4.00                      Max.   :63003  "
      ]
     },
     "metadata": {},
     "output_type": "display_data"
    }
   ],
   "source": [
    "summary(employee.data)"
   ]
  },
  {
   "cell_type": "code",
   "execution_count": 25,
   "metadata": {},
   "outputs": [
    {
     "name": "stdout",
     "output_type": "stream",
     "text": [
      "  employee_id employee_name salary department\n",
      "1           1           raj  63003    Network\n",
      "2           2         rohit  51502   Software\n",
      "3           3          amit  61002     Mobile\n",
      "4           4         sahil  44440        Web\n"
     ]
    }
   ],
   "source": [
    "# adding column\n",
    "employee.data$department <- c(\"Network\", \"Software\", \"Mobile\", \"Web\")\n",
    "print(employee.data)"
   ]
  },
  {
   "cell_type": "markdown",
   "metadata": {},
   "source": [
    "## R Programming - Packages"
   ]
  },
  {
   "cell_type": "code",
   "execution_count": 26,
   "metadata": {},
   "outputs": [
    {
     "data": {
      "text/html": [
       "'C:/Users/yu_wen/AppData/Local/Continuum/anaconda3/Lib/R/library'"
      ],
      "text/latex": [
       "'C:/Users/yu\\_wen/AppData/Local/Continuum/anaconda3/Lib/R/library'"
      ],
      "text/markdown": [
       "'C:/Users/yu_wen/AppData/Local/Continuum/anaconda3/Lib/R/library'"
      ],
      "text/plain": [
       "[1] \"C:/Users/yu_wen/AppData/Local/Continuum/anaconda3/Lib/R/library\""
      ]
     },
     "metadata": {},
     "output_type": "display_data"
    }
   ],
   "source": [
    "# Get library locations that contain R packages\n",
    ".libPaths()"
   ]
  },
  {
   "cell_type": "code",
   "execution_count": 27,
   "metadata": {},
   "outputs": [],
   "source": [
    "# Get the list of all the packages installed\n",
    "library()"
   ]
  },
  {
   "cell_type": "code",
   "execution_count": 28,
   "metadata": {},
   "outputs": [
    {
     "data": {
      "text/html": [
       "<ol class=list-inline>\n",
       "\t<li>'.GlobalEnv'</li>\n",
       "\t<li>'jupyter:irkernel'</li>\n",
       "\t<li>'package:stats'</li>\n",
       "\t<li>'package:graphics'</li>\n",
       "\t<li>'package:grDevices'</li>\n",
       "\t<li>'package:utils'</li>\n",
       "\t<li>'package:datasets'</li>\n",
       "\t<li>'package:methods'</li>\n",
       "\t<li>'Autoloads'</li>\n",
       "\t<li>'package:base'</li>\n",
       "</ol>\n"
      ],
      "text/latex": [
       "\\begin{enumerate*}\n",
       "\\item '.GlobalEnv'\n",
       "\\item 'jupyter:irkernel'\n",
       "\\item 'package:stats'\n",
       "\\item 'package:graphics'\n",
       "\\item 'package:grDevices'\n",
       "\\item 'package:utils'\n",
       "\\item 'package:datasets'\n",
       "\\item 'package:methods'\n",
       "\\item 'Autoloads'\n",
       "\\item 'package:base'\n",
       "\\end{enumerate*}\n"
      ],
      "text/markdown": [
       "1. '.GlobalEnv'\n",
       "2. 'jupyter:irkernel'\n",
       "3. 'package:stats'\n",
       "4. 'package:graphics'\n",
       "5. 'package:grDevices'\n",
       "6. 'package:utils'\n",
       "7. 'package:datasets'\n",
       "8. 'package:methods'\n",
       "9. 'Autoloads'\n",
       "10. 'package:base'\n",
       "\n",
       "\n"
      ],
      "text/plain": [
       " [1] \".GlobalEnv\"        \"jupyter:irkernel\"  \"package:stats\"    \n",
       " [4] \"package:graphics\"  \"package:grDevices\" \"package:utils\"    \n",
       " [7] \"package:datasets\"  \"package:methods\"   \"Autoloads\"        \n",
       "[10] \"package:base\"     "
      ]
     },
     "metadata": {},
     "output_type": "display_data"
    }
   ],
   "source": [
    "# Get all packages currently loaded in the R environment\n",
    "search()"
   ]
  },
  {
   "cell_type": "code",
   "execution_count": 29,
   "metadata": {},
   "outputs": [],
   "source": [
    "# install new package called XML\n",
    "# install.packages(\"XML\")"
   ]
  },
  {
   "cell_type": "markdown",
   "metadata": {},
   "source": [
    "## R Programming - Opening Files"
   ]
  },
  {
   "cell_type": "code",
   "execution_count": 30,
   "metadata": {},
   "outputs": [
    {
     "name": "stdout",
     "output_type": "stream",
     "text": [
      "   ï..Price Age    KM TuelType  HP MetColor Automatic   CC Doors Weight\n",
      "1     13500  23 46986   Diesel  90        1         0 2000     3   1165\n",
      "2     13750  23 72937   Diesel  90        1         0 2000     3   1165\n",
      "3     13950  24 41711   Diesel  90        1         0 2000     3   1165\n",
      "4     14950  26 48000   Diesel  90        0         0 2000     3   1165\n",
      "5     13750  30 38500   Diesel  90        0         0 2000     3   1170\n",
      "6     12950  32 61000   Diesel  90        0         0 2000     3   1170\n",
      "7     16900  27 94612   Diesel  90        1         0 2000     3   1245\n",
      "8     18600  30 75889   Diesel  90        1         0 2000     3   1245\n",
      "9     21500  27 19700   Petrol 192        0         0 1800     3   1185\n",
      "10    12950  23 71138   Diesel  69        0         0 1900     3   1105\n"
     ]
    }
   ],
   "source": [
    "data1 <- read.csv(\"R Data/R_Programming_csv_sample_data.csv\")\n",
    "print(data1)"
   ]
  },
  {
   "cell_type": "code",
   "execution_count": 31,
   "metadata": {},
   "outputs": [
    {
     "name": "stdout",
     "output_type": "stream",
     "text": [
      "[1] TRUE\n"
     ]
    }
   ],
   "source": [
    "print(is.data.frame(data1))"
   ]
  },
  {
   "cell_type": "code",
   "execution_count": 32,
   "metadata": {},
   "outputs": [
    {
     "name": "stdout",
     "output_type": "stream",
     "text": [
      "[1] 10\n",
      "[1] 10\n"
     ]
    }
   ],
   "source": [
    "print(nrow(data1))\n",
    "print(ncol(data1))"
   ]
  },
  {
   "cell_type": "code",
   "execution_count": 33,
   "metadata": {},
   "outputs": [
    {
     "name": "stdout",
     "output_type": "stream",
     "text": [
      "[1] 94612\n"
     ]
    }
   ],
   "source": [
    "print(max(data1$KM))"
   ]
  },
  {
   "cell_type": "code",
   "execution_count": 34,
   "metadata": {},
   "outputs": [
    {
     "name": "stdout",
     "output_type": "stream",
     "text": [
      "  ï..Price Age    KM TuelType HP MetColor Automatic   CC Doors Weight\n",
      "7    16900  27 94612   Diesel 90        1         0 2000     3   1245\n"
     ]
    }
   ],
   "source": [
    "maxDetails <- subset(data1, KM == max(KM))\n",
    "print(maxDetails)"
   ]
  },
  {
   "cell_type": "code",
   "execution_count": 35,
   "metadata": {},
   "outputs": [
    {
     "name": "stdout",
     "output_type": "stream",
     "text": [
      "  X ï..Price Age    KM TuelType HP MetColor Automatic   CC Doors Weight\n",
      "1 7    16900  27 94612   Diesel 90        1         0 2000     3   1245\n"
     ]
    }
   ],
   "source": [
    "write.csv(maxDetails, \"R Data/ R_Programming_csv_write_data.csv\")\n",
    "newdata <- read.csv(\"R Data/ R_Programming_csv_write_data.csv\")\n",
    "print(newdata)"
   ]
  },
  {
   "cell_type": "markdown",
   "metadata": {},
   "source": [
    "## R Programming - Plotting Pie Chart"
   ]
  },
  {
   "cell_type": "code",
   "execution_count": 36,
   "metadata": {},
   "outputs": [],
   "source": [
    "library(repr)\n",
    "\n",
    "# Change plot size to 4 x 3\n",
    "options(repr.plot.width = 4, repr.plot.height = 3)"
   ]
  },
  {
   "cell_type": "code",
   "execution_count": 37,
   "metadata": {},
   "outputs": [
    {
     "data": {
      "image/png": "[encoded data removed]",
      "text/plain": [
       "Plot with title \"Pie Chart of Fruits\""
      ]
     },
     "metadata": {},
     "output_type": "display_data"
    }
   ],
   "source": [
    "slices <- c(10, 12, 4, 16, 8)\n",
    "lbls <- c(\"Mango\", \"Orange\", \"Banana\", \"Jack\", \"Pine\")\n",
    "\n",
    "pie(slices, labels = lbls, main = \"Pie Chart of Fruits\")"
   ]
  },
  {
   "cell_type": "code",
   "execution_count": 38,
   "metadata": {},
   "outputs": [],
   "source": [
    "# install.packages(\"plotrix\")"
   ]
  },
  {
   "cell_type": "code",
   "execution_count": 39,
   "metadata": {},
   "outputs": [
    {
     "name": "stderr",
     "output_type": "stream",
     "text": [
      "Warning message:\n",
      "\"package 'plotrix' was built under R version 3.6.3\""
     ]
    },
    {
     "data": {
      "image/png": "[encoded data removed]",
      "text/plain": [
       "Plot with title \"Pie Chart of Fruits\""
      ]
     },
     "metadata": {},
     "output_type": "display_data"
    }
   ],
   "source": [
    "# 3-D Pie Chart\n",
    "library(plotrix)\n",
    "\n",
    "slices <- c(10, 12, 4, 16, 8)\n",
    "lbls <- c(\"Mango\", \"Orange\", \"Banana\", \"Jack\", \"Pine\")\n",
    "\n",
    "pie3D(slices, labels = lbls, explode = 0.1, main = \"Pie Chart of Fruits\")  # It is pie3D."
   ]
  },
  {
   "cell_type": "markdown",
   "metadata": {},
   "source": [
    "## R Programming - Plotting Bar Chart"
   ]
  },
  {
   "cell_type": "code",
   "execution_count": 40,
   "metadata": {
    "scrolled": false
   },
   "outputs": [
    {
     "data": {
      "image/png": "[encoded data removed]",
      "text/plain": [
       "plot without title"
      ]
     },
     "metadata": {},
     "output_type": "display_data"
    }
   ],
   "source": [
    "counts <- c(7, 12, 28, 3, 41)\n",
    "\n",
    "barplot(counts)"
   ]
  },
  {
   "cell_type": "markdown",
   "metadata": {},
   "source": [
    "## R Programming - Plotting Boxplots"
   ]
  },
  {
   "cell_type": "code",
   "execution_count": 41,
   "metadata": {},
   "outputs": [
    {
     "name": "stdout",
     "output_type": "stream",
     "text": [
      "                   mpg cyl\n",
      "Mazda RX4         21.0   6\n",
      "Mazda RX4 Wag     21.0   6\n",
      "Datsun 710        22.8   4\n",
      "Hornet 4 Drive    21.4   6\n",
      "Hornet Sportabout 18.7   8\n",
      "Valiant           18.1   6\n"
     ]
    }
   ],
   "source": [
    "input <- mtcars[,c('mpg','cyl')]\n",
    "print(head(input))"
   ]
  },
  {
   "cell_type": "code",
   "execution_count": 42,
   "metadata": {},
   "outputs": [
    {
     "data": {
      "image/png": "[encoded data removed]",
      "text/plain": [
       "Plot with title \"Mileage Data\""
      ]
     },
     "metadata": {},
     "output_type": "display_data"
    }
   ],
   "source": [
    "boxplot(mpg ~ cyl, data = mtcars, xlab = \"Number of Cylinders\",\n",
    "        ylab = \"Miles Per Gallon\", main = \"Mileage Data\")"
   ]
  },
  {
   "cell_type": "markdown",
   "metadata": {},
   "source": [
    "## R Programming - Plotting Histogram"
   ]
  },
  {
   "cell_type": "code",
   "execution_count": 43,
   "metadata": {},
   "outputs": [
    {
     "data": {
      "image/png": "[encoded data removed]",
      "text/plain": [
       "Plot with title \"Histogram of mtcars$mpg\""
      ]
     },
     "metadata": {},
     "output_type": "display_data"
    }
   ],
   "source": [
    "hist(mtcars$mpg, col = \"red\")"
   ]
  },
  {
   "cell_type": "markdown",
   "metadata": {},
   "source": [
    "## R Programming - Plotting Line Graphs"
   ]
  },
  {
   "cell_type": "code",
   "execution_count": 44,
   "metadata": {},
   "outputs": [
    {
     "data": {
      "image/png": "[encoded data removed]",
      "text/plain": [
       "Plot with title \"Rain fall chart\""
      ]
     },
     "metadata": {},
     "output_type": "display_data"
    }
   ],
   "source": [
    "v <- c(7,12,28,3,41)\n",
    "t <- c(14,7,6,19,3)\n",
    "\n",
    "plot(v, type = \"o\", col = \"red\", xlab = \"Month\", ylab = \"Rain fall\", \n",
    "     main = \"Rain fall chart\")\n",
    "\n",
    "lines(t, type = \"o\", col = \"blue\")"
   ]
  },
  {
   "cell_type": "markdown",
   "metadata": {},
   "source": [
    "## R Programming - Plotting Scatterplots"
   ]
  },
  {
   "cell_type": "code",
   "execution_count": 45,
   "metadata": {},
   "outputs": [
    {
     "data": {
      "image/png": "[encoded data removed]",
      "text/plain": [
       "Plot with title \"Weight vs Milage\""
      ]
     },
     "metadata": {},
     "output_type": "display_data"
    }
   ],
   "source": [
    "input <- mtcars[,c('wt','mpg')]\n",
    "\n",
    "# Plot the chart for cars with weight between 2.5 to 5 and mileage between 15 and 30.\n",
    "plot(x = input$wt,y = input$mpg,\n",
    "   xlab = \"Weight\",\n",
    "   ylab = \"Milage\",\n",
    "   xlim = c(2.5,5),\n",
    "   ylim = c(15,30),\n",
    "   main = \"Weight vs Milage\"\n",
    ")"
   ]
  },
  {
   "cell_type": "markdown",
   "metadata": {},
   "source": [
    "## R Programming - Mean, Median & Mode"
   ]
  },
  {
   "cell_type": "code",
   "execution_count": 46,
   "metadata": {},
   "outputs": [
    {
     "name": "stdout",
     "output_type": "stream",
     "text": [
      " [1]  4  4  7  7  8  9 10 10 10 11 11 12 12 12 12 13 13 13 13 14 14 14 14 15 15\n",
      "[26] 15 16 16 17 17 17 18 18 18 18 19 19 19 20 20 20 20 20 22 23 24 24 24 24 25\n"
     ]
    }
   ],
   "source": [
    "x <- cars$speed\n",
    "print(x)"
   ]
  },
  {
   "cell_type": "code",
   "execution_count": 47,
   "metadata": {},
   "outputs": [
    {
     "data": {
      "text/html": [
       "15.4"
      ],
      "text/latex": [
       "15.4"
      ],
      "text/markdown": [
       "15.4"
      ],
      "text/plain": [
       "[1] 15.4"
      ]
     },
     "metadata": {},
     "output_type": "display_data"
    }
   ],
   "source": [
    "mean(x)"
   ]
  },
  {
   "cell_type": "code",
   "execution_count": 48,
   "metadata": {},
   "outputs": [
    {
     "data": {
      "text/html": [
       "15"
      ],
      "text/latex": [
       "15"
      ],
      "text/markdown": [
       "15"
      ],
      "text/plain": [
       "[1] 15"
      ]
     },
     "metadata": {},
     "output_type": "display_data"
    }
   ],
   "source": [
    "median(x)"
   ]
  },
  {
   "cell_type": "markdown",
   "metadata": {},
   "source": [
    "## R Programming - Linear Regression"
   ]
  },
  {
   "cell_type": "code",
   "execution_count": 49,
   "metadata": {},
   "outputs": [
    {
     "name": "stdout",
     "output_type": "stream",
     "text": [
      "\n",
      "Call:\n",
      "lm(formula = y ~ x)\n",
      "\n",
      "Coefficients:\n",
      "(Intercept)            x  \n",
      "   -38.4551       0.6746  \n",
      "\n"
     ]
    }
   ],
   "source": [
    "x <- c(151, 174, 138, 186, 128, 136, 179, 163, 152, 131)\n",
    "y <- c(63, 81, 56, 91, 47, 57, 76, 72, 62, 48)\n",
    "\n",
    "# Apply the lm() function.\n",
    "relation <- lm(y~x)\n",
    "\n",
    "print(relation)"
   ]
  },
  {
   "cell_type": "code",
   "execution_count": 50,
   "metadata": {},
   "outputs": [
    {
     "data": {
      "text/plain": [
       "\n",
       "Call:\n",
       "lm(formula = y ~ x)\n",
       "\n",
       "Residuals:\n",
       "    Min      1Q  Median      3Q     Max \n",
       "-6.3002 -1.6629  0.0412  1.8944  3.9775 \n",
       "\n",
       "Coefficients:\n",
       "             Estimate Std. Error t value Pr(>|t|)    \n",
       "(Intercept) -38.45509    8.04901  -4.778  0.00139 ** \n",
       "x             0.67461    0.05191  12.997 1.16e-06 ***\n",
       "---\n",
       "Signif. codes:  0 '***' 0.001 '**' 0.01 '*' 0.05 '.' 0.1 ' ' 1\n",
       "\n",
       "Residual standard error: 3.253 on 8 degrees of freedom\n",
       "Multiple R-squared:  0.9548,\tAdjusted R-squared:  0.9491 \n",
       "F-statistic: 168.9 on 1 and 8 DF,  p-value: 1.164e-06\n"
      ]
     },
     "metadata": {},
     "output_type": "display_data"
    }
   ],
   "source": [
    "summary(relation)"
   ]
  },
  {
   "cell_type": "code",
   "execution_count": 51,
   "metadata": {},
   "outputs": [
    {
     "name": "stdout",
     "output_type": "stream",
     "text": [
      "       1 \n",
      "76.22869 \n"
     ]
    }
   ],
   "source": [
    "# Find weight of a person with height 170.\n",
    "a <- data.frame(x = 170)\n",
    "result <-  predict(relation,a)\n",
    "print(result)"
   ]
  }
 ],
 "metadata": {
  "kernelspec": {
   "display_name": "R",
   "language": "R",
   "name": "ir"
  },
  "language_info": {
   "codemirror_mode": "r",
   "file_extension": ".r",
   "mimetype": "text/x-r-source",
   "name": "R",
   "pygments_lexer": "r",
   "version": "3.6.1"
  }
 },
 "nbformat": 4,
 "nbformat_minor": 2
}
