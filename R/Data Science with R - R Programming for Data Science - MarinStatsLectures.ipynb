{
 "cells": [
  {
   "cell_type": "markdown",
   "metadata": {},
   "source": [
    "# Notes for YouTube R Tutorials\n",
    "## Data Science with R - R Programming for Data Science - MarinStatsLectures\n",
    "https://www.youtube.com/watch?v=riONFzJdXcs&list=PLqzoL9-eJTNDw71zWePXyHx3_cm_fMP8S"
   ]
  },
  {
   "cell_type": "markdown",
   "metadata": {},
   "source": [
    "## Getting started with R: Basic Arithmetic and Coding in R | R Tutorial 1.3 | MarinStatsLectures"
   ]
  },
  {
   "cell_type": "code",
   "execution_count": 1,
   "metadata": {},
   "outputs": [
    {
     "data": {
      "text/html": [
       "<ol class=list-inline>\n",
       "\t<li>'x'</li>\n",
       "\t<li>'y'</li>\n",
       "</ol>\n"
      ],
      "text/latex": [
       "\\begin{enumerate*}\n",
       "\\item 'x'\n",
       "\\item 'y'\n",
       "\\end{enumerate*}\n"
      ],
      "text/markdown": [
       "1. 'x'\n",
       "2. 'y'\n",
       "\n",
       "\n"
      ],
      "text/plain": [
       "[1] \"x\" \"y\""
      ]
     },
     "metadata": {},
     "output_type": "display_data"
    }
   ],
   "source": [
    "x = 11\n",
    "y <- 9\n",
    "\n",
    "ls()  # List all variables."
   ]
  },
  {
   "cell_type": "code",
   "execution_count": 2,
   "metadata": {},
   "outputs": [
    {
     "data": {
      "text/html": [
       "'x'"
      ],
      "text/latex": [
       "'x'"
      ],
      "text/markdown": [
       "'x'"
      ],
      "text/plain": [
       "[1] \"x\""
      ]
     },
     "metadata": {},
     "output_type": "display_data"
    }
   ],
   "source": [
    "rm(y)  # Remove a variable\n",
    "ls()"
   ]
  },
  {
   "cell_type": "code",
   "execution_count": 3,
   "metadata": {},
   "outputs": [
    {
     "data": {
      "text/html": [
       "2.39789527279837"
      ],
      "text/latex": [
       "2.39789527279837"
      ],
      "text/markdown": [
       "2.39789527279837"
      ],
      "text/plain": [
       "[1] 2.397895"
      ]
     },
     "metadata": {},
     "output_type": "display_data"
    }
   ],
   "source": [
    "log(x)  # Natural log"
   ]
  },
  {
   "cell_type": "code",
   "execution_count": 4,
   "metadata": {},
   "outputs": [
    {
     "data": {
      "text/html": [
       "3.4594316186373"
      ],
      "text/latex": [
       "3.4594316186373"
      ],
      "text/markdown": [
       "3.4594316186373"
      ],
      "text/plain": [
       "[1] 3.459432"
      ]
     },
     "metadata": {},
     "output_type": "display_data"
    }
   ],
   "source": [
    "log2(x)"
   ]
  },
  {
   "cell_type": "markdown",
   "metadata": {},
   "source": [
    "# Create and Work with Vectors and Matrices in R | R Tutorial 1.4 | MarinStatslectures"
   ]
  },
  {
   "cell_type": "code",
   "execution_count": 5,
   "metadata": {},
   "outputs": [
    {
     "data": {
      "text/html": [
       "<ol class=list-inline>\n",
       "\t<li>1</li>\n",
       "\t<li>1.5</li>\n",
       "\t<li>2</li>\n",
       "\t<li>2.5</li>\n",
       "\t<li>3</li>\n",
       "\t<li>3.5</li>\n",
       "\t<li>4</li>\n",
       "\t<li>4.5</li>\n",
       "\t<li>5</li>\n",
       "\t<li>5.5</li>\n",
       "\t<li>6</li>\n",
       "\t<li>6.5</li>\n",
       "\t<li>7</li>\n",
       "</ol>\n"
      ],
      "text/latex": [
       "\\begin{enumerate*}\n",
       "\\item 1\n",
       "\\item 1.5\n",
       "\\item 2\n",
       "\\item 2.5\n",
       "\\item 3\n",
       "\\item 3.5\n",
       "\\item 4\n",
       "\\item 4.5\n",
       "\\item 5\n",
       "\\item 5.5\n",
       "\\item 6\n",
       "\\item 6.5\n",
       "\\item 7\n",
       "\\end{enumerate*}\n"
      ],
      "text/markdown": [
       "1. 1\n",
       "2. 1.5\n",
       "3. 2\n",
       "4. 2.5\n",
       "5. 3\n",
       "6. 3.5\n",
       "7. 4\n",
       "8. 4.5\n",
       "9. 5\n",
       "10. 5.5\n",
       "11. 6\n",
       "12. 6.5\n",
       "13. 7\n",
       "\n",
       "\n"
      ],
      "text/plain": [
       " [1] 1.0 1.5 2.0 2.5 3.0 3.5 4.0 4.5 5.0 5.5 6.0 6.5 7.0"
      ]
     },
     "metadata": {},
     "output_type": "display_data"
    }
   ],
   "source": [
    "seq(from=1, to=7, by=1/2)"
   ]
  },
  {
   "cell_type": "code",
   "execution_count": 6,
   "metadata": {},
   "outputs": [
    {
     "data": {
      "text/html": [
       "<ol class=list-inline>\n",
       "\t<li>1</li>\n",
       "\t<li>1</li>\n",
       "\t<li>1</li>\n",
       "\t<li>1</li>\n",
       "\t<li>1</li>\n",
       "\t<li>1</li>\n",
       "\t<li>1</li>\n",
       "\t<li>1</li>\n",
       "\t<li>1</li>\n",
       "\t<li>1</li>\n",
       "</ol>\n"
      ],
      "text/latex": [
       "\\begin{enumerate*}\n",
       "\\item 1\n",
       "\\item 1\n",
       "\\item 1\n",
       "\\item 1\n",
       "\\item 1\n",
       "\\item 1\n",
       "\\item 1\n",
       "\\item 1\n",
       "\\item 1\n",
       "\\item 1\n",
       "\\end{enumerate*}\n"
      ],
      "text/markdown": [
       "1. 1\n",
       "2. 1\n",
       "3. 1\n",
       "4. 1\n",
       "5. 1\n",
       "6. 1\n",
       "7. 1\n",
       "8. 1\n",
       "9. 1\n",
       "10. 1\n",
       "\n",
       "\n"
      ],
      "text/plain": [
       " [1] 1 1 1 1 1 1 1 1 1 1"
      ]
     },
     "metadata": {},
     "output_type": "display_data"
    }
   ],
   "source": [
    "rep(1, times=10)"
   ]
  },
  {
   "cell_type": "code",
   "execution_count": 7,
   "metadata": {},
   "outputs": [
    {
     "data": {
      "text/html": [
       "<ol class=list-inline>\n",
       "\t<li>'marin'</li>\n",
       "\t<li>'marin'</li>\n",
       "\t<li>'marin'</li>\n",
       "\t<li>'marin'</li>\n",
       "\t<li>'marin'</li>\n",
       "</ol>\n"
      ],
      "text/latex": [
       "\\begin{enumerate*}\n",
       "\\item 'marin'\n",
       "\\item 'marin'\n",
       "\\item 'marin'\n",
       "\\item 'marin'\n",
       "\\item 'marin'\n",
       "\\end{enumerate*}\n"
      ],
      "text/markdown": [
       "1. 'marin'\n",
       "2. 'marin'\n",
       "3. 'marin'\n",
       "4. 'marin'\n",
       "5. 'marin'\n",
       "\n",
       "\n"
      ],
      "text/plain": [
       "[1] \"marin\" \"marin\" \"marin\" \"marin\" \"marin\""
      ]
     },
     "metadata": {},
     "output_type": "display_data"
    }
   ],
   "source": [
    "rep(\"marin\", times=5)"
   ]
  },
  {
   "cell_type": "code",
   "execution_count": 8,
   "metadata": {},
   "outputs": [
    {
     "data": {
      "text/html": [
       "<ol class=list-inline>\n",
       "\t<li>1</li>\n",
       "\t<li>2</li>\n",
       "\t<li>3</li>\n",
       "\t<li>1</li>\n",
       "\t<li>2</li>\n",
       "\t<li>3</li>\n",
       "\t<li>1</li>\n",
       "\t<li>2</li>\n",
       "\t<li>3</li>\n",
       "\t<li>1</li>\n",
       "\t<li>2</li>\n",
       "\t<li>3</li>\n",
       "\t<li>1</li>\n",
       "\t<li>2</li>\n",
       "\t<li>3</li>\n",
       "</ol>\n"
      ],
      "text/latex": [
       "\\begin{enumerate*}\n",
       "\\item 1\n",
       "\\item 2\n",
       "\\item 3\n",
       "\\item 1\n",
       "\\item 2\n",
       "\\item 3\n",
       "\\item 1\n",
       "\\item 2\n",
       "\\item 3\n",
       "\\item 1\n",
       "\\item 2\n",
       "\\item 3\n",
       "\\item 1\n",
       "\\item 2\n",
       "\\item 3\n",
       "\\end{enumerate*}\n"
      ],
      "text/markdown": [
       "1. 1\n",
       "2. 2\n",
       "3. 3\n",
       "4. 1\n",
       "5. 2\n",
       "6. 3\n",
       "7. 1\n",
       "8. 2\n",
       "9. 3\n",
       "10. 1\n",
       "11. 2\n",
       "12. 3\n",
       "13. 1\n",
       "14. 2\n",
       "15. 3\n",
       "\n",
       "\n"
      ],
      "text/plain": [
       " [1] 1 2 3 1 2 3 1 2 3 1 2 3 1 2 3"
      ]
     },
     "metadata": {},
     "output_type": "display_data"
    }
   ],
   "source": [
    "rep(1:3, times=5)"
   ]
  },
  {
   "cell_type": "code",
   "execution_count": 9,
   "metadata": {},
   "outputs": [
    {
     "data": {
      "text/html": [
       "<ol class=list-inline>\n",
       "\t<li>2</li>\n",
       "\t<li>2.25</li>\n",
       "\t<li>2.5</li>\n",
       "\t<li>2.75</li>\n",
       "\t<li>3</li>\n",
       "\t<li>3.25</li>\n",
       "\t<li>3.5</li>\n",
       "\t<li>3.75</li>\n",
       "\t<li>4</li>\n",
       "\t<li>4.25</li>\n",
       "\t<li>4.5</li>\n",
       "\t<li>4.75</li>\n",
       "\t<li>5</li>\n",
       "\t<li>2</li>\n",
       "\t<li>2.25</li>\n",
       "\t<li>2.5</li>\n",
       "\t<li>2.75</li>\n",
       "\t<li>3</li>\n",
       "\t<li>3.25</li>\n",
       "\t<li>3.5</li>\n",
       "\t<li>3.75</li>\n",
       "\t<li>4</li>\n",
       "\t<li>4.25</li>\n",
       "\t<li>4.5</li>\n",
       "\t<li>4.75</li>\n",
       "\t<li>5</li>\n",
       "\t<li>2</li>\n",
       "\t<li>2.25</li>\n",
       "\t<li>2.5</li>\n",
       "\t<li>2.75</li>\n",
       "\t<li>3</li>\n",
       "\t<li>3.25</li>\n",
       "\t<li>3.5</li>\n",
       "\t<li>3.75</li>\n",
       "\t<li>4</li>\n",
       "\t<li>4.25</li>\n",
       "\t<li>4.5</li>\n",
       "\t<li>4.75</li>\n",
       "\t<li>5</li>\n",
       "\t<li>2</li>\n",
       "\t<li>2.25</li>\n",
       "\t<li>2.5</li>\n",
       "\t<li>2.75</li>\n",
       "\t<li>3</li>\n",
       "\t<li>3.25</li>\n",
       "\t<li>3.5</li>\n",
       "\t<li>3.75</li>\n",
       "\t<li>4</li>\n",
       "\t<li>4.25</li>\n",
       "\t<li>4.5</li>\n",
       "\t<li>4.75</li>\n",
       "\t<li>5</li>\n",
       "\t<li>2</li>\n",
       "\t<li>2.25</li>\n",
       "\t<li>2.5</li>\n",
       "\t<li>2.75</li>\n",
       "\t<li>3</li>\n",
       "\t<li>3.25</li>\n",
       "\t<li>3.5</li>\n",
       "\t<li>3.75</li>\n",
       "\t<li>4</li>\n",
       "\t<li>4.25</li>\n",
       "\t<li>4.5</li>\n",
       "\t<li>4.75</li>\n",
       "\t<li>5</li>\n",
       "</ol>\n"
      ],
      "text/latex": [
       "\\begin{enumerate*}\n",
       "\\item 2\n",
       "\\item 2.25\n",
       "\\item 2.5\n",
       "\\item 2.75\n",
       "\\item 3\n",
       "\\item 3.25\n",
       "\\item 3.5\n",
       "\\item 3.75\n",
       "\\item 4\n",
       "\\item 4.25\n",
       "\\item 4.5\n",
       "\\item 4.75\n",
       "\\item 5\n",
       "\\item 2\n",
       "\\item 2.25\n",
       "\\item 2.5\n",
       "\\item 2.75\n",
       "\\item 3\n",
       "\\item 3.25\n",
       "\\item 3.5\n",
       "\\item 3.75\n",
       "\\item 4\n",
       "\\item 4.25\n",
       "\\item 4.5\n",
       "\\item 4.75\n",
       "\\item 5\n",
       "\\item 2\n",
       "\\item 2.25\n",
       "\\item 2.5\n",
       "\\item 2.75\n",
       "\\item 3\n",
       "\\item 3.25\n",
       "\\item 3.5\n",
       "\\item 3.75\n",
       "\\item 4\n",
       "\\item 4.25\n",
       "\\item 4.5\n",
       "\\item 4.75\n",
       "\\item 5\n",
       "\\item 2\n",
       "\\item 2.25\n",
       "\\item 2.5\n",
       "\\item 2.75\n",
       "\\item 3\n",
       "\\item 3.25\n",
       "\\item 3.5\n",
       "\\item 3.75\n",
       "\\item 4\n",
       "\\item 4.25\n",
       "\\item 4.5\n",
       "\\item 4.75\n",
       "\\item 5\n",
       "\\item 2\n",
       "\\item 2.25\n",
       "\\item 2.5\n",
       "\\item 2.75\n",
       "\\item 3\n",
       "\\item 3.25\n",
       "\\item 3.5\n",
       "\\item 3.75\n",
       "\\item 4\n",
       "\\item 4.25\n",
       "\\item 4.5\n",
       "\\item 4.75\n",
       "\\item 5\n",
       "\\end{enumerate*}\n"
      ],
      "text/markdown": [
       "1. 2\n",
       "2. 2.25\n",
       "3. 2.5\n",
       "4. 2.75\n",
       "5. 3\n",
       "6. 3.25\n",
       "7. 3.5\n",
       "8. 3.75\n",
       "9. 4\n",
       "10. 4.25\n",
       "11. 4.5\n",
       "12. 4.75\n",
       "13. 5\n",
       "14. 2\n",
       "15. 2.25\n",
       "16. 2.5\n",
       "17. 2.75\n",
       "18. 3\n",
       "19. 3.25\n",
       "20. 3.5\n",
       "21. 3.75\n",
       "22. 4\n",
       "23. 4.25\n",
       "24. 4.5\n",
       "25. 4.75\n",
       "26. 5\n",
       "27. 2\n",
       "28. 2.25\n",
       "29. 2.5\n",
       "30. 2.75\n",
       "31. 3\n",
       "32. 3.25\n",
       "33. 3.5\n",
       "34. 3.75\n",
       "35. 4\n",
       "36. 4.25\n",
       "37. 4.5\n",
       "38. 4.75\n",
       "39. 5\n",
       "40. 2\n",
       "41. 2.25\n",
       "42. 2.5\n",
       "43. 2.75\n",
       "44. 3\n",
       "45. 3.25\n",
       "46. 3.5\n",
       "47. 3.75\n",
       "48. 4\n",
       "49. 4.25\n",
       "50. 4.5\n",
       "51. 4.75\n",
       "52. 5\n",
       "53. 2\n",
       "54. 2.25\n",
       "55. 2.5\n",
       "56. 2.75\n",
       "57. 3\n",
       "58. 3.25\n",
       "59. 3.5\n",
       "60. 3.75\n",
       "61. 4\n",
       "62. 4.25\n",
       "63. 4.5\n",
       "64. 4.75\n",
       "65. 5\n",
       "\n",
       "\n"
      ],
      "text/plain": [
       " [1] 2.00 2.25 2.50 2.75 3.00 3.25 3.50 3.75 4.00 4.25 4.50 4.75 5.00 2.00 2.25\n",
       "[16] 2.50 2.75 3.00 3.25 3.50 3.75 4.00 4.25 4.50 4.75 5.00 2.00 2.25 2.50 2.75\n",
       "[31] 3.00 3.25 3.50 3.75 4.00 4.25 4.50 4.75 5.00 2.00 2.25 2.50 2.75 3.00 3.25\n",
       "[46] 3.50 3.75 4.00 4.25 4.50 4.75 5.00 2.00 2.25 2.50 2.75 3.00 3.25 3.50 3.75\n",
       "[61] 4.00 4.25 4.50 4.75 5.00"
      ]
     },
     "metadata": {},
     "output_type": "display_data"
    }
   ],
   "source": [
    "rep(seq(from=2, to=5, by=0.25), times=5)"
   ]
  },
  {
   "cell_type": "code",
   "execution_count": 10,
   "metadata": {},
   "outputs": [
    {
     "data": {
      "text/html": [
       "<ol class=list-inline>\n",
       "\t<li>'m'</li>\n",
       "\t<li>'f'</li>\n",
       "\t<li>'m'</li>\n",
       "\t<li>'f'</li>\n",
       "\t<li>'m'</li>\n",
       "\t<li>'f'</li>\n",
       "\t<li>'m'</li>\n",
       "\t<li>'f'</li>\n",
       "\t<li>'m'</li>\n",
       "\t<li>'f'</li>\n",
       "</ol>\n"
      ],
      "text/latex": [
       "\\begin{enumerate*}\n",
       "\\item 'm'\n",
       "\\item 'f'\n",
       "\\item 'm'\n",
       "\\item 'f'\n",
       "\\item 'm'\n",
       "\\item 'f'\n",
       "\\item 'm'\n",
       "\\item 'f'\n",
       "\\item 'm'\n",
       "\\item 'f'\n",
       "\\end{enumerate*}\n"
      ],
      "text/markdown": [
       "1. 'm'\n",
       "2. 'f'\n",
       "3. 'm'\n",
       "4. 'f'\n",
       "5. 'm'\n",
       "6. 'f'\n",
       "7. 'm'\n",
       "8. 'f'\n",
       "9. 'm'\n",
       "10. 'f'\n",
       "\n",
       "\n"
      ],
      "text/plain": [
       " [1] \"m\" \"f\" \"m\" \"f\" \"m\" \"f\" \"m\" \"f\" \"m\" \"f\""
      ]
     },
     "metadata": {},
     "output_type": "display_data"
    }
   ],
   "source": [
    "rep(c(\"m\", \"f\"), times=5)"
   ]
  },
  {
   "cell_type": "markdown",
   "metadata": {},
   "source": [
    "# Import Data, Copy Data from Excel to R CSV & TXT Files | R Tutorial 1.5 | MarinStatsLectures"
   ]
  },
  {
   "cell_type": "code",
   "execution_count": 11,
   "metadata": {},
   "outputs": [
    {
     "data": {
      "text/html": [
       "<table>\n",
       "<thead><tr><th scope=col>ï..LungCap</th><th scope=col>Age</th><th scope=col>Height</th><th scope=col>Smoke</th><th scope=col>Gender</th><th scope=col>Caesarean</th></tr></thead>\n",
       "<tbody>\n",
       "\t<tr><td> 6.475</td><td> 6    </td><td>62.1  </td><td>no    </td><td>male  </td><td>no    </td></tr>\n",
       "\t<tr><td>10.125</td><td>18    </td><td>74.7  </td><td>yes   </td><td>female</td><td>no    </td></tr>\n",
       "\t<tr><td> 9.550</td><td>16    </td><td>69.7  </td><td>no    </td><td>female</td><td>yes   </td></tr>\n",
       "\t<tr><td>11.125</td><td>14    </td><td>71.0  </td><td>no    </td><td>male  </td><td>no    </td></tr>\n",
       "\t<tr><td> 4.800</td><td> 5    </td><td>56.9  </td><td>no    </td><td>male  </td><td>no    </td></tr>\n",
       "\t<tr><td> 6.225</td><td>11    </td><td>58.7  </td><td>no    </td><td>female</td><td>no    </td></tr>\n",
       "\t<tr><td> 4.950</td><td> 8    </td><td>63.3  </td><td>no    </td><td>male  </td><td>yes   </td></tr>\n",
       "\t<tr><td> 7.325</td><td>11    </td><td>70.4  </td><td>no    </td><td>male  </td><td>no    </td></tr>\n",
       "\t<tr><td> 8.875</td><td>15    </td><td>70.5  </td><td>no    </td><td>male  </td><td>no    </td></tr>\n",
       "\t<tr><td> 6.800</td><td>11    </td><td>59.2  </td><td>no    </td><td>male  </td><td>no    </td></tr>\n",
       "</tbody>\n",
       "</table>\n"
      ],
      "text/latex": [
       "\\begin{tabular}{r|llllll}\n",
       " ï..LungCap & Age & Height & Smoke & Gender & Caesarean\\\\\n",
       "\\hline\n",
       "\t  6.475 &  6     & 62.1   & no     & male   & no    \\\\\n",
       "\t 10.125 & 18     & 74.7   & yes    & female & no    \\\\\n",
       "\t  9.550 & 16     & 69.7   & no     & female & yes   \\\\\n",
       "\t 11.125 & 14     & 71.0   & no     & male   & no    \\\\\n",
       "\t  4.800 &  5     & 56.9   & no     & male   & no    \\\\\n",
       "\t  6.225 & 11     & 58.7   & no     & female & no    \\\\\n",
       "\t  4.950 &  8     & 63.3   & no     & male   & yes   \\\\\n",
       "\t  7.325 & 11     & 70.4   & no     & male   & no    \\\\\n",
       "\t  8.875 & 15     & 70.5   & no     & male   & no    \\\\\n",
       "\t  6.800 & 11     & 59.2   & no     & male   & no    \\\\\n",
       "\\end{tabular}\n"
      ],
      "text/markdown": [
       "\n",
       "| ï..LungCap | Age | Height | Smoke | Gender | Caesarean |\n",
       "|---|---|---|---|---|---|\n",
       "|  6.475 |  6     | 62.1   | no     | male   | no     |\n",
       "| 10.125 | 18     | 74.7   | yes    | female | no     |\n",
       "|  9.550 | 16     | 69.7   | no     | female | yes    |\n",
       "| 11.125 | 14     | 71.0   | no     | male   | no     |\n",
       "|  4.800 |  5     | 56.9   | no     | male   | no     |\n",
       "|  6.225 | 11     | 58.7   | no     | female | no     |\n",
       "|  4.950 |  8     | 63.3   | no     | male   | yes    |\n",
       "|  7.325 | 11     | 70.4   | no     | male   | no     |\n",
       "|  8.875 | 15     | 70.5   | no     | male   | no     |\n",
       "|  6.800 | 11     | 59.2   | no     | male   | no     |\n",
       "\n"
      ],
      "text/plain": [
       "   ï..LungCap Age Height Smoke Gender Caesarean\n",
       "1   6.475      6  62.1   no    male   no       \n",
       "2  10.125     18  74.7   yes   female no       \n",
       "3   9.550     16  69.7   no    female yes      \n",
       "4  11.125     14  71.0   no    male   no       \n",
       "5   4.800      5  56.9   no    male   no       \n",
       "6   6.225     11  58.7   no    female no       \n",
       "7   4.950      8  63.3   no    male   yes      \n",
       "8   7.325     11  70.4   no    male   no       \n",
       "9   8.875     15  70.5   no    male   no       \n",
       "10  6.800     11  59.2   no    male   no       "
      ]
     },
     "metadata": {},
     "output_type": "display_data"
    }
   ],
   "source": [
    "data1 <- read.csv(file.choose(), header=TRUE)  # Choose the file to read.\n",
    "data1"
   ]
  },
  {
   "cell_type": "code",
   "execution_count": 12,
   "metadata": {},
   "outputs": [
    {
     "data": {
      "text/html": [
       "<table>\n",
       "<thead><tr><th scope=col>ï..LungCap</th><th scope=col>Age</th><th scope=col>Height</th><th scope=col>Smoke</th><th scope=col>Gender</th><th scope=col>Caesarean</th></tr></thead>\n",
       "<tbody>\n",
       "\t<tr><td> 6.475</td><td> 6    </td><td>62.1  </td><td>no    </td><td>male  </td><td>no    </td></tr>\n",
       "\t<tr><td>10.125</td><td>18    </td><td>74.7  </td><td>yes   </td><td>female</td><td>no    </td></tr>\n",
       "\t<tr><td> 9.550</td><td>16    </td><td>69.7  </td><td>no    </td><td>female</td><td>yes   </td></tr>\n",
       "\t<tr><td>11.125</td><td>14    </td><td>71.0  </td><td>no    </td><td>male  </td><td>no    </td></tr>\n",
       "\t<tr><td> 4.800</td><td> 5    </td><td>56.9  </td><td>no    </td><td>male  </td><td>no    </td></tr>\n",
       "\t<tr><td> 6.225</td><td>11    </td><td>58.7  </td><td>no    </td><td>female</td><td>no    </td></tr>\n",
       "\t<tr><td> 4.950</td><td> 8    </td><td>63.3  </td><td>no    </td><td>male  </td><td>yes   </td></tr>\n",
       "\t<tr><td> 7.325</td><td>11    </td><td>70.4  </td><td>no    </td><td>male  </td><td>no    </td></tr>\n",
       "\t<tr><td> 8.875</td><td>15    </td><td>70.5  </td><td>no    </td><td>male  </td><td>no    </td></tr>\n",
       "\t<tr><td> 6.800</td><td>11    </td><td>59.2  </td><td>no    </td><td>male  </td><td>no    </td></tr>\n",
       "</tbody>\n",
       "</table>\n"
      ],
      "text/latex": [
       "\\begin{tabular}{r|llllll}\n",
       " ï..LungCap & Age & Height & Smoke & Gender & Caesarean\\\\\n",
       "\\hline\n",
       "\t  6.475 &  6     & 62.1   & no     & male   & no    \\\\\n",
       "\t 10.125 & 18     & 74.7   & yes    & female & no    \\\\\n",
       "\t  9.550 & 16     & 69.7   & no     & female & yes   \\\\\n",
       "\t 11.125 & 14     & 71.0   & no     & male   & no    \\\\\n",
       "\t  4.800 &  5     & 56.9   & no     & male   & no    \\\\\n",
       "\t  6.225 & 11     & 58.7   & no     & female & no    \\\\\n",
       "\t  4.950 &  8     & 63.3   & no     & male   & yes   \\\\\n",
       "\t  7.325 & 11     & 70.4   & no     & male   & no    \\\\\n",
       "\t  8.875 & 15     & 70.5   & no     & male   & no    \\\\\n",
       "\t  6.800 & 11     & 59.2   & no     & male   & no    \\\\\n",
       "\\end{tabular}\n"
      ],
      "text/markdown": [
       "\n",
       "| ï..LungCap | Age | Height | Smoke | Gender | Caesarean |\n",
       "|---|---|---|---|---|---|\n",
       "|  6.475 |  6     | 62.1   | no     | male   | no     |\n",
       "| 10.125 | 18     | 74.7   | yes    | female | no     |\n",
       "|  9.550 | 16     | 69.7   | no     | female | yes    |\n",
       "| 11.125 | 14     | 71.0   | no     | male   | no     |\n",
       "|  4.800 |  5     | 56.9   | no     | male   | no     |\n",
       "|  6.225 | 11     | 58.7   | no     | female | no     |\n",
       "|  4.950 |  8     | 63.3   | no     | male   | yes    |\n",
       "|  7.325 | 11     | 70.4   | no     | male   | no     |\n",
       "|  8.875 | 15     | 70.5   | no     | male   | no     |\n",
       "|  6.800 | 11     | 59.2   | no     | male   | no     |\n",
       "\n"
      ],
      "text/plain": [
       "   ï..LungCap Age Height Smoke Gender Caesarean\n",
       "1   6.475      6  62.1   no    male   no       \n",
       "2  10.125     18  74.7   yes   female no       \n",
       "3   9.550     16  69.7   no    female yes      \n",
       "4  11.125     14  71.0   no    male   no       \n",
       "5   4.800      5  56.9   no    male   no       \n",
       "6   6.225     11  58.7   no    female no       \n",
       "7   4.950      8  63.3   no    male   yes      \n",
       "8   7.325     11  70.4   no    male   no       \n",
       "9   8.875     15  70.5   no    male   no       \n",
       "10  6.800     11  59.2   no    male   no       "
      ]
     },
     "metadata": {},
     "output_type": "display_data"
    }
   ],
   "source": [
    "data2 <- read.table(file.choose(), header=TRUE, sep=\",\")  # More generic\n",
    "data2"
   ]
  },
  {
   "cell_type": "code",
   "execution_count": 13,
   "metadata": {},
   "outputs": [
    {
     "data": {
      "text/html": [
       "<table>\n",
       "<thead><tr><th scope=col>LungCap</th><th scope=col>Age</th><th scope=col>Height</th><th scope=col>Smoke</th><th scope=col>Gender</th><th scope=col>Caesarean</th></tr></thead>\n",
       "<tbody>\n",
       "\t<tr><td> 6.475</td><td> 6    </td><td>62.1  </td><td>no    </td><td>male  </td><td>no    </td></tr>\n",
       "\t<tr><td>10.125</td><td>18    </td><td>74.7  </td><td>yes   </td><td>female</td><td>no    </td></tr>\n",
       "\t<tr><td> 9.550</td><td>16    </td><td>69.7  </td><td>no    </td><td>female</td><td>yes   </td></tr>\n",
       "\t<tr><td>11.125</td><td>14    </td><td>71.0  </td><td>no    </td><td>male  </td><td>no    </td></tr>\n",
       "\t<tr><td> 4.800</td><td> 5    </td><td>56.9  </td><td>no    </td><td>male  </td><td>no    </td></tr>\n",
       "\t<tr><td> 6.225</td><td>11    </td><td>58.7  </td><td>no    </td><td>female</td><td>no    </td></tr>\n",
       "\t<tr><td> 4.950</td><td> 8    </td><td>63.3  </td><td>no    </td><td>male  </td><td>yes   </td></tr>\n",
       "\t<tr><td> 7.325</td><td>11    </td><td>70.4  </td><td>no    </td><td>male  </td><td>no    </td></tr>\n",
       "\t<tr><td> 8.875</td><td>15    </td><td>70.5  </td><td>no    </td><td>male  </td><td>no    </td></tr>\n",
       "\t<tr><td> 6.800</td><td>11    </td><td>59.2  </td><td>no    </td><td>male  </td><td>no    </td></tr>\n",
       "</tbody>\n",
       "</table>\n"
      ],
      "text/latex": [
       "\\begin{tabular}{r|llllll}\n",
       " LungCap & Age & Height & Smoke & Gender & Caesarean\\\\\n",
       "\\hline\n",
       "\t  6.475 &  6     & 62.1   & no     & male   & no    \\\\\n",
       "\t 10.125 & 18     & 74.7   & yes    & female & no    \\\\\n",
       "\t  9.550 & 16     & 69.7   & no     & female & yes   \\\\\n",
       "\t 11.125 & 14     & 71.0   & no     & male   & no    \\\\\n",
       "\t  4.800 &  5     & 56.9   & no     & male   & no    \\\\\n",
       "\t  6.225 & 11     & 58.7   & no     & female & no    \\\\\n",
       "\t  4.950 &  8     & 63.3   & no     & male   & yes   \\\\\n",
       "\t  7.325 & 11     & 70.4   & no     & male   & no    \\\\\n",
       "\t  8.875 & 15     & 70.5   & no     & male   & no    \\\\\n",
       "\t  6.800 & 11     & 59.2   & no     & male   & no    \\\\\n",
       "\\end{tabular}\n"
      ],
      "text/markdown": [
       "\n",
       "| LungCap | Age | Height | Smoke | Gender | Caesarean |\n",
       "|---|---|---|---|---|---|\n",
       "|  6.475 |  6     | 62.1   | no     | male   | no     |\n",
       "| 10.125 | 18     | 74.7   | yes    | female | no     |\n",
       "|  9.550 | 16     | 69.7   | no     | female | yes    |\n",
       "| 11.125 | 14     | 71.0   | no     | male   | no     |\n",
       "|  4.800 |  5     | 56.9   | no     | male   | no     |\n",
       "|  6.225 | 11     | 58.7   | no     | female | no     |\n",
       "|  4.950 |  8     | 63.3   | no     | male   | yes    |\n",
       "|  7.325 | 11     | 70.4   | no     | male   | no     |\n",
       "|  8.875 | 15     | 70.5   | no     | male   | no     |\n",
       "|  6.800 | 11     | 59.2   | no     | male   | no     |\n",
       "\n"
      ],
      "text/plain": [
       "   LungCap Age Height Smoke Gender Caesarean\n",
       "1   6.475   6  62.1   no    male   no       \n",
       "2  10.125  18  74.7   yes   female no       \n",
       "3   9.550  16  69.7   no    female yes      \n",
       "4  11.125  14  71.0   no    male   no       \n",
       "5   4.800   5  56.9   no    male   no       \n",
       "6   6.225  11  58.7   no    female no       \n",
       "7   4.950   8  63.3   no    male   yes      \n",
       "8   7.325  11  70.4   no    male   no       \n",
       "9   8.875  15  70.5   no    male   no       \n",
       "10  6.800  11  59.2   no    male   no       "
      ]
     },
     "metadata": {},
     "output_type": "display_data"
    }
   ],
   "source": [
    "data3 <- read.table(file.choose(), header=TRUE, sep=\"\\t\")  # Use tab as separator\n",
    "data3"
   ]
  },
  {
   "cell_type": "code",
   "execution_count": 14,
   "metadata": {},
   "outputs": [
    {
     "data": {
      "text/html": [
       "<table>\n",
       "<thead><tr><th scope=col>LungCap</th><th scope=col>Age</th><th scope=col>Height</th><th scope=col>Smoke</th><th scope=col>Gender</th><th scope=col>Caesarean</th></tr></thead>\n",
       "<tbody>\n",
       "\t<tr><td> 6.475</td><td> 6    </td><td>62.1  </td><td>no    </td><td>male  </td><td>no    </td></tr>\n",
       "\t<tr><td>10.125</td><td>18    </td><td>74.7  </td><td>yes   </td><td>female</td><td>no    </td></tr>\n",
       "\t<tr><td> 9.550</td><td>16    </td><td>69.7  </td><td>no    </td><td>female</td><td>yes   </td></tr>\n",
       "\t<tr><td>11.125</td><td>14    </td><td>71.0  </td><td>no    </td><td>male  </td><td>no    </td></tr>\n",
       "\t<tr><td> 4.800</td><td> 5    </td><td>56.9  </td><td>no    </td><td>male  </td><td>no    </td></tr>\n",
       "\t<tr><td> 6.225</td><td>11    </td><td>58.7  </td><td>no    </td><td>female</td><td>no    </td></tr>\n",
       "\t<tr><td> 4.950</td><td> 8    </td><td>63.3  </td><td>no    </td><td>male  </td><td>yes   </td></tr>\n",
       "\t<tr><td> 7.325</td><td>11    </td><td>70.4  </td><td>no    </td><td>male  </td><td>no    </td></tr>\n",
       "\t<tr><td> 8.875</td><td>15    </td><td>70.5  </td><td>no    </td><td>male  </td><td>no    </td></tr>\n",
       "\t<tr><td> 6.800</td><td>11    </td><td>59.2  </td><td>no    </td><td>male  </td><td>no    </td></tr>\n",
       "</tbody>\n",
       "</table>\n"
      ],
      "text/latex": [
       "\\begin{tabular}{r|llllll}\n",
       " LungCap & Age & Height & Smoke & Gender & Caesarean\\\\\n",
       "\\hline\n",
       "\t  6.475 &  6     & 62.1   & no     & male   & no    \\\\\n",
       "\t 10.125 & 18     & 74.7   & yes    & female & no    \\\\\n",
       "\t  9.550 & 16     & 69.7   & no     & female & yes   \\\\\n",
       "\t 11.125 & 14     & 71.0   & no     & male   & no    \\\\\n",
       "\t  4.800 &  5     & 56.9   & no     & male   & no    \\\\\n",
       "\t  6.225 & 11     & 58.7   & no     & female & no    \\\\\n",
       "\t  4.950 &  8     & 63.3   & no     & male   & yes   \\\\\n",
       "\t  7.325 & 11     & 70.4   & no     & male   & no    \\\\\n",
       "\t  8.875 & 15     & 70.5   & no     & male   & no    \\\\\n",
       "\t  6.800 & 11     & 59.2   & no     & male   & no    \\\\\n",
       "\\end{tabular}\n"
      ],
      "text/markdown": [
       "\n",
       "| LungCap | Age | Height | Smoke | Gender | Caesarean |\n",
       "|---|---|---|---|---|---|\n",
       "|  6.475 |  6     | 62.1   | no     | male   | no     |\n",
       "| 10.125 | 18     | 74.7   | yes    | female | no     |\n",
       "|  9.550 | 16     | 69.7   | no     | female | yes    |\n",
       "| 11.125 | 14     | 71.0   | no     | male   | no     |\n",
       "|  4.800 |  5     | 56.9   | no     | male   | no     |\n",
       "|  6.225 | 11     | 58.7   | no     | female | no     |\n",
       "|  4.950 |  8     | 63.3   | no     | male   | yes    |\n",
       "|  7.325 | 11     | 70.4   | no     | male   | no     |\n",
       "|  8.875 | 15     | 70.5   | no     | male   | no     |\n",
       "|  6.800 | 11     | 59.2   | no     | male   | no     |\n",
       "\n"
      ],
      "text/plain": [
       "   LungCap Age Height Smoke Gender Caesarean\n",
       "1   6.475   6  62.1   no    male   no       \n",
       "2  10.125  18  74.7   yes   female no       \n",
       "3   9.550  16  69.7   no    female yes      \n",
       "4  11.125  14  71.0   no    male   no       \n",
       "5   4.800   5  56.9   no    male   no       \n",
       "6   6.225  11  58.7   no    female no       \n",
       "7   4.950   8  63.3   no    male   yes      \n",
       "8   7.325  11  70.4   no    male   no       \n",
       "9   8.875  15  70.5   no    male   no       \n",
       "10  6.800  11  59.2   no    male   no       "
      ]
     },
     "metadata": {},
     "output_type": "display_data"
    }
   ],
   "source": [
    "data4 <- read.delim(file.choose(), header=TRUE)  # tab delimited\n",
    "data4"
   ]
  },
  {
   "cell_type": "markdown",
   "metadata": {},
   "source": [
    "## Importing/Reading Excel data into R using RStudio (readxl) | R Tutorial 1.5b | MarinStatsLectures\n",
    "The readxl packag can import both .xlsx and .xls files.<br>\n",
    "This packages if pre-installed in RStudio.<br>\n",
    "Import Dataset -> From Excel... -> File/Url -> Name, Sheet, Range, Max Rows, Skip, NA (change something to NA)"
   ]
  },
  {
   "cell_type": "markdown",
   "metadata": {},
   "source": [
    "## Export Data from R (csv , txt and other formats) | R Tutorial 1.6 | MarinStatsLectures"
   ]
  },
  {
   "cell_type": "code",
   "execution_count": 15,
   "metadata": {},
   "outputs": [
    {
     "name": "stdout",
     "output_type": "stream",
     "text": [
      "          Subject Age Gender Score\n",
      "1 Dave.Andreychuk  53   male  80.5\n",
      "2     Jon.Stewart  54   male  82.1\n",
      "3        Jane.Doe  38 female  75.9\n",
      "4  Amelia.Earhart 119 female  90.0\n",
      "5    Donald.Trump  70   male -25.5\n",
      "6   Sidney.Crosby  28   male  87.2\n",
      "7   Oprah.Winfrey  62 female  88.8\n",
      "8      Steve.Jobs  61   male  91.1\n"
     ]
    }
   ],
   "source": [
    "Subject <- c(\"Dave.Andreychuk\", \"Jon.Stewart\", \"Jane.Doe\", \"Amelia.Earhart\",\n",
    "             \"Donald.Trump\", \"Sidney.Crosby\", \"Oprah.Winfrey\", \"Steve.Jobs\")\n",
    "Age <- c(53, 54, 38, 119, 70, 28, 62, 61)\n",
    "Gender <- c(\"male\", \"male\", \"female\", \"female\", \"male\", \"male\", \"female\", \"male\")\n",
    "Score <- c(80.5, 82.1, 75.9, 90.0, -25.5, 87.2, 88.8, 91.1)\n",
    "\n",
    "DataToExport <- data.frame(Subject, Age, Gender, Score)\n",
    "print(DataToExport)"
   ]
  },
  {
   "cell_type": "code",
   "execution_count": 16,
   "metadata": {},
   "outputs": [],
   "source": [
    "# Export row name into the file (1, 2, 3... in this case) Data will be shifted.\n",
    "write.table(DataToExport,\n",
    "            file=\"R Data/MarinStatsLectures_1_6.csv\",\n",
    "            sep=\",\")"
   ]
  },
  {
   "cell_type": "code",
   "execution_count": 17,
   "metadata": {},
   "outputs": [],
   "source": [
    "# Exclude the row names\n",
    "write.table(DataToExport,\n",
    "            file=\"R Data/MarinStatsLectures_1_6.csv\",\n",
    "            row.names=FALSE, sep=\",\")"
   ]
  },
  {
   "cell_type": "code",
   "execution_count": 18,
   "metadata": {},
   "outputs": [],
   "source": [
    "write.csv(DataToExport,\n",
    "            file=\"R Data/MarinStatsLectures_1_6.csv\",\n",
    "            row.names=FALSE)"
   ]
  },
  {
   "cell_type": "code",
   "execution_count": 19,
   "metadata": {},
   "outputs": [],
   "source": [
    "write.table(DataToExport,\n",
    "            file=\"R Data/MarinStatsLectures_1_6.txt\",\n",
    "            row.names=FALSE, sep=\"\\t\")"
   ]
  },
  {
   "cell_type": "code",
   "execution_count": 20,
   "metadata": {},
   "outputs": [],
   "source": [
    "# Remove variables for further learning.\n",
    "rm(list = ls())"
   ]
  },
  {
   "cell_type": "markdown",
   "metadata": {},
   "source": [
    "## Importing , Checking and Working with Data in R | R Tutorial 1.7 | MarinStatsLectures"
   ]
  },
  {
   "cell_type": "code",
   "execution_count": 21,
   "metadata": {},
   "outputs": [
    {
     "data": {
      "text/html": [
       "<ol class=list-inline>\n",
       "\t<li>725</li>\n",
       "\t<li>6</li>\n",
       "</ol>\n"
      ],
      "text/latex": [
       "\\begin{enumerate*}\n",
       "\\item 725\n",
       "\\item 6\n",
       "\\end{enumerate*}\n"
      ],
      "text/markdown": [
       "1. 725\n",
       "2. 6\n",
       "\n",
       "\n"
      ],
      "text/plain": [
       "[1] 725   6"
      ]
     },
     "metadata": {},
     "output_type": "display_data"
    }
   ],
   "source": [
    "LungCapData <- read.table(\"R Data/MarinStatsLectures_1_7.txt\", header=TRUE, sep=\"\\t\")\n",
    "dim(LungCapData)"
   ]
  },
  {
   "cell_type": "code",
   "execution_count": 22,
   "metadata": {},
   "outputs": [
    {
     "data": {
      "text/html": [
       "<table>\n",
       "<thead><tr><th scope=col>LungCap</th><th scope=col>Age</th><th scope=col>Height</th><th scope=col>Smoke</th><th scope=col>Gender</th><th scope=col>Caesarean</th></tr></thead>\n",
       "<tbody>\n",
       "\t<tr><td> 6.475</td><td> 6    </td><td>62.1  </td><td>no    </td><td>male  </td><td>no    </td></tr>\n",
       "\t<tr><td>10.125</td><td>18    </td><td>74.7  </td><td>yes   </td><td>female</td><td>no    </td></tr>\n",
       "\t<tr><td> 9.550</td><td>16    </td><td>69.7  </td><td>no    </td><td>female</td><td>yes   </td></tr>\n",
       "\t<tr><td>11.125</td><td>14    </td><td>71.0  </td><td>no    </td><td>male  </td><td>no    </td></tr>\n",
       "\t<tr><td> 4.800</td><td> 5    </td><td>56.9  </td><td>no    </td><td>male  </td><td>no    </td></tr>\n",
       "\t<tr><td> 6.225</td><td>11    </td><td>58.7  </td><td>no    </td><td>female</td><td>no    </td></tr>\n",
       "</tbody>\n",
       "</table>\n"
      ],
      "text/latex": [
       "\\begin{tabular}{r|llllll}\n",
       " LungCap & Age & Height & Smoke & Gender & Caesarean\\\\\n",
       "\\hline\n",
       "\t  6.475 &  6     & 62.1   & no     & male   & no    \\\\\n",
       "\t 10.125 & 18     & 74.7   & yes    & female & no    \\\\\n",
       "\t  9.550 & 16     & 69.7   & no     & female & yes   \\\\\n",
       "\t 11.125 & 14     & 71.0   & no     & male   & no    \\\\\n",
       "\t  4.800 &  5     & 56.9   & no     & male   & no    \\\\\n",
       "\t  6.225 & 11     & 58.7   & no     & female & no    \\\\\n",
       "\\end{tabular}\n"
      ],
      "text/markdown": [
       "\n",
       "| LungCap | Age | Height | Smoke | Gender | Caesarean |\n",
       "|---|---|---|---|---|---|\n",
       "|  6.475 |  6     | 62.1   | no     | male   | no     |\n",
       "| 10.125 | 18     | 74.7   | yes    | female | no     |\n",
       "|  9.550 | 16     | 69.7   | no     | female | yes    |\n",
       "| 11.125 | 14     | 71.0   | no     | male   | no     |\n",
       "|  4.800 |  5     | 56.9   | no     | male   | no     |\n",
       "|  6.225 | 11     | 58.7   | no     | female | no     |\n",
       "\n"
      ],
      "text/plain": [
       "  LungCap Age Height Smoke Gender Caesarean\n",
       "1  6.475   6  62.1   no    male   no       \n",
       "2 10.125  18  74.7   yes   female no       \n",
       "3  9.550  16  69.7   no    female yes      \n",
       "4 11.125  14  71.0   no    male   no       \n",
       "5  4.800   5  56.9   no    male   no       \n",
       "6  6.225  11  58.7   no    female no       "
      ]
     },
     "metadata": {},
     "output_type": "display_data"
    }
   ],
   "source": [
    "head(LungCapData)  # First six rows"
   ]
  },
  {
   "cell_type": "code",
   "execution_count": 23,
   "metadata": {},
   "outputs": [
    {
     "data": {
      "text/html": [
       "<table>\n",
       "<thead><tr><th></th><th scope=col>LungCap</th><th scope=col>Age</th><th scope=col>Height</th><th scope=col>Smoke</th><th scope=col>Gender</th><th scope=col>Caesarean</th></tr></thead>\n",
       "<tbody>\n",
       "\t<tr><th scope=row>720</th><td>7.325 </td><td> 9    </td><td>66.3  </td><td>no    </td><td>male  </td><td>no    </td></tr>\n",
       "\t<tr><th scope=row>721</th><td>5.725 </td><td> 9    </td><td>56.0  </td><td>no    </td><td>female</td><td>no    </td></tr>\n",
       "\t<tr><th scope=row>722</th><td>9.050 </td><td>18    </td><td>72.0  </td><td>yes   </td><td>male  </td><td>yes   </td></tr>\n",
       "\t<tr><th scope=row>723</th><td>3.850 </td><td>11    </td><td>60.5  </td><td>yes   </td><td>female</td><td>no    </td></tr>\n",
       "\t<tr><th scope=row>724</th><td>9.825 </td><td>15    </td><td>64.9  </td><td>no    </td><td>female</td><td>no    </td></tr>\n",
       "\t<tr><th scope=row>725</th><td>7.100 </td><td>10    </td><td>67.7  </td><td>no    </td><td>male  </td><td>no    </td></tr>\n",
       "</tbody>\n",
       "</table>\n"
      ],
      "text/latex": [
       "\\begin{tabular}{r|llllll}\n",
       "  & LungCap & Age & Height & Smoke & Gender & Caesarean\\\\\n",
       "\\hline\n",
       "\t720 & 7.325  &  9     & 66.3   & no     & male   & no    \\\\\n",
       "\t721 & 5.725  &  9     & 56.0   & no     & female & no    \\\\\n",
       "\t722 & 9.050  & 18     & 72.0   & yes    & male   & yes   \\\\\n",
       "\t723 & 3.850  & 11     & 60.5   & yes    & female & no    \\\\\n",
       "\t724 & 9.825  & 15     & 64.9   & no     & female & no    \\\\\n",
       "\t725 & 7.100  & 10     & 67.7   & no     & male   & no    \\\\\n",
       "\\end{tabular}\n"
      ],
      "text/markdown": [
       "\n",
       "| <!--/--> | LungCap | Age | Height | Smoke | Gender | Caesarean |\n",
       "|---|---|---|---|---|---|---|\n",
       "| 720 | 7.325  |  9     | 66.3   | no     | male   | no     |\n",
       "| 721 | 5.725  |  9     | 56.0   | no     | female | no     |\n",
       "| 722 | 9.050  | 18     | 72.0   | yes    | male   | yes    |\n",
       "| 723 | 3.850  | 11     | 60.5   | yes    | female | no     |\n",
       "| 724 | 9.825  | 15     | 64.9   | no     | female | no     |\n",
       "| 725 | 7.100  | 10     | 67.7   | no     | male   | no     |\n",
       "\n"
      ],
      "text/plain": [
       "    LungCap Age Height Smoke Gender Caesarean\n",
       "720 7.325    9  66.3   no    male   no       \n",
       "721 5.725    9  56.0   no    female no       \n",
       "722 9.050   18  72.0   yes   male   yes      \n",
       "723 3.850   11  60.5   yes   female no       \n",
       "724 9.825   15  64.9   no    female no       \n",
       "725 7.100   10  67.7   no    male   no       "
      ]
     },
     "metadata": {},
     "output_type": "display_data"
    }
   ],
   "source": [
    "tail(LungCapData)  # Last six rows"
   ]
  },
  {
   "cell_type": "code",
   "execution_count": 24,
   "metadata": {},
   "outputs": [
    {
     "data": {
      "text/html": [
       "<table>\n",
       "<thead><tr><th></th><th scope=col>LungCap</th><th scope=col>Age</th><th scope=col>Height</th><th scope=col>Smoke</th><th scope=col>Gender</th><th scope=col>Caesarean</th></tr></thead>\n",
       "<tbody>\n",
       "\t<tr><th scope=row>5</th><td>4.800 </td><td> 5    </td><td>56.9  </td><td>no    </td><td>male  </td><td>no    </td></tr>\n",
       "\t<tr><th scope=row>6</th><td>6.225 </td><td>11    </td><td>58.7  </td><td>no    </td><td>female</td><td>no    </td></tr>\n",
       "\t<tr><th scope=row>7</th><td>4.950 </td><td> 8    </td><td>63.3  </td><td>no    </td><td>male  </td><td>yes   </td></tr>\n",
       "\t<tr><th scope=row>8</th><td>7.325 </td><td>11    </td><td>70.4  </td><td>no    </td><td>male  </td><td>no    </td></tr>\n",
       "\t<tr><th scope=row>9</th><td>8.875 </td><td>15    </td><td>70.5  </td><td>no    </td><td>male  </td><td>no    </td></tr>\n",
       "</tbody>\n",
       "</table>\n"
      ],
      "text/latex": [
       "\\begin{tabular}{r|llllll}\n",
       "  & LungCap & Age & Height & Smoke & Gender & Caesarean\\\\\n",
       "\\hline\n",
       "\t5 & 4.800  &  5     & 56.9   & no     & male   & no    \\\\\n",
       "\t6 & 6.225  & 11     & 58.7   & no     & female & no    \\\\\n",
       "\t7 & 4.950  &  8     & 63.3   & no     & male   & yes   \\\\\n",
       "\t8 & 7.325  & 11     & 70.4   & no     & male   & no    \\\\\n",
       "\t9 & 8.875  & 15     & 70.5   & no     & male   & no    \\\\\n",
       "\\end{tabular}\n"
      ],
      "text/markdown": [
       "\n",
       "| <!--/--> | LungCap | Age | Height | Smoke | Gender | Caesarean |\n",
       "|---|---|---|---|---|---|---|\n",
       "| 5 | 4.800  |  5     | 56.9   | no     | male   | no     |\n",
       "| 6 | 6.225  | 11     | 58.7   | no     | female | no     |\n",
       "| 7 | 4.950  |  8     | 63.3   | no     | male   | yes    |\n",
       "| 8 | 7.325  | 11     | 70.4   | no     | male   | no     |\n",
       "| 9 | 8.875  | 15     | 70.5   | no     | male   | no     |\n",
       "\n"
      ],
      "text/plain": [
       "  LungCap Age Height Smoke Gender Caesarean\n",
       "5 4.800    5  56.9   no    male   no       \n",
       "6 6.225   11  58.7   no    female no       \n",
       "7 4.950    8  63.3   no    male   yes      \n",
       "8 7.325   11  70.4   no    male   no       \n",
       "9 8.875   15  70.5   no    male   no       "
      ]
     },
     "metadata": {},
     "output_type": "display_data"
    }
   ],
   "source": [
    "LungCapData[c(5:9), ]"
   ]
  },
  {
   "cell_type": "code",
   "execution_count": 25,
   "metadata": {},
   "outputs": [
    {
     "data": {
      "text/html": [
       "<ol class=list-inline>\n",
       "\t<li>'LungCap'</li>\n",
       "\t<li>'Age'</li>\n",
       "\t<li>'Height'</li>\n",
       "\t<li>'Smoke'</li>\n",
       "\t<li>'Gender'</li>\n",
       "\t<li>'Caesarean'</li>\n",
       "</ol>\n"
      ],
      "text/latex": [
       "\\begin{enumerate*}\n",
       "\\item 'LungCap'\n",
       "\\item 'Age'\n",
       "\\item 'Height'\n",
       "\\item 'Smoke'\n",
       "\\item 'Gender'\n",
       "\\item 'Caesarean'\n",
       "\\end{enumerate*}\n"
      ],
      "text/markdown": [
       "1. 'LungCap'\n",
       "2. 'Age'\n",
       "3. 'Height'\n",
       "4. 'Smoke'\n",
       "5. 'Gender'\n",
       "6. 'Caesarean'\n",
       "\n",
       "\n"
      ],
      "text/plain": [
       "[1] \"LungCap\"   \"Age\"       \"Height\"    \"Smoke\"     \"Gender\"    \"Caesarean\""
      ]
     },
     "metadata": {},
     "output_type": "display_data"
    }
   ],
   "source": [
    "names(LungCapData)"
   ]
  },
  {
   "cell_type": "markdown",
   "metadata": {},
   "source": [
    "## Working with Variables and Data in R | R Tutorial 1.8 | MarinStatslectures"
   ]
  },
  {
   "cell_type": "code",
   "execution_count": 26,
   "metadata": {},
   "outputs": [
    {
     "data": {
      "text/html": [
       "12.3268965517241"
      ],
      "text/latex": [
       "12.3268965517241"
      ],
      "text/markdown": [
       "12.3268965517241"
      ],
      "text/plain": [
       "[1] 12.3269"
      ]
     },
     "metadata": {},
     "output_type": "display_data"
    }
   ],
   "source": [
    "mean(LungCapData$Age)"
   ]
  },
  {
   "cell_type": "code",
   "execution_count": 27,
   "metadata": {},
   "outputs": [
    {
     "data": {
      "text/html": [
       "12.3268965517241"
      ],
      "text/latex": [
       "12.3268965517241"
      ],
      "text/markdown": [
       "12.3268965517241"
      ],
      "text/plain": [
       "[1] 12.3269"
      ]
     },
     "metadata": {},
     "output_type": "display_data"
    }
   ],
   "source": [
    "mean(LungCapData[[\"Age\"]])"
   ]
  },
  {
   "cell_type": "code",
   "execution_count": 28,
   "metadata": {},
   "outputs": [
    {
     "data": {
      "text/html": [
       "12.3268965517241"
      ],
      "text/latex": [
       "12.3268965517241"
      ],
      "text/markdown": [
       "12.3268965517241"
      ],
      "text/plain": [
       "[1] 12.3269"
      ]
     },
     "metadata": {},
     "output_type": "display_data"
    }
   ],
   "source": [
    "attach(LungCapData)  # attach the data\n",
    "\n",
    "mean(Age)  # Don't need LungCapData\n",
    "\n",
    "detach(LungCapData)"
   ]
  },
  {
   "cell_type": "code",
   "execution_count": 29,
   "metadata": {},
   "outputs": [
    {
     "data": {
      "text/html": [
       "'numeric'"
      ],
      "text/latex": [
       "'numeric'"
      ],
      "text/markdown": [
       "'numeric'"
      ],
      "text/plain": [
       "[1] \"numeric\""
      ]
     },
     "metadata": {},
     "output_type": "display_data"
    },
    {
     "data": {
      "text/html": [
       "'integer'"
      ],
      "text/latex": [
       "'integer'"
      ],
      "text/markdown": [
       "'integer'"
      ],
      "text/plain": [
       "[1] \"integer\""
      ]
     },
     "metadata": {},
     "output_type": "display_data"
    },
    {
     "data": {
      "text/html": [
       "'numeric'"
      ],
      "text/latex": [
       "'numeric'"
      ],
      "text/markdown": [
       "'numeric'"
      ],
      "text/plain": [
       "[1] \"numeric\""
      ]
     },
     "metadata": {},
     "output_type": "display_data"
    },
    {
     "data": {
      "text/html": [
       "'factor'"
      ],
      "text/latex": [
       "'factor'"
      ],
      "text/markdown": [
       "'factor'"
      ],
      "text/plain": [
       "[1] \"factor\""
      ]
     },
     "metadata": {},
     "output_type": "display_data"
    },
    {
     "data": {
      "text/html": [
       "'factor'"
      ],
      "text/latex": [
       "'factor'"
      ],
      "text/markdown": [
       "'factor'"
      ],
      "text/plain": [
       "[1] \"factor\""
      ]
     },
     "metadata": {},
     "output_type": "display_data"
    },
    {
     "data": {
      "text/html": [
       "'factor'"
      ],
      "text/latex": [
       "'factor'"
      ],
      "text/markdown": [
       "'factor'"
      ],
      "text/plain": [
       "[1] \"factor\""
      ]
     },
     "metadata": {},
     "output_type": "display_data"
    }
   ],
   "source": [
    "class(LungCapData$LungCap)\n",
    "class(LungCapData$Age)\n",
    "class(LungCapData$Height)\n",
    "class(LungCapData$Smoke)\n",
    "class(LungCapData$Gender)\n",
    "class(LungCapData$Caesarean)"
   ]
  },
  {
   "cell_type": "code",
   "execution_count": 30,
   "metadata": {},
   "outputs": [
    {
     "data": {
      "text/html": [
       "<ol class=list-inline>\n",
       "\t<li>'no'</li>\n",
       "\t<li>'yes'</li>\n",
       "</ol>\n"
      ],
      "text/latex": [
       "\\begin{enumerate*}\n",
       "\\item 'no'\n",
       "\\item 'yes'\n",
       "\\end{enumerate*}\n"
      ],
      "text/markdown": [
       "1. 'no'\n",
       "2. 'yes'\n",
       "\n",
       "\n"
      ],
      "text/plain": [
       "[1] \"no\"  \"yes\""
      ]
     },
     "metadata": {},
     "output_type": "display_data"
    }
   ],
   "source": [
    "levels(LungCapData$Smoke)"
   ]
  },
  {
   "cell_type": "code",
   "execution_count": 31,
   "metadata": {},
   "outputs": [
    {
     "data": {
      "text/plain": [
       "    LungCap            Age            Height      Smoke        Gender   \n",
       " Min.   : 0.507   Min.   : 3.00   Min.   :45.30   no :648   female:358  \n",
       " 1st Qu.: 6.150   1st Qu.: 9.00   1st Qu.:59.90   yes: 77   male  :367  \n",
       " Median : 8.000   Median :13.00   Median :65.40                         \n",
       " Mean   : 7.863   Mean   :12.33   Mean   :64.84                         \n",
       " 3rd Qu.: 9.800   3rd Qu.:15.00   3rd Qu.:70.30                         \n",
       " Max.   :14.675   Max.   :19.00   Max.   :81.80                         \n",
       " Caesarean\n",
       " no :561  \n",
       " yes:164  \n",
       "          \n",
       "          \n",
       "          \n",
       "          "
      ]
     },
     "metadata": {},
     "output_type": "display_data"
    }
   ],
   "source": [
    "summary(LungCapData)"
   ]
  },
  {
   "cell_type": "code",
   "execution_count": 32,
   "metadata": {},
   "outputs": [
    {
     "data": {
      "text/html": [
       "<dl class=dl-horizontal>\n",
       "\t<dt>0</dt>\n",
       "\t\t<dd>7</dd>\n",
       "\t<dt>1</dt>\n",
       "\t\t<dd>3</dd>\n",
       "</dl>\n"
      ],
      "text/latex": [
       "\\begin{description*}\n",
       "\\item[0] 7\n",
       "\\item[1] 3\n",
       "\\end{description*}\n"
      ],
      "text/markdown": [
       "0\n",
       ":   71\n",
       ":   3\n",
       "\n"
      ],
      "text/plain": [
       "0 1 \n",
       "7 3 "
      ]
     },
     "metadata": {},
     "output_type": "display_data"
    }
   ],
   "source": [
    "# Change to factor\n",
    "x <- c(0,1,1,1,0,0,0,0,0,0)\n",
    "x <- as.factor(x)\n",
    "summary(x)"
   ]
  },
  {
   "cell_type": "markdown",
   "metadata": {},
   "source": [
    "## Subsetting (Sort/Select) Data in R with Square Brackets | R Tutorial 1.9| MarinStatsLectures"
   ]
  },
  {
   "cell_type": "code",
   "execution_count": 33,
   "metadata": {},
   "outputs": [
    {
     "data": {
      "text/html": [
       "725"
      ],
      "text/latex": [
       "725"
      ],
      "text/markdown": [
       "725"
      ],
      "text/plain": [
       "[1] 725"
      ]
     },
     "metadata": {},
     "output_type": "display_data"
    }
   ],
   "source": [
    "length(LungCapData$Age)"
   ]
  },
  {
   "cell_type": "code",
   "execution_count": 34,
   "metadata": {},
   "outputs": [
    {
     "data": {
      "text/html": [
       "12.4497206703911"
      ],
      "text/latex": [
       "12.4497206703911"
      ],
      "text/markdown": [
       "12.4497206703911"
      ],
      "text/plain": [
       "[1] 12.44972"
      ]
     },
     "metadata": {},
     "output_type": "display_data"
    }
   ],
   "source": [
    "# Mean age of females\n",
    "mean(LungCapData$Age[LungCapData$Gender==\"female\"])"
   ]
  },
  {
   "cell_type": "code",
   "execution_count": 35,
   "metadata": {},
   "outputs": [
    {
     "data": {
      "text/html": [
       "<dl class=dl-horizontal>\n",
       "\t<dt>female</dt>\n",
       "\t\t<dd>358</dd>\n",
       "\t<dt>male</dt>\n",
       "\t\t<dd>367</dd>\n",
       "</dl>\n"
      ],
      "text/latex": [
       "\\begin{description*}\n",
       "\\item[female] 358\n",
       "\\item[male] 367\n",
       "\\end{description*}\n"
      ],
      "text/markdown": [
       "female\n",
       ":   358male\n",
       ":   367\n",
       "\n"
      ],
      "text/plain": [
       "female   male \n",
       "   358    367 "
      ]
     },
     "metadata": {},
     "output_type": "display_data"
    }
   ],
   "source": [
    "summary(LungCapData$Gender)"
   ]
  },
  {
   "cell_type": "code",
   "execution_count": 36,
   "metadata": {},
   "outputs": [
    {
     "data": {
      "text/html": [
       "<ol class=list-inline>\n",
       "\t<li>358</li>\n",
       "\t<li>6</li>\n",
       "</ol>\n"
      ],
      "text/latex": [
       "\\begin{enumerate*}\n",
       "\\item 358\n",
       "\\item 6\n",
       "\\end{enumerate*}\n"
      ],
      "text/markdown": [
       "1. 358\n",
       "2. 6\n",
       "\n",
       "\n"
      ],
      "text/plain": [
       "[1] 358   6"
      ]
     },
     "metadata": {},
     "output_type": "display_data"
    }
   ],
   "source": [
    "FemData <- LungCapData[LungCapData$Gender==\"female\", ]\n",
    "dim(FemData)"
   ]
  },
  {
   "cell_type": "code",
   "execution_count": 37,
   "metadata": {},
   "outputs": [
    {
     "data": {
      "text/html": [
       "<ol class=list-inline>\n",
       "\t<li>367</li>\n",
       "\t<li>6</li>\n",
       "</ol>\n"
      ],
      "text/latex": [
       "\\begin{enumerate*}\n",
       "\\item 367\n",
       "\\item 6\n",
       "\\end{enumerate*}\n"
      ],
      "text/markdown": [
       "1. 367\n",
       "2. 6\n",
       "\n",
       "\n"
      ],
      "text/plain": [
       "[1] 367   6"
      ]
     },
     "metadata": {},
     "output_type": "display_data"
    }
   ],
   "source": [
    "MaleData <- LungCapData[LungCapData$Gender==\"male\", ]\n",
    "dim(MaleData)"
   ]
  },
  {
   "cell_type": "markdown",
   "metadata": {},
   "source": [
    "## Logic Statements (TRUE/FALSE), cbind and rbind Functions in R | R Tutorial 1.10| MarinStatsLectures"
   ]
  },
  {
   "cell_type": "code",
   "execution_count": 38,
   "metadata": {},
   "outputs": [
    {
     "data": {
      "text/html": [
       "<ol class=list-inline>\n",
       "\t<li>FALSE</li>\n",
       "\t<li>TRUE</li>\n",
       "\t<li>FALSE</li>\n",
       "\t<li>FALSE</li>\n",
       "</ol>\n"
      ],
      "text/latex": [
       "\\begin{enumerate*}\n",
       "\\item FALSE\n",
       "\\item TRUE\n",
       "\\item FALSE\n",
       "\\item FALSE\n",
       "\\end{enumerate*}\n"
      ],
      "text/markdown": [
       "1. FALSE\n",
       "2. TRUE\n",
       "3. FALSE\n",
       "4. FALSE\n",
       "\n",
       "\n"
      ],
      "text/plain": [
       "[1] FALSE  TRUE FALSE FALSE"
      ]
     },
     "metadata": {},
     "output_type": "display_data"
    }
   ],
   "source": [
    "FemSmoke <- LungCapData$Gender==\"female\" & LungCapData$Smoke==\"yes\"\n",
    "FemSmoke[1:4]"
   ]
  },
  {
   "cell_type": "code",
   "execution_count": 39,
   "metadata": {},
   "outputs": [
    {
     "data": {
      "text/html": [
       "<table>\n",
       "<thead><tr><th scope=col>LungCap</th><th scope=col>Age</th><th scope=col>Height</th><th scope=col>Smoke</th><th scope=col>Gender</th><th scope=col>Caesarean</th><th scope=col>FemSmoke</th></tr></thead>\n",
       "<tbody>\n",
       "\t<tr><td> 6.475</td><td> 6    </td><td>62.1  </td><td>no    </td><td>male  </td><td>no    </td><td>FALSE </td></tr>\n",
       "\t<tr><td>10.125</td><td>18    </td><td>74.7  </td><td>yes   </td><td>female</td><td>no    </td><td> TRUE </td></tr>\n",
       "\t<tr><td> 9.550</td><td>16    </td><td>69.7  </td><td>no    </td><td>female</td><td>yes   </td><td>FALSE </td></tr>\n",
       "\t<tr><td>11.125</td><td>14    </td><td>71.0  </td><td>no    </td><td>male  </td><td>no    </td><td>FALSE </td></tr>\n",
       "\t<tr><td> 4.800</td><td> 5    </td><td>56.9  </td><td>no    </td><td>male  </td><td>no    </td><td>FALSE </td></tr>\n",
       "\t<tr><td> 6.225</td><td>11    </td><td>58.7  </td><td>no    </td><td>female</td><td>no    </td><td>FALSE </td></tr>\n",
       "</tbody>\n",
       "</table>\n"
      ],
      "text/latex": [
       "\\begin{tabular}{r|lllllll}\n",
       " LungCap & Age & Height & Smoke & Gender & Caesarean & FemSmoke\\\\\n",
       "\\hline\n",
       "\t  6.475 &  6     & 62.1   & no     & male   & no     & FALSE \\\\\n",
       "\t 10.125 & 18     & 74.7   & yes    & female & no     &  TRUE \\\\\n",
       "\t  9.550 & 16     & 69.7   & no     & female & yes    & FALSE \\\\\n",
       "\t 11.125 & 14     & 71.0   & no     & male   & no     & FALSE \\\\\n",
       "\t  4.800 &  5     & 56.9   & no     & male   & no     & FALSE \\\\\n",
       "\t  6.225 & 11     & 58.7   & no     & female & no     & FALSE \\\\\n",
       "\\end{tabular}\n"
      ],
      "text/markdown": [
       "\n",
       "| LungCap | Age | Height | Smoke | Gender | Caesarean | FemSmoke |\n",
       "|---|---|---|---|---|---|---|\n",
       "|  6.475 |  6     | 62.1   | no     | male   | no     | FALSE  |\n",
       "| 10.125 | 18     | 74.7   | yes    | female | no     |  TRUE  |\n",
       "|  9.550 | 16     | 69.7   | no     | female | yes    | FALSE  |\n",
       "| 11.125 | 14     | 71.0   | no     | male   | no     | FALSE  |\n",
       "|  4.800 |  5     | 56.9   | no     | male   | no     | FALSE  |\n",
       "|  6.225 | 11     | 58.7   | no     | female | no     | FALSE  |\n",
       "\n"
      ],
      "text/plain": [
       "  LungCap Age Height Smoke Gender Caesarean FemSmoke\n",
       "1  6.475   6  62.1   no    male   no        FALSE   \n",
       "2 10.125  18  74.7   yes   female no         TRUE   \n",
       "3  9.550  16  69.7   no    female yes       FALSE   \n",
       "4 11.125  14  71.0   no    male   no        FALSE   \n",
       "5  4.800   5  56.9   no    male   no        FALSE   \n",
       "6  6.225  11  58.7   no    female no        FALSE   "
      ]
     },
     "metadata": {},
     "output_type": "display_data"
    }
   ],
   "source": [
    "# Add a new line into data.frame\n",
    "MoreData <- cbind(LungCapData, FemSmoke)\n",
    "head(MoreData)"
   ]
  },
  {
   "cell_type": "markdown",
   "metadata": {},
   "source": [
    "## Setting Up Working Directory in R | R Tutorial 1.11 | MarinStatsLectures"
   ]
  },
  {
   "cell_type": "code",
   "execution_count": 40,
   "metadata": {},
   "outputs": [
    {
     "data": {
      "text/html": [
       "'C:/Users/wenad/Documents/GitHub/LearningProgramming/R'"
      ],
      "text/latex": [
       "'C:/Users/wenad/Documents/GitHub/LearningProgramming/R'"
      ],
      "text/markdown": [
       "'C:/Users/wenad/Documents/GitHub/LearningProgramming/R'"
      ],
      "text/plain": [
       "[1] \"C:/Users/wenad/Documents/GitHub/LearningProgramming/R\""
      ]
     },
     "metadata": {},
     "output_type": "display_data"
    }
   ],
   "source": [
    "getwd()"
   ]
  },
  {
   "cell_type": "code",
   "execution_count": 41,
   "metadata": {},
   "outputs": [],
   "source": [
    "# setwd(\"path\")"
   ]
  },
  {
   "cell_type": "code",
   "execution_count": 42,
   "metadata": {},
   "outputs": [],
   "source": [
    "# Save workspace\n",
    "# save.image(\"projectName.Rdata\")\n",
    "\n",
    "# Load workspace\n",
    "# load(\"projectName.Rdata\")\n",
    "# load(file.choose())"
   ]
  },
  {
   "cell_type": "markdown",
   "metadata": {},
   "source": [
    "## How to Install Packages in R | R Tutorial 1.13 | MarinStatsLectures"
   ]
  },
  {
   "cell_type": "code",
   "execution_count": 43,
   "metadata": {},
   "outputs": [
    {
     "name": "stdout",
     "output_type": "stream",
     "text": [
      "package 'epiR' successfully unpacked and MD5 sums checked\n",
      "\n",
      "The downloaded binary packages are in\n",
      "\tC:\\Users\\wenad\\AppData\\Local\\Temp\\Rtmpw5qzgx\\downloaded_packages\n"
     ]
    }
   ],
   "source": [
    "install.packages(\"epiR\")"
   ]
  },
  {
   "cell_type": "code",
   "execution_count": 44,
   "metadata": {},
   "outputs": [],
   "source": [
    "help(package = epiR)  # Get the help menu."
   ]
  },
  {
   "cell_type": "code",
   "execution_count": 45,
   "metadata": {},
   "outputs": [],
   "source": [
    "# remove.packages(\"epiR\")"
   ]
  },
  {
   "cell_type": "markdown",
   "metadata": {},
   "source": [
    "## Apply Function in R | R Tutorial 1.15 | MarinStatsLectures"
   ]
  },
  {
   "cell_type": "code",
   "execution_count": 46,
   "metadata": {},
   "outputs": [
    {
     "data": {
      "text/html": [
       "<table>\n",
       "<thead><tr><th></th><th scope=col>Stock1</th><th scope=col>Stock2</th><th scope=col>Stock3</th><th scope=col>Stock4</th></tr></thead>\n",
       "<tbody>\n",
       "\t<tr><th scope=row>Day1</th><td>185.74</td><td>1.47  </td><td>1605  </td><td>95.05 </td></tr>\n",
       "\t<tr><th scope=row>Day2</th><td>184.26</td><td>1.56  </td><td>1580  </td><td>97.49 </td></tr>\n",
       "\t<tr><th scope=row>Day3</th><td>162.21</td><td>1.39  </td><td>1490  </td><td>88.57 </td></tr>\n",
       "\t<tr><th scope=row>Day4</th><td>159.04</td><td>1.43  </td><td>1520  </td><td>85.55 </td></tr>\n",
       "\t<tr><th scope=row>Day5</th><td>164.87</td><td>1.42  </td><td>1550  </td><td>92.04 </td></tr>\n",
       "\t<tr><th scope=row>Day6</th><td>162.72</td><td>1.36  </td><td>1525  </td><td>91.70 </td></tr>\n",
       "\t<tr><th scope=row>Day7</th><td>157.89</td><td>  NA  </td><td>1495  </td><td>89.88 </td></tr>\n",
       "\t<tr><th scope=row>Day8</th><td>159.49</td><td>1.43  </td><td>1485  </td><td>93.17 </td></tr>\n",
       "\t<tr><th scope=row>Day9</th><td>150.22</td><td>1.57  </td><td>1470  </td><td>90.12 </td></tr>\n",
       "\t<tr><th scope=row>Day10</th><td>151.02</td><td>1.54  </td><td>1510  </td><td>92.14 </td></tr>\n",
       "</tbody>\n",
       "</table>\n"
      ],
      "text/latex": [
       "\\begin{tabular}{r|llll}\n",
       "  & Stock1 & Stock2 & Stock3 & Stock4\\\\\n",
       "\\hline\n",
       "\tDay1 & 185.74 & 1.47   & 1605   & 95.05 \\\\\n",
       "\tDay2 & 184.26 & 1.56   & 1580   & 97.49 \\\\\n",
       "\tDay3 & 162.21 & 1.39   & 1490   & 88.57 \\\\\n",
       "\tDay4 & 159.04 & 1.43   & 1520   & 85.55 \\\\\n",
       "\tDay5 & 164.87 & 1.42   & 1550   & 92.04 \\\\\n",
       "\tDay6 & 162.72 & 1.36   & 1525   & 91.70 \\\\\n",
       "\tDay7 & 157.89 &   NA   & 1495   & 89.88 \\\\\n",
       "\tDay8 & 159.49 & 1.43   & 1485   & 93.17 \\\\\n",
       "\tDay9 & 150.22 & 1.57   & 1470   & 90.12 \\\\\n",
       "\tDay10 & 151.02 & 1.54   & 1510   & 92.14 \\\\\n",
       "\\end{tabular}\n"
      ],
      "text/markdown": [
       "\n",
       "| <!--/--> | Stock1 | Stock2 | Stock3 | Stock4 |\n",
       "|---|---|---|---|---|\n",
       "| Day1 | 185.74 | 1.47   | 1605   | 95.05  |\n",
       "| Day2 | 184.26 | 1.56   | 1580   | 97.49  |\n",
       "| Day3 | 162.21 | 1.39   | 1490   | 88.57  |\n",
       "| Day4 | 159.04 | 1.43   | 1520   | 85.55  |\n",
       "| Day5 | 164.87 | 1.42   | 1550   | 92.04  |\n",
       "| Day6 | 162.72 | 1.36   | 1525   | 91.70  |\n",
       "| Day7 | 157.89 |   NA   | 1495   | 89.88  |\n",
       "| Day8 | 159.49 | 1.43   | 1485   | 93.17  |\n",
       "| Day9 | 150.22 | 1.57   | 1470   | 90.12  |\n",
       "| Day10 | 151.02 | 1.54   | 1510   | 92.14  |\n",
       "\n"
      ],
      "text/plain": [
       "      Stock1 Stock2 Stock3 Stock4\n",
       "Day1  185.74 1.47   1605   95.05 \n",
       "Day2  184.26 1.56   1580   97.49 \n",
       "Day3  162.21 1.39   1490   88.57 \n",
       "Day4  159.04 1.43   1520   85.55 \n",
       "Day5  164.87 1.42   1550   92.04 \n",
       "Day6  162.72 1.36   1525   91.70 \n",
       "Day7  157.89   NA   1495   89.88 \n",
       "Day8  159.49 1.43   1485   93.17 \n",
       "Day9  150.22 1.57   1470   90.12 \n",
       "Day10 151.02 1.54   1510   92.14 "
      ]
     },
     "metadata": {},
     "output_type": "display_data"
    }
   ],
   "source": [
    "Stock1 <- c(185.74, 184.26, 162.21, 159.04, 164.87, 162.72, 157.89, 159.49, 150.22, 151.02)\n",
    "Stock2 <- c(1.47, 1.56, 1.39, 1.43, 1.42, 1.36, NA, 1.43, 1.57, 1.54)\n",
    "Stock3 <- c(1605, 1580, 1490, 1520, 1550, 1525, 1495, 1485, 1470, 1510)\n",
    "Stock4 <- c(95.05, 97.49, 88.57, 85.55, 92.04, 91.70, 89.88, 93.17, 90.12, 92.14)\n",
    "\n",
    "StockData <- data.frame(Stock1, Stock2, Stock3, Stock4)\n",
    "rownames(StockData) <- c(\"Day1\", \"Day2\", \"Day3\", \"Day4\", \"Day5\",\n",
    "                         \"Day6\", \"Day7\", \"Day8\", \"Day9\", \"Day10\")\n",
    "StockData"
   ]
  },
  {
   "cell_type": "code",
   "execution_count": 47,
   "metadata": {},
   "outputs": [
    {
     "data": {
      "text/html": [
       "<dl class=dl-horizontal>\n",
       "\t<dt>Stock1</dt>\n",
       "\t\t<dd>163.746</dd>\n",
       "\t<dt>Stock2</dt>\n",
       "\t\t<dd>1.46333333333333</dd>\n",
       "\t<dt>Stock3</dt>\n",
       "\t\t<dd>1523</dd>\n",
       "\t<dt>Stock4</dt>\n",
       "\t\t<dd>91.571</dd>\n",
       "</dl>\n"
      ],
      "text/latex": [
       "\\begin{description*}\n",
       "\\item[Stock1] 163.746\n",
       "\\item[Stock2] 1.46333333333333\n",
       "\\item[Stock3] 1523\n",
       "\\item[Stock4] 91.571\n",
       "\\end{description*}\n"
      ],
      "text/markdown": [
       "Stock1\n",
       ":   163.746Stock2\n",
       ":   1.46333333333333Stock3\n",
       ":   1523Stock4\n",
       ":   91.571\n",
       "\n"
      ],
      "text/plain": [
       "     Stock1      Stock2      Stock3      Stock4 \n",
       " 163.746000    1.463333 1523.000000   91.571000 "
      ]
     },
     "metadata": {},
     "output_type": "display_data"
    }
   ],
   "source": [
    "# Replace loop functions in R\n",
    "# apply(X=StockData, MARGIN=2, FUN=mean, na.rm=TRUE) # MARGIN: 1==row, 2==column\n",
    "apply(StockData, 2, mean, na.rm=TRUE)"
   ]
  },
  {
   "cell_type": "code",
   "execution_count": 48,
   "metadata": {},
   "outputs": [
    {
     "data": {
      "text/html": [
       "<dl class=dl-horizontal>\n",
       "\t<dt>Stock1</dt>\n",
       "\t\t<dd>163.746</dd>\n",
       "\t<dt>Stock2</dt>\n",
       "\t\t<dd>1.46333333333333</dd>\n",
       "\t<dt>Stock3</dt>\n",
       "\t\t<dd>1523</dd>\n",
       "\t<dt>Stock4</dt>\n",
       "\t\t<dd>91.571</dd>\n",
       "</dl>\n"
      ],
      "text/latex": [
       "\\begin{description*}\n",
       "\\item[Stock1] 163.746\n",
       "\\item[Stock2] 1.46333333333333\n",
       "\\item[Stock3] 1523\n",
       "\\item[Stock4] 91.571\n",
       "\\end{description*}\n"
      ],
      "text/markdown": [
       "Stock1\n",
       ":   163.746Stock2\n",
       ":   1.46333333333333Stock3\n",
       ":   1523Stock4\n",
       ":   91.571\n",
       "\n"
      ],
      "text/plain": [
       "     Stock1      Stock2      Stock3      Stock4 \n",
       " 163.746000    1.463333 1523.000000   91.571000 "
      ]
     },
     "metadata": {},
     "output_type": "display_data"
    }
   ],
   "source": [
    "# Another method to calculate column mean\n",
    "colMeans(StockData, na.rm=TRUE)"
   ]
  },
  {
   "cell_type": "code",
   "execution_count": 49,
   "metadata": {},
   "outputs": [
    {
     "data": {
      "text/html": [
       "<dl class=dl-horizontal>\n",
       "\t<dt>Day1</dt>\n",
       "\t\t<dd>471.815</dd>\n",
       "\t<dt>Day2</dt>\n",
       "\t\t<dd>465.8275</dd>\n",
       "\t<dt>Day3</dt>\n",
       "\t\t<dd>435.5425</dd>\n",
       "\t<dt>Day4</dt>\n",
       "\t\t<dd>441.505</dd>\n",
       "\t<dt>Day5</dt>\n",
       "\t\t<dd>452.0825</dd>\n",
       "\t<dt>Day6</dt>\n",
       "\t\t<dd>445.195</dd>\n",
       "\t<dt>Day7</dt>\n",
       "\t\t<dd>580.923333333333</dd>\n",
       "\t<dt>Day8</dt>\n",
       "\t\t<dd>434.7725</dd>\n",
       "\t<dt>Day9</dt>\n",
       "\t\t<dd>427.9775</dd>\n",
       "\t<dt>Day10</dt>\n",
       "\t\t<dd>438.675</dd>\n",
       "</dl>\n"
      ],
      "text/latex": [
       "\\begin{description*}\n",
       "\\item[Day1] 471.815\n",
       "\\item[Day2] 465.8275\n",
       "\\item[Day3] 435.5425\n",
       "\\item[Day4] 441.505\n",
       "\\item[Day5] 452.0825\n",
       "\\item[Day6] 445.195\n",
       "\\item[Day7] 580.923333333333\n",
       "\\item[Day8] 434.7725\n",
       "\\item[Day9] 427.9775\n",
       "\\item[Day10] 438.675\n",
       "\\end{description*}\n"
      ],
      "text/markdown": [
       "Day1\n",
       ":   471.815Day2\n",
       ":   465.8275Day3\n",
       ":   435.5425Day4\n",
       ":   441.505Day5\n",
       ":   452.0825Day6\n",
       ":   445.195Day7\n",
       ":   580.923333333333Day8\n",
       ":   434.7725Day9\n",
       ":   427.9775Day10\n",
       ":   438.675\n",
       "\n"
      ],
      "text/plain": [
       "    Day1     Day2     Day3     Day4     Day5     Day6     Day7     Day8 \n",
       "471.8150 465.8275 435.5425 441.5050 452.0825 445.1950 580.9233 434.7725 \n",
       "    Day9    Day10 \n",
       "427.9775 438.6750 "
      ]
     },
     "metadata": {},
     "output_type": "display_data"
    }
   ],
   "source": [
    "rowMeans(StockData, na.rm=TRUE)"
   ]
  },
  {
   "cell_type": "code",
   "execution_count": 50,
   "metadata": {},
   "outputs": [
    {
     "data": {
      "text/html": [
       "<dl class=dl-horizontal>\n",
       "\t<dt>Stock1</dt>\n",
       "\t\t<dd>185.74</dd>\n",
       "\t<dt>Stock2</dt>\n",
       "\t\t<dd>1.57</dd>\n",
       "\t<dt>Stock3</dt>\n",
       "\t\t<dd>1605</dd>\n",
       "\t<dt>Stock4</dt>\n",
       "\t\t<dd>97.49</dd>\n",
       "</dl>\n"
      ],
      "text/latex": [
       "\\begin{description*}\n",
       "\\item[Stock1] 185.74\n",
       "\\item[Stock2] 1.57\n",
       "\\item[Stock3] 1605\n",
       "\\item[Stock4] 97.49\n",
       "\\end{description*}\n"
      ],
      "text/markdown": [
       "Stock1\n",
       ":   185.74Stock2\n",
       ":   1.57Stock3\n",
       ":   1605Stock4\n",
       ":   97.49\n",
       "\n"
      ],
      "text/plain": [
       " Stock1  Stock2  Stock3  Stock4 \n",
       " 185.74    1.57 1605.00   97.49 "
      ]
     },
     "metadata": {},
     "output_type": "display_data"
    }
   ],
   "source": [
    "# Max\n",
    "apply(X=StockData, MARGIN=2, FUN=max, na.rm=TRUE)"
   ]
  },
  {
   "cell_type": "code",
   "execution_count": 51,
   "metadata": {},
   "outputs": [
    {
     "data": {
      "text/html": [
       "<table>\n",
       "<thead><tr><th></th><th scope=col>Stock1</th><th scope=col>Stock2</th><th scope=col>Stock3</th><th scope=col>Stock4</th></tr></thead>\n",
       "<tbody>\n",
       "\t<tr><th scope=row>20%</th><td>156.516</td><td>1.408  </td><td>1489   </td><td>89.618 </td></tr>\n",
       "\t<tr><th scope=row>80%</th><td>168.748</td><td>1.548  </td><td>1556   </td><td>93.546 </td></tr>\n",
       "</tbody>\n",
       "</table>\n"
      ],
      "text/latex": [
       "\\begin{tabular}{r|llll}\n",
       "  & Stock1 & Stock2 & Stock3 & Stock4\\\\\n",
       "\\hline\n",
       "\t20\\% & 156.516 & 1.408   & 1489    & 89.618 \\\\\n",
       "\t80\\% & 168.748 & 1.548   & 1556    & 93.546 \\\\\n",
       "\\end{tabular}\n"
      ],
      "text/markdown": [
       "\n",
       "| <!--/--> | Stock1 | Stock2 | Stock3 | Stock4 |\n",
       "|---|---|---|---|---|\n",
       "| 20% | 156.516 | 1.408   | 1489    | 89.618  |\n",
       "| 80% | 168.748 | 1.548   | 1556    | 93.546  |\n",
       "\n"
      ],
      "text/plain": [
       "    Stock1  Stock2 Stock3 Stock4\n",
       "20% 156.516 1.408  1489   89.618\n",
       "80% 168.748 1.548  1556   93.546"
      ]
     },
     "metadata": {},
     "output_type": "display_data"
    }
   ],
   "source": [
    "# Percentile\n",
    "apply(X=StockData, MARGIN=2, FUN=quantile, probs=c(0.2, 0.80), na.rm=TRUE)"
   ]
  },
  {
   "cell_type": "code",
   "execution_count": 52,
   "metadata": {},
   "outputs": [
    {
     "data": {
      "image/png": "[encoded data removed]",
      "text/plain": [
       "Plot with title \"stock\""
      ]
     },
     "metadata": {},
     "output_type": "display_data"
    },
    {
     "data": {
      "image/png": "[encoded data removed]",
      "text/plain": [
       "Plot with title \"stock\""
      ]
     },
     "metadata": {},
     "output_type": "display_data"
    },
    {
     "data": {
      "image/png": "[encoded data removed]",
      "text/plain": [
       "Plot with title \"stock\""
      ]
     },
     "metadata": {},
     "output_type": "display_data"
    },
    {
     "data": {
      "text/plain": [
       "NULL"
      ]
     },
     "metadata": {},
     "output_type": "display_data"
    },
    {
     "data": {
      "image/png": "[encoded data removed]",
      "text/plain": [
       "Plot with title \"stock\""
      ]
     },
     "metadata": {},
     "output_type": "display_data"
    }
   ],
   "source": [
    "library(repr)\n",
    "options(repr.plot.width=4, repr.plot.height=3)\n",
    "# Plot\n",
    "apply(X=StockData, MARGIN=2, FUN=plot, type=\"l\", main=\"stock\", ylab=\"Price\", xlab=\"Day\")"
   ]
  },
  {
   "cell_type": "code",
   "execution_count": 53,
   "metadata": {},
   "outputs": [
    {
     "data": {
      "text/html": [
       "<dl class=dl-horizontal>\n",
       "\t<dt>Day1</dt>\n",
       "\t\t<dd>1887.26</dd>\n",
       "\t<dt>Day2</dt>\n",
       "\t\t<dd>1863.31</dd>\n",
       "\t<dt>Day3</dt>\n",
       "\t\t<dd>1742.17</dd>\n",
       "\t<dt>Day4</dt>\n",
       "\t\t<dd>1766.02</dd>\n",
       "\t<dt>Day5</dt>\n",
       "\t\t<dd>1808.33</dd>\n",
       "\t<dt>Day6</dt>\n",
       "\t\t<dd>1780.78</dd>\n",
       "\t<dt>Day7</dt>\n",
       "\t\t<dd>1742.77</dd>\n",
       "\t<dt>Day8</dt>\n",
       "\t\t<dd>1739.09</dd>\n",
       "\t<dt>Day9</dt>\n",
       "\t\t<dd>1711.91</dd>\n",
       "\t<dt>Day10</dt>\n",
       "\t\t<dd>1754.7</dd>\n",
       "</dl>\n"
      ],
      "text/latex": [
       "\\begin{description*}\n",
       "\\item[Day1] 1887.26\n",
       "\\item[Day2] 1863.31\n",
       "\\item[Day3] 1742.17\n",
       "\\item[Day4] 1766.02\n",
       "\\item[Day5] 1808.33\n",
       "\\item[Day6] 1780.78\n",
       "\\item[Day7] 1742.77\n",
       "\\item[Day8] 1739.09\n",
       "\\item[Day9] 1711.91\n",
       "\\item[Day10] 1754.7\n",
       "\\end{description*}\n"
      ],
      "text/markdown": [
       "Day1\n",
       ":   1887.26Day2\n",
       ":   1863.31Day3\n",
       ":   1742.17Day4\n",
       ":   1766.02Day5\n",
       ":   1808.33Day6\n",
       ":   1780.78Day7\n",
       ":   1742.77Day8\n",
       ":   1739.09Day9\n",
       ":   1711.91Day10\n",
       ":   1754.7\n",
       "\n"
      ],
      "text/plain": [
       "   Day1    Day2    Day3    Day4    Day5    Day6    Day7    Day8    Day9   Day10 \n",
       "1887.26 1863.31 1742.17 1766.02 1808.33 1780.78 1742.77 1739.09 1711.91 1754.70 "
      ]
     },
     "metadata": {},
     "output_type": "display_data"
    }
   ],
   "source": [
    "rowSums(StockData, na.rm=TRUE)"
   ]
  },
  {
   "cell_type": "code",
   "execution_count": 54,
   "metadata": {},
   "outputs": [
    {
     "data": {
      "image/png": "[encoded data removed]",
      "text/plain": [
       "Plot with title \"Market Trend\""
      ]
     },
     "metadata": {},
     "output_type": "display_data"
    }
   ],
   "source": [
    "plot(apply(StockData, 1, sum, na.rm=TRUE),\n",
    "     type=\"l\", ylab=\"Total Market Value\", xlab=\"Day\", main=\"Market Trend\")\n",
    "points(apply(StockData, 1, sum, na.rm=TRUE), type=\"l\",\n",
    "       pch=16, col=\"blue\")"
   ]
  },
  {
   "cell_type": "markdown",
   "metadata": {},
   "source": [
    "## tApply Function in R | R Tutorial 1.16 | MarinStatsLectures\n",
    "tapply(X, INDEX, FUN = NULL, ..., simplify = TRUE)"
   ]
  },
  {
   "cell_type": "code",
   "execution_count": 55,
   "metadata": {},
   "outputs": [
    {
     "data": {
      "text/html": [
       "<table>\n",
       "<thead><tr><th scope=col>LungCap</th><th scope=col>Age</th><th scope=col>Height</th><th scope=col>Smoke</th><th scope=col>Gender</th><th scope=col>Caesarean</th></tr></thead>\n",
       "<tbody>\n",
       "\t<tr><td> 6.475</td><td> 6    </td><td>62.1  </td><td>no    </td><td>male  </td><td>no    </td></tr>\n",
       "\t<tr><td>10.125</td><td>18    </td><td>74.7  </td><td>yes   </td><td>female</td><td>no    </td></tr>\n",
       "\t<tr><td> 9.550</td><td>16    </td><td>69.7  </td><td>no    </td><td>female</td><td>yes   </td></tr>\n",
       "\t<tr><td>11.125</td><td>14    </td><td>71.0  </td><td>no    </td><td>male  </td><td>no    </td></tr>\n",
       "\t<tr><td> 4.800</td><td> 5    </td><td>56.9  </td><td>no    </td><td>male  </td><td>no    </td></tr>\n",
       "\t<tr><td> 6.225</td><td>11    </td><td>58.7  </td><td>no    </td><td>female</td><td>no    </td></tr>\n",
       "</tbody>\n",
       "</table>\n"
      ],
      "text/latex": [
       "\\begin{tabular}{r|llllll}\n",
       " LungCap & Age & Height & Smoke & Gender & Caesarean\\\\\n",
       "\\hline\n",
       "\t  6.475 &  6     & 62.1   & no     & male   & no    \\\\\n",
       "\t 10.125 & 18     & 74.7   & yes    & female & no    \\\\\n",
       "\t  9.550 & 16     & 69.7   & no     & female & yes   \\\\\n",
       "\t 11.125 & 14     & 71.0   & no     & male   & no    \\\\\n",
       "\t  4.800 &  5     & 56.9   & no     & male   & no    \\\\\n",
       "\t  6.225 & 11     & 58.7   & no     & female & no    \\\\\n",
       "\\end{tabular}\n"
      ],
      "text/markdown": [
       "\n",
       "| LungCap | Age | Height | Smoke | Gender | Caesarean |\n",
       "|---|---|---|---|---|---|\n",
       "|  6.475 |  6     | 62.1   | no     | male   | no     |\n",
       "| 10.125 | 18     | 74.7   | yes    | female | no     |\n",
       "|  9.550 | 16     | 69.7   | no     | female | yes    |\n",
       "| 11.125 | 14     | 71.0   | no     | male   | no     |\n",
       "|  4.800 |  5     | 56.9   | no     | male   | no     |\n",
       "|  6.225 | 11     | 58.7   | no     | female | no     |\n",
       "\n"
      ],
      "text/plain": [
       "  LungCap Age Height Smoke Gender Caesarean\n",
       "1  6.475   6  62.1   no    male   no       \n",
       "2 10.125  18  74.7   yes   female no       \n",
       "3  9.550  16  69.7   no    female yes      \n",
       "4 11.125  14  71.0   no    male   no       \n",
       "5  4.800   5  56.9   no    male   no       \n",
       "6  6.225  11  58.7   no    female no       "
      ]
     },
     "metadata": {},
     "output_type": "display_data"
    }
   ],
   "source": [
    "head(LungCapData)"
   ]
  },
  {
   "cell_type": "code",
   "execution_count": 56,
   "metadata": {},
   "outputs": [
    {
     "data": {
      "text/html": [
       "<dl class=dl-horizontal>\n",
       "\t<dt>no</dt>\n",
       "\t\t<dd>12.0354938271605</dd>\n",
       "\t<dt>yes</dt>\n",
       "\t\t<dd>14.7792207792208</dd>\n",
       "</dl>\n"
      ],
      "text/latex": [
       "\\begin{description*}\n",
       "\\item[no] 12.0354938271605\n",
       "\\item[yes] 14.7792207792208\n",
       "\\end{description*}\n"
      ],
      "text/markdown": [
       "no\n",
       ":   12.0354938271605yes\n",
       ":   14.7792207792208\n",
       "\n"
      ],
      "text/plain": [
       "      no      yes \n",
       "12.03549 14.77922 "
      ]
     },
     "metadata": {},
     "output_type": "display_data"
    }
   ],
   "source": [
    "# Get the subset of the data\n",
    "tapply(X=LungCapData$Age, INDEX=LungCapData$Smoke, FUN=mean, na.rm=T)"
   ]
  },
  {
   "cell_type": "code",
   "execution_count": 57,
   "metadata": {},
   "outputs": [
    {
     "data": {
      "text/html": [
       "<dl>\n",
       "\t<dt>$no</dt>\n",
       "\t\t<dd>12.0354938271605</dd>\n",
       "\t<dt>$yes</dt>\n",
       "\t\t<dd>14.7792207792208</dd>\n",
       "</dl>\n"
      ],
      "text/latex": [
       "\\begin{description}\n",
       "\\item[\\$no] 12.0354938271605\n",
       "\\item[\\$yes] 14.7792207792208\n",
       "\\end{description}\n"
      ],
      "text/markdown": [
       "$no\n",
       ":   12.0354938271605\n",
       "$yes\n",
       ":   14.7792207792208\n",
       "\n",
       "\n"
      ],
      "text/plain": [
       "$no\n",
       "[1] 12.03549\n",
       "\n",
       "$yes\n",
       "[1] 14.77922\n"
      ]
     },
     "metadata": {},
     "output_type": "display_data"
    }
   ],
   "source": [
    "tapply(X=LungCapData$Age, INDEX=LungCapData$Smoke, FUN=mean, na.rm=T, simplify=FALSE)"
   ]
  },
  {
   "cell_type": "code",
   "execution_count": 58,
   "metadata": {},
   "outputs": [
    {
     "data": {
      "text/html": [
       "12.0354938271605"
      ],
      "text/latex": [
       "12.0354938271605"
      ],
      "text/markdown": [
       "12.0354938271605"
      ],
      "text/plain": [
       "[1] 12.03549"
      ]
     },
     "metadata": {},
     "output_type": "display_data"
    },
    {
     "data": {
      "text/html": [
       "14.7792207792208"
      ],
      "text/latex": [
       "14.7792207792208"
      ],
      "text/markdown": [
       "14.7792207792208"
      ],
      "text/plain": [
       "[1] 14.77922"
      ]
     },
     "metadata": {},
     "output_type": "display_data"
    }
   ],
   "source": [
    "# Same as this\n",
    "mean(LungCapData$Age[LungCapData$Smoke==\"no\"])\n",
    "mean(LungCapData$Age[LungCapData$Smoke==\"yes\"])"
   ]
  },
  {
   "cell_type": "code",
   "execution_count": 59,
   "metadata": {},
   "outputs": [
    {
     "data": {
      "text/html": [
       "<dl>\n",
       "\t<dt>$no</dt>\n",
       "\t\t<dd><dl class=dl-horizontal>\n",
       "\t<dt>20%</dt>\n",
       "\t\t<dd>8</dd>\n",
       "\t<dt>80%</dt>\n",
       "\t\t<dd>16</dd>\n",
       "</dl>\n",
       "</dd>\n",
       "\t<dt>$yes</dt>\n",
       "\t\t<dd><dl class=dl-horizontal>\n",
       "\t<dt>20%</dt>\n",
       "\t\t<dd>12</dd>\n",
       "\t<dt>80%</dt>\n",
       "\t\t<dd>17</dd>\n",
       "</dl>\n",
       "</dd>\n",
       "</dl>\n"
      ],
      "text/latex": [
       "\\begin{description}\n",
       "\\item[\\$no] \\begin{description*}\n",
       "\\item[20\\textbackslash{}\\%] 8\n",
       "\\item[80\\textbackslash{}\\%] 16\n",
       "\\end{description*}\n",
       "\n",
       "\\item[\\$yes] \\begin{description*}\n",
       "\\item[20\\textbackslash{}\\%] 12\n",
       "\\item[80\\textbackslash{}\\%] 17\n",
       "\\end{description*}\n",
       "\n",
       "\\end{description}\n"
      ],
      "text/markdown": [
       "$no\n",
       ":   20%\n",
       ":   880%\n",
       ":   16\n",
       "\n",
       "\n",
       "$yes\n",
       ":   20%\n",
       ":   1280%\n",
       ":   17\n",
       "\n",
       "\n",
       "\n",
       "\n"
      ],
      "text/plain": [
       "$no\n",
       "20% 80% \n",
       "  8  16 \n",
       "\n",
       "$yes\n",
       "20% 80% \n",
       " 12  17 \n"
      ]
     },
     "metadata": {},
     "output_type": "display_data"
    }
   ],
   "source": [
    "tapply(LungCapData$Age, LungCapData$Smoke, quantile, probs=c(0.2, 0.8))"
   ]
  },
  {
   "cell_type": "code",
   "execution_count": 60,
   "metadata": {},
   "outputs": [
    {
     "data": {
      "text/html": [
       "<table>\n",
       "<thead><tr><th></th><th scope=col>female</th><th scope=col>male</th></tr></thead>\n",
       "<tbody>\n",
       "\t<tr><th scope=row>no</th><td>12.12739</td><td>11.94910</td></tr>\n",
       "\t<tr><th scope=row>yes</th><td>14.75000</td><td>14.81818</td></tr>\n",
       "</tbody>\n",
       "</table>\n"
      ],
      "text/latex": [
       "\\begin{tabular}{r|ll}\n",
       "  & female & male\\\\\n",
       "\\hline\n",
       "\tno & 12.12739 & 11.94910\\\\\n",
       "\tyes & 14.75000 & 14.81818\\\\\n",
       "\\end{tabular}\n"
      ],
      "text/markdown": [
       "\n",
       "| <!--/--> | female | male |\n",
       "|---|---|---|\n",
       "| no | 12.12739 | 11.94910 |\n",
       "| yes | 14.75000 | 14.81818 |\n",
       "\n"
      ],
      "text/plain": [
       "    female   male    \n",
       "no  12.12739 11.94910\n",
       "yes 14.75000 14.81818"
      ]
     },
     "metadata": {},
     "output_type": "display_data"
    }
   ],
   "source": [
    "tapply(LungCapData$Age, list(LungCapData$Smoke, LungCapData$Gender), mean)"
   ]
  }
 ],
 "metadata": {
  "kernelspec": {
   "display_name": "R",
   "language": "R",
   "name": "ir"
  },
  "language_info": {
   "codemirror_mode": "r",
   "file_extension": ".r",
   "mimetype": "text/x-r-source",
   "name": "R",
   "pygments_lexer": "r",
   "version": "3.6.1"
  }
 },
 "nbformat": 4,
 "nbformat_minor": 2
}
