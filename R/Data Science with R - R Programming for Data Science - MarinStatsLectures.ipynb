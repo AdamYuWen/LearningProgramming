{
 "cells": [
  {
   "cell_type": "markdown",
   "metadata": {},
   "source": [
    "# Notes for YouTube R Tutorials\n",
    "## Data Science with R - R Programming for Data Science - MarinStatsLectures\n",
    "https://www.youtube.com/watch?v=riONFzJdXcs&list=PLqzoL9-eJTNDw71zWePXyHx3_cm_fMP8S"
   ]
  },
  {
   "cell_type": "markdown",
   "metadata": {},
   "source": [
    "## Getting started with R: Basic Arithmetic and Coding in R | R Tutorial 1.3 | MarinStatsLectures"
   ]
  },
  {
   "cell_type": "code",
   "execution_count": 1,
   "metadata": {},
   "outputs": [
    {
     "data": {
      "text/html": [
       "<ol class=list-inline>\n",
       "\t<li>'x'</li>\n",
       "\t<li>'y'</li>\n",
       "</ol>\n"
      ],
      "text/latex": [
       "\\begin{enumerate*}\n",
       "\\item 'x'\n",
       "\\item 'y'\n",
       "\\end{enumerate*}\n"
      ],
      "text/markdown": [
       "1. 'x'\n",
       "2. 'y'\n",
       "\n",
       "\n"
      ],
      "text/plain": [
       "[1] \"x\" \"y\""
      ]
     },
     "metadata": {},
     "output_type": "display_data"
    }
   ],
   "source": [
    "x = 11\n",
    "y <- 9\n",
    "\n",
    "ls()  # List all variables."
   ]
  },
  {
   "cell_type": "code",
   "execution_count": 2,
   "metadata": {},
   "outputs": [
    {
     "data": {
      "text/html": [
       "'x'"
      ],
      "text/latex": [
       "'x'"
      ],
      "text/markdown": [
       "'x'"
      ],
      "text/plain": [
       "[1] \"x\""
      ]
     },
     "metadata": {},
     "output_type": "display_data"
    }
   ],
   "source": [
    "rm(y)  # Remove a variable\n",
    "ls()"
   ]
  },
  {
   "cell_type": "code",
   "execution_count": 3,
   "metadata": {},
   "outputs": [
    {
     "data": {
      "text/html": [
       "2.39789527279837"
      ],
      "text/latex": [
       "2.39789527279837"
      ],
      "text/markdown": [
       "2.39789527279837"
      ],
      "text/plain": [
       "[1] 2.397895"
      ]
     },
     "metadata": {},
     "output_type": "display_data"
    }
   ],
   "source": [
    "log(x)  # Natural log"
   ]
  },
  {
   "cell_type": "code",
   "execution_count": 5,
   "metadata": {},
   "outputs": [
    {
     "data": {
      "text/html": [
       "3.4594316186373"
      ],
      "text/latex": [
       "3.4594316186373"
      ],
      "text/markdown": [
       "3.4594316186373"
      ],
      "text/plain": [
       "[1] 3.459432"
      ]
     },
     "metadata": {},
     "output_type": "display_data"
    }
   ],
   "source": [
    "log2(x)"
   ]
  },
  {
   "cell_type": "markdown",
   "metadata": {},
   "source": [
    "# Create and Work with Vectors and Matrices in R | R Tutorial 1.4 | MarinStatslectures"
   ]
  },
  {
   "cell_type": "code",
   "execution_count": 7,
   "metadata": {},
   "outputs": [
    {
     "data": {
      "text/html": [
       "<ol class=list-inline>\n",
       "\t<li>1</li>\n",
       "\t<li>1.5</li>\n",
       "\t<li>2</li>\n",
       "\t<li>2.5</li>\n",
       "\t<li>3</li>\n",
       "\t<li>3.5</li>\n",
       "\t<li>4</li>\n",
       "\t<li>4.5</li>\n",
       "\t<li>5</li>\n",
       "\t<li>5.5</li>\n",
       "\t<li>6</li>\n",
       "\t<li>6.5</li>\n",
       "\t<li>7</li>\n",
       "</ol>\n"
      ],
      "text/latex": [
       "\\begin{enumerate*}\n",
       "\\item 1\n",
       "\\item 1.5\n",
       "\\item 2\n",
       "\\item 2.5\n",
       "\\item 3\n",
       "\\item 3.5\n",
       "\\item 4\n",
       "\\item 4.5\n",
       "\\item 5\n",
       "\\item 5.5\n",
       "\\item 6\n",
       "\\item 6.5\n",
       "\\item 7\n",
       "\\end{enumerate*}\n"
      ],
      "text/markdown": [
       "1. 1\n",
       "2. 1.5\n",
       "3. 2\n",
       "4. 2.5\n",
       "5. 3\n",
       "6. 3.5\n",
       "7. 4\n",
       "8. 4.5\n",
       "9. 5\n",
       "10. 5.5\n",
       "11. 6\n",
       "12. 6.5\n",
       "13. 7\n",
       "\n",
       "\n"
      ],
      "text/plain": [
       " [1] 1.0 1.5 2.0 2.5 3.0 3.5 4.0 4.5 5.0 5.5 6.0 6.5 7.0"
      ]
     },
     "metadata": {},
     "output_type": "display_data"
    }
   ],
   "source": [
    "seq(from=1, to=7, by=1/2)"
   ]
  },
  {
   "cell_type": "code",
   "execution_count": 8,
   "metadata": {},
   "outputs": [
    {
     "data": {
      "text/html": [
       "<ol class=list-inline>\n",
       "\t<li>1</li>\n",
       "\t<li>1</li>\n",
       "\t<li>1</li>\n",
       "\t<li>1</li>\n",
       "\t<li>1</li>\n",
       "\t<li>1</li>\n",
       "\t<li>1</li>\n",
       "\t<li>1</li>\n",
       "\t<li>1</li>\n",
       "\t<li>1</li>\n",
       "</ol>\n"
      ],
      "text/latex": [
       "\\begin{enumerate*}\n",
       "\\item 1\n",
       "\\item 1\n",
       "\\item 1\n",
       "\\item 1\n",
       "\\item 1\n",
       "\\item 1\n",
       "\\item 1\n",
       "\\item 1\n",
       "\\item 1\n",
       "\\item 1\n",
       "\\end{enumerate*}\n"
      ],
      "text/markdown": [
       "1. 1\n",
       "2. 1\n",
       "3. 1\n",
       "4. 1\n",
       "5. 1\n",
       "6. 1\n",
       "7. 1\n",
       "8. 1\n",
       "9. 1\n",
       "10. 1\n",
       "\n",
       "\n"
      ],
      "text/plain": [
       " [1] 1 1 1 1 1 1 1 1 1 1"
      ]
     },
     "metadata": {},
     "output_type": "display_data"
    }
   ],
   "source": [
    "rep(1, times=10)"
   ]
  },
  {
   "cell_type": "code",
   "execution_count": 10,
   "metadata": {},
   "outputs": [
    {
     "data": {
      "text/html": [
       "<ol class=list-inline>\n",
       "\t<li>'marin'</li>\n",
       "\t<li>'marin'</li>\n",
       "\t<li>'marin'</li>\n",
       "\t<li>'marin'</li>\n",
       "\t<li>'marin'</li>\n",
       "</ol>\n"
      ],
      "text/latex": [
       "\\begin{enumerate*}\n",
       "\\item 'marin'\n",
       "\\item 'marin'\n",
       "\\item 'marin'\n",
       "\\item 'marin'\n",
       "\\item 'marin'\n",
       "\\end{enumerate*}\n"
      ],
      "text/markdown": [
       "1. 'marin'\n",
       "2. 'marin'\n",
       "3. 'marin'\n",
       "4. 'marin'\n",
       "5. 'marin'\n",
       "\n",
       "\n"
      ],
      "text/plain": [
       "[1] \"marin\" \"marin\" \"marin\" \"marin\" \"marin\""
      ]
     },
     "metadata": {},
     "output_type": "display_data"
    }
   ],
   "source": [
    "rep(\"marin\", times=5)"
   ]
  },
  {
   "cell_type": "code",
   "execution_count": 11,
   "metadata": {},
   "outputs": [
    {
     "data": {
      "text/html": [
       "<ol class=list-inline>\n",
       "\t<li>1</li>\n",
       "\t<li>2</li>\n",
       "\t<li>3</li>\n",
       "\t<li>1</li>\n",
       "\t<li>2</li>\n",
       "\t<li>3</li>\n",
       "\t<li>1</li>\n",
       "\t<li>2</li>\n",
       "\t<li>3</li>\n",
       "\t<li>1</li>\n",
       "\t<li>2</li>\n",
       "\t<li>3</li>\n",
       "\t<li>1</li>\n",
       "\t<li>2</li>\n",
       "\t<li>3</li>\n",
       "</ol>\n"
      ],
      "text/latex": [
       "\\begin{enumerate*}\n",
       "\\item 1\n",
       "\\item 2\n",
       "\\item 3\n",
       "\\item 1\n",
       "\\item 2\n",
       "\\item 3\n",
       "\\item 1\n",
       "\\item 2\n",
       "\\item 3\n",
       "\\item 1\n",
       "\\item 2\n",
       "\\item 3\n",
       "\\item 1\n",
       "\\item 2\n",
       "\\item 3\n",
       "\\end{enumerate*}\n"
      ],
      "text/markdown": [
       "1. 1\n",
       "2. 2\n",
       "3. 3\n",
       "4. 1\n",
       "5. 2\n",
       "6. 3\n",
       "7. 1\n",
       "8. 2\n",
       "9. 3\n",
       "10. 1\n",
       "11. 2\n",
       "12. 3\n",
       "13. 1\n",
       "14. 2\n",
       "15. 3\n",
       "\n",
       "\n"
      ],
      "text/plain": [
       " [1] 1 2 3 1 2 3 1 2 3 1 2 3 1 2 3"
      ]
     },
     "metadata": {},
     "output_type": "display_data"
    }
   ],
   "source": [
    "rep(1:3, times=5)"
   ]
  },
  {
   "cell_type": "code",
   "execution_count": 12,
   "metadata": {},
   "outputs": [
    {
     "data": {
      "text/html": [
       "<ol class=list-inline>\n",
       "\t<li>2</li>\n",
       "\t<li>2.25</li>\n",
       "\t<li>2.5</li>\n",
       "\t<li>2.75</li>\n",
       "\t<li>3</li>\n",
       "\t<li>3.25</li>\n",
       "\t<li>3.5</li>\n",
       "\t<li>3.75</li>\n",
       "\t<li>4</li>\n",
       "\t<li>4.25</li>\n",
       "\t<li>4.5</li>\n",
       "\t<li>4.75</li>\n",
       "\t<li>5</li>\n",
       "\t<li>2</li>\n",
       "\t<li>2.25</li>\n",
       "\t<li>2.5</li>\n",
       "\t<li>2.75</li>\n",
       "\t<li>3</li>\n",
       "\t<li>3.25</li>\n",
       "\t<li>3.5</li>\n",
       "\t<li>3.75</li>\n",
       "\t<li>4</li>\n",
       "\t<li>4.25</li>\n",
       "\t<li>4.5</li>\n",
       "\t<li>4.75</li>\n",
       "\t<li>5</li>\n",
       "\t<li>2</li>\n",
       "\t<li>2.25</li>\n",
       "\t<li>2.5</li>\n",
       "\t<li>2.75</li>\n",
       "\t<li>3</li>\n",
       "\t<li>3.25</li>\n",
       "\t<li>3.5</li>\n",
       "\t<li>3.75</li>\n",
       "\t<li>4</li>\n",
       "\t<li>4.25</li>\n",
       "\t<li>4.5</li>\n",
       "\t<li>4.75</li>\n",
       "\t<li>5</li>\n",
       "\t<li>2</li>\n",
       "\t<li>2.25</li>\n",
       "\t<li>2.5</li>\n",
       "\t<li>2.75</li>\n",
       "\t<li>3</li>\n",
       "\t<li>3.25</li>\n",
       "\t<li>3.5</li>\n",
       "\t<li>3.75</li>\n",
       "\t<li>4</li>\n",
       "\t<li>4.25</li>\n",
       "\t<li>4.5</li>\n",
       "\t<li>4.75</li>\n",
       "\t<li>5</li>\n",
       "\t<li>2</li>\n",
       "\t<li>2.25</li>\n",
       "\t<li>2.5</li>\n",
       "\t<li>2.75</li>\n",
       "\t<li>3</li>\n",
       "\t<li>3.25</li>\n",
       "\t<li>3.5</li>\n",
       "\t<li>3.75</li>\n",
       "\t<li>4</li>\n",
       "\t<li>4.25</li>\n",
       "\t<li>4.5</li>\n",
       "\t<li>4.75</li>\n",
       "\t<li>5</li>\n",
       "</ol>\n"
      ],
      "text/latex": [
       "\\begin{enumerate*}\n",
       "\\item 2\n",
       "\\item 2.25\n",
       "\\item 2.5\n",
       "\\item 2.75\n",
       "\\item 3\n",
       "\\item 3.25\n",
       "\\item 3.5\n",
       "\\item 3.75\n",
       "\\item 4\n",
       "\\item 4.25\n",
       "\\item 4.5\n",
       "\\item 4.75\n",
       "\\item 5\n",
       "\\item 2\n",
       "\\item 2.25\n",
       "\\item 2.5\n",
       "\\item 2.75\n",
       "\\item 3\n",
       "\\item 3.25\n",
       "\\item 3.5\n",
       "\\item 3.75\n",
       "\\item 4\n",
       "\\item 4.25\n",
       "\\item 4.5\n",
       "\\item 4.75\n",
       "\\item 5\n",
       "\\item 2\n",
       "\\item 2.25\n",
       "\\item 2.5\n",
       "\\item 2.75\n",
       "\\item 3\n",
       "\\item 3.25\n",
       "\\item 3.5\n",
       "\\item 3.75\n",
       "\\item 4\n",
       "\\item 4.25\n",
       "\\item 4.5\n",
       "\\item 4.75\n",
       "\\item 5\n",
       "\\item 2\n",
       "\\item 2.25\n",
       "\\item 2.5\n",
       "\\item 2.75\n",
       "\\item 3\n",
       "\\item 3.25\n",
       "\\item 3.5\n",
       "\\item 3.75\n",
       "\\item 4\n",
       "\\item 4.25\n",
       "\\item 4.5\n",
       "\\item 4.75\n",
       "\\item 5\n",
       "\\item 2\n",
       "\\item 2.25\n",
       "\\item 2.5\n",
       "\\item 2.75\n",
       "\\item 3\n",
       "\\item 3.25\n",
       "\\item 3.5\n",
       "\\item 3.75\n",
       "\\item 4\n",
       "\\item 4.25\n",
       "\\item 4.5\n",
       "\\item 4.75\n",
       "\\item 5\n",
       "\\end{enumerate*}\n"
      ],
      "text/markdown": [
       "1. 2\n",
       "2. 2.25\n",
       "3. 2.5\n",
       "4. 2.75\n",
       "5. 3\n",
       "6. 3.25\n",
       "7. 3.5\n",
       "8. 3.75\n",
       "9. 4\n",
       "10. 4.25\n",
       "11. 4.5\n",
       "12. 4.75\n",
       "13. 5\n",
       "14. 2\n",
       "15. 2.25\n",
       "16. 2.5\n",
       "17. 2.75\n",
       "18. 3\n",
       "19. 3.25\n",
       "20. 3.5\n",
       "21. 3.75\n",
       "22. 4\n",
       "23. 4.25\n",
       "24. 4.5\n",
       "25. 4.75\n",
       "26. 5\n",
       "27. 2\n",
       "28. 2.25\n",
       "29. 2.5\n",
       "30. 2.75\n",
       "31. 3\n",
       "32. 3.25\n",
       "33. 3.5\n",
       "34. 3.75\n",
       "35. 4\n",
       "36. 4.25\n",
       "37. 4.5\n",
       "38. 4.75\n",
       "39. 5\n",
       "40. 2\n",
       "41. 2.25\n",
       "42. 2.5\n",
       "43. 2.75\n",
       "44. 3\n",
       "45. 3.25\n",
       "46. 3.5\n",
       "47. 3.75\n",
       "48. 4\n",
       "49. 4.25\n",
       "50. 4.5\n",
       "51. 4.75\n",
       "52. 5\n",
       "53. 2\n",
       "54. 2.25\n",
       "55. 2.5\n",
       "56. 2.75\n",
       "57. 3\n",
       "58. 3.25\n",
       "59. 3.5\n",
       "60. 3.75\n",
       "61. 4\n",
       "62. 4.25\n",
       "63. 4.5\n",
       "64. 4.75\n",
       "65. 5\n",
       "\n",
       "\n"
      ],
      "text/plain": [
       " [1] 2.00 2.25 2.50 2.75 3.00 3.25 3.50 3.75 4.00 4.25 4.50 4.75 5.00 2.00 2.25\n",
       "[16] 2.50 2.75 3.00 3.25 3.50 3.75 4.00 4.25 4.50 4.75 5.00 2.00 2.25 2.50 2.75\n",
       "[31] 3.00 3.25 3.50 3.75 4.00 4.25 4.50 4.75 5.00 2.00 2.25 2.50 2.75 3.00 3.25\n",
       "[46] 3.50 3.75 4.00 4.25 4.50 4.75 5.00 2.00 2.25 2.50 2.75 3.00 3.25 3.50 3.75\n",
       "[61] 4.00 4.25 4.50 4.75 5.00"
      ]
     },
     "metadata": {},
     "output_type": "display_data"
    }
   ],
   "source": [
    "rep(seq(from=2, to=5, by=0.25), times=5)"
   ]
  },
  {
   "cell_type": "code",
   "execution_count": 13,
   "metadata": {},
   "outputs": [
    {
     "data": {
      "text/html": [
       "<ol class=list-inline>\n",
       "\t<li>'m'</li>\n",
       "\t<li>'f'</li>\n",
       "\t<li>'m'</li>\n",
       "\t<li>'f'</li>\n",
       "\t<li>'m'</li>\n",
       "\t<li>'f'</li>\n",
       "\t<li>'m'</li>\n",
       "\t<li>'f'</li>\n",
       "\t<li>'m'</li>\n",
       "\t<li>'f'</li>\n",
       "</ol>\n"
      ],
      "text/latex": [
       "\\begin{enumerate*}\n",
       "\\item 'm'\n",
       "\\item 'f'\n",
       "\\item 'm'\n",
       "\\item 'f'\n",
       "\\item 'm'\n",
       "\\item 'f'\n",
       "\\item 'm'\n",
       "\\item 'f'\n",
       "\\item 'm'\n",
       "\\item 'f'\n",
       "\\end{enumerate*}\n"
      ],
      "text/markdown": [
       "1. 'm'\n",
       "2. 'f'\n",
       "3. 'm'\n",
       "4. 'f'\n",
       "5. 'm'\n",
       "6. 'f'\n",
       "7. 'm'\n",
       "8. 'f'\n",
       "9. 'm'\n",
       "10. 'f'\n",
       "\n",
       "\n"
      ],
      "text/plain": [
       " [1] \"m\" \"f\" \"m\" \"f\" \"m\" \"f\" \"m\" \"f\" \"m\" \"f\""
      ]
     },
     "metadata": {},
     "output_type": "display_data"
    }
   ],
   "source": [
    "rep(c(\"m\", \"f\"), times=5)"
   ]
  },
  {
   "cell_type": "code",
   "execution_count": null,
   "metadata": {},
   "outputs": [],
   "source": []
  }
 ],
 "metadata": {
  "kernelspec": {
   "display_name": "R",
   "language": "R",
   "name": "ir"
  },
  "language_info": {
   "codemirror_mode": "r",
   "file_extension": ".r",
   "mimetype": "text/x-r-source",
   "name": "R",
   "pygments_lexer": "r",
   "version": "3.6.1"
  }
 },
 "nbformat": 4,
 "nbformat_minor": 2
}
