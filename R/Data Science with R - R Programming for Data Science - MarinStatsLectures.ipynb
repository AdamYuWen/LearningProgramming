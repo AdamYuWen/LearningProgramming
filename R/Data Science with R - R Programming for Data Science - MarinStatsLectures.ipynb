{
 "cells": [
  {
   "cell_type": "markdown",
   "metadata": {},
   "source": [
    "# Notes for YouTube R Tutorials\n",
    "## Data Science with R - R Programming for Data Science - MarinStatsLectures\n",
    "https://www.youtube.com/watch?v=riONFzJdXcs&list=PLqzoL9-eJTNDw71zWePXyHx3_cm_fMP8S"
   ]
  },
  {
   "cell_type": "markdown",
   "metadata": {},
   "source": [
    "## What is RStudio and Why Should You Download It? | R Tutorial 1.1 | MarinStatsLectures"
   ]
  },
  {
   "cell_type": "code",
   "execution_count": null,
   "metadata": {},
   "outputs": [],
   "source": []
  }
 ],
 "metadata": {
  "kernelspec": {
   "display_name": "R",
   "language": "R",
   "name": "ir"
  },
  "language_info": {
   "codemirror_mode": "r",
   "file_extension": ".r",
   "mimetype": "text/x-r-source",
   "name": "R",
   "pygments_lexer": "r",
   "version": "3.6.1"
  }
 },
 "nbformat": 4,
 "nbformat_minor": 2
}
